{
 "cells": [
  {
   "cell_type": "code",
   "execution_count": 258,
   "id": "6ba5c402",
   "metadata": {},
   "outputs": [],
   "source": [
    "import pandas as pd\n",
    "import numpy as np\n",
    "from pandas import Series, DataFrame\n",
    "import matplotlib as mpl\n",
    "import matplotlib.pyplot as plt\n",
    "import matplotlib as plot\n",
    "import seaborn as sns\n",
    "import matplotlib.font_manager as fm\n",
    "%matplotlib inline\n",
    "\n",
    "# 폰트지정\n",
    "plt.rcParams['font.family'] = 'NanumGothic'\n",
    "plt.rcParams['font.size'] = 18\n",
    "\n",
    "# 폰트를 지정하면 그래프에서 마이너스 폰트가 깨져서 다음과 같이 셋팅\n",
    "mpl.rcParams['axes.unicode_minus'] = False"
   ]
  },
  {
   "cell_type": "markdown",
   "id": "d2240e20",
   "metadata": {},
   "source": [
    "## 날짜 포멧팅"
   ]
  },
  {
   "cell_type": "code",
   "execution_count": 15,
   "id": "ac037fbc",
   "metadata": {},
   "outputs": [],
   "source": [
    "now = \"2022년04월13일\""
   ]
  },
  {
   "cell_type": "code",
   "execution_count": 16,
   "id": "52162e6c",
   "metadata": {},
   "outputs": [
    {
     "data": {
      "text/plain": [
       "str"
      ]
     },
     "execution_count": 16,
     "metadata": {},
     "output_type": "execute_result"
    }
   ],
   "source": [
    "type(now)"
   ]
  },
  {
   "cell_type": "code",
   "execution_count": 17,
   "id": "ea1df30c",
   "metadata": {},
   "outputs": [],
   "source": [
    "# 날짜와 시간은 해당 타입에 맞는 날짜와 시간을 사용해야한다\n",
    "\n",
    "from datetime import datetime, date, time"
   ]
  },
  {
   "cell_type": "code",
   "execution_count": 18,
   "id": "27904163",
   "metadata": {},
   "outputs": [],
   "source": [
    "dt = datetime(2022, 4, 13)"
   ]
  },
  {
   "cell_type": "code",
   "execution_count": 19,
   "id": "ae8843d8",
   "metadata": {},
   "outputs": [
    {
     "data": {
      "text/plain": [
       "'2022-4-13'"
      ]
     },
     "execution_count": 19,
     "metadata": {},
     "output_type": "execute_result"
    }
   ],
   "source": [
    "'{0}-{1}-{2}'.format(dt.year, dt.month, dt.day)"
   ]
  },
  {
   "cell_type": "code",
   "execution_count": 22,
   "id": "7da2240d",
   "metadata": {},
   "outputs": [
    {
     "data": {
      "text/plain": [
       "datetime.date(2022, 4, 13)"
      ]
     },
     "execution_count": 22,
     "metadata": {},
     "output_type": "execute_result"
    }
   ],
   "source": [
    "dt.date()"
   ]
  },
  {
   "cell_type": "code",
   "execution_count": 23,
   "id": "1eca88cc",
   "metadata": {},
   "outputs": [
    {
     "data": {
      "text/plain": [
       "'2022년4월13일'"
      ]
     },
     "execution_count": 23,
     "metadata": {},
     "output_type": "execute_result"
    }
   ],
   "source": [
    "# strftime 함수는 한국어 처리가 안된다\n",
    "# 한글을 쓰기 위해서는 문자열 포멧을 사용해야한다.\n",
    "'{0.year}년{0.month}월{0.day}일'.format(dt)"
   ]
  },
  {
   "cell_type": "code",
   "execution_count": 24,
   "id": "99921789",
   "metadata": {},
   "outputs": [
    {
     "data": {
      "text/plain": [
       "datetime.datetime(2022, 4, 13, 0, 0)"
      ]
     },
     "execution_count": 24,
     "metadata": {},
     "output_type": "execute_result"
    }
   ],
   "source": [
    "# 문자열을 읽어서 변환하는 경우 한글을 사용할 수 있다\n",
    "datetime.strptime(\"2022년 4월 13일\", '%Y년 %m월 %d일')"
   ]
  },
  {
   "cell_type": "code",
   "execution_count": 25,
   "id": "7d2a87e6",
   "metadata": {},
   "outputs": [],
   "source": [
    "from dateutil.parser import parse"
   ]
  },
  {
   "cell_type": "code",
   "execution_count": 27,
   "id": "18ed7917",
   "metadata": {},
   "outputs": [
    {
     "data": {
      "text/plain": [
       "datetime.datetime(1996, 5, 7, 11, 30)"
      ]
     },
     "execution_count": 27,
     "metadata": {},
     "output_type": "execute_result"
    }
   ],
   "source": [
    "# 문자열을 알아서 파싱 (parse 함수는 한국어 처리가 안됨)\n",
    "parse('May 7, 1996 11:30am')"
   ]
  },
  {
   "cell_type": "markdown",
   "id": "0a30745a",
   "metadata": {},
   "source": [
    "## 타입 변환"
   ]
  },
  {
   "cell_type": "code",
   "execution_count": 31,
   "id": "8c03910e",
   "metadata": {
    "scrolled": true
   },
   "outputs": [],
   "source": [
    "# 날짜를 요소로 가지는 시리즈\n",
    "날짜시리즈 = Series(['2022-04-01', '2022-04-30'])"
   ]
  },
  {
   "cell_type": "code",
   "execution_count": 32,
   "id": "33bc7b38",
   "metadata": {},
   "outputs": [
    {
     "data": {
      "text/plain": [
       "0    2022-04-01\n",
       "1    2022-04-30\n",
       "dtype: object"
      ]
     },
     "execution_count": 32,
     "metadata": {},
     "output_type": "execute_result"
    }
   ],
   "source": [
    "날짜시리즈"
   ]
  },
  {
   "cell_type": "code",
   "execution_count": 33,
   "id": "8d750743",
   "metadata": {},
   "outputs": [
    {
     "data": {
      "text/plain": [
       "0   2022-04-01\n",
       "1   2022-04-30\n",
       "dtype: datetime64[ns]"
      ]
     },
     "execution_count": 33,
     "metadata": {},
     "output_type": "execute_result"
    }
   ],
   "source": [
    "## 날짜 값을 가지는 문자열을 날짜 타입으로 변환\n",
    "pd.to_datetime(날짜시리즈)"
   ]
  },
  {
   "cell_type": "markdown",
   "id": "a9afa237",
   "metadata": {},
   "source": [
    "## 요일"
   ]
  },
  {
   "cell_type": "code",
   "execution_count": 34,
   "id": "60e033d1",
   "metadata": {},
   "outputs": [],
   "source": [
    "now = datetime.now()"
   ]
  },
  {
   "cell_type": "code",
   "execution_count": 35,
   "id": "2574d1b6",
   "metadata": {},
   "outputs": [
    {
     "name": "stdout",
     "output_type": "stream",
     "text": [
      "2022-04-26 20:09:45.279685\n"
     ]
    }
   ],
   "source": [
    "print(now)"
   ]
  },
  {
   "cell_type": "code",
   "execution_count": 36,
   "id": "6b18dcc8",
   "metadata": {},
   "outputs": [
    {
     "data": {
      "text/plain": [
       "1"
      ]
     },
     "execution_count": 36,
     "metadata": {},
     "output_type": "execute_result"
    }
   ],
   "source": [
    "now.weekday()"
   ]
  },
  {
   "cell_type": "code",
   "execution_count": 37,
   "id": "21a4c8f1",
   "metadata": {},
   "outputs": [
    {
     "data": {
      "text/plain": [
       "['월', '화', '수', '목', '금', '토', '일']"
      ]
     },
     "execution_count": 37,
     "metadata": {},
     "output_type": "execute_result"
    }
   ],
   "source": [
    "# 요일을 리스트로 변환\n",
    "요일 = list('월화수목금토일')\n",
    "요일"
   ]
  },
  {
   "cell_type": "code",
   "execution_count": 38,
   "id": "28a9be8f",
   "metadata": {},
   "outputs": [
    {
     "data": {
      "text/plain": [
       "'화'"
      ]
     },
     "execution_count": 38,
     "metadata": {},
     "output_type": "execute_result"
    }
   ],
   "source": [
    "요일[now.weekday()]"
   ]
  },
  {
   "cell_type": "code",
   "execution_count": null,
   "id": "dad29146",
   "metadata": {},
   "outputs": [],
   "source": []
  },
  {
   "cell_type": "code",
   "execution_count": null,
   "id": "bf231096",
   "metadata": {},
   "outputs": [],
   "source": []
  },
  {
   "cell_type": "markdown",
   "id": "ea8f5994",
   "metadata": {},
   "source": []
  },
  {
   "cell_type": "markdown",
   "id": "7a861d43",
   "metadata": {},
   "source": [
    "# 날짜 타입을 이용한 데이터 그룹화"
   ]
  },
  {
   "cell_type": "code",
   "execution_count": 441,
   "id": "88b6b899",
   "metadata": {
    "scrolled": true
   },
   "outputs": [
    {
     "data": {
      "text/html": [
       "<div>\n",
       "<style scoped>\n",
       "    .dataframe tbody tr th:only-of-type {\n",
       "        vertical-align: middle;\n",
       "    }\n",
       "\n",
       "    .dataframe tbody tr th {\n",
       "        vertical-align: top;\n",
       "    }\n",
       "\n",
       "    .dataframe thead th {\n",
       "        text-align: right;\n",
       "    }\n",
       "</style>\n",
       "<table border=\"1\" class=\"dataframe\">\n",
       "  <thead>\n",
       "    <tr style=\"text-align: right;\">\n",
       "      <th></th>\n",
       "      <th>num</th>\n",
       "      <th>date</th>\n",
       "      <th>review</th>\n",
       "    </tr>\n",
       "  </thead>\n",
       "  <tbody>\n",
       "    <tr>\n",
       "      <th>0</th>\n",
       "      <td>0.0</td>\n",
       "      <td>2022년 04월 13일</td>\n",
       "      <td>튀김옷 바삭바삭 맛있어요</td>\n",
       "    </tr>\n",
       "    <tr>\n",
       "      <th>1</th>\n",
       "      <td>1.0</td>\n",
       "      <td>2022년 04월 13일</td>\n",
       "      <td>배달 빠르구 맛있어용~!</td>\n",
       "    </tr>\n",
       "    <tr>\n",
       "      <th>2</th>\n",
       "      <td>2.0</td>\n",
       "      <td>2022년 04월 13일</td>\n",
       "      <td>맛있게 잘 먹었습니다</td>\n",
       "    </tr>\n",
       "    <tr>\n",
       "      <th>3</th>\n",
       "      <td>3.0</td>\n",
       "      <td>2022년 04월 13일</td>\n",
       "      <td>맛있게 잘 먹었습니다</td>\n",
       "    </tr>\n",
       "    <tr>\n",
       "      <th>4</th>\n",
       "      <td>4.0</td>\n",
       "      <td>2022년 04월 13일</td>\n",
       "      <td>날씬한 다리가 아숩지만 맛있어요</td>\n",
       "    </tr>\n",
       "  </tbody>\n",
       "</table>\n",
       "</div>"
      ],
      "text/plain": [
       "   num           date             review\n",
       "0  0.0  2022년 04월 13일      튀김옷 바삭바삭 맛있어요\n",
       "1  1.0  2022년 04월 13일      배달 빠르구 맛있어용~!\n",
       "2  2.0  2022년 04월 13일        맛있게 잘 먹었습니다\n",
       "3  3.0  2022년 04월 13일        맛있게 잘 먹었습니다\n",
       "4  4.0  2022년 04월 13일  날씬한 다리가 아숩지만 맛있어요"
      ]
     },
     "execution_count": 441,
     "metadata": {},
     "output_type": "execute_result"
    }
   ],
   "source": [
    "df = pd.read_csv('D:/pythonTest/DataShipJo/chicken_date.csv', names=['num','date','review'])\n",
    "df.head()"
   ]
  },
  {
   "cell_type": "code",
   "execution_count": 442,
   "id": "9e02e6f8",
   "metadata": {},
   "outputs": [
    {
     "data": {
      "text/plain": [
       "num       154\n",
       "date      118\n",
       "review    112\n",
       "dtype: int64"
      ]
     },
     "execution_count": 442,
     "metadata": {},
     "output_type": "execute_result"
    }
   ],
   "source": [
    "# 결측값 확인\n",
    "df.isna().sum()"
   ]
  },
  {
   "cell_type": "code",
   "execution_count": 443,
   "id": "1efbbc1a",
   "metadata": {},
   "outputs": [],
   "source": [
    "# 결측값 열 제거\n",
    "df.dropna(inplace=True)"
   ]
  },
  {
   "cell_type": "code",
   "execution_count": 444,
   "id": "19316c56",
   "metadata": {},
   "outputs": [
    {
     "data": {
      "text/plain": [
       "num       0\n",
       "date      0\n",
       "review    0\n",
       "dtype: int64"
      ]
     },
     "execution_count": 444,
     "metadata": {},
     "output_type": "execute_result"
    }
   ],
   "source": [
    "df.isna().sum()"
   ]
  },
  {
   "cell_type": "code",
   "execution_count": 445,
   "id": "4a6d5956",
   "metadata": {},
   "outputs": [
    {
     "data": {
      "text/html": [
       "<div>\n",
       "<style scoped>\n",
       "    .dataframe tbody tr th:only-of-type {\n",
       "        vertical-align: middle;\n",
       "    }\n",
       "\n",
       "    .dataframe tbody tr th {\n",
       "        vertical-align: top;\n",
       "    }\n",
       "\n",
       "    .dataframe thead th {\n",
       "        text-align: right;\n",
       "    }\n",
       "</style>\n",
       "<table border=\"1\" class=\"dataframe\">\n",
       "  <thead>\n",
       "    <tr style=\"text-align: right;\">\n",
       "      <th></th>\n",
       "      <th>num</th>\n",
       "      <th>date</th>\n",
       "      <th>review</th>\n",
       "    </tr>\n",
       "  </thead>\n",
       "  <tbody>\n",
       "    <tr>\n",
       "      <th>0</th>\n",
       "      <td>0</td>\n",
       "      <td>2022년 04월 13일</td>\n",
       "      <td>튀김옷 바삭바삭 맛있어요</td>\n",
       "    </tr>\n",
       "    <tr>\n",
       "      <th>1</th>\n",
       "      <td>1</td>\n",
       "      <td>2022년 04월 13일</td>\n",
       "      <td>배달 빠르구 맛있어용~!</td>\n",
       "    </tr>\n",
       "    <tr>\n",
       "      <th>2</th>\n",
       "      <td>2</td>\n",
       "      <td>2022년 04월 13일</td>\n",
       "      <td>맛있게 잘 먹었습니다</td>\n",
       "    </tr>\n",
       "    <tr>\n",
       "      <th>3</th>\n",
       "      <td>3</td>\n",
       "      <td>2022년 04월 13일</td>\n",
       "      <td>맛있게 잘 먹었습니다</td>\n",
       "    </tr>\n",
       "    <tr>\n",
       "      <th>4</th>\n",
       "      <td>4</td>\n",
       "      <td>2022년 04월 13일</td>\n",
       "      <td>날씬한 다리가 아숩지만 맛있어요</td>\n",
       "    </tr>\n",
       "  </tbody>\n",
       "</table>\n",
       "</div>"
      ],
      "text/plain": [
       "   num           date             review\n",
       "0    0  2022년 04월 13일      튀김옷 바삭바삭 맛있어요\n",
       "1    1  2022년 04월 13일      배달 빠르구 맛있어용~!\n",
       "2    2  2022년 04월 13일        맛있게 잘 먹었습니다\n",
       "3    3  2022년 04월 13일        맛있게 잘 먹었습니다\n",
       "4    4  2022년 04월 13일  날씬한 다리가 아숩지만 맛있어요"
      ]
     },
     "execution_count": 445,
     "metadata": {},
     "output_type": "execute_result"
    }
   ],
   "source": [
    "# 'num' 컬럼 소수점 제거 (중요하지 않음)\n",
    "df['num'] = df['num'].round(0).astype(int)\n",
    "df.head()"
   ]
  },
  {
   "cell_type": "code",
   "execution_count": 446,
   "id": "117c33d7",
   "metadata": {},
   "outputs": [],
   "source": [
    "# dateType으로 변환을 위함1 :: '일', 공백 제거\n",
    "df[\"date\"] = df[\"date\"].str.replace(pat=r'[일 ]', repl=r'', regex=True)"
   ]
  },
  {
   "cell_type": "code",
   "execution_count": 447,
   "id": "04edda53",
   "metadata": {},
   "outputs": [],
   "source": [
    "# dateType으로 변환을 위함2 :: '년,월' 제거 후 '-' 삽입\n",
    "df[\"date\"] = df[\"date\"].str.replace(pat=r'[년월]', repl=r'-', regex=True)"
   ]
  },
  {
   "cell_type": "code",
   "execution_count": 448,
   "id": "e65d37b7",
   "metadata": {},
   "outputs": [],
   "source": [
    "# dateType으로 변환\n",
    "df['date'] = pd.to_datetime(df['date'])"
   ]
  },
  {
   "cell_type": "code",
   "execution_count": 449,
   "id": "60bac640",
   "metadata": {
    "scrolled": true
   },
   "outputs": [
    {
     "data": {
      "text/plain": [
       "2022"
      ]
     },
     "execution_count": 449,
     "metadata": {},
     "output_type": "execute_result"
    }
   ],
   "source": [
    "# date 컬럼의 첫번째 행의 년도\n",
    "df['date'][0].year"
   ]
  },
  {
   "cell_type": "code",
   "execution_count": 450,
   "id": "f4e60ab0",
   "metadata": {},
   "outputs": [],
   "source": [
    "# '날짜' 컬럼의 시리즈에서 map 함수의 매게변수로 날짜를 받아서 연도를 반환\n",
    "연도 = df['date'].map(lambda d: d.year)"
   ]
  },
  {
   "cell_type": "code",
   "execution_count": 451,
   "id": "fb40084a",
   "metadata": {
    "scrolled": true
   },
   "outputs": [
    {
     "data": {
      "text/plain": [
       "7743     2019\n",
       "8239     2018\n",
       "14743    2021\n",
       "11422    2020\n",
       "7571     2019\n",
       "9674     2017\n",
       "4412     2020\n",
       "17339    2019\n",
       "6726     2020\n",
       "6923     2019\n",
       "Name: date, dtype: int64"
      ]
     },
     "execution_count": 451,
     "metadata": {},
     "output_type": "execute_result"
    }
   ],
   "source": [
    "연도.sample(10)"
   ]
  },
  {
   "cell_type": "code",
   "execution_count": 452,
   "id": "df12b4fc",
   "metadata": {
    "scrolled": true
   },
   "outputs": [
    {
     "data": {
      "text/html": [
       "<div>\n",
       "<style scoped>\n",
       "    .dataframe tbody tr th:only-of-type {\n",
       "        vertical-align: middle;\n",
       "    }\n",
       "\n",
       "    .dataframe tbody tr th {\n",
       "        vertical-align: top;\n",
       "    }\n",
       "\n",
       "    .dataframe thead th {\n",
       "        text-align: right;\n",
       "    }\n",
       "</style>\n",
       "<table border=\"1\" class=\"dataframe\">\n",
       "  <thead>\n",
       "    <tr style=\"text-align: right;\">\n",
       "      <th>date</th>\n",
       "      <th>2015</th>\n",
       "      <th>2016</th>\n",
       "      <th>2017</th>\n",
       "      <th>2018</th>\n",
       "      <th>2019</th>\n",
       "      <th>2020</th>\n",
       "      <th>2021</th>\n",
       "      <th>2022</th>\n",
       "    </tr>\n",
       "  </thead>\n",
       "  <tbody>\n",
       "    <tr>\n",
       "      <th>num</th>\n",
       "      <td>10182.5</td>\n",
       "      <td>10050.0</td>\n",
       "      <td>10346.538095</td>\n",
       "      <td>11994.091607</td>\n",
       "      <td>11896.596604</td>\n",
       "      <td>8668.305549</td>\n",
       "      <td>8682.954502</td>\n",
       "      <td>9364.823608</td>\n",
       "    </tr>\n",
       "  </tbody>\n",
       "</table>\n",
       "</div>"
      ],
      "text/plain": [
       "date     2015     2016          2017          2018          2019         2020  \\\n",
       "num   10182.5  10050.0  10346.538095  11994.091607  11896.596604  8668.305549   \n",
       "\n",
       "date         2021         2022  \n",
       "num   8682.954502  9364.823608  "
      ]
     },
     "execution_count": 452,
     "metadata": {},
     "output_type": "execute_result"
    }
   ],
   "source": [
    "# 연도별 리뷰수의 평균을 구한다\n",
    "review_year_mean = df.pivot_table('num',aggfunc='mean',columns=연도)\n",
    "review_year_mean"
   ]
  },
  {
   "cell_type": "code",
   "execution_count": 453,
   "id": "2cb41377",
   "metadata": {},
   "outputs": [],
   "source": [
    "# 시각화를 위해 x,y 변수에 features 와 연도별 리뷰수 평균값 저장\n",
    "x = review_year_mean.columns\n",
    "y = review_year_mean.values"
   ]
  },
  {
   "cell_type": "code",
   "execution_count": 454,
   "id": "1a0cf52f",
   "metadata": {},
   "outputs": [],
   "source": [
    "# 각 년,월별 리뷰수\n",
    "년월 = df['date'].map(lambda d: '{0.year}-{0.month:02d}'.format(d))"
   ]
  },
  {
   "cell_type": "code",
   "execution_count": 455,
   "id": "800c5679",
   "metadata": {
    "scrolled": true
   },
   "outputs": [
    {
     "data": {
      "text/plain": [
       "5246     2020-08\n",
       "8854     2018-06\n",
       "9027     2018-05\n",
       "1839     2021-10\n",
       "16388    2020-01\n",
       "9968     2016-11\n",
       "2293     2021-08\n",
       "12838    2019-11\n",
       "7812     2019-04\n",
       "2316     2021-08\n",
       "Name: date, dtype: object"
      ]
     },
     "execution_count": 455,
     "metadata": {},
     "output_type": "execute_result"
    }
   ],
   "source": [
    "년월.sample(10)"
   ]
  },
  {
   "cell_type": "markdown",
   "id": "d1effde4",
   "metadata": {},
   "source": [
    "* 시각화를 하기 위해서 x,y 값이 리스트가 되어야 함\n",
    "* x,y 값이 같은 차원이여야 함\n",
    "### 현재\n",
    "* x 값 : 리스트, 1차원\n",
    "* y 값 : 어레이, 2차원"
   ]
  },
  {
   "cell_type": "code",
   "execution_count": 456,
   "id": "0ed159a3",
   "metadata": {},
   "outputs": [],
   "source": [
    "# y 값을 리스트로 \n",
    "y = y.tolist()\n",
    "\n",
    "# 2차원을 1차원으로\n",
    "y = sum(y,[])"
   ]
  },
  {
   "cell_type": "code",
   "execution_count": 489,
   "id": "568352be",
   "metadata": {},
   "outputs": [
    {
     "name": "stderr",
     "output_type": "stream",
     "text": [
      "C:\\Users\\USER\\AppData\\Local\\Temp/ipykernel_15548/3635052181.py:9: UserWarning: color is redundantly defined by the 'color' keyword argument and the fmt string \"-co\" (-> color='c'). The keyword argument will take precedence.\n",
      "  ax1.plot(x,y, '-co', color='orange', markersize=6, linewidth=5, alpha=0.6)\n"
     ]
    },
    {
     "data": {
      "image/png": "[encoded data removed]",
      "text/plain": [
       "<Figure size 600x400 with 1 Axes>"
      ]
     },
     "metadata": {},
     "output_type": "display_data"
    }
   ],
   "source": [
    "# 연도별 평균 리뷰수 시각화\n",
    "\n",
    "plt.style.use('default')\n",
    "plt.rcParams['figure.figsize'] = (6,4)\n",
    "plt.rcParams['font.size'] = 12\n",
    "\n",
    "fig, ax1 = plt.subplots()\n",
    "\n",
    "ax1.plot(x,y, '-co', color='orange', markersize=6, linewidth=5, alpha=0.6)\n",
    "#ax1.set_ylim(2)\n",
    "ax1.set_xlabel('Year')\n",
    "ax1.set_ylabel('Review')\n",
    "ax1.tick_params(axis='both', direction='in')\n",
    "\n",
    "\n",
    "#ax2 = ax1.twinx()\n",
    "ax1.bar(x,y, color='skyblue', alpha=0.6)\n",
    "ax1.tick_params(axis='both', direction='in')\n",
    "\n",
    "# 그래프 순서 정하기 :: 막대 그래프 뒤로 배치\n",
    "ax1.set_zorder(ax2.get_zorder()+10)\n",
    "ax1.patch.set_visible(False)\n",
    "\n",
    "plt.title('Years Reviews')\n",
    "plt.show()"
   ]
  },
  {
   "cell_type": "markdown",
   "id": "d1a29b9f",
   "metadata": {},
   "source": [
    "### 최근 5개월 리뷰수 시각화"
   ]
  },
  {
   "cell_type": "code",
   "execution_count": 519,
   "id": "f88d51b8",
   "metadata": {},
   "outputs": [],
   "source": [
    "df2 = pd.read_csv('D:/pythonTest/DataShipJo/chicken_date.csv', names=['num','date','review'])\n",
    "df2.dropna(inplace=True)\n",
    "df2['num'] = df2['num'].round(0).astype(int)\n",
    "df2[\"date\"] = df2[\"date\"].str.replace(pat=r'[일 ]', repl=r'', regex=True)\n",
    "df2[\"date\"] = df2[\"date\"].str.replace(pat=r'[년월]', repl=r'-', regex=True)"
   ]
  },
  {
   "cell_type": "code",
   "execution_count": 460,
   "id": "813672f4",
   "metadata": {},
   "outputs": [
    {
     "data": {
      "text/plain": [
       "['2021-12', '2022-01', '2022-02', '2022-03', '2022-04']"
      ]
     },
     "execution_count": 460,
     "metadata": {},
     "output_type": "execute_result"
    }
   ],
   "source": [
    "# 최근 5개월 lately_x 값에 저장\n",
    "lately_x = ['2021-12','2022-01','2022-02','2022-03','2022-04']\n",
    "lately_x"
   ]
  },
  {
   "cell_type": "code",
   "execution_count": 530,
   "id": "afcc0887",
   "metadata": {},
   "outputs": [
    {
     "data": {
      "text/plain": [
       "[453, 923, 892, 731, 841]"
      ]
     },
     "execution_count": 530,
     "metadata": {},
     "output_type": "execute_result"
    }
   ],
   "source": [
    "# 최근 5개월 리뷰수 lately_y 값에 저장하기\n",
    "\n",
    "lately_12 = len(df2[df2['date'].str.contains('2021-12')])\n",
    "lately_1 = len(df2[df2['date'].str.contains('2022-01')])\n",
    "lately_2 = len(df2[df2['date'].str.contains('2022-02')])\n",
    "lately_3 = len(df2[df2['date'].str.contains('2022-03')])\n",
    "lately_4 = len(df2[df2['date'].str.contains('2022-04')])\n",
    "\n",
    "lately_y = [lately_4, lately_3, lately_2, lately_1, lately_12]\n",
    "lately_y"
   ]
  },
  {
   "cell_type": "code",
   "execution_count": 532,
   "id": "f8b12183",
   "metadata": {},
   "outputs": [
    {
     "name": "stderr",
     "output_type": "stream",
     "text": [
      "C:\\Users\\USER\\AppData\\Local\\Temp/ipykernel_15548/1031652449.py:9: UserWarning: color is redundantly defined by the 'color' keyword argument and the fmt string \"-co\" (-> color='c'). The keyword argument will take precedence.\n",
      "  ax1_.plot(lately_x,lately_y, '-co', color='orange', markersize=6, linewidth=5, alpha=0.6, label='Review')\n"
     ]
    },
    {
     "data": {
      "image/png": "[encoded data removed]",
      "text/plain": [
       "<Figure size 600x400 with 1 Axes>"
      ]
     },
     "metadata": {},
     "output_type": "display_data"
    }
   ],
   "source": [
    "# 최근 5개월 리뷰수 시각화\n",
    "\n",
    "plt.style.use('default')\n",
    "plt.rcParams['figure.figsize'] = (6,4)\n",
    "plt.rcParams['font.size'] = 12\n",
    "\n",
    "fig, ax1_ = plt.subplots()\n",
    "\n",
    "ax1_.plot(lately_x,lately_y, '-co', color='orange', markersize=6, linewidth=5, alpha=0.6, label='Review')\n",
    "#ax1.set_ylim(0,18)\n",
    "ax1_.set_xlabel('Year')\n",
    "ax1_.set_ylabel('Review')\n",
    "ax1_.tick_params(axis='both', direction='in')\n",
    "\n",
    "\n",
    "#ax2_ = ax1_.twinx()\n",
    "ax1_.bar(lately_x,lately_y, color='skyblue', alpha=0.6, label='Review')\n",
    "ax1_.tick_params(axis='y', direction='in')\n",
    "\n",
    "# 그래프 순서 정하기 :: 막대 그래프 뒤로 배치\n",
    "ax1_.set_zorder(ax1_.get_zorder()+10)\n",
    "ax1_.patch.set_visible(False)\n",
    "\n",
    "plt.title(\"FIve Month's Reviews\")\n",
    "plt.show()"
   ]
  },
  {
   "cell_type": "markdown",
   "id": "ab3c28de",
   "metadata": {},
   "source": [
    "## 연도별 리뷰수 시각화"
   ]
  },
  {
   "cell_type": "code",
   "execution_count": 533,
   "id": "10fc7fac",
   "metadata": {},
   "outputs": [],
   "source": [
    "df3 = pd.read_csv('D:/pythonTest/DataShipJo/chicken_date.csv', names=['num','date','review'])\n",
    "df3.dropna(inplace=True)\n",
    "df3['num'] = df3['num'].round(0).astype(int)\n",
    "df3[\"date\"] = df3[\"date\"].str.replace(pat=r'[일 ]', repl=r'', regex=True)\n",
    "df3[\"date\"] = df3[\"date\"].str.replace(pat=r'[년월]', repl=r'-', regex=True)"
   ]
  },
  {
   "cell_type": "code",
   "execution_count": 535,
   "id": "0a802c8e",
   "metadata": {},
   "outputs": [
    {
     "data": {
      "text/plain": [
       "['2015', '2016', '2017', '2018', '2019', '2020', '2021', '2022']"
      ]
     },
     "execution_count": 535,
     "metadata": {},
     "output_type": "execute_result"
    }
   ],
   "source": [
    "# 2015~2022년도 year_x 값에 저장\n",
    "year_x = ['2015','2016','2017','2018','2019','2020','2021','2022']\n",
    "year_x"
   ]
  },
  {
   "cell_type": "code",
   "execution_count": 538,
   "id": "ed5121af",
   "metadata": {},
   "outputs": [
    {
     "data": {
      "text/plain": [
       "[72, 193, 630, 1954, 2945, 4307, 6264, 2999]"
      ]
     },
     "execution_count": 538,
     "metadata": {},
     "output_type": "execute_result"
    }
   ],
   "source": [
    "# 2015~2022년도 리뷰수 year_y 값에 저장\n",
    "year_15 = len(df2[df2['date'].str.contains('2015')])\n",
    "year_16 = len(df2[df2['date'].str.contains('2016')])\n",
    "year_17 = len(df2[df2['date'].str.contains('2017')])\n",
    "year_18 = len(df2[df2['date'].str.contains('2018')])\n",
    "year_19 = len(df2[df2['date'].str.contains('2019')])\n",
    "year_20 = len(df2[df2['date'].str.contains('2020')])\n",
    "year_21 = len(df2[df2['date'].str.contains('2021')])\n",
    "year_22 = len(df2[df2['date'].str.contains('2022')])\n",
    "\n",
    "year_y = [year_15, year_16, year_17, year_18, year_19, year_20, year_21, year_22]\n",
    "year_y"
   ]
  },
  {
   "cell_type": "code",
   "execution_count": 542,
   "id": "94bd4b33",
   "metadata": {},
   "outputs": [
    {
     "name": "stderr",
     "output_type": "stream",
     "text": [
      "C:\\Users\\USER\\AppData\\Local\\Temp/ipykernel_15548/770060465.py:9: UserWarning: color is redundantly defined by the 'color' keyword argument and the fmt string \"-co\" (-> color='c'). The keyword argument will take precedence.\n",
      "  ax2_.plot(year_x,year_y, '-co', color='orange', markersize=6, linewidth=5, alpha=0.6, label='Review')\n"
     ]
    },
    {
     "data": {
      "image/png": "[encoded data removed]",
      "text/plain": [
       "<Figure size 600x400 with 1 Axes>"
      ]
     },
     "metadata": {},
     "output_type": "display_data"
    }
   ],
   "source": [
    "# 최근 5개월 리뷰수 시각화\n",
    "\n",
    "plt.style.use('default')\n",
    "plt.rcParams['figure.figsize'] = (6,4)\n",
    "plt.rcParams['font.size'] = 12\n",
    "\n",
    "fig, ax2_ = plt.subplots()\n",
    "\n",
    "ax2_.plot(year_x,year_y, '-co', color='orange', markersize=6, linewidth=5, alpha=0.6, label='Review')\n",
    "#ax1.set_ylim(0,18)\n",
    "ax2_.set_xlabel('Year')\n",
    "ax2_.set_ylabel('Review')\n",
    "ax2_.tick_params(axis='both', direction='in')\n",
    "\n",
    "\n",
    "#ax2_ = ax1_.twinx()\n",
    "ax2_.bar(year_x,year_y, color='skyblue', alpha=0.6, label='Review')\n",
    "ax2_.tick_params(axis='y', direction='in')\n",
    "\n",
    "# 그래프 순서 정하기 :: 막대 그래프 뒤로 배치\n",
    "ax2_.set_zorder(ax2_.get_zorder()+10)\n",
    "ax2_.patch.set_visible(False)\n",
    "\n",
    "plt.title(\"Years Riviews\")\n",
    "plt.show()"
   ]
  }
 ],
 "metadata": {
  "kernelspec": {
   "display_name": "Python 3 (ipykernel)",
   "language": "python",
   "name": "python3"
  },
  "language_info": {
   "codemirror_mode": {
    "name": "ipython",
    "version": 3
   },
   "file_extension": ".py",
   "mimetype": "text/x-python",
   "name": "python",
   "nbconvert_exporter": "python",
   "pygments_lexer": "ipython3",
   "version": "3.9.7"
  }
 },
 "nbformat": 4,
 "nbformat_minor": 5
}
