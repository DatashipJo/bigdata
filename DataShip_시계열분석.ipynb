{
 "cells": [
  {
   "cell_type": "code",
   "execution_count": 99,
   "id": "6ba5c402",
   "metadata": {},
   "outputs": [],
   "source": [
    "import pandas as pd\n",
    "import numpy as np\n",
    "from pandas import Series, DataFrame\n",
    "import matplotlib as mpl\n",
    "import matplotlib.pyplot as plt\n",
    "import matplotlib as plot\n",
    "import seaborn as sns\n",
    "import matplotlib.font_manager as fm\n",
    "%matplotlib inline\n",
    "\n",
    "# 폰트지정\n",
    "plt.rcParams['font.family'] = 'NanumGothic'\n",
    "plt.rcParams['font.size'] = 18\n",
    "\n",
    "# 폰트를 지정하면 그래프에서 마이너스 폰트가 깨져서 다음과 같이 셋팅\n",
    "mpl.rcParams['axes.unicode_minus'] = False"
   ]
  },
  {
   "cell_type": "markdown",
   "id": "d1a29b9f",
   "metadata": {},
   "source": [
    "### 최근 5개월 리뷰수 시각화"
   ]
  },
  {
   "cell_type": "code",
   "execution_count": 111,
   "id": "969d5726",
   "metadata": {
    "scrolled": true
   },
   "outputs": [
    {
     "name": "stderr",
     "output_type": "stream",
     "text": [
      "C:\\Users\\USER\\anaconda3\\lib\\site-packages\\IPython\\core\\interactiveshell.py:3444: DtypeWarning: Columns (0) have mixed types.Specify dtype option on import or set low_memory=False.\n",
      "  exec(code_obj, self.user_global_ns, self.user_ns)\n"
     ]
    },
    {
     "data": {
      "text/html": [
       "<div>\n",
       "<style scoped>\n",
       "    .dataframe tbody tr th:only-of-type {\n",
       "        vertical-align: middle;\n",
       "    }\n",
       "\n",
       "    .dataframe tbody tr th {\n",
       "        vertical-align: top;\n",
       "    }\n",
       "\n",
       "    .dataframe thead th {\n",
       "        text-align: right;\n",
       "    }\n",
       "</style>\n",
       "<table border=\"1\" class=\"dataframe\">\n",
       "  <thead>\n",
       "    <tr style=\"text-align: right;\">\n",
       "      <th></th>\n",
       "      <th>가게명</th>\n",
       "      <th>총평점</th>\n",
       "      <th>주소</th>\n",
       "      <th>아이디</th>\n",
       "      <th>평점</th>\n",
       "      <th>date</th>\n",
       "      <th>review</th>\n",
       "    </tr>\n",
       "  </thead>\n",
       "  <tbody>\n",
       "    <tr>\n",
       "      <th>1</th>\n",
       "      <td>BHC-시립대점</td>\n",
       "      <td>4.8</td>\n",
       "      <td>서울특별시 동대문구 전농동 295-9 성진빌딩 295-9 동광교회 1층</td>\n",
       "      <td>oo**님</td>\n",
       "      <td>4.666666667</td>\n",
       "      <td>1시간 전</td>\n",
       "      <td>NaN</td>\n",
       "    </tr>\n",
       "    <tr>\n",
       "      <th>2</th>\n",
       "      <td>BHC-시립대점</td>\n",
       "      <td>4.8</td>\n",
       "      <td>서울특별시 동대문구 전농동 295-9 성진빌딩 295-9 동광교회 1층</td>\n",
       "      <td>de**님</td>\n",
       "      <td>1</td>\n",
       "      <td>2시간 전</td>\n",
       "      <td>잘 먹었습니다</td>\n",
       "    </tr>\n",
       "    <tr>\n",
       "      <th>3</th>\n",
       "      <td>BHC-시립대점</td>\n",
       "      <td>4.8</td>\n",
       "      <td>서울특별시 동대문구 전농동 295-9 성진빌딩 295-9 동광교회 1층</td>\n",
       "      <td>pr**님</td>\n",
       "      <td>4.666666667</td>\n",
       "      <td>4시간 전</td>\n",
       "      <td>양이 많이 줄어든 느낌 이네요.</td>\n",
       "    </tr>\n",
       "    <tr>\n",
       "      <th>4</th>\n",
       "      <td>BHC-시립대점</td>\n",
       "      <td>4.8</td>\n",
       "      <td>서울특별시 동대문구 전농동 295-9 성진빌딩 295-9 동광교회 1층</td>\n",
       "      <td>sk**님</td>\n",
       "      <td>4.666666667</td>\n",
       "      <td>8시간 전</td>\n",
       "      <td>오늘도 맛나게 잘 먹었습니다~~~</td>\n",
       "    </tr>\n",
       "    <tr>\n",
       "      <th>5</th>\n",
       "      <td>BHC-시립대점</td>\n",
       "      <td>4.8</td>\n",
       "      <td>서울특별시 동대문구 전농동 295-9 성진빌딩 295-9 동광교회 1층</td>\n",
       "      <td>gh**님</td>\n",
       "      <td>4.666666667</td>\n",
       "      <td>10시간 전</td>\n",
       "      <td>맛있어요 양도 많아요</td>\n",
       "    </tr>\n",
       "  </tbody>\n",
       "</table>\n",
       "</div>"
      ],
      "text/plain": [
       "        가게명  총평점                                       주소    아이디           평점  \\\n",
       "1  BHC-시립대점  4.8  서울특별시 동대문구 전농동 295-9 성진빌딩 295-9 동광교회 1층  oo**님  4.666666667   \n",
       "2  BHC-시립대점  4.8  서울특별시 동대문구 전농동 295-9 성진빌딩 295-9 동광교회 1층  de**님            1   \n",
       "3  BHC-시립대점  4.8  서울특별시 동대문구 전농동 295-9 성진빌딩 295-9 동광교회 1층  pr**님  4.666666667   \n",
       "4  BHC-시립대점  4.8  서울특별시 동대문구 전농동 295-9 성진빌딩 295-9 동광교회 1층  sk**님  4.666666667   \n",
       "5  BHC-시립대점  4.8  서울특별시 동대문구 전농동 295-9 성진빌딩 295-9 동광교회 1층  gh**님  4.666666667   \n",
       "\n",
       "     date              review  \n",
       "1   1시간 전                 NaN  \n",
       "2   2시간 전             잘 먹었습니다  \n",
       "3   4시간 전   양이 많이 줄어든 느낌 이네요.  \n",
       "4   8시간 전  오늘도 맛나게 잘 먹었습니다~~~  \n",
       "5  10시간 전         맛있어요 양도 많아요  "
      ]
     },
     "execution_count": 111,
     "metadata": {},
     "output_type": "execute_result"
    }
   ],
   "source": [
    "df = pd.read_csv('D:/pythonTest/DataShipJo/chi_data_fin.csv', names=['가게명','총평점','주소','아이디','평점','date','review'])\n",
    "df.head()"
   ]
  },
  {
   "cell_type": "code",
   "execution_count": 112,
   "id": "95eb1315",
   "metadata": {},
   "outputs": [],
   "source": [
    "df.drop(df[['가게명','총평점','주소','아이디','평점']], axis=1, inplace=True)"
   ]
  },
  {
   "cell_type": "code",
   "execution_count": 113,
   "id": "d780118d",
   "metadata": {
    "scrolled": true
   },
   "outputs": [
    {
     "data": {
      "text/plain": [
       "date      2189\n",
       "review    4627\n",
       "dtype: int64"
      ]
     },
     "execution_count": 113,
     "metadata": {},
     "output_type": "execute_result"
    }
   ],
   "source": [
    "df.isna().sum()"
   ]
  },
  {
   "cell_type": "code",
   "execution_count": 114,
   "id": "5a072f6f",
   "metadata": {},
   "outputs": [],
   "source": [
    "df.dropna(inplace=True)"
   ]
  },
  {
   "cell_type": "code",
   "execution_count": 115,
   "id": "7f9a8a25",
   "metadata": {
    "scrolled": true
   },
   "outputs": [
    {
     "data": {
      "text/plain": [
       "date      0\n",
       "review    0\n",
       "dtype: int64"
      ]
     },
     "execution_count": 115,
     "metadata": {},
     "output_type": "execute_result"
    }
   ],
   "source": [
    "df.isna().sum()"
   ]
  },
  {
   "cell_type": "code",
   "execution_count": 116,
   "id": "04edda53",
   "metadata": {},
   "outputs": [],
   "source": [
    "# dateType으로 변환을 위함2 :: '년,월' 제거 후 '-' 삽입\n",
    "df[\"date\"] = df[\"date\"].str.replace(pat=r'[년월]', repl=r'-', regex=True)"
   ]
  },
  {
   "cell_type": "code",
   "execution_count": 117,
   "id": "117c33d7",
   "metadata": {},
   "outputs": [],
   "source": [
    "# dateType으로 변환을 위함1 :: '일', 공백 제거\n",
    "df[\"date\"] = df[\"date\"].str.replace(pat=r'[일 ]', repl=r'', regex=True)"
   ]
  },
  {
   "cell_type": "code",
   "execution_count": 118,
   "id": "afcc0887",
   "metadata": {},
   "outputs": [
    {
     "data": {
      "text/plain": [
       "[1794, 3123, 3075, 2862, 2952]"
      ]
     },
     "execution_count": 118,
     "metadata": {},
     "output_type": "execute_result"
    }
   ],
   "source": [
    "# 최근 5개월 리뷰수 lately_y 값에 저장하기\n",
    "\n",
    "lately_12 = len(df[df['date'].str.contains('2021-12')])\n",
    "lately_1 = len(df[df['date'].str.contains('2022-01')])\n",
    "lately_2 = len(df[df['date'].str.contains('2022-02')])\n",
    "lately_3 = len(df[df['date'].str.contains('2022-03')])\n",
    "lately_4 = len(df[df['date'].str.contains('2022-04')])\n",
    "\n",
    "lately_y = [lately_4, lately_3, lately_2, lately_1, lately_12]\n",
    "lately_y"
   ]
  },
  {
   "cell_type": "code",
   "execution_count": 119,
   "id": "813672f4",
   "metadata": {},
   "outputs": [
    {
     "data": {
      "text/plain": [
       "['2021-12', '2022-01', '2022-02', '2022-03', '2022-04']"
      ]
     },
     "execution_count": 119,
     "metadata": {},
     "output_type": "execute_result"
    }
   ],
   "source": [
    "# 최근 5개월 lately_x 값에 저장\n",
    "lately_x = ['2021-12','2022-01','2022-02','2022-03','2022-04']\n",
    "lately_x"
   ]
  },
  {
   "cell_type": "code",
   "execution_count": 120,
   "id": "f8b12183",
   "metadata": {},
   "outputs": [
    {
     "name": "stderr",
     "output_type": "stream",
     "text": [
      "C:\\Users\\USER\\AppData\\Local\\Temp/ipykernel_516/1031652449.py:9: UserWarning: color is redundantly defined by the 'color' keyword argument and the fmt string \"-co\" (-> color='c'). The keyword argument will take precedence.\n",
      "  ax1_.plot(lately_x,lately_y, '-co', color='orange', markersize=6, linewidth=5, alpha=0.6, label='Review')\n"
     ]
    },
    {
     "data": {
      "image/png": "[encoded data removed]",
      "text/plain": [
       "<Figure size 600x400 with 1 Axes>"
      ]
     },
     "metadata": {},
     "output_type": "display_data"
    }
   ],
   "source": [
    "# 최근 5개월 리뷰수 시각화\n",
    "\n",
    "plt.style.use('default')\n",
    "plt.rcParams['figure.figsize'] = (6,4)\n",
    "plt.rcParams['font.size'] = 12\n",
    "\n",
    "fig, ax1_ = plt.subplots()\n",
    "\n",
    "ax1_.plot(lately_x,lately_y, '-co', color='orange', markersize=6, linewidth=5, alpha=0.6, label='Review')\n",
    "#ax1.set_ylim(0,18)\n",
    "ax1_.set_xlabel('Year')\n",
    "ax1_.set_ylabel('Review')\n",
    "ax1_.tick_params(axis='both', direction='in')\n",
    "\n",
    "\n",
    "#ax2_ = ax1_.twinx()\n",
    "ax1_.bar(lately_x,lately_y, color='skyblue', alpha=0.6, label='Review')\n",
    "ax1_.tick_params(axis='y', direction='in')\n",
    "\n",
    "# 그래프 순서 정하기 :: 막대 그래프 뒤로 배치\n",
    "ax1_.set_zorder(ax1_.get_zorder()+10)\n",
    "ax1_.patch.set_visible(False)\n",
    "\n",
    "plt.title(\"FIve Month's Reviews\")\n",
    "plt.show()"
   ]
  },
  {
   "cell_type": "markdown",
   "id": "ab3c28de",
   "metadata": {},
   "source": [
    "## 연도별 리뷰수 시각화"
   ]
  },
  {
   "cell_type": "code",
   "execution_count": 121,
   "id": "ed5121af",
   "metadata": {},
   "outputs": [
    {
     "data": {
      "text/plain": [
       "[503, 1012, 3830, 10896, 21102, 24690, 28908, 10854]"
      ]
     },
     "execution_count": 121,
     "metadata": {},
     "output_type": "execute_result"
    }
   ],
   "source": [
    "# 2015~2022년도 리뷰수 year_y 값에 저장\n",
    "year_15 = len(df[df['date'].str.contains('2015')])\n",
    "year_16 = len(df[df['date'].str.contains('2016')])\n",
    "year_17 = len(df[df['date'].str.contains('2017')])\n",
    "year_18 = len(df[df['date'].str.contains('2018')])\n",
    "year_19 = len(df[df['date'].str.contains('2019')])\n",
    "year_20 = len(df[df['date'].str.contains('2020')])\n",
    "year_21 = len(df[df['date'].str.contains('2021')])\n",
    "year_22 = len(df[df['date'].str.contains('2022')])\n",
    "\n",
    "year_y = [year_15, year_16, year_17, year_18, year_19, year_20, year_21, year_22]\n",
    "year_y"
   ]
  },
  {
   "cell_type": "code",
   "execution_count": 122,
   "id": "0a802c8e",
   "metadata": {},
   "outputs": [
    {
     "data": {
      "text/plain": [
       "['2015', '2016', '2017', '2018', '2019', '2020', '2021', '2022']"
      ]
     },
     "execution_count": 122,
     "metadata": {},
     "output_type": "execute_result"
    }
   ],
   "source": [
    "# 2015~2022년도 year_x 값에 저장\n",
    "year_x = ['2015','2016','2017','2018','2019','2020','2021','2022']\n",
    "year_x"
   ]
  },
  {
   "cell_type": "code",
   "execution_count": 123,
   "id": "94bd4b33",
   "metadata": {
    "scrolled": false
   },
   "outputs": [
    {
     "name": "stderr",
     "output_type": "stream",
     "text": [
      "C:\\Users\\USER\\AppData\\Local\\Temp/ipykernel_516/770060465.py:9: UserWarning: color is redundantly defined by the 'color' keyword argument and the fmt string \"-co\" (-> color='c'). The keyword argument will take precedence.\n",
      "  ax2_.plot(year_x,year_y, '-co', color='orange', markersize=6, linewidth=5, alpha=0.6, label='Review')\n"
     ]
    },
    {
     "data": {
      "image/png": "[encoded data removed]",
      "text/plain": [
       "<Figure size 600x400 with 1 Axes>"
      ]
     },
     "metadata": {},
     "output_type": "display_data"
    }
   ],
   "source": [
    "# 최근 5개월 리뷰수 시각화\n",
    "\n",
    "plt.style.use('default')\n",
    "plt.rcParams['figure.figsize'] = (6,4)\n",
    "plt.rcParams['font.size'] = 12\n",
    "\n",
    "fig, ax2_ = plt.subplots()\n",
    "\n",
    "ax2_.plot(year_x,year_y, '-co', color='orange', markersize=6, linewidth=5, alpha=0.6, label='Review')\n",
    "#ax1.set_ylim(0,18)\n",
    "ax2_.set_xlabel('Year')\n",
    "ax2_.set_ylabel('Review')\n",
    "ax2_.tick_params(axis='both', direction='in')\n",
    "\n",
    "\n",
    "#ax2_ = ax1_.twinx()\n",
    "ax2_.bar(year_x,year_y, color='skyblue', alpha=0.6, label='Review')\n",
    "ax2_.tick_params(axis='y', direction='in')\n",
    "\n",
    "# 그래프 순서 정하기 :: 막대 그래프 뒤로 배치\n",
    "ax2_.set_zorder(ax2_.get_zorder()+10)\n",
    "ax2_.patch.set_visible(False)\n",
    "\n",
    "plt.title(\"Years Riviews\")\n",
    "plt.show()"
   ]
  },
  {
   "cell_type": "code",
   "execution_count": null,
   "id": "c8dbf6fd",
   "metadata": {},
   "outputs": [],
   "source": []
  },
  {
   "cell_type": "code",
   "execution_count": null,
   "id": "8af267d6",
   "metadata": {},
   "outputs": [],
   "source": []
  },
  {
   "cell_type": "code",
   "execution_count": null,
   "id": "5a49cc69",
   "metadata": {},
   "outputs": [],
   "source": []
  }
 ],
 "metadata": {
  "kernelspec": {
   "display_name": "Python 3 (ipykernel)",
   "language": "python",
   "name": "python3"
  },
  "language_info": {
   "codemirror_mode": {
    "name": "ipython",
    "version": 3
   },
   "file_extension": ".py",
   "mimetype": "text/x-python",
   "name": "python",
   "nbconvert_exporter": "python",
   "pygments_lexer": "ipython3",
   "version": "3.9.7"
  }
 },
 "nbformat": 4,
 "nbformat_minor": 5
}
