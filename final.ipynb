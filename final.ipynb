{
 "cells": [
  {
   "cell_type": "code",
   "execution_count": 1,
   "outputs": [],
   "source": [
    "from selenium import webdriver\n",
    "import time\n",
    "import pandas as pd\n",
    "from bs4 import BeautifulSoup\n",
    "import warnings"
   ],
   "metadata": {
    "collapsed": false,
    "pycharm": {
     "name": "#%%\n"
    }
   }
  },
  {
   "cell_type": "code",
   "execution_count": 2,
   "outputs": [],
   "source": [
    "# 경고 무시\n",
    "warnings.filterwarnings('ignore')\n",
    "# 페이지 접속\n",
    "browser = webdriver.Chrome()\n",
    "url = \"https://www.yogiyo.co.kr/mobile/#/\"\n",
    "browser.maximize_window()\n",
    "browser.get(url)\n",
    "time.sleep(3)\n",
    "\n",
    "location = '서울특별시 성북구 삼선동5가 411 성북구청'\n",
    "elem = browser.find_element_by_name(\"address_input\")\n",
    "elem.clear()\n",
    "elem.send_keys(location)\n",
    "time.sleep(1)\n",
    "search_xpath = '''//*[@id=\"button_search_address\"]/button[2]'''\n",
    "search = browser.find_element_by_xpath(search_xpath)\n",
    "browser.execute_script(\"arguments[0].click();\", search)\n",
    "time.sleep(2)"
   ],
   "metadata": {
    "collapsed": false,
    "pycharm": {
     "name": "#%%\n"
    }
   }
  },
  {
   "cell_type": "code",
   "execution_count": 3,
   "outputs": [],
   "source": [
    "# 카테고리 선택\n",
    "# 일단 치킨만!\n",
    "cg = browser.find_element_by_xpath('/html/body/div[6]/div/div[1]/div[1]/div/div/div/ul/li[5]')\n",
    "cg_title = cg.text\n",
    "cg.click()"
   ],
   "metadata": {
    "collapsed": false,
    "pycharm": {
     "name": "#%%\n"
    }
   }
  },
  {
   "cell_type": "code",
   "execution_count": 4,
   "outputs": [],
   "source": [
    "# 음식점 정렬\n",
    "time.sleep(2)\n",
    "browser.find_element_by_xpath('//*[@id=\"content\"]/div/div[1]/div[2]/div/select').click()\n",
    "time.sleep(1)\n",
    "browser.find_element_by_xpath('//*[@id=\"content\"]/div/div[1]/div[2]/div/select/option[3]').click()"
   ],
   "metadata": {
    "collapsed": false,
    "pycharm": {
     "name": "#%%\n"
    }
   }
  },
  {
   "cell_type": "code",
   "execution_count": 6,
   "outputs": [
    {
     "name": "stdout",
     "output_type": "stream",
     "text": [
      "더보기 종료\n",
      "20\n",
      "20\n",
      "20\n",
      "20\n",
      "20\n",
      "20\n",
      "20\n",
      "20\n",
      "20\n",
      "20\n",
      "20\n",
      "20\n",
      "20\n",
      "20\n",
      "20\n",
      "20\n",
      "20\n",
      "20\n",
      "20\n",
      "20\n"
     ]
    }
   ],
   "source": [
    "i = 1\n",
    "time.sleep(2)\n",
    "# store click\n",
    "time.sleep(2)\n",
    "browser.find_element_by_xpath('//*[@id=\"content\"]/div[2]/div[1]/ul/li[3]/a').click()\n",
    "ADDRESS = browser.find_element_by_xpath('//*[@id=\"content\"]/div[2]/div[1]/div[6]/div[2]/p[3]/span').text # 가게 주소\n",
    "# 클린리뷰 tap\n",
    "time.sleep(2)\n",
    "browser.find_element_by_xpath('//*[@id=\"content\"]/div[2]/div[1]/ul/li[2]/a').click()\n",
    "time.sleep(1)\n",
    "STORE = browser.find_element_by_xpath('/html/body/div[6]/div[2]/div[1]/div[1]/div[1]/span').text\n",
    "# 더보기 클릭\n",
    "how_many_b = 0\n",
    "while True :\n",
    "    try :\n",
    "        how_many_b += 1\n",
    "        try:\n",
    "            btn1 = browser.find_element_by_class_name('btn-more')\n",
    "            btn1.click()\n",
    "        except:\n",
    "            btn2 = browser.find_element_by_xpath(' /html/body/div[6]/div[2]/div[1]/div[5]/ul/li['+(how_many_b*10+2)+']/a')\n",
    "            btn2.click()\n",
    "        time.sleep(0.5)\n",
    "        print(f\"리뷰{count.text}개인 업체의 더보기 클릭 {how_many_b}번 성공!\")\n",
    "    # 더보기 개수제한\n",
    "        if how_many_b == 3:\n",
    "            break\n",
    "    except:\n",
    "        print(\"더보기 종료\")\n",
    "        break\n",
    "\n",
    "# 내용 가져오기\n",
    "df = pd.DataFrame(columns=[])\n",
    "STORES = []\n",
    "ID_list = []\n",
    "BIG_STARS = []\n",
    "DATES = []\n",
    "REVIEWS = []\n",
    "TOTAL_SCORES = []\n",
    "ADDRESSES = []\n",
    "req = browser.page_source\n",
    "soup=BeautifulSoup(req, 'html.parser')\n",
    "IDS = soup.select('span.review-id.ng-binding')\n",
    "BIG_STAR = str(soup.select('#content > div.restaurant-detail.row.ng-scope > div.col-sm-8 > div.restaurant-info > div.restaurant-content > ul > li:nth-child(1) > span')[0].text)[-3:]\n",
    "how_many_r = 0\n",
    "for i in range(len(IDS)):\n",
    "    try:\n",
    "        how_many_r += 1\n",
    "        total = len(IDS)\n",
    "        print(total)\n",
    "        ID_list.append( IDS[i].text)\n",
    "        STAR_T = soup.select('#review > li:nth-child({}) > div:nth-child(2) > div > span.category > span:nth-child(3)'.format(i+2))[0].text\n",
    "        STAR_A = soup.select('#review > li:nth-child({}) > div:nth-child(2) > div > span.category > span:nth-child(6)'.format(i+2))[0].text\n",
    "        STAR_D = soup.select('#review > li:nth-child({}) > div:nth-child(2) > div > span.category > span:nth-child(9)'.format(i+2))[0].text\n",
    "        DATE = soup.select('#review > li:nth-child({ }) > div:nth-child(1) > span.review-time.ng-binding'.format(i+2))[0].text\n",
    "        REVIEW = soup.select('#review > li:nth-child({}) > p'.format(i+2))[0].text\n",
    "        TOTAL_SCORE = (float(STAR_T)+float(STAR_A)+float(STAR_D))/3.0\n",
    "\n",
    "        ID_list.append(ID)\n",
    "        DATES.append(DATE)\n",
    "        REVIEWS.append(REVIEW)\n",
    "        TOTAL_SCORES.append(TOTAL_SCORE)\n",
    "        STORES.append(STORE)\n",
    "        BIG_STARS.append(BIG_STAR)\n",
    "        ADDRESSES.append(ADDRESS)\n",
    "        for id in IDS:\n",
    "            print(id)\n",
    "\n",
    "        print(f'총 리뷰{total}중 {how_many_r} 크롤링 완료!!!')\n",
    "        # 크롤링 개수 제한\n",
    "        if how_many_r == 3:\n",
    "             break\n",
    "    except:\n",
    "        continue\n",
    "\n",
    "# df['업체명'] = STORES\n",
    "# df['업체별'] = BIG_STARS\n",
    "# df['주소'] = ADDRESS\n",
    "# df['id'] = ID_list\n",
    "# df['별점'] = TOTAL_SCORES\n",
    "# df['작성일'] = DATES\n",
    "# df['리뷰'] = REVIEWS\n",
    "print(\"크롤링 종료\")\n",
    "# {STORE}로 csv 저장\n",
    "# df.to_csv(f'{STORE}.csv',mode='a', header=False)\n",
    "print(df.head(3))\n",
    "print(f'{STORE}.csv 저장완료')\n",
    "browser.back()\n",
    "time.sleep(1)"
   ],
   "metadata": {
    "collapsed": false,
    "pycharm": {
     "name": "#%%\n"
    }
   }
  },
  {
   "cell_type": "code",
   "execution_count": 63,
   "outputs": [
    {
     "name": "stdout",
     "output_type": "stream",
     "text": [
      "총 리뷰20중 1 크롤링 완료!!!\n",
      "총 리뷰20중 2 크롤링 완료!!!\n",
      "총 리뷰20중 3 크롤링 완료!!!\n",
      "크롤링 종료\n",
      "            업체명  업체별                     주소     id   별점    작성일  \\\n",
      "0  지코바치킨-서울청량리점  4.8  서울 동대문구 청량리동 38-18 지층  sh**님  5.0  9시간 전   \n",
      "1  지코바치킨-서울청량리점  4.8  서울 동대문구 청량리동 38-18 지층  gg**님  4.3  9시간 전   \n",
      "2  지코바치킨-서울청량리점  4.8  서울 동대문구 청량리동 38-18 지층  94**님  5.0  9시간 전   \n",
      "\n",
      "                   리뷰  \n",
      "0         지코바 너무 맛있어요  \n",
      "1  타 매장에 비해 소스가 연해요 ㅠ  \n",
      "2       맛있게 잘 먹었어용~~~  \n",
      "지코바치킨-서울청량리점.csv 저장완료\n"
     ]
    }
   ],
   "source": [
    "# 내용 가져오기\n",
    "df = pd.DataFrame(columns=[])\n",
    "STORES = []\n",
    "ID_list = []\n",
    "BIG_STARS = []\n",
    "DATES = []\n",
    "REVIEWS = []\n",
    "TOTAL_SCORES = []\n",
    "ADDRESSES = []\n",
    "req = browser.page_source\n",
    "soup=BeautifulSoup(req, 'html.parser')\n",
    "IDS = soup.select('span.review-id.ng-binding')\n",
    "BIG_STAR = str(soup.select('#content > div.restaurant-detail.row.ng-scope > div.col-sm-8 > div.restaurant-info > div.restaurant-content > ul > li:nth-child(1) > span')[0].text)[-3:]\n",
    "how_many_r = 0\n",
    "for i in range(len(IDS)):\n",
    "    try:\n",
    "        how_many_r += 1\n",
    "        total = len(IDS)\n",
    "        ID_list.append(IDS[i].text)\n",
    "        STAR_T = soup.select('#review > li:nth-child({}) > div:nth-child(2) > div > span.category > span:nth-child(3)'.format(i+2))[0].text\n",
    "        STAR_A = soup.select('#review > li:nth-child({}) > div:nth-child(2) > div > span.category > span:nth-child(6)'.format(i+2))[0].text\n",
    "        STAR_D = soup.select('#review > li:nth-child({}) > div:nth-child(2) > div > span.category > span:nth-child(9)'.format(i+2))[0].text\n",
    "        DATES.append(soup.select('span.review-time'.format(i+2))[0].text)\n",
    "        REVIEWS.append( soup.select('#review > li:nth-child({}) > p'.format(i+2))[0].text)\n",
    "        if  (STAR_D!=None) & (STAR_T!=None) & (STAR_A!=None):\n",
    "            TOTAL_SCORE = round((float(STAR_T)+float(STAR_A)+float(STAR_D))/3.0,1)\n",
    "            TOTAL_SCORES.append(TOTAL_SCORE)\n",
    "        else :\n",
    "            TOTAL_SCORE = (float(STAR_T)+float(STAR_A))/2.0\n",
    "            TOTAL_SCORES.append(TOTAL_SCORE)\n",
    "        STORES.append(STORE)\n",
    "        BIG_STARS.append(BIG_STAR)\n",
    "        ADDRESSES.append(ADDRESS)\n",
    "        print(f'총 리뷰{total}중 {how_many_r} 크롤링 완료!!!')\n",
    "        # 크롤링 개수 제한\n",
    "        if how_many_r == 3:\n",
    "             break\n",
    "    except:\n",
    "        continue\n",
    "\n",
    "df['업체명'] = STORES\n",
    "df['업체별'] = BIG_STARS\n",
    "df['주소'] = ADDRESS\n",
    "df['id'] = ID_list\n",
    "df['별점'] = TOTAL_SCORES\n",
    "df['작성일'] = DATES\n",
    "df['리뷰'] = REVIEWS\n",
    "print(\"크롤링 종료\")\n",
    "# {STORE}로 csv 저장\n",
    "df.to_csv(f'{STORE}.csv',mode='a', header=False)\n",
    "print(df.head(3))\n",
    "print(f'{STORE}.csv 저장완료')\n",
    "browser.back()\n",
    "time.sleep(1)"
   ],
   "metadata": {
    "collapsed": false,
    "pycharm": {
     "name": "#%%\n"
    }
   }
  },
  {
   "cell_type": "code",
   "execution_count": null,
   "outputs": [],
   "source": [
    "# 최소리뷰 개수 설정\n",
    "# 설정한 수 이상의 리뷰만 크롤링\n",
    "time.sleep(1)\n",
    "i = 1\n",
    "#review_least = int(input(\"최소 리뷰 개수 설정 : \"))\n",
    "review_least = 10\n",
    "#review_maximum = int(input(\"최대 리뷰 개수 설정 : \"))\n",
    "review_maximum = 100000000000\n",
    "how_many_s = 0\n",
    "while True :\n",
    "    count = browser.find_element_by_xpath('//*[@id=\"content\"]/div/div[5]/div/div/div['+str(i)+']/div/table/tbody/tr/td[2]/div/div[2]/span[2]')\n",
    "    review_count = int(count.text[3:])\n",
    "    if review_count < review_least :\n",
    "        break\n",
    "    browser.find_element_by_xpath('//*[@id=\"content\"]/div/div[5]/div/div/div['+str(i)+']/div').click()\n",
    "    i = i+1\n",
    "    if i>review_maximum:\n",
    "        break\n",
    "    review_crawling()\n",
    "    how_many_s += 1\n",
    "    if how_many_s ==2:\n",
    "        break\n",
    "\n",
    "\n",
    "print(\"크롤링을 완료하였습니다.\")\n",
    "# browser.close()"
   ],
   "metadata": {
    "collapsed": false,
    "pycharm": {
     "name": "#%%\n"
    }
   }
  }
 ],
 "metadata": {
  "kernelspec": {
   "display_name": "Python 3",
   "language": "python",
   "name": "python3"
  },
  "language_info": {
   "codemirror_mode": {
    "name": "ipython",
    "version": 2
   },
   "file_extension": ".py",
   "mimetype": "text/x-python",
   "name": "python",
   "nbconvert_exporter": "python",
   "pygments_lexer": "ipython2",
   "version": "2.7.6"
  }
 },
 "nbformat": 4,
 "nbformat_minor": 0
}