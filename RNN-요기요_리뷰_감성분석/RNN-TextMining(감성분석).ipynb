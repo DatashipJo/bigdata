{
 "cells": [
  {
   "cell_type": "code",
   "execution_count": 1,
   "id": "cf3c3cb6",
   "metadata": {},
   "outputs": [],
   "source": [
    "import pandas as pd\n",
    "import numpy as np\n",
    "import matplotlib.pyplot as plt\n",
    "import re\n",
    "import urllib.request\n",
    "from konlpy.tag import Okt\n",
    "from tqdm import tqdm\n",
    "from tensorflow.keras.preprocessing.text import Tokenizer\n",
    "from tensorflow.keras.preprocessing.sequence import pad_sequences\n",
    "from sklearn.model_selection import train_test_split\n",
    "import warnings\n",
    "warnings.filterwarnings('ignore')"
   ]
  },
  {
   "cell_type": "code",
   "execution_count": 2,
   "id": "bc6304eb",
   "metadata": {},
   "outputs": [
    {
     "data": {
      "text/html": [
       "<div>\n",
       "<style scoped>\n",
       "    .dataframe tbody tr th:only-of-type {\n",
       "        vertical-align: middle;\n",
       "    }\n",
       "\n",
       "    .dataframe tbody tr th {\n",
       "        vertical-align: top;\n",
       "    }\n",
       "\n",
       "    .dataframe thead th {\n",
       "        text-align: right;\n",
       "    }\n",
       "</style>\n",
       "<table border=\"1\" class=\"dataframe\">\n",
       "  <thead>\n",
       "    <tr style=\"text-align: right;\">\n",
       "      <th></th>\n",
       "      <th>아이디</th>\n",
       "      <th>리뷰</th>\n",
       "      <th>Label</th>\n",
       "    </tr>\n",
       "  </thead>\n",
       "  <tbody>\n",
       "    <tr>\n",
       "      <th>25674</th>\n",
       "      <td>c1**님</td>\n",
       "      <td>역시 뿌링클이죠옹ㅋㅋㅋ 최고!! 맛있게 먹었습니당^^</td>\n",
       "      <td>1</td>\n",
       "    </tr>\n",
       "    <tr>\n",
       "      <th>20036</th>\n",
       "      <td>ah**님</td>\n",
       "      <td>거리가 멀어서 오는데 시간이 많이 걸리네요 ㅠㅠ</td>\n",
       "      <td>1</td>\n",
       "    </tr>\n",
       "    <tr>\n",
       "      <th>28047</th>\n",
       "      <td>ck**님</td>\n",
       "      <td>굳 적당해요 이정도로만 나오면 최고</td>\n",
       "      <td>1</td>\n",
       "    </tr>\n",
       "    <tr>\n",
       "      <th>9179</th>\n",
       "      <td>cu**님</td>\n",
       "      <td>좀만더바삭햇음넘좋겟습니댜..</td>\n",
       "      <td>0</td>\n",
       "    </tr>\n",
       "    <tr>\n",
       "      <th>16685</th>\n",
       "      <td>09**님</td>\n",
       "      <td>너무마싯어서써요ㅎㅎ 마시이썽</td>\n",
       "      <td>1</td>\n",
       "    </tr>\n",
       "    <tr>\n",
       "      <th>17216</th>\n",
       "      <td>19**님</td>\n",
       "      <td>별 5개가 부족한 맛이에요</td>\n",
       "      <td>1</td>\n",
       "    </tr>\n",
       "    <tr>\n",
       "      <th>20765</th>\n",
       "      <td>al**님</td>\n",
       "      <td>감사합니다 수고하세요</td>\n",
       "      <td>1</td>\n",
       "    </tr>\n",
       "    <tr>\n",
       "      <th>13061</th>\n",
       "      <td>pi**님</td>\n",
       "      <td>맛이 궁금해서 시켜 봤는데 달콤하면서 매워요~조금 덜 매우면 좋겠지만 맛은 있어요~</td>\n",
       "      <td>0</td>\n",
       "    </tr>\n",
       "    <tr>\n",
       "      <th>32978</th>\n",
       "      <td>dl**님</td>\n",
       "      <td>잘먹었습니다 감사합니다!</td>\n",
       "      <td>1</td>\n",
       "    </tr>\n",
       "    <tr>\n",
       "      <th>32718</th>\n",
       "      <td>dl**님</td>\n",
       "      <td>bhc는 사랑입니다. 늘 먹어도 맛나요. 아이있는집이라 적당히 매운거 먹는게 좋아서...</td>\n",
       "      <td>1</td>\n",
       "    </tr>\n",
       "  </tbody>\n",
       "</table>\n",
       "</div>"
      ],
      "text/plain": [
       "         아이디                                                 리뷰  Label\n",
       "25674  c1**님                      역시 뿌링클이죠옹ㅋㅋㅋ 최고!! 맛있게 먹었습니당^^      1\n",
       "20036  ah**님                         거리가 멀어서 오는데 시간이 많이 걸리네요 ㅠㅠ      1\n",
       "28047  ck**님                                굳 적당해요 이정도로만 나오면 최고      1\n",
       "9179   cu**님                                    좀만더바삭햇음넘좋겟습니댜..      0\n",
       "16685  09**님                                    너무마싯어서써요ㅎㅎ 마시이썽      1\n",
       "17216  19**님                                     별 5개가 부족한 맛이에요      1\n",
       "20765  al**님                                        감사합니다 수고하세요      1\n",
       "13061  pi**님     맛이 궁금해서 시켜 봤는데 달콤하면서 매워요~조금 덜 매우면 좋겠지만 맛은 있어요~      0\n",
       "32978  dl**님                                      잘먹었습니다 감사합니다!      1\n",
       "32718  dl**님  bhc는 사랑입니다. 늘 먹어도 맛나요. 아이있는집이라 적당히 매운거 먹는게 좋아서...      1"
      ]
     },
     "execution_count": 2,
     "metadata": {},
     "output_type": "execute_result"
    }
   ],
   "source": [
    "cL_df = pd.read_csv('D:/pythonTest/DataShipJo/chicken_label.csv', names=['아이디', '리뷰', 'Label'])\n",
    "cL_df.sample(10)"
   ]
  },
  {
   "cell_type": "code",
   "execution_count": 3,
   "id": "67d0b875",
   "metadata": {},
   "outputs": [],
   "source": [
    "train_data, test_data = train_test_split(cL_df, test_size = 0.2, random_state=156)"
   ]
  },
  {
   "cell_type": "code",
   "execution_count": 4,
   "id": "8117df89",
   "metadata": {},
   "outputs": [
    {
     "name": "stdout",
     "output_type": "stream",
     "text": [
      "훈련용 리뷰 개수 : 28217\n"
     ]
    }
   ],
   "source": [
    "# 훈련용 리뷰 개수 출력\n",
    "print('훈련용 리뷰 개수 :',len(train_data)) "
   ]
  },
  {
   "cell_type": "code",
   "execution_count": 5,
   "id": "66a91980",
   "metadata": {},
   "outputs": [
    {
     "name": "stdout",
     "output_type": "stream",
     "text": [
      "테스트용 리뷰 개수: 7055\n"
     ]
    }
   ],
   "source": [
    "# 테스트용 리뷰 개수 출력\n",
    "print('테스트용 리뷰 개수:',len(test_data)) "
   ]
  },
  {
   "cell_type": "code",
   "execution_count": 6,
   "id": "84052c8f",
   "metadata": {},
   "outputs": [
    {
     "data": {
      "text/html": [
       "<div>\n",
       "<style scoped>\n",
       "    .dataframe tbody tr th:only-of-type {\n",
       "        vertical-align: middle;\n",
       "    }\n",
       "\n",
       "    .dataframe tbody tr th {\n",
       "        vertical-align: top;\n",
       "    }\n",
       "\n",
       "    .dataframe thead th {\n",
       "        text-align: right;\n",
       "    }\n",
       "</style>\n",
       "<table border=\"1\" class=\"dataframe\">\n",
       "  <thead>\n",
       "    <tr style=\"text-align: right;\">\n",
       "      <th></th>\n",
       "      <th>아이디</th>\n",
       "      <th>리뷰</th>\n",
       "      <th>Label</th>\n",
       "    </tr>\n",
       "  </thead>\n",
       "  <tbody>\n",
       "    <tr>\n",
       "      <th>11464</th>\n",
       "      <td>pj**님</td>\n",
       "      <td>근본의 갈반핫반!!</td>\n",
       "      <td>0</td>\n",
       "    </tr>\n",
       "    <tr>\n",
       "      <th>26917</th>\n",
       "      <td>ch**님</td>\n",
       "      <td>배달도 빠르고 넘나맛나요 리뷰이벤트 감사합니다 ㅎㅎ</td>\n",
       "      <td>1</td>\n",
       "    </tr>\n",
       "    <tr>\n",
       "      <th>29438</th>\n",
       "      <td>cw**님</td>\n",
       "      <td>역시또랴오래~예전이나지금이나너무맛나요</td>\n",
       "      <td>1</td>\n",
       "    </tr>\n",
       "    <tr>\n",
       "      <th>2339</th>\n",
       "      <td>rl**님</td>\n",
       "      <td>맛과 양 어느 것 하나 빠지지 않습니다~^^</td>\n",
       "      <td>0</td>\n",
       "    </tr>\n",
       "    <tr>\n",
       "      <th>2631</th>\n",
       "      <td>10**님</td>\n",
       "      <td>치킨에 온기가없이 식어서 왔네요 배달90분찍으시고 그것보다 빨리오셔서 그래도 식지 ...</td>\n",
       "      <td>0</td>\n",
       "    </tr>\n",
       "  </tbody>\n",
       "</table>\n",
       "</div>"
      ],
      "text/plain": [
       "         아이디                                                 리뷰  Label\n",
       "11464  pj**님                                         근본의 갈반핫반!!      0\n",
       "26917  ch**님                       배달도 빠르고 넘나맛나요 리뷰이벤트 감사합니다 ㅎㅎ      1\n",
       "29438  cw**님                               역시또랴오래~예전이나지금이나너무맛나요      1\n",
       "2339   rl**님                           맛과 양 어느 것 하나 빠지지 않습니다~^^      0\n",
       "2631   10**님  치킨에 온기가없이 식어서 왔네요 배달90분찍으시고 그것보다 빨리오셔서 그래도 식지 ...      0"
      ]
     },
     "execution_count": 6,
     "metadata": {},
     "output_type": "execute_result"
    }
   ],
   "source": [
    "train_data.head()"
   ]
  },
  {
   "cell_type": "code",
   "execution_count": 7,
   "id": "4e1e117d",
   "metadata": {
    "scrolled": true
   },
   "outputs": [
    {
     "data": {
      "text/html": [
       "<div>\n",
       "<style scoped>\n",
       "    .dataframe tbody tr th:only-of-type {\n",
       "        vertical-align: middle;\n",
       "    }\n",
       "\n",
       "    .dataframe tbody tr th {\n",
       "        vertical-align: top;\n",
       "    }\n",
       "\n",
       "    .dataframe thead th {\n",
       "        text-align: right;\n",
       "    }\n",
       "</style>\n",
       "<table border=\"1\" class=\"dataframe\">\n",
       "  <thead>\n",
       "    <tr style=\"text-align: right;\">\n",
       "      <th></th>\n",
       "      <th>아이디</th>\n",
       "      <th>리뷰</th>\n",
       "      <th>Label</th>\n",
       "    </tr>\n",
       "  </thead>\n",
       "  <tbody>\n",
       "    <tr>\n",
       "      <th>26539</th>\n",
       "      <td>ch**님</td>\n",
       "      <td>너무 맛있어요! 계속 이맛 유지해주세용^^ 담에 또 시켜먹을래요</td>\n",
       "      <td>1</td>\n",
       "    </tr>\n",
       "    <tr>\n",
       "      <th>9619</th>\n",
       "      <td>mi**님</td>\n",
       "      <td>소스 추가 주문했는데 안왔어요 ㅠ</td>\n",
       "      <td>0</td>\n",
       "    </tr>\n",
       "    <tr>\n",
       "      <th>7429</th>\n",
       "      <td>mk**님</td>\n",
       "      <td>냠냠냠냠냠냠냠냠냠냠냠냠냠</td>\n",
       "      <td>0</td>\n",
       "    </tr>\n",
       "    <tr>\n",
       "      <th>23639</th>\n",
       "      <td>be**님</td>\n",
       "      <td>양도 많고 음식도 맛있어요.</td>\n",
       "      <td>1</td>\n",
       "    </tr>\n",
       "    <tr>\n",
       "      <th>15015</th>\n",
       "      <td>ni**님</td>\n",
       "      <td>배송빨라서 치킨 바삭바삭</td>\n",
       "      <td>0</td>\n",
       "    </tr>\n",
       "  </tbody>\n",
       "</table>\n",
       "</div>"
      ],
      "text/plain": [
       "         아이디                                   리뷰  Label\n",
       "26539  ch**님  너무 맛있어요! 계속 이맛 유지해주세용^^ 담에 또 시켜먹을래요      1\n",
       "9619   mi**님                   소스 추가 주문했는데 안왔어요 ㅠ      0\n",
       "7429   mk**님                        냠냠냠냠냠냠냠냠냠냠냠냠냠      0\n",
       "23639  be**님                      양도 많고 음식도 맛있어요.      1\n",
       "15015  ni**님                        배송빨라서 치킨 바삭바삭      0"
      ]
     },
     "execution_count": 7,
     "metadata": {},
     "output_type": "execute_result"
    }
   ],
   "source": [
    "test_data.head()"
   ]
  },
  {
   "cell_type": "markdown",
   "id": "8c82752d",
   "metadata": {},
   "source": [
    "## 데이터 중복 유무 확인"
   ]
  },
  {
   "cell_type": "code",
   "execution_count": 8,
   "id": "a80c04c0",
   "metadata": {},
   "outputs": [
    {
     "name": "stdout",
     "output_type": "stream",
     "text": [
      "훈련용 리뷰 개수 : 28217\n"
     ]
    },
    {
     "data": {
      "text/plain": [
       "(23195, 2)"
      ]
     },
     "execution_count": 8,
     "metadata": {},
     "output_type": "execute_result"
    }
   ],
   "source": [
    "# '리뷰'열과 'Label'열의 중복을 제외한 값의 개수\n",
    "print('훈련용 리뷰 개수 :',len(train_data)) \n",
    "train_data['리뷰'].nunique(), train_data['Label'].nunique()\n",
    "\n",
    "### 1500개 정도의 중복 데이터 확인 ###"
   ]
  },
  {
   "cell_type": "code",
   "execution_count": 9,
   "id": "e2659c22",
   "metadata": {},
   "outputs": [],
   "source": [
    "# '리뷰'열의 중복 제거\n",
    "train_data.drop_duplicates(subset=['리뷰'], inplace=True)"
   ]
  },
  {
   "cell_type": "code",
   "execution_count": 10,
   "id": "ac458a0f",
   "metadata": {},
   "outputs": [
    {
     "name": "stdout",
     "output_type": "stream",
     "text": [
      "훈련용 리뷰 개수 : 23195\n"
     ]
    }
   ],
   "source": [
    "print('훈련용 리뷰 개수 :',len(train_data)) "
   ]
  },
  {
   "cell_type": "code",
   "execution_count": 11,
   "id": "60a71c9d",
   "metadata": {},
   "outputs": [
    {
     "data": {
      "text/plain": [
       "<AxesSubplot:>"
      ]
     },
     "execution_count": 11,
     "metadata": {},
     "output_type": "execute_result"
    },
    {
     "data": {
      "image/png": "[encoded data removed]",
      "text/plain": [
       "<Figure size 432x288 with 1 Axes>"
      ]
     },
     "metadata": {
      "needs_background": "light"
     },
     "output_type": "display_data"
    }
   ],
   "source": [
    "# train_data에서 해당 리뷰의 긍, 부정 유무가 기재되어있는 레이블(Label) 값의 분포\n",
    "train_data['Label'].value_counts().plot(kind = 'bar')"
   ]
  },
  {
   "cell_type": "code",
   "execution_count": 12,
   "id": "e2f5e4b9",
   "metadata": {},
   "outputs": [
    {
     "name": "stdout",
     "output_type": "stream",
     "text": [
      "   Label  count\n",
      "0      0  10522\n",
      "1      1  12673\n"
     ]
    }
   ],
   "source": [
    "# 'Label'의 값이 정확히 몇개인지 확인\n",
    "print(train_data.groupby('Label').size().reset_index(name = 'count'))\n",
    "\n",
    "### 부정:: 1881, 긍정:: 12528 ###"
   ]
  },
  {
   "cell_type": "code",
   "execution_count": 13,
   "id": "f1af403a",
   "metadata": {},
   "outputs": [
    {
     "data": {
      "text/plain": [
       "아이디      0\n",
       "리뷰       0\n",
       "Label    0\n",
       "dtype: int64"
      ]
     },
     "execution_count": 13,
     "metadata": {},
     "output_type": "execute_result"
    }
   ],
   "source": [
    "# train_data 결측값 확인\n",
    "train_data.isna().sum()"
   ]
  },
  {
   "cell_type": "markdown",
   "id": "32810912",
   "metadata": {},
   "source": [
    "### 결측값 위치 확인\n",
    "train_data.loc[train_data.document.isnull()]"
   ]
  },
  {
   "cell_type": "markdown",
   "id": "454f08ab",
   "metadata": {},
   "source": [
    "### 결측값 제거\n",
    "#### Null 값이 존재하는 행 제거\n",
    "train_data = train_data.dropna(how = 'any') \n",
    "#### Null 값이 존재하는지 확인\n",
    "print(train_data.isnull().values.any()) "
   ]
  },
  {
   "cell_type": "markdown",
   "id": "a0a054cf",
   "metadata": {},
   "source": [
    "## 데이터 전처리"
   ]
  },
  {
   "cell_type": "code",
   "execution_count": 14,
   "id": "99a8ed56",
   "metadata": {},
   "outputs": [
    {
     "data": {
      "text/html": [
       "<div>\n",
       "<style scoped>\n",
       "    .dataframe tbody tr th:only-of-type {\n",
       "        vertical-align: middle;\n",
       "    }\n",
       "\n",
       "    .dataframe tbody tr th {\n",
       "        vertical-align: top;\n",
       "    }\n",
       "\n",
       "    .dataframe thead th {\n",
       "        text-align: right;\n",
       "    }\n",
       "</style>\n",
       "<table border=\"1\" class=\"dataframe\">\n",
       "  <thead>\n",
       "    <tr style=\"text-align: right;\">\n",
       "      <th></th>\n",
       "      <th>아이디</th>\n",
       "      <th>리뷰</th>\n",
       "      <th>Label</th>\n",
       "    </tr>\n",
       "  </thead>\n",
       "  <tbody>\n",
       "    <tr>\n",
       "      <th>11464</th>\n",
       "      <td>pj**님</td>\n",
       "      <td>근본의 갈반핫반</td>\n",
       "      <td>0</td>\n",
       "    </tr>\n",
       "    <tr>\n",
       "      <th>26917</th>\n",
       "      <td>ch**님</td>\n",
       "      <td>배달도 빠르고 넘나맛나요 리뷰이벤트 감사합니다 ㅎㅎ</td>\n",
       "      <td>1</td>\n",
       "    </tr>\n",
       "    <tr>\n",
       "      <th>29438</th>\n",
       "      <td>cw**님</td>\n",
       "      <td>역시또랴오래예전이나지금이나너무맛나요</td>\n",
       "      <td>1</td>\n",
       "    </tr>\n",
       "    <tr>\n",
       "      <th>2339</th>\n",
       "      <td>rl**님</td>\n",
       "      <td>맛과 양 어느 것 하나 빠지지 않습니다</td>\n",
       "      <td>0</td>\n",
       "    </tr>\n",
       "    <tr>\n",
       "      <th>2631</th>\n",
       "      <td>10**님</td>\n",
       "      <td>치킨에 온기가없이 식어서 왔네요 배달분찍으시고 그것보다 빨리오셔서 그래도 식지 않았...</td>\n",
       "      <td>0</td>\n",
       "    </tr>\n",
       "    <tr>\n",
       "      <th>17588</th>\n",
       "      <td>2d**님</td>\n",
       "      <td>맛은 괜찮은데 제입맛에는 조금 달게 느껴집니다 서비스로 튀김 잘머것어요</td>\n",
       "      <td>1</td>\n",
       "    </tr>\n",
       "    <tr>\n",
       "      <th>3969</th>\n",
       "      <td>da**님</td>\n",
       "      <td>바삭하지는 않아서 좀 눅눅항 상태였어요</td>\n",
       "      <td>0</td>\n",
       "    </tr>\n",
       "    <tr>\n",
       "      <th>5865</th>\n",
       "      <td>wl**님</td>\n",
       "      <td>감자튀김 너무 눅눅해요 ㅠㅠ</td>\n",
       "      <td>0</td>\n",
       "    </tr>\n",
       "    <tr>\n",
       "      <th>33635</th>\n",
       "      <td>do**님</td>\n",
       "      <td>굽내치킨 고추바사삭 완전 추천합니다</td>\n",
       "      <td>1</td>\n",
       "    </tr>\n",
       "    <tr>\n",
       "      <th>26310</th>\n",
       "      <td>ch**님</td>\n",
       "      <td>맛있었어요 본연그맛그대로 역시페리카나입니다</td>\n",
       "      <td>1</td>\n",
       "    </tr>\n",
       "    <tr>\n",
       "      <th>3333</th>\n",
       "      <td>손님</td>\n",
       "      <td>한마리 시켰을때보다 마리세트 시키니 닭의 크기가 작아졌네요</td>\n",
       "      <td>0</td>\n",
       "    </tr>\n",
       "    <tr>\n",
       "      <th>23680</th>\n",
       "      <td>be**님</td>\n",
       "      <td>존맛탱</td>\n",
       "      <td>1</td>\n",
       "    </tr>\n",
       "    <tr>\n",
       "      <th>31091</th>\n",
       "      <td>df**님</td>\n",
       "      <td>맛있어요 잘 먹었습니다</td>\n",
       "      <td>1</td>\n",
       "    </tr>\n",
       "    <tr>\n",
       "      <th>6898</th>\n",
       "      <td>손님</td>\n",
       "      <td>다리날개 시켜서 그런지 양이 너무 적네요ㅠㅠ</td>\n",
       "      <td>0</td>\n",
       "    </tr>\n",
       "    <tr>\n",
       "      <th>32397</th>\n",
       "      <td>dl**님</td>\n",
       "      <td>잘 먹었습니다</td>\n",
       "      <td>1</td>\n",
       "    </tr>\n",
       "    <tr>\n",
       "      <th>13721</th>\n",
       "      <td>kw**님</td>\n",
       "      <td>믿고 먹는 치킨트리플</td>\n",
       "      <td>0</td>\n",
       "    </tr>\n",
       "    <tr>\n",
       "      <th>29405</th>\n",
       "      <td>cu**님</td>\n",
       "      <td>항상 최고의 맛과 배달 김사합니다</td>\n",
       "      <td>1</td>\n",
       "    </tr>\n",
       "    <tr>\n",
       "      <th>34335</th>\n",
       "      <td>du**님</td>\n",
       "      <td>와우 속도  바삭함 파는 양이 많아 덜어서 먹었어요 감사합니다 잘 먹었어요</td>\n",
       "      <td>1</td>\n",
       "    </tr>\n",
       "    <tr>\n",
       "      <th>29032</th>\n",
       "      <td>cq**님</td>\n",
       "      <td>맛있게 잘 먹었습니다</td>\n",
       "      <td>1</td>\n",
       "    </tr>\n",
       "    <tr>\n",
       "      <th>30207</th>\n",
       "      <td>da**님</td>\n",
       "      <td>후라이드가 젤 맛있어요</td>\n",
       "      <td>1</td>\n",
       "    </tr>\n",
       "    <tr>\n",
       "      <th>3238</th>\n",
       "      <td>as**님</td>\n",
       "      <td>시간반이지났는데 아직도 올생각을ㅡㅡ 도대체 언제올지 킁 적고있는데 이제오네요 휴 입...</td>\n",
       "      <td>0</td>\n",
       "    </tr>\n",
       "    <tr>\n",
       "      <th>15614</th>\n",
       "      <td>ej**님</td>\n",
       "      <td>양이 넘 작아요맛은 있어요</td>\n",
       "      <td>0</td>\n",
       "    </tr>\n",
       "    <tr>\n",
       "      <th>29197</th>\n",
       "      <td>cs**님</td>\n",
       "      <td>잘먹었습니둥 ㅎㅎㅎㅎㅎ</td>\n",
       "      <td>1</td>\n",
       "    </tr>\n",
       "    <tr>\n",
       "      <th>1357</th>\n",
       "      <td>re**님</td>\n",
       "      <td>양념이랑 튀김옷이랑 약간 따로 노는 느낌이네요 신메뉴라 그런가</td>\n",
       "      <td>0</td>\n",
       "    </tr>\n",
       "    <tr>\n",
       "      <th>22899</th>\n",
       "      <td>ba**님</td>\n",
       "      <td>앙 강정띠 아삭아삭</td>\n",
       "      <td>1</td>\n",
       "    </tr>\n",
       "    <tr>\n",
       "      <th>7324</th>\n",
       "      <td>dl**님</td>\n",
       "      <td>소떡 하나는 리뷰가 없어도 주시는군요ㅠ 진짜 감동의 깻잎쓰</td>\n",
       "      <td>0</td>\n",
       "    </tr>\n",
       "    <tr>\n",
       "      <th>26887</th>\n",
       "      <td>ch**님</td>\n",
       "      <td>아 배고파서 사진도 안 찍었네요 하하 리뷰 약속 까먹어서 전화했는데 친절하게 해주셨...</td>\n",
       "      <td>1</td>\n",
       "    </tr>\n",
       "    <tr>\n",
       "      <th>21664</th>\n",
       "      <td>ap**님</td>\n",
       "      <td>맛있다 고추바사사사삭</td>\n",
       "      <td>1</td>\n",
       "    </tr>\n",
       "    <tr>\n",
       "      <th>25369</th>\n",
       "      <td>bu**님</td>\n",
       "      <td>치킨이 한입에먹기좋은크키예요 바삭하고 약간매콤해서 금방다먹었네요 배달도 예상 시간보...</td>\n",
       "      <td>1</td>\n",
       "    </tr>\n",
       "    <tr>\n",
       "      <th>7633</th>\n",
       "      <td>gh**님</td>\n",
       "      <td>닭냄새나 기름냄새가 없이 깔끔합니다</td>\n",
       "      <td>0</td>\n",
       "    </tr>\n",
       "    <tr>\n",
       "      <th>32277</th>\n",
       "      <td>dl**님</td>\n",
       "      <td>맛있게 잘먹었습니다 특히 배달이 완전 빨라서 좋아요</td>\n",
       "      <td>1</td>\n",
       "    </tr>\n",
       "    <tr>\n",
       "      <th>21987</th>\n",
       "      <td>ar**님</td>\n",
       "      <td>양이 많지 않아 좋습니다 냄새도 없고 역시 후라이드가 맛있네요</td>\n",
       "      <td>1</td>\n",
       "    </tr>\n",
       "    <tr>\n",
       "      <th>33513</th>\n",
       "      <td>do**님</td>\n",
       "      <td>한번에 다양하게 맛보는 즐거움이 있습니다</td>\n",
       "      <td>1</td>\n",
       "    </tr>\n",
       "    <tr>\n",
       "      <th>19207</th>\n",
       "      <td>a4**님</td>\n",
       "      <td>아들 전역해서 시켰는데 정말 맛있게 잘먹었습니다</td>\n",
       "      <td>1</td>\n",
       "    </tr>\n",
       "    <tr>\n",
       "      <th>35164</th>\n",
       "      <td>ed**님</td>\n",
       "      <td>는 핫후라이드죠 핫후핫후</td>\n",
       "      <td>1</td>\n",
       "    </tr>\n",
       "    <tr>\n",
       "      <th>15196</th>\n",
       "      <td>bb**님</td>\n",
       "      <td>많이기대했나봐요 후라이드가 옛날도아닌것이 요즘 바사삭도 아닌것이 못먹을정도는 아니에요</td>\n",
       "      <td>0</td>\n",
       "    </tr>\n",
       "    <tr>\n",
       "      <th>24329</th>\n",
       "      <td>bl**님</td>\n",
       "      <td>무슨 배달이 이렇게 빨라요 그리고 오랜만에 먹는 강정이기가막혀 너뮤 맛있음 ㅠ</td>\n",
       "      <td>1</td>\n",
       "    </tr>\n",
       "    <tr>\n",
       "      <th>30382</th>\n",
       "      <td>db**님</td>\n",
       "      <td>맛있게잘먹었어요굿굿</td>\n",
       "      <td>1</td>\n",
       "    </tr>\n",
       "    <tr>\n",
       "      <th>6953</th>\n",
       "      <td>dr**님</td>\n",
       "      <td>쏘쏘 해요 페리카나 그냥 무난무난 가격이 생각보단 비싸요</td>\n",
       "      <td>0</td>\n",
       "    </tr>\n",
       "    <tr>\n",
       "      <th>4784</th>\n",
       "      <td>su**님</td>\n",
       "      <td>먹을만 했습니다 근데 자담 치킨으로 또래오래랑 이름만 다르게 두개의 이름으로 운영하...</td>\n",
       "      <td>0</td>\n",
       "    </tr>\n",
       "    <tr>\n",
       "      <th>5549</th>\n",
       "      <td>손님</td>\n",
       "      <td>맛이 튀김옷도 닭도 별로</td>\n",
       "      <td>0</td>\n",
       "    </tr>\n",
       "    <tr>\n",
       "      <th>3545</th>\n",
       "      <td>손님</td>\n",
       "      <td>양념 넘나 매운것 매운거 못먹는 사람은 비츄</td>\n",
       "      <td>0</td>\n",
       "    </tr>\n",
       "    <tr>\n",
       "      <th>22017</th>\n",
       "      <td>ar**님</td>\n",
       "      <td>눈꽃 치킨이야 제 최애이니 항상 옳구요 닭강정 처음 먹어봤는데 양념치킨에서 좀 더 ...</td>\n",
       "      <td>1</td>\n",
       "    </tr>\n",
       "    <tr>\n",
       "      <th>27523</th>\n",
       "      <td>ch**님</td>\n",
       "      <td>멕시카나 이벤트를 해서인지 배달 시간 걸려서 왔네요 순살 주문으러 먹었는데 닭에서 ...</td>\n",
       "      <td>1</td>\n",
       "    </tr>\n",
       "    <tr>\n",
       "      <th>18884</th>\n",
       "      <td>97**님</td>\n",
       "      <td>고추향이 확 나네요 맛나용 근데 좀 더 바삭하면 맛잇을거같아요ㅠㅜㅠ</td>\n",
       "      <td>1</td>\n",
       "    </tr>\n",
       "    <tr>\n",
       "      <th>10375</th>\n",
       "      <td>no**님</td>\n",
       "      <td>ㄴㄹㅁ라라사삿어아아아앗</td>\n",
       "      <td>0</td>\n",
       "    </tr>\n",
       "    <tr>\n",
       "      <th>21834</th>\n",
       "      <td>ar**님</td>\n",
       "      <td>배달이 많이 늦었지만 잘 받았어요 치킨이 살짝 한김 날리고 포장되지않아 포장 속에 ...</td>\n",
       "      <td>1</td>\n",
       "    </tr>\n",
       "    <tr>\n",
       "      <th>19834</th>\n",
       "      <td>ag**님</td>\n",
       "      <td>나쁘지않았습니다아앙</td>\n",
       "      <td>1</td>\n",
       "    </tr>\n",
       "    <tr>\n",
       "      <th>24865</th>\n",
       "      <td>bo**님</td>\n",
       "      <td>간장양념이 짭짤하고 고소해서 생각보다 맛있었어요</td>\n",
       "      <td>1</td>\n",
       "    </tr>\n",
       "    <tr>\n",
       "      <th>5926</th>\n",
       "      <td>손님</td>\n",
       "      <td>트위스터 먹고 트위스트</td>\n",
       "      <td>0</td>\n",
       "    </tr>\n",
       "  </tbody>\n",
       "</table>\n",
       "</div>"
      ],
      "text/plain": [
       "         아이디                                                 리뷰  Label\n",
       "11464  pj**님                                           근본의 갈반핫반      0\n",
       "26917  ch**님                       배달도 빠르고 넘나맛나요 리뷰이벤트 감사합니다 ㅎㅎ      1\n",
       "29438  cw**님                                역시또랴오래예전이나지금이나너무맛나요      1\n",
       "2339   rl**님                              맛과 양 어느 것 하나 빠지지 않습니다      0\n",
       "2631   10**님  치킨에 온기가없이 식어서 왔네요 배달분찍으시고 그것보다 빨리오셔서 그래도 식지 않았...      0\n",
       "17588  2d**님            맛은 괜찮은데 제입맛에는 조금 달게 느껴집니다 서비스로 튀김 잘머것어요      1\n",
       "3969   da**님                              바삭하지는 않아서 좀 눅눅항 상태였어요      0\n",
       "5865   wl**님                                    감자튀김 너무 눅눅해요 ㅠㅠ      0\n",
       "33635  do**님                                굽내치킨 고추바사삭 완전 추천합니다      1\n",
       "26310  ch**님                            맛있었어요 본연그맛그대로 역시페리카나입니다      1\n",
       "3333      손님                   한마리 시켰을때보다 마리세트 시키니 닭의 크기가 작아졌네요      0\n",
       "23680  be**님                                                존맛탱      1\n",
       "31091  df**님                                       맛있어요 잘 먹었습니다      1\n",
       "6898      손님                           다리날개 시켜서 그런지 양이 너무 적네요ㅠㅠ      0\n",
       "32397  dl**님                                           잘 먹었습니다       1\n",
       "13721  kw**님                                        믿고 먹는 치킨트리플      0\n",
       "29405  cu**님                                 항상 최고의 맛과 배달 김사합니다      1\n",
       "34335  du**님          와우 속도  바삭함 파는 양이 많아 덜어서 먹었어요 감사합니다 잘 먹었어요      1\n",
       "29032  cq**님                                        맛있게 잘 먹었습니다      1\n",
       "30207  da**님                                       후라이드가 젤 맛있어요      1\n",
       "3238   as**님  시간반이지났는데 아직도 올생각을ㅡㅡ 도대체 언제올지 킁 적고있는데 이제오네요 휴 입...      0\n",
       "15614  ej**님                                     양이 넘 작아요맛은 있어요      0\n",
       "29197  cs**님                                       잘먹었습니둥 ㅎㅎㅎㅎㅎ      1\n",
       "1357   re**님                 양념이랑 튀김옷이랑 약간 따로 노는 느낌이네요 신메뉴라 그런가      0\n",
       "22899  ba**님                                         앙 강정띠 아삭아삭      1\n",
       "7324   dl**님                   소떡 하나는 리뷰가 없어도 주시는군요ㅠ 진짜 감동의 깻잎쓰      0\n",
       "26887  ch**님  아 배고파서 사진도 안 찍었네요 하하 리뷰 약속 까먹어서 전화했는데 친절하게 해주셨...      1\n",
       "21664  ap**님                                        맛있다 고추바사사사삭      1\n",
       "25369  bu**님  치킨이 한입에먹기좋은크키예요 바삭하고 약간매콤해서 금방다먹었네요 배달도 예상 시간보...      1\n",
       "7633   gh**님                                닭냄새나 기름냄새가 없이 깔끔합니다      0\n",
       "32277  dl**님                       맛있게 잘먹었습니다 특히 배달이 완전 빨라서 좋아요      1\n",
       "21987  ar**님                 양이 많지 않아 좋습니다 냄새도 없고 역시 후라이드가 맛있네요      1\n",
       "33513  do**님                             한번에 다양하게 맛보는 즐거움이 있습니다      1\n",
       "19207  a4**님                         아들 전역해서 시켰는데 정말 맛있게 잘먹었습니다      1\n",
       "35164  ed**님                                      는 핫후라이드죠 핫후핫후      1\n",
       "15196  bb**님    많이기대했나봐요 후라이드가 옛날도아닌것이 요즘 바사삭도 아닌것이 못먹을정도는 아니에요      0\n",
       "24329  bl**님        무슨 배달이 이렇게 빨라요 그리고 오랜만에 먹는 강정이기가막혀 너뮤 맛있음 ㅠ      1\n",
       "30382  db**님                                         맛있게잘먹었어요굿굿      1\n",
       "6953   dr**님                    쏘쏘 해요 페리카나 그냥 무난무난 가격이 생각보단 비싸요      0\n",
       "4784   su**님  먹을만 했습니다 근데 자담 치킨으로 또래오래랑 이름만 다르게 두개의 이름으로 운영하...      0\n",
       "5549      손님                                      맛이 튀김옷도 닭도 별로      0\n",
       "3545      손님                           양념 넘나 매운것 매운거 못먹는 사람은 비츄      0\n",
       "22017  ar**님  눈꽃 치킨이야 제 최애이니 항상 옳구요 닭강정 처음 먹어봤는데 양념치킨에서 좀 더 ...      1\n",
       "27523  ch**님  멕시카나 이벤트를 해서인지 배달 시간 걸려서 왔네요 순살 주문으러 먹었는데 닭에서 ...      1\n",
       "18884  97**님              고추향이 확 나네요 맛나용 근데 좀 더 바삭하면 맛잇을거같아요ㅠㅜㅠ      1\n",
       "10375  no**님                                       ㄴㄹㅁ라라사삿어아아아앗      0\n",
       "21834  ar**님  배달이 많이 늦었지만 잘 받았어요 치킨이 살짝 한김 날리고 포장되지않아 포장 속에 ...      1\n",
       "19834  ag**님                                         나쁘지않았습니다아앙      1\n",
       "24865  bo**님                         간장양념이 짭짤하고 고소해서 생각보다 맛있었어요      1\n",
       "5926      손님                                       트위스터 먹고 트위스트      0"
      ]
     },
     "execution_count": 14,
     "metadata": {},
     "output_type": "execute_result"
    }
   ],
   "source": [
    "# 한글과 공백을 제외하고 모두 제거\n",
    "train_data['리뷰'] = train_data['리뷰'].str.replace(\"[^ㄱ-ㅎㅏ-ㅣ가-힣 ]\",\"\")\n",
    "train_data[:50]"
   ]
  },
  {
   "cell_type": "code",
   "execution_count": 15,
   "id": "c53fc6e8",
   "metadata": {},
   "outputs": [
    {
     "name": "stdout",
     "output_type": "stream",
     "text": [
      "아이디        0\n",
      "리뷰       398\n",
      "Label      0\n",
      "dtype: int64\n"
     ]
    }
   ],
   "source": [
    "# 정규표현식 후 결측값 확인\n",
    "train_data['리뷰'] = train_data['리뷰'].str.replace('^ +', \"\") \n",
    "train_data['리뷰'].replace('', np.nan, inplace=True)\n",
    "print(train_data.isnull().sum())"
   ]
  },
  {
   "cell_type": "code",
   "execution_count": 16,
   "id": "7ba07313",
   "metadata": {},
   "outputs": [
    {
     "data": {
      "text/html": [
       "<div>\n",
       "<style scoped>\n",
       "    .dataframe tbody tr th:only-of-type {\n",
       "        vertical-align: middle;\n",
       "    }\n",
       "\n",
       "    .dataframe tbody tr th {\n",
       "        vertical-align: top;\n",
       "    }\n",
       "\n",
       "    .dataframe thead th {\n",
       "        text-align: right;\n",
       "    }\n",
       "</style>\n",
       "<table border=\"1\" class=\"dataframe\">\n",
       "  <thead>\n",
       "    <tr style=\"text-align: right;\">\n",
       "      <th></th>\n",
       "      <th>아이디</th>\n",
       "      <th>리뷰</th>\n",
       "      <th>Label</th>\n",
       "    </tr>\n",
       "  </thead>\n",
       "  <tbody>\n",
       "    <tr>\n",
       "      <th>12510</th>\n",
       "      <td>손님</td>\n",
       "      <td>NaN</td>\n",
       "      <td>0</td>\n",
       "    </tr>\n",
       "    <tr>\n",
       "      <th>2837</th>\n",
       "      <td>손님</td>\n",
       "      <td>NaN</td>\n",
       "      <td>0</td>\n",
       "    </tr>\n",
       "    <tr>\n",
       "      <th>4778</th>\n",
       "      <td>di**님</td>\n",
       "      <td>NaN</td>\n",
       "      <td>0</td>\n",
       "    </tr>\n",
       "    <tr>\n",
       "      <th>12046</th>\n",
       "      <td>ch**님</td>\n",
       "      <td>NaN</td>\n",
       "      <td>0</td>\n",
       "    </tr>\n",
       "    <tr>\n",
       "      <th>2950</th>\n",
       "      <td>pe**님</td>\n",
       "      <td>NaN</td>\n",
       "      <td>0</td>\n",
       "    </tr>\n",
       "  </tbody>\n",
       "</table>\n",
       "</div>"
      ],
      "text/plain": [
       "         아이디   리뷰  Label\n",
       "12510     손님  NaN      0\n",
       "2837      손님  NaN      0\n",
       "4778   di**님  NaN      0\n",
       "12046  ch**님  NaN      0\n",
       "2950   pe**님  NaN      0"
      ]
     },
     "execution_count": 16,
     "metadata": {},
     "output_type": "execute_result"
    }
   ],
   "source": [
    "# 결측값 확인\n",
    "train_data.loc[train_data.리뷰.isnull()][:5]"
   ]
  },
  {
   "cell_type": "code",
   "execution_count": 17,
   "id": "c490b8c4",
   "metadata": {},
   "outputs": [
    {
     "name": "stdout",
     "output_type": "stream",
     "text": [
      "22797\n"
     ]
    }
   ],
   "source": [
    "# 결측값 삭제\n",
    "train_data = train_data.dropna(how = 'any')\n",
    "print(len(train_data))"
   ]
  },
  {
   "cell_type": "code",
   "execution_count": 18,
   "id": "d7ac1168",
   "metadata": {},
   "outputs": [
    {
     "name": "stdout",
     "output_type": "stream",
     "text": [
      "전처리 후 테스트용 샘플의 개수 : 6396\n"
     ]
    }
   ],
   "source": [
    "# test_data 또한 동일하게 전처리 진행\n",
    "\n",
    "test_data.drop_duplicates(subset = ['리뷰'], inplace=True) # '리뷰'열에서 중복인 내용이 있다면 중복 제거\n",
    "test_data['리뷰'] = test_data['리뷰'].str.replace(\"[^ㄱ-ㅎㅏ-ㅣ가-힣 ]\",\"\") # 정규 표현식 수행\n",
    "test_data['리뷰'] = test_data['리뷰'].str.replace('^ +', \"\") # 공백은 empty 값으로 변경\n",
    "test_data['리뷰'].replace('', np.nan, inplace=True) # 공백은 Null 값으로 변경\n",
    "test_data = test_data.dropna(how='any') # Null 값 제거\n",
    "print('전처리 후 테스트용 샘플의 개수 :',len(test_data))"
   ]
  },
  {
   "cell_type": "code",
   "execution_count": 19,
   "id": "9b57ea1c",
   "metadata": {},
   "outputs": [],
   "source": [
    "stopwords = ['의','가','이','은','들','는','좀','잘','걍','과','도','를','으로','자','에','와','한','하다']"
   ]
  },
  {
   "cell_type": "code",
   "execution_count": 20,
   "id": "6829bb4d",
   "metadata": {},
   "outputs": [
    {
     "data": {
      "text/plain": [
       "['오다',\n",
       " '이렇다',\n",
       " '것',\n",
       " '도',\n",
       " '치킨',\n",
       " '이라고',\n",
       " '차라리',\n",
       " '닭',\n",
       " '가슴',\n",
       " '살',\n",
       " '을',\n",
       " '만들다',\n",
       " '게',\n",
       " '나다',\n",
       " '뻔']"
      ]
     },
     "execution_count": 20,
     "metadata": {},
     "output_type": "execute_result"
    }
   ],
   "source": [
    "okt = Okt()\n",
    "okt.morphs('와 이런 것도 치킨이라고 차라리 닭가슴살을 만드는 게 나을 뻔', stem = True)"
   ]
  },
  {
   "cell_type": "code",
   "execution_count": 21,
   "id": "291f9fb2",
   "metadata": {},
   "outputs": [
    {
     "name": "stderr",
     "output_type": "stream",
     "text": [
      "100%|███████████████████████████████████████████████████████████████████████████| 22797/22797 [02:27<00:00, 154.04it/s]\n"
     ]
    }
   ],
   "source": [
    "### 토큰화 후 X_train 에 저장 ###\n",
    "X_train = []\n",
    "for sentence in tqdm(train_data['리뷰']):\n",
    "    tokenized_sentence = okt.morphs(sentence, stem=True) # 토큰화\n",
    "    stopwords_removed_sentence = [word for word in tokenized_sentence if not word in stopwords] # 불용어 제거\n",
    "    X_train.append(stopwords_removed_sentence)"
   ]
  },
  {
   "cell_type": "code",
   "execution_count": 22,
   "id": "45198aec",
   "metadata": {},
   "outputs": [
    {
     "name": "stdout",
     "output_type": "stream",
     "text": [
      "[['근본', '갈다', '반', '핫반'], ['배달', '빠르다', '넘다', '맛', '나', '요', '리뷰', '이벤트', '감사하다', 'ㅎㅎ'], ['역시', '또랴', '오래', '예전', '이나', '지금', '이나', '너무', '맛', '나', '요']]\n"
     ]
    }
   ],
   "source": [
    "print(X_train[:3])"
   ]
  },
  {
   "cell_type": "code",
   "execution_count": 23,
   "id": "f826100a",
   "metadata": {},
   "outputs": [
    {
     "name": "stderr",
     "output_type": "stream",
     "text": [
      "100%|█████████████████████████████████████████████████████████████████████████████| 6396/6396 [00:46<00:00, 137.84it/s]\n"
     ]
    }
   ],
   "source": [
    "### 토큰화 후 X_test 에 저장 ###\n",
    "X_test = []\n",
    "for sentence in tqdm(test_data['리뷰']):\n",
    "    tokenized_sentence = okt.morphs(sentence, stem=True) # 토큰화\n",
    "    stopwords_removed_sentence = [word for word in tokenized_sentence if not word in stopwords] # 불용어 제거\n",
    "    X_test.append(stopwords_removed_sentence)"
   ]
  },
  {
   "cell_type": "markdown",
   "id": "39bb0454",
   "metadata": {},
   "source": [
    "### 정수 인코딩\n",
    "기계가 텍스트를 숫자로 처리할 수 있도록 훈련 데이터와 테스트 데이터에 정수 인코딩을 수행한다"
   ]
  },
  {
   "cell_type": "code",
   "execution_count": 24,
   "id": "47af9efa",
   "metadata": {},
   "outputs": [],
   "source": [
    "tokenizer = Tokenizer()\n",
    "tokenizer.fit_on_texts(X_train)"
   ]
  },
  {
   "cell_type": "code",
   "execution_count": 25,
   "id": "b034693b",
   "metadata": {},
   "outputs": [
    {
     "name": "stdout",
     "output_type": "stream",
     "text": [
      "{'먹다': 1, '맛있다': 2, '맛': 3, '배달': 4, '치킨': 5, '시키다': 6, '너무': 7, '좋다': 8, '보다': 9, '오다': 10, '자다': 11, '요': 12, '있다': 13, '많다': 14, '이다': 15, '다': 16, '주문': 17, '같다': 18, '안': 19, '시간': 20, '양': 21, '을': 22, '양념': 23, '로': 24, '없다': 25, '후라이드': 26, '만': 27, '감사하다': 28, '빠르다': 29, '진짜': 30, '않다': 31, '양도': 32, 'ㅎㅎ': 33, '또': 34, '소스': 35, '분': 36, '튀김': 37, '넘다': 38, '더': 39, '바삭': 40, '많이': 41, '하고': 42, '정말': 43, '서비스': 44, 'ㅠㅠ': 45, '리뷰': 46, '늦다': 47, '처음': 48, '네': 49, '닭': 50, '살': 51, '받다': 52, '되다': 53, '순': 54, '괜찮다': 55, '항상': 56, '다음': 57, '고': 58, '맵다': 59, '그냥': 60, '아니다': 61, '오늘': 62, '나다': 63, '반': 64, '역시': 65, '못': 66, '빨리': 67, '그렇다': 68, '생각': 69, '나': 70, '아쉽다': 71, '때': 72, '여기': 73, '주다': 74, '에서': 75, '짜다': 76, '서': 77, '엄청': 78, '걸리다': 79, '것': 80, '조금': 81, 'ㅠ': 82, '식다': 83, '최고': 84, '들다': 85, '다른': 86, '점': 87, '치즈볼': 88, '적다': 89, '님': 90, '이벤트': 91, '사진': 92, '두': 93, '믿다': 94, '제': 95, '인데': 96, '오래': 97, '잇다': 98, '자주': 99, '링클': 100, '떡': 101, '엔': 102, '집': 103, '뿌': 104, '찍다': 105, '이라': 106, '빨르다': 107, '게': 108, '적': 109, '옷': 110, '시': 111, '알다': 112, '차다': 113, '해주다': 114, '메뉴': 115, '정도': 116, '튀기다': 117, '개': 118, '예상': 119, '이랑': 120, '늘': 121, '콜라': 122, '굳다': 123, '그': 124, '랑': 125, '저': 126, '거': 127, 'ㅋㅋ': 128, 'ㅎ': 129, '까지': 130, '근데': 131, '눅눅하다': 132, '지': 133, '말': 134, 'ㅜㅜ': 135, '간장': 136, '소': 137, '곳': 138, '에도': 139, '고추': 140, '수': 141, '그래도': 142, '친절하다': 143, '늘다': 144, '중': 145, '느낌': 146, '별로': 147, '습': 148, '기름': 149, '오랜': 150, '말다': 151, '먹기': 152, '매콤': 153, '오': 154, '후': 155, '에는': 156, '마리': 157, '이번': 158, '양은': 159, '음식': 160, '감자': 161, '이네': 162, '좋아하다': 163, '완전': 164, '하나': 165, '인': 166, '아주': 167, '번': 168, '또래': 169, '가다': 170, '핫': 171, '보내다': 172, '버리다': 173, '도착': 174, '살이': 175, '사장': 176, '앞': 177, '이에요': 178, '하': 179, '가격': 180, '모르다': 181, '언제나': 182, '가루': 183, '할인': 184, '여': 185, '딱': 186, '왜': 187, '라': 188, '싶다': 189, '요청': 190, '아': 191, '니당다': 192, '써다': 193, '느끼하다': 194, '같이': 195, '비': 196, '적당하다': 197, '전화': 198, '문': 199, '그리고': 200, '배송': 201, '전': 202, '카나': 203, '따뜻하다': 204, '양념치킨': 205, '푸다': 206, '어': 207, '다시': 208, '굽': 209, '건지다': 210, '맞다': 211, '드리다': 212, '크다': 213, '바사삭': 214, '살짝': 215, '냄새': 216, '작다': 217, '담': 218, '기다리다': 219, '용': 220, '니': 221, '날': 222, '지점': 223, '포장': 224, '원래': 225, '없이': 226, '딱딱하다': 227, '추가': 228, '치즈': 229, 'ㅜ': 230, '한번': 231, '달라': 232, '기분': 233, '번창': 234, '첨': 235, '함': 236, '매다': 237, '주': 238, '쓰다': 239, '무': 240, '인지': 241, '페리': 242, '깔끔하다': 243, '듯': 244, '원': 245, '굿': 246, '짱': 247, '실망': 248, '존맛': 249, '가지': 250, 'ㅋ': 251, '남기다': 252, '아이': 253, '사항': 254, '나오다': 255, '맵': 256, '강정': 257, '이렇게': 258, '별': 259, '약간': 260, '조각': 261, '뿌링클': 262, '매번': 263, '킹': 264, '이나': 265, '부드럽다': 266, '떡볶이': 267, '제일': 268, '뭐': 269, '빼다': 270, '짐': 271, '내': 272, '면': 273, 'ㅋㅋㅋ': 274, '느리다': 275, '불닭': 276, '덜': 277, '혼자': 278, '에요': 279, '기': 280, '뼈': 281, '찾다': 282, '상태': 283, '걸': 284, '단': 285, '계속': 286, '쿠폰': 287, '마늘': 288, '만족하다': 289, 'ㅎㅎㅎ': 290, '다르다': 291, '추천': 292, '전화하다': 293, '구': 294, '맛집': 295, '되어다': 296, '주신': 297, '남다': 298, '닭다리': 299, '때문': 300, '지다': 301, '갈릭': 302, '입맛': 303, '라서': 304, '서다': 305, '쏘다': 306, '거의': 307, '생각나다': 308, '탱': 309, '바쁘다': 310, '비다': 311, '꼭': 312, '넣다': 313, '일': 314, '안되다': 315, '느끼다': 316, '속': 317, '맛초킹': 318, '세': 319, '뿌리다': 320, '지나다': 321, '마다': 322, '돼다': 323, '두다': 324, '맛없다': 325, '박스': 326, '여기다': 327, '해': 328, '언제': 329, '감': 330, '놀라다': 331, '하루': 332, '나쁘다': 333, '주시': 334, '통닭': 335, '죠': 336, '골드': 337, '줄': 338, '세트': 339, '저번': 340, '바삭바삭하다': 341, '예요': 342, '배부르다': 343, '퍽퍽': 344, '넉넉하다': 345, '보통': 346, '보고': 347, '즐기다': 348, '이렇다': 349, '방학': 350, '다리': 351, '따다': 352, '분만': 353, '바로': 354, '부분': 355, '배': 356, '모두': 357, '입': 358, '너': 359, '부터': 360, '데': 361, '온': 362, '이상': 363, '지금': 364, '빠지다': 365, '특히': 366, '사람': 367, '부탁드리다': 368, '무난': 369, '시립대': 370, '지만': 371, '이제': 372, '달달': 373, '음': 374, '평소': 375, '신경': 376, '단골': 377, '건강하다': 378, '배고프다': 379, '요즘': 380, '행사': 381, '옛날': 382, '두껍다': 383, '익다': 384, '바삭바삭': 385, '매장': 386, '굿굿': 387, '께서': 388, 'ㅠㅠㅠ': 389, '고객': 390, '저렴하다': 391, '닭발': 392, '따로': 393, '신화': 394, '뭔가': 395, '이고': 396, 'ㅡㅡ': 397, '최악': 398, '양파': 399, '건': 400, '다만': 401, '만에': 402, '노력': 403, '고기': 404, '기사': 405, '죄송하다': 406, '콤보': 407, '만족': 408, '신': 409, '빨': 410, '다시다': 411, '기본': 412, '확인': 413, '찌다': 414, '하하': 415, '최애': 416, '매우': 417, '처럼': 418, '젓가락': 419, '하지만': 420, '간': 421, '가슴': 422, '닭강정': 423, '피자': 424, '알': 425, '갈비': 426, '요기': 427, '파닭': 428, '느껴지다': 429, '문자': 430, '촉촉하다': 431, '자체': 432, '한결같다': 433, '밥': 434, '뵙다': 435, '예전': 436, '차갑다': 437, 'ㅋㅋㅋㅋ': 438, '씩': 439, '튀다': 440, '양질': 441, '타다': 442, '갈다': 443, '감동': 444, '즈': 445, '땐': 446, '옴': 447, '라고': 448, '일단': 449, '겉': 450, '애': 451, '보이다': 452, '끄다': 453, '어떻다': 454, '재': 455, '이해': 456, '가성': 457, '향': 458, '만들다': 459, '달다': 460, '진리': 461, '몇': 462, '예': 463, '니까': 464, '기다': 465, '맨날': 466, '임': 467, '이런': 468, '들어가다': 469, '일찍': 470, '새벽': 471, '부족하다': 472, '저녁': 473, '해보다': 474, '이건': 475, '대': 476, '누르다': 477, '마': 478, '예정': 479, '간이': 480, '볼': 481, '분도': 482, '챙기다': 483, '야식': 484, '버거': 485, '볼케이노': 486, '갓': 487, '뜨다': 488, '나서다': 489, '취향': 490, '달': 491, '연락': 492, '개인': 493, '치토스': 494, '그래서': 495, '쓸다': 496, '치': 497, '질': 498, '오래되다': 499, '뿌링': 500, '리지': 501, '불맛': 502, '사이드': 503, '그런데': 504, '싸다': 505, '이용': 506, '햇': 507, '덕분': 508, '날개': 509, '들어주다': 510, '닝': 511, '구이': 512, '묻다': 513, '깨끗하다': 514, '파다': 515, '무슨': 516, '아아': 517, '첫': 518, '기대': 519, '가요': 520, '돈': 521, '조합': 522, '이상하다': 523, '깜빡': 524, '깔다': 525, '신선하다': 526, '고민': 527, '중독': 528, '치즈스틱': 529, '강하다': 530, '째': 531, '투존': 532, '써주다': 533, '그런': 534, '가게': 535, '이집': 536, '스럽다': 537, '감사': 538, '친구': 539, '노랑': 540, '제대로': 541, '크기': 542, '고소하다': 543, '가장': 544, '맞추다': 545, '구성': 546, '어제': 547, '솔직하다': 548, '뜨겁다': 549, '보단': 550, '멕시카': 551, '살로': 552, '잘못': 553, '놓다': 554, '먹음': 555, '낫다': 556, '땡기다': 557, '그대로': 558, '기대하다': 559, '정시': 560, '김말이': 561, '햄버거': 562, '야하다': 563, '기간': 564, '직화': 565, '되게': 566, '거리': 567, '주말': 568, '만족스럽다': 569, '치키다': 570, '맥주': 571, '명': 572, '어울리다': 573, '밖에': 574, '막히다': 575, '이유': 576, '껍질': 577, '딱이다': 578, '함께': 579, '문제': 580, '둘': 581, '윙': 582, '내다': 583, '널': 584, '난': 585, '열': 586, '취소': 587, 'ㅎㅎㅎㅎ': 588, '듬뿍': 589, '영': 590, '무조건': 591, '땡초': 592, '대비': 593, '염': 594, '잡다': 595, '젤': 596, '치다': 597, '두번째': 598, '일주일': 599, '맘': 600, '브랜드': 601, '냥': 602, '심하다': 603, '새롭다': 604, '금방': 605, '확실하다': 606, '여러': 607, '후기': 608, '올리다': 609, '국물': 610, '대박': 611, '힘들다': 612, '강추': 613, '켯': 614, '냠냠': 615, '그럭저럭': 616, '실수': 617, '젖다': 618, '저희': 619, '마싯다': 620, '비싸다': 621, '떨어지다': 622, '엇': 623, '여전하다': 624, '행복하다': 625, '다식': 626, '얇다': 627, '줄다': 628, '허니': 629, '미치다': 630, '파': 631, '담백하다': 632, '밀리다': 633, '훨씬': 634, '이라고': 635, '나중': 636, '스런': 637, '아직': 638, '순삭': 639, '후회': 640, '동네': 641, '올려주다': 642, '매': 643, '안주': 644, '풍': 645, '선택': 646, '살다': 647, '보다는': 648, '가끔': 649, '가족': 650, '자마자': 651, '비리다': 652, '실망하다': 653, '전체': 654, '중간': 655, '무엇': 656, '고생': 657, '굽네치킨': 658, '출발': 659, '씨': 660, '갖다': 661, 'ㅡ': 662, '맛깔': 663, '이름': 664, '변하다': 665, '야': 666, '벨': 667, '기요': 668, '강': 669, '멀다': 670, '식후감': 671, '움': 672, '런가': 673, '일반': 674, '도전': 675, '상자': 676, '바꾸다': 677, '쯤': 678, '단계': 679, '해봤다': 680, '터지다': 681, '으로도': 682, '디디': 683, '궁금하다': 684, '건가': 685, '식': 686, '묻히다': 687, '직접': 688, '타': 689, '필요없다': 690, '꽤': 691, '아깝다': 692, '마음': 693, '정확하다': 694, '손': 695, '너무하다': 696, 'ㅇ': 697, '충분하다': 698, '모든': 699, '샐러드': 700, '추다': 701, '편이': 702, '질리다': 703, '급하다': 704, '천왕': 705, '욤': 706, '조': 707, '다양하다': 708, '아들': 709, '지난번': 710, '전혀': 711, '콘듀': 712, '착하다': 713, '한테': 714, '성': 715, '간만': 716, '부위': 717, '비슷하다': 718, '먼저': 719, '쫌': 720, '한지': 721, '편하다': 722, '싱겁다': 723, '무가': 724, '포테킹': 725, '걱정': 726, '만큼': 727, '평범하다': 728, '개다': 729, '교촌': 730, '유': 731, '넘어서다': 732, '안나': 733, '집다': 734, '얼음': 735, '날씨': 736, '까먹다': 737, '미리': 738, '식감': 739, '인거': 740, '참고': 741, '바싹': 742, '왈왈왈': 743, '탈리아': 744, '보': 745, '천원': 746, '새': 747, '모': 748, '위': 749, '히': 750, '완료': 751, '종종': 752, '끈': 753, '어니언': 754, '상': 755, '밑': 756, '나가다': 757, '사랑': 758, '소금': 759, '주소': 760, 'ㅏ': 761, '담다': 762, '짭짤하다': 763, '당': 764, '당황': 765, '돌리다': 766, '아프다': 767, '오지': 768, '대로': 769, '짜지다': 770, '깻잎': 771, '옳다': 772, '굉장하다': 773, '대신': 774, '파스타': 775, '애용': 776, '놀래다': 777, '빨갛다': 778, '뻑뻑': 779, '막': 780, '흑': 781, '빼': 782, '달콤하다': 783, '이지만': 784, '피': 785, '차이': 786, '래': 787, '근처': 788, '그렇게': 789, '밉다': 790, '여서': 791, '편': 792, '곱다': 793, '진심': 794, '블랙': 795, '이미': 796, '고맙다': 797, '본': 798, '맛보다': 799, '만점': 800, '결국': 801, '바라다': 802, '기름기': 803, '필요': 804, '최': 805, '멕': 806, '엄마': 807, '결제': 808, '겁나다': 809, '조리': 810, '핫반': 811, '트리플': 812, '스타일': 813, '붙다': 814, '덥다': 815, '골뱅이': 816, '마르다': 817, '필요하다': 818, '혹시': 819, '불다': 820, '에서만': 821, '꿀맛': 822, '그리다': 823, '장사': 824, '부턴': 825, '둘이서': 826, '수고': 827, '암튼': 828, '호불호': 829, '전부': 830, '좀더': 831, '깜짝': 832, '뜯다': 833, '밤': 834, '인가': 835, '어디': 836, '년': 837, '물어보다': 838, '오리': 839, '세번': 840, 'ㅋㅋㅋㅋㅋ': 841, '바': 842, '컵': 843, '료': 844, '자극': 845, '절대': 846, '언': 847, '다이어트': 848, '사이즈': 849, '가깝다': 850, '이르다': 851, '뒤': 852, '급': 853, '동안': 854, '추하다': 855, '겁니다': 856, '의사': 857, '그저': 858, '감사히': 859, '말고': 860, '크리미': 861, '인정': 862, '이야': 863, '당연하다': 864, '과자': 865, '데우다': 866, '열다': 867, '참다': 868, '아예': 869, '수준': 870, '번째': 871, '촉': 872, '치밥': 873, '참여': 874, '장난': 875, '파인애플': 876, '우우': 877, '글': 878, 'ㅠㅜ': 879, '루': 880, '굽다': 881, 'ㅠㅠㅠㅠ': 882, '속도': 883, '겠다': 884, '나누다': 885, '아무': 886, '엄청나다': 887, '미안하다': 888, '걸다': 889, '똑같다': 890, '부부': 891, '앙': 892, '바사': 893, '사': 894, '인가요': 895, '따르다': 896, '이라도': 897, '날다': 898, '한참': 899, '겉바': 900, '씹다': 901, '가보다': 902, '끝': 903, '정신': 904, '아무리': 905, '사실': 906, '순간': 907, '바베큐': 908, '귀찮다': 909, '정성': 910, '물론': 911, '상당하다': 912, '팔다': 913, '나용': 914, '달콤': 915, '번은': 916, '께': 917, '분명': 918, '비교': 919, '골고루': 920, '기고': 921, '인분': 922, '무도': 923, '어쩔': 924, '기도': 925, '사다': 926, '잊다': 927, '지키다': 928, '센스': 929, '약하다': 930, '물리다': 931, '짱짱': 932, '이서': 933, '고르다': 934, '라는': 935, '바르다': 936, '우리': 937, '환불': 938, 'ㅣ': 939, '장': 940, '물다': 941, '라도': 942, '슈프림': 943, '라면': 944, '대다': 945, '에서는': 946, '매일': 947, '질리': 948, '몇번': 949, '흐르다': 950, '핫도그': 951, '눅눅': 952, '약': 953, '읍니': 954, '신건': 955, '재주': 956, '마왕': 957, '사먹다': 958, '분들': 959, '불편하다': 960, '울': 961, '콘': 962, '크리스': 963, '봉': 964, '짜증나다': 965, '바닥': 966, '오는': 967, '친절': 968, '닭고기': 969, '뿐': 970, '작아지다': 971, '한데': 972, 'ㅅ': 973, '정신없이': 974, '뻔': 975, '그거': 976, '아쉬움': 977, '알싸하다': 978, '해도': 979, '오랫': 980, '흠': 981, '직원': 982, '사이다': 983, '에여': 984, '슴': 985, '막다': 986, 'ㄱ': 987, 'ㅛ': 988, '에선': 989, '속이다': 990, '추억': 991, '맛쵸킹': 992, '각': 993, '점점': 994, '비추다': 995, '내일': 996, '우': 997, 'ㅜㅠ': 998, '허겁지겁': 999, '새우': 1000, '몇개': 1001, '눈': 1002, '쉬다': 1003, '퀄리티': 1004, '거기': 1005, '운': 1006, '눈꽃': 1007, '확': 1008, 'ㄴ': 1009, '퍽퍽살': 1010, '뭔': 1011, '윙봉': 1012, '근': 1013, '굳이': 1014, '이사': 1015, '레드': 1016, '갑자기': 1017, '최근': 1018, '욥': 1019, '사용': 1020, '따끈따끈하다': 1021, '훌륭하다': 1022, '으로는': 1023, '따끈하다': 1024, '이틀': 1025, '쪽': 1026, '뜨끈하다': 1027, '이기다': 1028, '허다': 1029, '에만': 1030, '자꾸': 1031, '물': 1032, 'ㄹㅇ': 1033, '단맛': 1034, '그것': 1035, '간반': 1036, '일부러': 1037, '종이': 1038, '덕': 1039, '끊다': 1040, '업': 1041, '없어지다': 1042, '남편': 1043, '가져다주다': 1044, '부탁': 1045, '그때': 1046, '잘먹엇습니': 1047, '싫다': 1048, '누가': 1049, '요리': 1050, '연속': 1051, '켜다': 1052, '이어서': 1053, '갑': 1054, '냐': 1055, '카레': 1056, '새다': 1057, '음료': 1058, '통': 1059, '어느': 1060, '넘치다': 1061, '돌뼈': 1062, '일품': 1063, '종류': 1064, '기르다': 1065, '짜증': 1066, 'ㅜㅜㅜ': 1067, '마지막': 1068, '끼': 1069, '맛남': 1070, '힘드다': 1071, '힘내다': 1072, '실패': 1073, '소요': 1074, '육즙': 1075, '말씀': 1076, '토마토': 1077, '온건': 1078, '덜하다': 1079, '이라서': 1080, '마그마': 1081, '주먹밥': 1082, '왕': 1083, '마이': 1084, '비닐': 1085, '이지': 1086, '익히다': 1087, '불': 1088, '오픈': 1089, '나름': 1090, '든': 1091, '더욱': 1092, '긋다': 1093, '생기다': 1094, '오븐': 1095, '어리다': 1096, '변경': 1097, '졸맛': 1098, '값': 1099, '가능하다': 1100, '들어오다': 1101, '누락': 1102, '경우': 1103, '갠': 1104, '는걸': 1105, '깜박': 1106, '통화': 1107, '우선': 1108, '동생': 1109, '밀가루': 1110, '어요': 1111, '완벽하다': 1112, '간도': 1113, '시킴': 1114, '쌀': 1115, '으론': 1116, '일이': 1117, '김': 1118, '매력': 1119, '평타': 1120, '알아주다': 1121, '오히려': 1122, '조아': 1123, '커서': 1124, '나요': 1125, '색': 1126, '체크': 1127, '캔': 1128, '늦': 1129, '얼마나': 1130, '반죽': 1131, '이벤': 1132, '머': 1133, 'ㅓ': 1134, 'ㄷㄷ': 1135, '말르다': 1136, '적지': 1137, '수가': 1138, '늦어지다': 1139, '케이에프씨': 1140, '이구': 1141, '축축하다': 1142, '벌써': 1143, '사과': 1144, '혜자': 1145, '다가': 1146, '부담': 1147, '비도': 1148, '사이': 1149, '코로나': 1150, '세상': 1151, '아직도': 1152, 'ㅎㅎㅎㅎㅎ': 1153, '이니': 1154, '새해': 1155, '역쉬': 1156, '바뀌다': 1157, '평점': 1158, '웨': 1159, '치고': 1160, '안질리다': 1161, '라이': 1162, '봉지': 1163, '싫어하다': 1164, '뻔하다': 1165, '버터': 1166, '은근': 1167, '쎄다': 1168, '특이하다': 1169, '왠만하다': 1170, '기억': 1171, '로는': 1172, '목': 1173, '등': 1174, '퇴근': 1175, '촉촉': 1176, '치맥': 1177, '준': 1178, '백': 1179, '한개': 1180, 'ㅠㅠㅠㅠㅠ': 1181, '아끼다': 1182, '자르다': 1183, 'ㅈ': 1184, '부다': 1185, '옆': 1186, '덩어리': 1187, '미지근하다': 1188, '흘리다': 1189, '옹': 1190, '에게': 1191, '맵슐랭': 1192, '주의': 1193, '으으': 1194, '꼼꼼하다': 1195, '구리': 1196, '재료': 1197, '안주시': 1198, '주심': 1199, '심심하다': 1200, '사라지다': 1201, '별루': 1202, '명불허전': 1203, '안좋다': 1204, '고프다': 1205, '너무나': 1206, '여러가지': 1207, '해달라다': 1208, '탓': 1209, '콜팝': 1210, '펴다': 1211, '모으다': 1212, '탑': 1213, '해주시': 1214, '묵다': 1215, '손님': 1216, '감안': 1217, '냉장고': 1218, '작고': 1219, '전반': 1220, '인기': 1221, '원하다': 1222, '가득': 1223, '찍': 1224, '다섯': 1225, '딥': 1226, '그게': 1227, '육질': 1228, '빼먹다': 1229, '냉동': 1230, '강정은': 1231, '소리': 1232, '얘기': 1233, '코': 1234, '돌다': 1235, '이전': 1236, '광고': 1237, '지도': 1238, '도저히': 1239, '대충': 1240, '끼다': 1241, '이라는': 1242, '복': 1243, '얼마': 1244, '링': 1245, '어유': 1246, '머거다': 1247, '죽다': 1248, '심': 1249, '흡입': 1250, '스티커': 1251, '특별하다': 1252, 'ㄷ': 1253, '응대': 1254, '크게': 1255, '요요': 1256, '엥': 1257, '식지': 1258, '지는': 1259, '휴': 1260, '약속': 1261, '멋있다': 1262, '맵떡': 1263, '금요일': 1264, '엉망': 1265, '불구': 1266, '아침': 1267, '춥다': 1268, '그나마': 1269, '올라오다': 1270, '시작': 1271, '햄': 1272, '군': 1273, '굿굿굿': 1274, '왓': 1275, '스트레스': 1276, '셋': 1277, '어렵다': 1278, '달라지다': 1279, '만해': 1280, '남자': 1281, '오르다': 1282, '기존': 1283, '엉': 1284, '적절하다': 1285, '메모': 1286, '가득하다': 1287, '불리': 1288, '군데': 1289, '중이': 1290, '업체': 1291, '과는': 1292, '정석': 1293, '신분': 1294, '디': 1295, '빵': 1296, '관리': 1297, '영업': 1298, '여러분': 1299, '야채': 1300, '신청': 1301, '안해': 1302, '닫다': 1303, '수도': 1304, '캬': 1305, '뿌리': 1306, '감다': 1307, '특유': 1308, '이기': 1309, '색다르다': 1310, '크림': 1311, '푸르다': 1312, '파채': 1313, '괜': 1314, '뭘': 1315, '부모님': 1316, '까맣다': 1317, '웬만하다': 1318, '아저씨': 1319, '다행': 1320, '뿌링소떡': 1321, '이후': 1322, '범벅': 1323, '설명': 1324, '가능': 1325, '논현': 1326, '채': 1327, '무지': 1328, '화가': 1329, '하니': 1330, '채다': 1331, '스': 1332, '가까이': 1333, '어어': 1334, '오곡': 1335, '앱': 1336, '갈리다': 1337, '비비다': 1338, '그닥': 1339, '척': 1340, '넘어가다': 1341, '고추가': 1342, '콤': 1343, '스럽게': 1344, '전자렌지': 1345, '발견': 1346, '베다': 1347, '그건': 1348, '궁합': 1349, '신기하다': 1350, '삭이다': 1351, '기준': 1352, '심지어': 1353, 'ㅁ': 1354, '화이팅': 1355, '이리': 1356, '올': 1357, '후반': 1358, '조심하다': 1359, '건데': 1360, '프로모션': 1361, '질겨': 1362, '나머지': 1363, '존': 1364, '머리카락': 1365, '빠삭': 1366, '봉투': 1367, '영수증': 1368, '번호': 1369, '세다': 1370, '반도': 1371, '차': 1372, '꿀': 1373, '먹엇어': 1374, '시원하다': 1375, '안보': 1376, '내주다': 1377, '랄': 1378, '신속하다': 1379, '장점': 1380, '짐해': 1381, '축구': 1382, '스탈': 1383, '포함': 1384, '주변': 1385, '준비': 1386, '뚜껑': 1387, '째다': 1388, '커리': 1389, '품': 1390, '네요': 1391, '어마': 1392, '엄지': 1393, '징거버거': 1394, '여윽시': 1395, '찍히다': 1396, '답': 1397, '대박나다': 1398, '탕수육': 1399, '엇습': 1400, '상황': 1401, '배신': 1402, '섞이다': 1403, '도안': 1404, '환상': 1405, '요새': 1406, '단점': 1407, '아주아주': 1408, '난리': 1409, '베리': 1410, '연': 1411, '와우': 1412, '삭': 1413, '문의': 1414, '오오': 1415, '노크': 1416, '꺼내다': 1417, '여태': 1418, '적어지다': 1419, '드네': 1420, '진하다': 1421, '알차다': 1422, '웃': 1423, '잉': 1424, '프로': 1425, '만두': 1426, '테이프': 1427, '한마디': 1428, '칠리': 1429, '그치다': 1430, '역대': 1431, '실제': 1432, '슬프다': 1433, '체고': 1434, '젠': 1435, '높다': 1436, '딱좋다': 1437, '남': 1438, '가져오다': 1439, '역삼': 1440, '배다': 1441, '대체': 1442, '퀸': 1443, '길다': 1444, '지난': 1445, '조화': 1446, '봄': 1447, '쇼': 1448, '습기': 1449, '아빠': 1450, '똥집': 1451, '고요': 1452, '버': 1453, '마포': 1454, '길': 1455, '포테이토': 1456, '말씀드리다': 1457, '조만간': 1458, '무뼈': 1459, '녹다': 1460, '추단': 1461, '정착': 1462, '켜': 1463, '도시락': 1464, '닭똥집': 1465, '닷': 1466, '드': 1467, '오징어': 1468, '쫄깃': 1469, '기만': 1470, '부르다': 1471, '층': 1472, '보장': 1473, '필수': 1474, '콘듀치킨': 1475, '붙이다': 1476, '계': 1477, '초인종': 1478, '대행': 1479, '화': 1480, '쩔다': 1481, '워낙': 1482, '밍밍': 1483, '어보': 1484, '재다': 1485, '으': 1486, '튀랑': 1487, '상도': 1488, '예술': 1489, '본사': 1490, '부': 1491, '눈물': 1492, '깐풍기': 1493, '복날': 1494, '카드': 1495, '내용물': 1496, '끝내주다': 1497, '상품': 1498, '나쵸': 1499, '제품': 1500, '양호': 1501, '계란찜': 1502, '만나다': 1503, '금액': 1504, '딸': 1505, 'ㄹ': 1506, '원점': 1507, '억': 1508, '울다': 1509, '인생': 1510, '어이없다': 1511, '깐풍': 1512, '즐겁다': 1513, '계란': 1514, '찝찝하다': 1515, '외': 1516, '오버': 1517, '십분': 1518, '다이어리': 1519, '위생': 1520, '마냥': 1521, '양반': 1522, '싱글': 1523, '피클': 1524, '담기다': 1525, '차라리': 1526, '대부분': 1527, '구매': 1528, 'ㅇㅇ': 1529, '에어': 1530, '누리다': 1531, '티': 1532, '인닭': 1533, '로만': 1534, '평가': 1535, '며칠': 1536, '먹엇습니': 1537, '정량': 1538, '머스타드': 1539, '달래다': 1540, '진': 1541, '로제': 1542, '속상하다': 1543, '남아': 1544, '어플': 1545, '틀리다': 1546, '현재': 1547, '거짓말': 1548, '짤': 1549, '잔뜩': 1550, '껍데기': 1551, '별개': 1552, '괜히': 1553, '망설이다': 1554, '곧': 1555, '낫': 1556, '까르보나라': 1557, '줄이다': 1558, '혀': 1559, '틱': 1560, '안내': 1561, '부터는': 1562, '나이트': 1563, '끝나다': 1564, '치빵': 1565, '그러나': 1566, '에이치': 1567, 'ㄱㅊ': 1568, '살코기': 1569, '다소': 1570, '뻑살': 1571, 'ㅋㅋㅋㅋㅋㅋ': 1572, '류': 1573, '타고': 1574, '보이': 1575, '이제야': 1576, '망': 1577, '호': 1578, '의향': 1579, '동작': 1580, '똥': 1581, '국내': 1582, '평균': 1583, '온도': 1584, '투': 1585, '쑤다': 1586, '마시다': 1587, '에서도': 1588, '잃다': 1589, '마치': 1590, '여기저기': 1591, '살인': 1592, '또한': 1593, '이면': 1594, '입천장': 1595, '근본': 1596, '싹': 1597, '적어도': 1598, '테': 1599, '한두': 1600, '레전드': 1601, '뇨': 1602, '제발': 1603, '분명하다': 1604, '안심': 1605, '병아리': 1606, '경험': 1607, '탈': 1608, '란': 1609, '듣다': 1610, '플러스': 1611, '체인점': 1612, '본인': 1613, '매주': 1614, '여자': 1615, '이적': 1616, '프랜차이즈': 1617, '동': 1618, '아무튼': 1619, '우리동네': 1620, '대안': 1621, '대해': 1622, '성비': 1623, '떠나다': 1624, '꺼': 1625, '심각하다': 1626, '뭉치다': 1627, '라벨': 1628, '베스트': 1629, '고해': 1630, '뿌링소스': 1631, '다치다': 1632, '역': 1633, '신다': 1634, '중요하다': 1635, '프라이드': 1636, '메인': 1637, '어우러지다': 1638, '집앞': 1639, '식구': 1640, '딱하다': 1641, '안남': 1642, '개선': 1643, '위해': 1644, '습니다': 1645, '줄어들다': 1646, '앗다': 1647, '똑같이': 1648, '징': 1649, '처': 1650, '그만큼': 1651, '한텐': 1652, '아마': 1653, '갠차다': 1654, '올라가다': 1655, '밖': 1656, '맵닭': 1657, '노': 1658, '권': 1659, '물리': 1660, '베이스': 1661, '대서': 1662, '순식간': 1663, '셧': 1664, '이빨': 1665, '낮': 1666, '땜': 1667, '제공': 1668, '쪼금': 1669, '잘먹엇어': 1670, '닭볶음탕': 1671, '그랬는데': 1672, '방문': 1673, '틀다': 1674, '회사': 1675, '성공': 1676, '감칠맛': 1677, '덤': 1678, '바람': 1679, '묘': 1680, '작성': 1681, '발리다': 1682, '짠맛': 1683, '지르다': 1684, '현금': 1685, '뇌물': 1686, '보다도': 1687, '모자라다': 1688, '찢어지다': 1689, '스프': 1690, '어마어마하다': 1691, '마감': 1692, '청양고추': 1693, '들이다': 1694, '아래': 1695, '십': 1696, '라이더': 1697, '리터': 1698, '담번': 1699, '지역': 1700, '말고는': 1701, '선': 1702, '절': 1703, '랫': 1704, '어른': 1705, '엿': 1706, '들어서다': 1707, '스노': 1708, '뻣뻣하다': 1709, '최강': 1710, '의외로': 1711, '영화': 1712, '산': 1713, '읽다': 1714, '의심': 1715, '든든하다': 1716, '깜놀': 1717, '담그다': 1718, '중화': 1719, '괜춘': 1720, '섞다': 1721, '쫀득': 1722, '이상은': 1723, '찜찜하다': 1724, '땡': 1725, '만원': 1726, '한적': 1727, '집도': 1728, '타워': 1729, '욧': 1730, '절반': 1731, '며': 1732, '개꿀맛': 1733, '알바': 1734, '먹고다': 1735, '덜다': 1736, '트위스터': 1737, '지연': 1738, '포기': 1739, '발라': 1740, '끓이다': 1741, '터': 1742, '신제품': 1743, '크리스마스': 1744, '치우다': 1745, '려': 1746, '유지': 1747, '계시다': 1748, '엇어': 1749, '애매하다': 1750, '마무리': 1751, '어이': 1752, '량': 1753, '던지다': 1754, '불만': 1755, '두시': 1756, '더하다': 1757, '꾸다': 1758, 'ㅋㅋㅋㅋㅋㅋㅋ': 1759, '옥수수': 1760, '별하나': 1761, '콩나물국': 1762, '간식': 1763, '고추장': 1764, '번시': 1765, '스타': 1766, '제나': 1767, '마스크': 1768, '재미': 1769, '일요일': 1770, '식사': 1771, '종로': 1772, '무척': 1773, '파가': 1774, '바스': 1775, '안다': 1776, '멘보샤': 1777, '꾸준하다': 1778, '풀리다': 1779, '깨다': 1780, '접수': 1781, '헷갈리다': 1782, '케찹': 1783, 'ㅜㅜㅜㅜ': 1784, '리': 1785, '입안': 1786, '한강': 1787, '색깔': 1788, '조금씩': 1789, '슬로': 1790, '이란': 1791, '진짜진짜': 1792, '쓰기': 1793, '술': 1794, '전설': 1795, '다리다': 1796, '처리': 1797, '후추': 1798, '흐물흐물': 1799, '조아하다': 1800, '더더': 1801, '조심': 1802, '어쩌': 1803, '된거': 1804, '오시': 1805, '쏟아지다': 1806, '작': 1807, '친철': 1808, '누': 1809, '보기': 1810, '기막히다': 1811, '자알': 1812, '응암': 1813, '화나다': 1814, '독특하다': 1815, '선물': 1816, '방금': 1817, '씹히다': 1818, '낼': 1819, '부드러움': 1820, '보시': 1821, '이라니': 1822, '술안주': 1823, '앗': 1824, '편지': 1825, '찹쌀': 1826, '입장': 1827, '무시': 1828, '적당': 1829, '직': 1830, '점심': 1831, '맨': 1832, '팍팍': 1833, '찾아보다': 1834, '찜닭': 1835, '씻다': 1836, '게다가': 1837, '점도': 1838, '부스러기': 1839, '일인': 1840, '상상': 1841, '이즈': 1842, '나르다': 1843, '야근': 1844, '편입': 1845, '맛임': 1846, '와사비': 1847, '반찬': 1848, '천': 1849, '요가': 1850, '집중': 1851, '피스': 1852, '유일하다': 1853, '설사': 1854, '우와': 1855, '뭐해': 1856, '몰리다': 1857, '멜로': 1858, '불금': 1859, '어떤': 1860, '도둑': 1861, '신대방': 1862, '기네': 1863, '연하다': 1864, '간단하다': 1865, '입히다': 1866, '텐더': 1867, '더럽다': 1868, '김치': 1869, '비비큐': 1870, '붐': 1871, '에겐': 1872, '채우다': 1873, '안타깝다': 1874, '에다': 1875, '놀람': 1876, '반하다': 1877, '최소': 1878, '돌아오다': 1879, '돼지': 1880, '마약': 1881, '너무나도': 1882, '비스켓': 1883, '양배추': 1884, '케이준': 1885, '커피': 1886, '끼리': 1887, '아무래도': 1888, '장갑': 1889, '퍽살': 1890, '멋': 1891, '그만': 1892, '근위': 1893, '읍': 1894, '분리': 1895, '케': 1896, '드디어': 1897, '투움바': 1898, '지나': 1899, '한쪽': 1900, '알림': 1901, '누구': 1902, '부실하다': 1903, '뒤지다': 1904, '더니': 1905, '줍다': 1906, '암': 1907, '이따': 1908, '아기': 1909, 'ㅎㅎㅎㅎㅎㅎ': 1910, '왜케': 1911, '올해': 1912, '스틱': 1913, '그동안': 1914, '요조': 1915, '연휴': 1916, '물이': 1917, '정말로': 1918, '네네': 1919, '곁들이다': 1920, '황당하다': 1921, '저렇게': 1922, '옵니다': 1923, '무려': 1924, '도우': 1925, '충성': 1926, '두드리다': 1927, '상관없다': 1928, '도대체': 1929, '아앙': 1930, '무적': 1931, '대단하다': 1932, '내외': 1933, '하얗다': 1934, '품절': 1935, '오구': 1936, '담날': 1937, '할머니': 1938, '젤리': 1939, '닭도리탕': 1940, '이래서': 1941, '고구마': 1942, '유독': 1943, '잡채': 1944, '눈데': 1945, '쌓이다': 1946, '내내': 1947, '손가락': 1948, '프렌': 1949, '평범': 1950, '에게는': 1951, '뒤늦다': 1952, '지리다': 1953, '쿨': 1954, '닦다': 1955, '토요일': 1956, '분안': 1957, '짭쪼름': 1958, '무오': 1959, '중복': 1960, '에그타르트': 1961, '전보': 1962, '베': 1963, '시큼하다': 1964, '이내': 1965, '맛있엇어': 1966, '노랗다': 1967, '고블링': 1968, '맵스터': 1969, '반시': 1970, '역다': 1971, '들리다': 1972, '평일': 1973, '잘맞다': 1974, '망하다': 1975, 'ㅎㄷㄷ': 1976, '정상': 1977, 'ㅆㅅㅌㅊ': 1978, '그걸': 1979, '시반': 1980, '쓴다': 1981, '계피': 1982, '랑은': 1983, '첨으로': 1984, '던데': 1985, '넘기다': 1986, '감탄': 1987, '뿌링가루': 1988, '으로만': 1989, '검다': 1990, '불쾌하다': 1991, '놀다': 1992, '어머니': 1993, '무리다': 1994, '맵진': 1995, '조절': 1996, '이랑은': 1997, '죽': 1998, '시간대': 1999, '묶다': 2000, '응': 2001, '실패하다': 2002, '핸드폰': 2003, '행복': 2004, '프라이어': 2005, '업다': 2006, '초': 2007, '요로': 2008, '양보': 2009, '가나': 2010, '이정': 2011, '쏙': 2012, '쫀드기': 2013, '준수': 2014, '생맥주': 2015, '비틀어지다': 2016, '뜻': 2017, '오류': 2018, '요구사항': 2019, '코카콜라': 2020, '파우더': 2021, '지치다': 2022, '늘어나다': 2023, '나무': 2024, '맛잇엇어': 2025, '혼나다': 2026, '넉': 2027, '턱': 2028, '뎅': 2029, '찾기': 2030, '안전하다': 2031, '생': 2032, '실화': 2033, '판매': 2034, '어어어어': 2035, 'ㄴㄴ': 2036, '해결': 2037, '편의점': 2038, '몸': 2039, '세명': 2040, '정': 2041, '파도': 2042, '예민하다': 2043, '추': 2044, '빛': 2045, '올리브': 2046, '낮다': 2047, '실하다': 2048, '멍멍멍': 2049, '마찬가지': 2050, '상한': 2051, '비대': 2052, '사하다': 2053, '개꿀': 2054, '물기': 2055, '분뒤': 2056, '상대': 2057, '감자칩': 2058, '한국': 2059, '뱉다': 2060, '한가지': 2061, '애기': 2062, '일전': 2063, '적히다': 2064, '대체로': 2065, '핫후': 2066, '음식점': 2067, '분전': 2068, '기회': 2069, '오토바이': 2070, '내용': 2071, '글구': 2072, '이니까': 2073, '현관': 2074, '연결': 2075, '워': 2076, '혼술': 2077, '쩝': 2078, '종': 2079, '비주': 2080, '윱': 2081, '태우다': 2082, '성인': 2083, '래서': 2084, '답답하다': 2085, '비스킷': 2086, '답변': 2087, '만큼은': 2088, '가볍다': 2089, '초과': 2090, '스러운': 2091, '다행하다': 2092, '자랑': 2093, '분후': 2094, '사정': 2095, '호일': 2096, '덮다': 2097, '잊어버리다': 2098, '인간': 2099, '벗겨지다': 2100, '푹': 2101, '불닭볶음면': 2102, '잠시': 2103, '유명하다': 2104, '양으로': 2105, '인걸': 2106, '설마': 2107, '대봉': 2108, '많아지다': 2109, '찜': 2110, '애정': 2111, '화장실': 2112, '겨우': 2113, '니요': 2114, '개존맛': 2115, '냉': 2116, '초딩': 2117, '성의': 2118, '도중': 2119, '쩐내': 2120, '각각': 2121, '찌그러지다': 2122, '저격': 2123, '얼': 2124, '시카고피자': 2125, '이래': 2126, '뺏다': 2127, '무치다': 2128, '엇네': 2129, '칭찬': 2130, '짬': 2131, '동시': 2132, '봉인': 2133, '데이': 2134, '듭니': 2135, '묽다': 2136, '따끈따끈': 2137, '요다음': 2138, '해드리다': 2139, '미네': 2140, '서로': 2141, '싸이': 2142, '만세': 2143, '만의': 2144, '애초': 2145, '비율': 2146, '마요네즈': 2147, '사탕': 2148, '안전': 2149, '소소하다': 2150, '얌': 2151, '줌': 2152, '부족': 2153, '일드': 2154, '주지': 2155, '죄송': 2156, '말투': 2157, '간다': 2158, '오래오래': 2159, 'ㅇㅈ': 2160, '뭐라다': 2161, '짭잘하다': 2162, '합': 2163, '흥건': 2164, '요양': 2165, '결재': 2166, '찌': 2167, '용하다': 2168, 'ㅠㅠㅠㅠㅠㅠ': 2169, '총': 2170, '고가': 2171, '윽': 2172, '달리': 2173, '표시': 2174, '쿡': 2175, '총알': 2176, '잔': 2177, '케이': 2178, '네오': 2179, '기다림': 2180, '만이': 2181, '돌아다니다': 2182, '이여': 2183, '통통하다': 2184, '체': 2185, '디지다': 2186, '쭉': 2187, '하바네로': 2188, '신월': 2189, '건강': 2190, '자담': 2191, '극': 2192, '그릇': 2193, '싱싱하다': 2194, '초가': 2195, '와이프': 2196, '라니': 2197, '유통': 2198, '기한': 2199, '라지': 2200, '제외': 2201, '겁': 2202, '충격': 2203, '앵': 2204, '건조하다': 2205, '이하': 2206, '자기': 2207, '쓰이다': 2208, '소세지': 2209, '둘째': 2210, '야무지다': 2211, '딘': 2212, '느님': 2213, '온기': 2214, '키': 2215, 'ㅈㅁㅌ': 2216, '충실하다': 2217, '핵존맛': 2218, '평': 2219, '큰일': 2220, '안쪽': 2221, '오이': 2222, '선호': 2223, '마초': 2224, '픽업': 2225, '신속': 2226, '실': 2227, '신의': 2228, '바게트': 2229, '코리': 2230, '용기': 2231, '쌈': 2232, '오기': 2233, '인상': 2234, '월드컵': 2235, '핵맛': 2236, '이드': 2237, '재밌다': 2238, '브라운': 2239, '귀엽다': 2240, '이브': 2241, '이쁘다': 2242, '퍽퍽해': 2243, '비계': 2244, '점심시간': 2245, '문해': 2246, '방': 2247, '부자': 2248, '시구': 2249, '뛰다': 2250, '달기': 2251, '색도': 2252, '지인': 2253, '표현': 2254, '날인': 2255, '대기': 2256, '뚝딱': 2257, '그렇다고': 2258, '일만': 2259, '별미': 2260, '시카고': 2261, '오징어짬뽕': 2262, '음료수': 2263, '사오다': 2264, '일회용': 2265, '이딴': 2266, '사은': 2267, '편리하다': 2268, '신랑': 2269, '대표': 2270, '식당': 2271, '이신': 2272, '결론': 2273, '얹다': 2274, '스럽지': 2275, '정신차리다': 2276, '정답': 2277, '빨다': 2278, '자리': 2279, 'ㄷㄷㄷ': 2280, '양념통닭': 2281, '지지': 2282, '가버리다': 2283, '조치': 2284, '이며': 2285, '대가': 2286, '멀리': 2287, '먹이다': 2288, '흔하다': 2289, '희다': 2290, '았': 2291, '숩': 2292, '볶음밥': 2293, '괜찬': 2294, '빼놓다': 2295, '골': 2296, '참치': 2297, 'ㅑ': 2298, '오오오오': 2299, '꼬치': 2300, '제입': 2301, '에프': 2302, '걸치다': 2303, 'ㅎㅅㅎ': 2304, '소비자': 2305, '신지': 2306, '어우': 2307, '톡': 2308, '레시피': 2309, '찰떡': 2310, 'ㅇㅆ': 2311, '썰다': 2312, '찍기': 2313, '짧다': 2314, '매운정도': 2315, '잘알다': 2316, '코코': 2317, '부담스럽다': 2318, '삼': 2319, '자취': 2320, '맥시': 2321, '유난히': 2322, '어떡하다': 2323, '와도': 2324, '고소': 2325, '파랑': 2326, '통해': 2327, '청양': 2328, '품질': 2329, '한편': 2330, '시장': 2331, '기적': 2332, '위치': 2333, '다해': 2334, '토핑': 2335, '랬': 2336, '대답': 2337, '생일': 2338, '이온': 2339, '무심하다': 2340, '전지현': 2341, '그렇지만': 2342, '살찌다': 2343, '금': 2344, '규': 2345, '돌': 2346, '일회용품': 2347, '었': 2348, '흔들다': 2349, '전문점': 2350, '쪽지': 2351, '벌레': 2352, '영접': 2353, '비번': 2354, '남자친구': 2355, '대요': 2356, '잠깐': 2357, '맥': 2358, '등록': 2359, 'ㅠㅠㅠㅠㅠㅠㅠ': 2360, '심해': 2361, '혹': 2362, '조용하다': 2363, '널다': 2364, '시도': 2365, '갈수록': 2366, '러러러': 2367, '에두': 2368, '까진': 2369, '잡히다': 2370, '초심': 2371, '어서': 2372, '고고': 2373, '문후': 2374, '안정': 2375, '오늘이': 2376, '배탈': 2377, '월': 2378, '혁명': 2379, 'ㅂ': 2380, '빵빵': 2381, '퀄': 2382, '뒷맛': 2383, '거지': 2384, '인사': 2385, '가라': 2386, '무섭다': 2387, '기재': 2388, '딴': 2389, '반정': 2390, '잘만': 2391, '애가': 2392, '대식': 2393, '불가': 2394, '현관문': 2395, '내려가다': 2396, '데리야끼': 2397, '깎다': 2398, '보라': 2399, '망치다': 2400, '어찌': 2401, '얼다': 2402, '물컹하다': 2403, '어묵': 2404, '돌려주다': 2405, '드릴': 2406, '썩': 2407, '오니': 2408, '나유': 2409, '비갑': 2410, '천국': 2411, '쫄깃하': 2412, '효': 2413, '한잔': 2414, '마저': 2415, '추석': 2416, '수저': 2417, '원님': 2418, '마리인': 2419, '간혹': 2420, '일부': 2421, '간정': 2422, '허허': 2423, '벗기다': 2424, '따라오다': 2425, '및': 2426, '문안': 2427, '호텔': 2428, '어지간하다': 2429, '팩': 2430, '폭주': 2431, '독립문': 2432, '텐데': 2433, '대한': 2434, '와는': 2435, '다운': 2436, '숯불': 2437, '품목': 2438, '계단': 2439, '까지도': 2440, '고무': 2441, '불편': 2442, '찢다': 2443, '교체': 2444, '타임': 2445, '쁘': 2446, '점수': 2447, '폭풍': 2448, '합리': 2449, '도나': 2450, '참나': 2451, '마늘빵': 2452, '콩나물': 2453, '보구': 2454, '잠': 2455, '짝짝': 2456, '흠잡다': 2457, '양상추': 2458, '반값': 2459, '오신': 2460, '냠냠냠': 2461, '짠하다': 2462, '양녕': 2463, '손편지': 2464, '결과': 2465, '는데': 2466, '쩡': 2467, '에가': 2468, '서운하다': 2469, '꽉': 2470, '풀다': 2471, '이십분': 2472, '초복': 2473, '어쩌지': 2474, '부족함': 2475, '안함': 2476, '캡사이신': 2477, '피해': 2478, '외로': 2479, '뚝': 2480, '힌': 2481, '습니': 2482, '수령': 2483, '탕': 2484, '평이': 2485, '닭튀김': 2486, '요담': 2487, '해쉬': 2488, '기대다': 2489, '에바': 2490, '인하다': 2491, '라기': 2492, '쥬': 2493, '병': 2494, '튼실하다': 2495, '치고는': 2496, 'ㅎㅎㅎㅎㅎㅎㅎㅎㅎ': 2497, '놀러와': 2498, '고장': 2499, '캐다': 2500, '대첩': 2501, '닥': 2502, '예쁘다': 2503, '팔면': 2504, '해당': 2505, '소진': 2506, '부어': 2507, '다니다': 2508, '고하': 2509, '바짝': 2510, '이사오': 2511, '최소한': 2512, '만하': 2513, '한다는': 2514, '신세계': 2515, '융': 2516, '돌아가다': 2517, '퍽': 2518, '명절': 2519, '지방': 2520, 'ㅇㅇㅇㅇㅇㅇ': 2521, '삐': 2522, '사리': 2523, '능': 2524, '어쩜': 2525, '틸': 2526, '나초': 2527, '욕': 2528, '찾아오다': 2529, 'ㅎㅎㅎㅎㅎㅎㅎ': 2530, '시기': 2531, '쓰리다': 2532, '쪼끔': 2533, '첨부': 2534, '근래': 2535, '국룰': 2536, '검색': 2537, '인증': 2538, '왠지': 2539, '양심': 2540, '떨다': 2541, '끌리다': 2542, '잔소리': 2543, '어울림': 2544, '냠': 2545, '뭍': 2546, '어디서': 2547, '클리어': 2548, '정직하다': 2549, '시스템': 2550, '옮기다': 2551, '생닭': 2552, '개시': 2553, '전이': 2554, '완벽': 2555, '입력': 2556, '난건': 2557, '주인': 2558, '배드': 2559, '숨다': 2560, 'ㅆ': 2561, '법': 2562, '땅': 2563, '열리다': 2564, '댓글': 2565, '번만': 2566, '샤샤': 2567, '라이드': 2568, '컴': 2569, '쬐다': 2570, '번거롭다': 2571, '가져가다': 2572, '모로': 2573, '옆집': 2574, '펩시': 2575, '열심히': 2576, '리얼': 2577, '알리오': 2578, '시나': 2579, '귀': 2580, '내려오다': 2581, '전날': 2582, '엽떡': 2583, '무조': 2584, '가량': 2585, '아버지': 2586, '놓치다': 2587, '먹엇네': 2588, '만족도': 2589, 'ㅠㅡㅠ': 2590, '의문': 2591, '산이': 2592, '머것': 2593, '아삭아삭': 2594, '뮤': 2595, '라라': 2596, '맛깔나다': 2597, '면서': 2598, '여자친구': 2599, '소면': 2600, '죽이다': 2601, '메이저': 2602, '쓴맛': 2603, '전달': 2604, '한수': 2605, '두께': 2606, '강남': 2607, '웃다': 2608, '포인트': 2609, '마인드': 2610, '주방': 2611, '취킨': 2612, '글자': 2613, '내리다': 2614, '그다지': 2615, '지단': 2616, '음식물': 2617, '덩': 2618, '아요': 2619, '반복': 2620, '착오': 2621, '알바생': 2622, '어쨋': 2623, '뵈다': 2624, '창': 2625, '빠삭빠삭': 2626, '청': 2627, '안녕하다': 2628, '사주다': 2629, '사무실': 2630, '칼': 2631, '맘에듭니': 2632, '야간': 2633, '차이나다': 2634, '착각': 2635, 'ㅊㅊ': 2636, '짭쪼롬': 2637, '내려놓다': 2638, '깨': 2639, '껀': 2640, '옵션': 2641, '당근': 2642, '칩': 2643, '파시': 2644, '믄': 2645, '오우': 2646, '보완': 2647, '잘쓰다': 2648, '믿음': 2649, '패티': 2650, '타이밍': 2651, '따땃하': 2652, '족': 2653, '가도': 2654, '점포': 2655, '뿌링콜팝': 2656, '아이고': 2657, '기지점': 2658, '고향': 2659, 'ㅇㅅㅇ': 2660, '이양': 2661, '고급': 2662, '중식': 2663, '좋아지다': 2664, '따라가다': 2665, '매너': 2666, '진짜루': 2667, '놔두다': 2668, '불친절하다': 2669, '쾅쾅': 2670, '당기다': 2671, '컷': 2672, '신림': 2673, '형편': 2674, '카': 2675, '개도': 2676, '시험': 2677, '메다': 2678, '까다롭다': 2679, '덜맵': 2680, '소이': 2681, '점바점': 2682, 'ㅇㅋ': 2683, '칸쵸': 2684, '양쪽': 2685, '핵': 2686, '은은하다': 2687, '무한': 2688, '수없이': 2689, '려고': 2690, '주로': 2691, '가면': 2692, '짯어': 2693, '거부': 2694, '회': 2695, '인성': 2696, '파티': 2697, '배려': 2698, '뿐이다': 2699, '껏': 2700, '다다다': 2701, '신선': 2702, '힝': 2703, '여유': 2704, '악마': 2705, '해제': 2706, '구르다': 2707, '모양': 2708, '쭈욱': 2709, '다기': 2710, '니드': 2711, '딛다': 2712, '렌지': 2713, '사고': 2714, '기쁘다': 2715, '상호': 2716, '꾹': 2717, 'ㅅㅅ': 2718, '퍼지다': 2719, '사전': 2720, '소주': 2721, '가맹': 2722, '주먹': 2723, '당장': 2724, '교환': 2725, '어떻': 2726, '최상급': 2727, '뚝뚝': 2728, '쉬': 2729, '종일': 2730, '생명': 2731, '아시': 2732, '핫뿌': 2733, '일정하다': 2734, '세지': 2735, '뼈닭': 2736, '익스': 2737, '프레': 2738, '수분': 2739, '털': 2740, '싹싹': 2741, '갈릴': 2742, 'ㅠㅠㅠㅠㅠㅠㅠㅠ': 2743, '최대한': 2744, '영롱하다': 2745, '공지': 2746, '뉴': 2747, '차서': 2748, '이성': 2749, '식음': 2750, '측': 2751, '먹었슴다': 2752, '팟': 2753, '한정': 2754, '병원': 2755, '불안하다': 2756, '닭봉': 2757, '밀봉': 2758, '화끈하다': 2759, '공짜': 2760, '성지': 2761, '징거': 2762, '또또': 2763, '멈추다': 2764, '보이지': 2765, '거나': 2766, '연말': 2767, '분지': 2768, '초등': 2769, '하고도': 2770, '보람': 2771, '불고기': 2772, 'ㅕ': 2773, '범': 2774, '안온': 2775, '서울': 2776, '만남': 2777, '과정': 2778, '토': 2779, '겟': 2780, '존엄': 2781, '맛나': 2782, '천천히': 2783, '만으로': 2784, '젖': 2785, '가락': 2786, '럼': 2787, '조카': 2788, '퓨': 2789, '사업': 2790, '아무렇다': 2791, '오예': 2792, '일텐데': 2793, '부리다': 2794, 'ㅏㅇ': 2795, '셋트': 2796, '단순하다': 2797, '전자레인지': 2798, '밋있어': 2799, '나니': 2800, '제시': 2801, '한시': 2802, '온통': 2803, '강아지': 2804, '가시': 2805, '자신': 2806, '분식집': 2807, '충분': 2808, '킹윙': 2809, '흔적': 2810, '등등': 2811, '어쨌든': 2812, '동물복지': 2813, '디저트': 2814, '물건': 2815, '사르다': 2816, '초점': 2817, '월요일': 2818, '빡치다': 2819, '합치다': 2820, '딸리다': 2821, '가래떡': 2822, '닭살': 2823, '이든': 2824, '혼닭': 2825, '이랬는데': 2826, '다지다': 2827, '유우': 2828, '순하다': 2829, '황금': 2830, '까치산': 2831, '방법': 2832, '듯이': 2833, '소식': 2834, '폰': 2835, '화이트': 2836, '짬뽕': 2837, '아내': 2838, '이동': 2839, '니깐': 2840, '곤': 2841, '밀리': 2842, '조음': 2843, '반영': 2844, '예약': 2845, '적용': 2846, '메': 2847, '청소': 2848, 'ㅋㅋㅋㅋㅋㅋㅋㅋㅋ': 2849, '그날': 2850, '드럽다': 2851, '래미': 2852, '탄산': 2853, '안식': 2854, '시대': 2855, '플레인': 2856, '지불': 2857, '할라피뇨': 2858, '저리': 2859, '알맞다': 2860, '레이': 2861, '마블링': 2862, '양적': 2863, '까르보': 2864, '현장': 2865, '이군': 2866, '타코야끼': 2867, '경기': 2868, '신맛': 2869, '당하다': 2870, '타르트': 2871, '패스': 2872, '낳다': 2873, '피다': 2874, '배민': 2875, '빠삭하': 2876, '발전': 2877, '비닐봉지': 2878, '덕지덕지': 2879, '만족감': 2880, '응모': 2881, '유린': 2882, '원주고': 2883, '식히다': 2884, '커지다': 2885, '식기': 2886, '예의': 2887, '달짝지근하다': 2888, '신뢰': 2889, '와중': 2890, '양인': 2891, '힘': 2892, '대면': 2893, '배리': 2894, 'ㅣㅇ': 2895, '이이이': 2896, '한동안': 2897, '둥': 2898, '띠': 2899, '개중': 2900, '날리다': 2901, '메리트': 2902, '목뼈': 2903, '민': 2904, '홈': 2905, '고지': 2906, '지난주': 2907, '극락': 2908, '낮추다': 2909, '인공': 2910, '퍽퍽함': 2911, '나아지다': 2912, '이해해': 2913, '프라': 2914, '완젼': 2915, '씁쓸하다': 2916, '가하다': 2917, '타코': 2918, '얼굴': 2919, '방점': 2920, '비우다': 2921, '래야': 2922, '맡다': 2923, '라떼': 2924, '픽': 2925, '본적': 2926, '폭발': 2927, '켄터키': 2928, '탁하다': 2929, '시각': 2930, '익숙하다': 2931, '프렌차이즈': 2932, '보관': 2933, '차려': 2934, '가구': 2935, '플라스틱': 2936, '떼': 2937, '지리': 2938, '웅장': 2939, '운전': 2940, '정돈': 2941, '마쉬': 2942, '이야기': 2943, '잡': 2944, '맛습니': 2945, '느': 2946, '딸기': 2947, 'ㅇㅇㅇ': 2948, '하아': 2949, '어물': 2950, '실천': 2951, '개취': 2952, '상큼': 2953, '고집': 2954, '플': 2955, '저만': 2956, '놀랏': 2957, '육개장': 2958, '육': 2959, '쫙': 2960, '다음주': 2961, '솔직': 2962, '까르': 2963, '짹짹': 2964, '수량': 2965, '붉다': 2966, '노원': 2967, '댜': 2968, '제로': 2969, '뜯기다': 2970, '타입': 2971, '녀석': 2972, '아마도': 2973, '문건': 2974, '태어나다': 2975, '대처': 2976, '파서': 2977, '벌': 2978, '궁': 2979, '그러면': 2980, '우유': 2981, '천황': 2982, '다다르다': 2983, '똑바로': 2984, '느긋하다': 2985, '기전': 2986, '아이디': 2987, '이이이이': 2988, '라피': 2989, '부가': 2990, '후르': 2991, '탱탱': 2992, '숩니': 2993, '군대': 2994, '치킨너겟': 2995, '스파게티': 2996, '메뉴인': 2997, '핏기': 2998, '최공': 2999, '서도': 3000, '진정': 3001, '디다': 3002, '야들야들하다': 3003, '고추기름': 3004, '한가득': 3005, '결정': 3006, '낭낭': 3007, '닿다': 3008, 'ㅎㄹ': 3009, '수원': 3010, '겨': 3011, '심다': 3012, '쫄깃쫄깃': 3013, '찬': 3014, '썩다': 3015, '핫뿌링클': 3016, '반했어': 3017, '진행': 3018, '의미': 3019, 'ㅎㅎㅎㅎㅎㅎㅎㅎ': 3020, '고개': 3021, '햇습니': 3022, '박다': 3023, '얘': 3024, '여쭈다': 3025, '허니콤': 3026, '차별': 3027, '이점': 3028, '미지': 3029, '쏟다': 3030, '빠뜨리다': 3031, '파이': 3032, '으아': 3033, '마리나': 3034, '마구': 3035, '무마': 3036, '오라': 3037, '아유': 3038, '한주': 3039, '톡톡': 3040, '접': 3041, '억지로': 3042, '이겠다': 3043, '로젤킹': 3044, '어쩌나': 3045, '금은': 3046, '삼박자': 3047, '메세지': 3048, '불향': 3049, '분기': 3050, '대학로': 3051, '스노우': 3052, '구멍': 3053, '후다닥': 3054, '모름': 3055, '강력': 3056, '곁': 3057, '까지는': 3058, '취해': 3059, '특정': 3060, '스랑': 3061, '연구': 3062, '여분': 3063, '개요': 3064, '일도': 3065, '겨울': 3066, 'ㅇㅅ': 3067, '달이': 3068, '흥': 3069, '하라': 3070, 'ㅐ': 3071, '캐': 3072, '호캉스': 3073, '퍼석': 3074, '서초': 3075, '로써': 3076, '리도': 3077, '얼얼하다': 3078, '재탕하다': 3079, '금욜': 3080, '먹어주다': 3081, '때매': 3082, '최고다': 3083, '괜찬네': 3084, '머그': 3085, '누꼬': 3086, '흥분하다': 3087, '확실': 3088, '두르다': 3089, '신상': 3090, 'ㅈㄴ': 3091, '샤워': 3092, '종료': 3093, '어차피': 3094, '넘어오다': 3095, '콤달콤': 3096, '왓네': 3097, '크크': 3098, '패': 3099, '꼬': 3100, '개정': 3101, '어케': 3102, '뿌링감자': 3103, '이래도': 3104, '주기도': 3105, '박히다': 3106, '라네': 3107, '스며들다': 3108, '운동': 3109, '재탕': 3110, '멀쩡하다': 3111, '에까지': 3112, '적극': 3113, 'ㅏㅏㅏㅏㅏ': 3114, '써비스': 3115, '비어': 3116, '머리': 3117, '왈왈': 3118, '뭡': 3119, '오래전': 3120, '마르고': 3121, '노맛': 3122, '트이다': 3123, '후후': 3124, '젤맛': 3125, '뿌링뿌': 3126, '만요': 3127, '곳도': 3128, '마마': 3129, '눌려': 3130, '올림픽': 3131, '구구': 3132, '깔리다': 3133, '반신반의': 3134, '신나다': 3135, '어린이': 3136, '툭': 3137, '극찬': 3138, '정갈하다': 3139, '와아아': 3140, '서서': 3141, '살리다': 3142, '당일': 3143, '그립다': 3144, '갈색': 3145, '진자': 3146, '솔': 3147, '른': 3148, '스윗': 3149, '에그': 3150, '엊그제': 3151, '퍼': 3152, '팩트': 3153, '정해진': 3154, '엔젤': 3155, '녕': 3156, '쩐': 3157, '잘목었습니': 3158, '랜덤': 3159, '디핑': 3160, '거구': 3161, '구국': 3162, '죄다': 3163, '노통': 3164, 'ㅜㅜㅜㅜㅜ': 3165, '프라이': 3166, '헐다': 3167, '나이스': 3168, '나나': 3169, 'ㅇㅣ': 3170, '욘': 3171, '점차': 3172, '듯해': 3173, '밋': 3174, '감기': 3175, '무대': 3176, '램': 3177, '스팸': 3178, '요강': 3179, '항의': 3180, '맥혀': 3181, '겪다': 3182, '머스터드': 3183, '포크': 3184, '피곤하다': 3185, '후루룩': 3186, '세심': 3187, '짖다': 3188, '우아': 3189, '떼다': 3190, '뜨뜻하다': 3191, '조르다': 3192, '간간히': 3193, '숟가락': 3194, '이아': 3195, '생맥': 3196, '살후': 3197, '이만': 3198, '부러지다': 3199, '빈': 3200, '리해': 3201, '럭': 3202, '모험': 3203, '자고': 3204, '완': 3205, '얼른': 3206, '제거': 3207, '단단하다': 3208, '설탕': 3209, '비록': 3210, '앉다': 3211, '태풍': 3212, '본연': 3213, '보신': 3214, '거마': 3215, '깊다': 3216, '르보': 3217, '말랑하다': 3218, '쓰시': 3219, '무료': 3220, '핫팩': 3221, '싸': 3222, '한국인': 3223, '고딩': 3224, '식품': 3225, '안녕': 3226, 'ㅠㅠㅜ': 3227, '러': 3228, '으음': 3229, '디디다': 3230, '스프라이트': 3231, '콘듀소스': 3232, '특징': 3233, '버전': 3234, '푸석푸석하다': 3235, '쏘이다': 3236, '싣다': 3237, '제법': 3238, '출근': 3239, '땅콩': 3240, '입구': 3241, '입다': 3242, '하나요': 3243, '혼내다': 3244, '조리도': 3245, '양해': 3246, '포만': 3247, '회수': 3248, '야호': 3249, '죽도': 3250, '거만': 3251, '퉁': 3252, '부들부들하다': 3253, '말모': 3254, '부서지다': 3255, '빠짝': 3256, '안퍽퍽': 3257, '아차': 3258, '긍데': 3259, '궂': 3260, '왠': 3261, '딸아이': 3262, '터치': 3263, '주네': 3264, '헉': 3265, '완전하다': 3266, '모습': 3267, 'ㅁㅅ': 3268, '원가': 3269, '질도': 3270, '치아': 3271, '반입': 3272, '호수': 3273, '교촌치킨': 3274, '매니아': 3275, '격리': 3276, '맛이썽': 3277, '너므': 3278, '신고': 3279, '소문': 3280, '큼직하다': 3281, '동봉': 3282, '길거리': 3283, '쨩': 3284, '핫소스': 3285, '루루': 3286, '즐거움': 3287, '운영': 3288, '라라라라': 3289, '박': 3290, '사십분': 3291, '클래식': 3292, '고용': 3293, '강점': 3294, '작년': 3295, '주도': 3296, '위험하다': 3297, '디핑소스': 3298, '주관': 3299, '그뤠잇': 3300, '관련': 3301, '큰소리': 3302, 'ㅡㅡㅡㅡㅡㅡ': 3303, 'ㅊ': 3304, '재일': 3305, '후딱': 3306, '위주': 3307, '힐링': 3308, 'ㅛㅣ': 3309, '비밀번호': 3310, '주기': 3311, '티아': 3312, '맵달': 3313, '뭐합': 3314, '인터넷': 3315, '양좀': 3316, '사가': 3317, '해시': 3318, '큼지막하다': 3319, '쪽쪽': 3320, '위로': 3321, '검증': 3322, '폭탄': 3323, '지경': 3324, '큼직큼직하다': 3325, '툼': 3326, '풍부하다': 3327, '게임': 3328, '찮아다': 3329, '영계': 3330, '구분': 3331, '어거지': 3332, '따라서': 3333, '질기': 3334, '풍족하다': 3335, '추후': 3336, '개이득': 3337, '론': 3338, '각종': 3339, '떠오르다': 3340, '교': 3341, '모이다': 3342, '팡팡': 3343, '답글': 3344, '당당하다': 3345, '독보': 3346, 'ㄱㅅㄱㅅ': 3347, '인대': 3348, '마는': 3349, '카카오': 3350, '위트': 3351, 'ㅉ': 3352, '오입': 3353, '드뎌': 3354, '잼': 3355, '멋었어': 3356, '몸통': 3357, '존맛존맛': 3358, '구석': 3359, '잔뼈': 3360, '오이도': 3361, '국': 3362, 'ㅎㅎㅎㅎㅎㅎㅎㅎㅎㅎㅎ': 3363, '맛잇게먹엇어': 3364, '사발면': 3365, '식이': 3366, '시국': 3367, '소중하다': 3368, '떵봉': 3369, '조그만': 3370, '인심': 3371, '줄알': 3372, '더블': 3373, '으로써': 3374, '난생': 3375, '적립': 3376, '러신': 3377, '바보': 3378, '남요': 3379, '이중': 3380, '스모크': 3381, '건아': 3382, '비슷': 3383, '런': 3384, '밤늦다': 3385, '반갑다': 3386, '재사용': 3387, '어처구니': 3388, '나이': 3389, '존맛탱': 3390, '머글': 3391, '주더': 3392, '낭': 3393, '느므느므': 3394, '꿀꺽': 3395, '전화통화': 3396, '이따위': 3397, '호점': 3398, '태도': 3399, '짝': 3400, '도록': 3401, '남지': 3402, '밝다': 3403, '순위': 3404, '너겟': 3405, '님들': 3406, '라칸': 3407, '출출하다': 3408, '사사사사': 3409, '후식': 3410, '빨랏': 3411, '명시': 3412, '거임': 3413, '시끄럽다': 3414, '왕창': 3415, '판타스틱': 3416, '차마': 3417, '당분간': 3418, '자주자주': 3419, '해동': 3420, '갈리': 3421, '이예': 3422, '질문': 3423, '슴니': 3424, '영혼': 3425, '비쥬': 3426, '군데군데': 3427, '토욜': 3428, '날로': 3429, '눈거': 3430, '쁘링클': 3431, '안내받다': 3432, '여지': 3433, 'ㅇㅇㅇㅇㅇㅇㅇ': 3434, '표': 3435, '도크': 3436, '특이': 3437, '윗': 3438, '늠': 3439, 'ㅡㅜ': 3440, '엎': 3441, '다다': 3442, '벌꿀': 3443, '립': 3444, '비닐봉투': 3445, '구구구구구구구구': 3446, '구구구': 3447, '짓다': 3448, '만을': 3449, '꼴': 3450, '구해': 3451, '데일': 3452, '유사하다': 3453, '보임': 3454, '짓': 3455, '싸우다': 3456, '아가': 3457, '서너': 3458, 'ㅏㅅ': 3459, '공': 3460, '로서': 3461, 'ㅅㅅㅅㅅㅅㅅㅅㅅㅅ': 3462, '혼맥': 3463, '그런대로': 3464, '넷플릭스': 3465, '몰다': 3466, '놀란': 3467, '난후': 3468, '여고': 3469, '추리': 3470, '시즌': 3471, '그나저나': 3472, '베트남인': 3473, '취': 3474, '은감': 3475, '이이': 3476, '거가': 3477, '습하다': 3478, '꽉꽉': 3479, '어젠': 3480, '넹': 3481, '개맛': 3482, '고려': 3483, '강렬하다': 3484, '탱탱하다': 3485, '사이사이': 3486, '죽여주다': 3487, '해먹': 3488, 'ㅏㅏ': 3489, '유명': 3490, '흐물': 3491, '지우다': 3492, '여름': 3493, '시중': 3494, '슴돠': 3495, '덴': 3496, '뽀얗다': 3497, '보너스': 3498, '야들야들': 3499, '남김없이': 3500, '끝판': 3501, '훨': 3502, '꺼억': 3503, '깨지다': 3504, '즉': 3505, '자국': 3506, '견과류': 3507, '플랫폼': 3508, '나가야': 3509, '감추다': 3510, '마싯슴': 3511, '기계': 3512, '느므': 3513, '체적': 3514, '팔': 3515, '맞이': 3516, '아름답다': 3517, '별도': 3518, '진국': 3519, '뱃속': 3520, '개운하다': 3521, '의견': 3522, '근방': 3523, '드심': 3524, '입원': 3525, '밸런스': 3526, '이러니': 3527, '하이': 3528, '요구': 3529, '핫윙': 3530, '구기다': 3531, '바랬는데': 3532, '쪼그라들다': 3533, '성실하다': 3534, '오천원': 3535, '꽂히다': 3536, '계란후라이': 3537, '위쪽': 3538, '렷': 3539, '쫄깃함': 3540, '방울': 3541, '엄': 3542, '셨': 3543, '콧물': 3544, '번하다': 3545, '간전': 3546, '대세': 3547, '포테': 3548, '토스': 3549, '자세하다': 3550, '복불복': 3551, '집배': 3552, '낯설다': 3553, '우촌': 3554, '평생': 3555, '가야': 3556, '원인': 3557, '점장님': 3558, '우수하다': 3559, '뜸': 3560, '지정': 3561, '운닭': 3562, '큐브': 3563, '와의': 3564, '댁': 3565, '할껄': 3566, '둬': 3567, '아하': 3568, '누룽지': 3569, '운지': 3570, '한숨': 3571, '즐': 3572, '기기': 3573, '고양이': 3574, '짭쪼롬하': 3575, '차가워지다': 3576, '딱지': 3577, '두세': 3578, '항': 3579, '맵기': 3580, '어딘가': 3581, '달짝': 3582, '이안': 3583, '인근': 3584, '체인': 3585, '난감하다': 3586, '도리': 3587, '찌꺼기': 3588, '악': 3589, '메시지': 3590, '뷰': 3591, '스피드': 3592, '볶다': 3593, '대형': 3594, '골목': 3595, '문하': 3596, '치팅': 3597, '훅': 3598, '눕다': 3599, '슴슴': 3600, '훌쩍': 3601, '하자': 3602, '팅팅': 3603, '비위': 3604, 'ㅎㅎㅎㅎㅎㅎㅎㅎㅎㅎ': 3605, '눅진하다': 3606, '대란': 3607, '개봉': 3608, '하고는': 3609, '앙뿌부': 3610, '선지': 3611, '떡뽁이': 3612, '변화': 3613, '천상': 3614, 'ㅂㅁ': 3615, '이던': 3616, '오래간만': 3617, '아우': 3618, '가라앉다': 3619, '메이커': 3620, '싸구려': 3621, '헤헤': 3622, '동일': 3623, '전통': 3624, '정통': 3625, '오묘하다': 3626, '앙이다': 3627, '꺄': 3628, '접시': 3629, '로나': 3630, '었어': 3631, '젤로': 3632, '귿귿': 3633, '차이나': 3634, '까치': 3635, '달라붙다': 3636, '완죤': 3637, '디게': 3638, '식용유': 3639, '리가': 3640, '년대': 3641, '마시졍': 3642, '새까맣다': 3643, '대고': 3644, '츄': 3645, '첫인상': 3646, 'ㅈㄱ': 3647, '츠': 3648, '학원': 3649, '빠져나오다': 3650, '딸램': 3651, '흡수': 3652, '걸어오다': 3653, '패리': 3654, '흘러내리다': 3655, '거치다': 3656, '비리': 3657, '갈라': 3658, '벤트': 3659, '괜춘함': 3660, '윤기': 3661, '특': 3662, '직장': 3663, '성공하다': 3664, '계좌': 3665, 'ㅋㅋㅋㅋㅋㅋㅋㅋㅋㅋㅋㅋㅋ': 3666, '사소하다': 3667, '환절기': 3668, '빨대': 3669, '칸': 3670, '증말': 3671, '신선도': 3672, '이쯤': 3673, '친': 3674, '레': 3675, '추강': 3676, '여럿': 3677, '계시': 3678, '이아주': 3679, '번갈아': 3680, '건물': 3681, '버렷어': 3682, '버거킹': 3683, '듬뿍듬뿍': 3684, '그림': 3685, '재고': 3686, '나오니': 3687, '강쥐': 3688, '영양': 3689, '떠올리다': 3690, '로스트치킨': 3691, '이어도': 3692, '안배': 3693, '최상': 3694, '요전': 3695, '충무로': 3696, '햇반': 3697, '오전': 3698, '오후': 3699, '고수': 3700, '브라질': 3701, '옛': 3702, '나머진': 3703, '직전': 3704, '에나': 3705, '고기랑': 3706, '정확': 3707, '배서': 3708, '요인': 3709, '핑계': 3710, '양념장': 3711, '을해': 3712, '청결': 3713, '열자': 3714, 'ㄱㄷ': 3715, '조그맣다': 3716, '입덧': 3717, '찾아가다': 3718, '페트병': 3719, 'ㅔ': 3720, '분홍': 3721, '도하': 3722, '라라라': 3723, '지라': 3724, '잘라지다': 3725, '이세': 3726, '일어나서': 3727, '오랜만': 3728, '먹었숩니': 3729, '길어지다': 3730, '피로': 3731, '베트남': 3732, '직하다': 3733, '응원': 3734, '뭣': 3735, '키친': 3736, '일등': 3737, '안이': 3738, '말복': 3739, '치자': 3740, '저런': 3741, '안왓네': 3742, '차원': 3743, '내년': 3744, '무빼': 3745, '아이디어': 3746, '뿌링뿌링': 3747, '맛있슴다': 3748, '에게도': 3749, '나야': 3750, '생애': 3751, '첫날': 3752, '통통': 3753, '역사': 3754, '어치': 3755, '모해': 3756, '외국인': 3757, '떡복': 3758, '음으로': 3759, '빗물': 3760, '제때': 3761, '진정하다': 3762, '멉': 3763, '오오오': 3764, '콘칩': 3765, '밥맛': 3766, '아보': 3767, '크으': 3768, 'ㅛㅇ': 3769, '토마토소스': 3770, '빅콜팝': 3771, '슬로우': 3772, '올린다': 3773, '한양': 3774, '됴': 3775, '하림': 3776, '바싹바싹': 3777, '유의': 3778, '인세': 3779, '날아가다': 3780, '미처': 3781, '생략': 3782, 'ㅜㅠㅠ': 3783, '무식': 3784, '푸석하다': 3785, '성하다': 3786, '먹이': 3787, '다루다': 3788, '후회되다': 3789, '엉덩이': 3790, '조미료': 3791, '시성': 3792, '착시': 3793, '쫀디기': 3794, '흡족하다': 3795, '채도': 3796, '개발': 3797, '인용': 3798, '상온': 3799, '맺다': 3800, '빠': 3801, 'ㅏㅎ': 3802, '가안': 3803, '갖추다': 3804, '혹은': 3805, '이미지': 3806, '더불다': 3807, '썽': 3808, '살종': 3809, '제격': 3810, '마스': 3811, '답지': 3812, '굿굿굿굿굿': 3813, '닉값': 3814, '잘먹엇네': 3815, '셀': 3816, '레알': 3817, '개개': 3818, '그래듀': 3819, '흠뻑': 3820, '옅다': 3821, '맛았': 3822, '스탠다드': 3823, '볶음': 3824, '불어': 3825, '수십': 3826, '춘권': 3827, '상이': 3828, '서온': 3829, '불만족': 3830, '레벨': 3831, '맛잇엇습니': 3832, '이이이이이이이이': 3833, '시라': 3834, '에다가': 3835, '얻어먹다': 3836, '홀': 3837, '멕시칸': 3838, '로비': 3839, '트': 3840, '치트': 3841, '시가': 3842, '간지': 3843, '셈': 3844, '쫄깃해': 3845, '망원': 3846, '오냐': 3847, '간편하다': 3848, '단말': 3849, '시립': 3850, '서점': 3851, '호로록': 3852, '색상': 3853, '업도': 3854, '기어': 3855, '만은': 3856, '표기': 3857, '요일': 3858, '그다음': 3859, '아픔': 3860, '크런치': 3861, '커버': 3862, '뼈쪽': 3863, 'ㅜㅡㅜ': 3864, '존재': 3865, '삶': 3866, '상담': 3867, 'ㄱㄱ': 3868, '이라든지': 3869, '무소식': 3870, '순정': 3871, '자가': 3872, '인지도': 3873, '땀': 3874, '함정': 3875, '날치': 3876, '오오오오오오': 3877, '건네주다': 3878, '명품': 3879, '쿠킹': 3880, '쌓다': 3881, '갈아타다': 3882, '당당': 3883, '침': 3884, '몬': 3885, '반반하다': 3886, '요거트': 3887, '완성': 3888, '양념감자': 3889, '풀': 3890, '물컹': 3891, '호식': 3892, '야구': 3893, '그럭': 3894, '저럭': 3895, '치하': 3896, '성대': 3897, '꽝': 3898, '어둡다': 3899, '요금': 3900, '쭉쭉': 3901, '정은': 3902, '디시': 3903, '번안': 3904, '떡볶기': 3905, '먹을껄': 3906, '감당': 3907, 'ㄷㅔ': 3908, '로고': 3909, '확연': 3910, '돌이': 3911, '계륵': 3912, '수제': 3913, '웬걸': 3914, '마침': 3915, 'ㅁㄷ': 3916, '잠들다': 3917, '쉰': 3918, '영화관': 3919, '랭': 3920, '존맛임': 3921, '삼십분': 3922, '기절': 3923, '캘린더': 3924, '장님': 3925, '냉동식품': 3926, '요것': 3927, '차액': 3928, '던': 3929, '괜츈': 3930, '팔고': 3931, '다른사람': 3932, '그레이': 3933, '장안': 3934, '바른': 3935, '거도': 3936, '음청': 3937, '이루다': 3938, '차리다': 3939, '객관': 3940, '또랴': 3941, '삭도': 3942, 'ㅠㅜㅠ': 3943, '삿': 3944, '마씨': 3945, '하든': 3946, '솟다': 3947, '최대': 3948, '말랑말랑': 3949, '전쟁': 3950, '죽음': 3951, '카톡': 3952, '감사용': 3953, '어김없이': 3954, '헐렁하다': 3955, '더워지다': 3956, '월등하다': 3957, '전략': 3958, '아낌없이': 3959, '맏': 3960, '오분': 3961, '붸리굳': 3962, '성질': 3963, '고난': 3964, '나기': 3965, '찌부': 3966, '거진': 3967, '홍제': 3968, '어떠하다': 3969, '오마이갓': 3970, '맘대로': 3971, '깨끗이': 3972, 'ㅎㅎㅎㅎㅎㅎㅎㅎㅎㅎㅎㅎ': 3973, '매콥해': 3974, '막상': 3975, '주일': 3976, '절묘하다': 3977, '놨': 3978, '쵸': 3979, '우왕': 3980, 'ㅇㅓ': 3981, '스모키': 3982, '삭제': 3983, '아파트': 3984, '싸늘하다': 3985, '알럽': 3986, '저걸': 3987, '해치': 3988, '노노': 3989, '느무': 3990, '신기': 3991, '맥앤치즈': 3992, '념': 3993, '청량리': 3994, '남천': 3995, '잘살다': 3996, '거저': 3997, '두어': 3998, '에러': 3999, '피크타임': 4000, '피하': 4001, '털다': 4002, '테이블': 4003, '때깔': 4004, '뛰어나다': 4005, '벅차다': 4006, '맛소금': 4007, '너머': 4008, 'ㅓㅓ': 4009, '맛있엇습니': 4010, '탁월하다': 4011, '꾼': 4012, '산더미': 4013, '모임': 4014, '외출': 4015, '꼭꼭': 4016, '그만하다': 4017, '적임': 4018, '통틀어': 4019, '젊다': 4020, '왓어': 4021, '짱짱맨': 4022, '스위트': 4023, '자제': 4024, '느무느무': 4025, '케씨': 4026, '굴': 4027, '음식사진': 4028, 'ㅅㄱ': 4029, '펑펑': 4030, '띵동': 4031, '어찌나': 4032, '따지다': 4033, 'ㅍㅌㅊ': 4034, '세스코': 4035, 'ㅋㅋㅋㅋㅋㅋㅋㅋㅋㅋㅋㅋ': 4036, 'ㅇㅇㅇㅇㅇㅇㅇㅇㅇㅇ': 4037, '비빔면': 4038, '수능': 4039, '초토화': 4040, '분량': 4041, '완존': 4042, '률': 4043, '축하': 4044, '프': 4045, '치면': 4046, '머금': 4047, '흐으': 4048, '토나오다': 4049, '미스': 4050, '일별': 4051, '부실': 4052, '억었습니': 4053, '이편': 4054, '동치미': 4055, '우울하다': 4056, '나영': 4057, '엘베': 4058, '홧팅': 4059, 'ㅠㅠㅠㅠㅠㅠㅠㅠㅠㅠ': 4060, '듈다': 4061, '군더더기': 4062, '하앍': 4063, '기오': 4064, '클레': 4065, '누꼬진': 4066, '탈락': 4067, '어무니': 4068, '아래층': 4069, '치이다': 4070, '빨랏어': 4071, '못지않다': 4072, '돌아서다': 4073, '로또': 4074, '두부': 4075, '점주': 4076, 'ㄱㄱㄱㄱㄱ': 4077, '무진장': 4078, '눌': 4079, '자메이카': 4080, '맛초킹맛': 4081, '청량고추': 4082, '재시': 4083, '륵': 4084, '원추': 4085, '가해': 4086, '추적추적': 4087, '아영': 4088, '옇': 4089, '마쇼': 4090, '허전하다': 4091, '깨달음': 4092, '년전': 4093, '휴가': 4094, '손질': 4095, '저장': 4096, '글쎄요': 4097, '삶다': 4098, '설정': 4099, '짭짜름': 4100, 'ㅣㅣㅣㅣㅣㅣㅣㅣㅣㅣ': 4101, '무겁다': 4102, '현저': 4103, '베드': 4104, '이천원': 4105, '먼지': 4106, '제비': 4107, '세우다': 4108, '쩝쩝': 4109, '탑인': 4110, '초록색': 4111, '르': 4112, '물어': 4113, '내면': 4114, '기념': 4115, '마법': 4116, '끝낫': 4117, '오오오오오': 4118, '고뿌': 4119, '모짜렐라': 4120, '싱': 4121, '방기': 4122, '화풍': 4123, '킨': 4124, '이노': 4125, '루고': 4126, '정성스럽다': 4127, '단짝': 4128, '잘목었어': 4129, '블링': 4130, '무쟈': 4131, '김치찌개': 4132, '점심때': 4133, '저녁때': 4134, '어딧어': 4135, '홀려': 4136, '동점': 4137, '영향': 4138, '지안': 4139, '초오': 4140, '쫀득하': 4141, 'ㅓㅓㅓ': 4142, '맴맴': 4143, '조기': 4144, '보랑': 4145, '이로': 4146, '버튼': 4147, 'ㅋㅋㅋㅋㅋㅋㅋㅋㅋㅋㅋㅋㅋㅋㅋㅋㅋㅋ': 4148, '풀기': 4149, '돠': 4150, '쩐맛': 4151, '기운': 4152, '우양': 4153, '더구나': 4154, '알짝': 4155, '삼삼하다': 4156, '이라고는': 4157, '두마': 4158, '삼키다': 4159, '카르보나라': 4160, '빼주': 4161, '벌다': 4162, '방황': 4163, '상타': 4164, '잦다': 4165, '치즈떡볶이': 4166, '글씨': 4167, '나은': 4168, '기원': 4169, '체다': 4170, '말로': 4171, '다말': 4172, '뚫리다': 4173, '우연찮': 4174, '이돈': 4175, '으아아': 4176, '흐': 4177, '압도': 4178, '저건': 4179, '감정': 4180, '스멜': 4181, '난처하다': 4182, '휠렛': 4183, '일수': 4184, '스고이': 4185, '본가': 4186, '어쩌다': 4187, '동료': 4188, '날뻔': 4189, '뺑뺑': 4190, '악의': 4191, '버세': 4192, '살점': 4193, '수많다': 4194, '한결': 4195, '먹엇습니당': 4196, '서브': 4197, '쪼': 4198, '캬하': 4199, '돋다': 4200, '두툼': 4201, '운맛': 4202, '지워지다': 4203, '보드랍다': 4204, '지갑': 4205, '전승': 4206, '한약재': 4207, '왓음': 4208, '더맵': 4209, '냉채': 4210, '대자': 4211, '어째': 4212, '일일': 4213, '일어나다': 4214, '어디가': 4215, '변치않다': 4216, '늦추다': 4217, '하단': 4218, '민망하다': 4219, '으로나': 4220, '에야': 4221, 'ㅏㅏㅏㅏㅏㅏ': 4222, '후렌치후': 4223, '지존': 4224, 'ㅎㅡㅎ': 4225, '깨닫다': 4226, '본점': 4227, '인식': 4228, '무지무지': 4229, '지게': 4230, '맥쥬': 4231, 'ㄱㄱㄱㄱㄱㄱㄱㄱㄱㄱ': 4232, '낌': 4233, '영원하다': 4234, '이기도': 4235, '따스하다': 4236, '으루': 4237, '문도': 4238, '닭신': 4239, '그저께': 4240, '요건': 4241, '시보': 4242, '일일이': 4243, 'ㅋㅋㄱ': 4244, '딸내미': 4245, '조차': 4246, '식욕': 4247, '맘터': 4248, '냉기': 4249, '독산': 4250, '살때': 4251, '무거': 4252, '멍': 4253, '컷팅': 4254, '잘리다': 4255, '패밀리': 4256, '최고봉': 4257, '달걀': 4258, '어르다': 4259, '질척하다': 4260, '벽': 4261, 'ㅋㄹ': 4262, '궁금': 4263, '배아': 4264, '기차': 4265, '차이다': 4266, '상위': 4267, '햇구': 4268, '백배': 4269, '괜찬음': 4270, '어쩌다가': 4271, 'ㅁㅁㅁㅁㅁ': 4272, '구리구리': 4273, '정해지다': 4274, '넣기': 4275, '노량진': 4276, '계획': 4277, '비엔나': 4278, '들르다': 4279, '동선': 4280, '여태껏': 4281, '이직': 4282, '이참': 4283, '업계': 4284, '황당': 4285, '무리하다': 4286, '페트': 4287, '사오': 4288, '소름': 4289, '컨슈머': 4290, '오해': 4291, '싸움': 4292, '빠삭빠삭해': 4293, '돈값': 4294, '든지': 4295, '쪼꼼': 4296, '잘려지다': 4297, '휴무': 4298, '차고': 4299, '버억': 4300, '폴': 4301, '보나': 4302, '세고': 4303, '졸리다': 4304, 'ㅡㅇ': 4305, '이식': 4306, '대기업': 4307, '엿먹으': 4308, 'ㅋㅋㅋㅋㅋㅋㅋㅋㅋㅋ': 4309, '핵심': 4310, '도야': 4311, '두툼해': 4312, '전산': 4313, '앞뒤': 4314, '있엇어': 4315, 'ㅇㅇㅇㅇ': 4316, '진상': 4317, '그러하다': 4318, '뽑다': 4319, '고함': 4320, '불가하다': 4321, '비속어': 4322, '뿌듯하다': 4323, '묵직하다': 4324, '조리사': 4325, '목요일': 4326, '알루미늄': 4327, '진미채': 4328, '공기': 4329, '또다시': 4330, '왈왈왈왈왈왈왈왈': 4331, '넘흐': 4332, '저렇다': 4333, '세용': 4334, '시원': 4335, '누나': 4336, '물컹물컹': 4337, '거려': 4338, '만찬': 4339, '단종': 4340, '잠발라야': 4341, '한여름': 4342, '팬': 4343, '언젠가': 4344, '평이하다': 4345, '뺨': 4346, '후려치다': 4347, '상하': 4348, '섭스': 4349, '저만큼': 4350, '저녁식사': 4351, '희한하다': 4352, '후세': 4353, '티나': 4354, '어떨': 4355, '닺': 4356, '무어': 4357, '무우': 4358, '푸석푸석': 4359, '똑': 4360, '전번': 4361, '양식': 4362, '최거': 4363, '기색': 4364, '나위': 4365, '대충대충': 4366, '졸라': 4367, '정이': 4368, '실물': 4369, 'ㅇㅇㅇㅇㅇㅇㅇㅇㅇ': 4370, '치킹': 4371, '지난달': 4372, '우어': 4373, '잇몸': 4374, '크림소스': 4375, '데빌': 4376, '고도': 4377, '흔들리다': 4378, '튀어': 4379, '년도': 4380, '수업': 4381, '매점': 4382, '현': 4383, '물르다': 4384, '라고는': 4385, '맛음': 4386, '셀러': 4387, '티비': 4388, '늘맛': 4389, '용인': 4390, '퓨전': 4391, '거들다': 4392, '닫히다': 4393, '찡': 4394, '변명': 4395, '차감': 4396, '멈': 4397, '라나': 4398, 'ㅜㅋㅋ': 4399, '길쭉하다': 4400, '쫄깃쫄깃해': 4401, '꾹꾹': 4402, '욕심': 4403, '파손': 4404, '맵쇼킹': 4405, '굿맛': 4406, '쌔': 4407, '디스': 4408, '저기': 4409, '연달': 4410, '오잉': 4411, '지체': 4412, '페릭하': 4413, '어우르다': 4414, '늘리다': 4415, '비법': 4416, '웅': 4417, 'ㅕㅕㅕㅕㅕㅕ': 4418, '라기보다는': 4419, '육안': 4420, '착착': 4421, '착': 4422, '동년배': 4423, 'ㅋㅋㅋㅋㅋㅋㅋㅋ': 4424, '핫바': 4425, '무례하다': 4426, '정체': 4427, '윗쪽': 4428, '손색': 4429, '걱': 4430, '시리즈': 4431, '입물': 4432, '패배': 4433, '림': 4434, 'ㅋㅋㅋㅋㅋㅋㅋㅋㅋㅋㅋㅋㅋㅋㅋ': 4435, '여타': 4436, '삼가다': 4437, '다녀오다': 4438, '왓구': 4439, '패널': 4440, '주어': 4441, '뇽': 4442, '훠훠': 4443, '숨기다': 4444, '찹쌀떡': 4445, '감탄사': 4446, '칼칼하다': 4447, '감솨': 4448, '평상시': 4449, '누군가': 4450, '개입': 4451, '모델': 4452, '리나': 4453, '왈왈왈왈왈': 4454, '스트립': 4455, '욕쉬': 4456, '시판': 4457, '연골': 4458, '진지하다': 4459, '타치': 4460, '호호': 4461, '묵고': 4462, '트리': 4463, '기두': 4464, '인자': 4465, '로스': 4466, '엑': 4467, '흐흐': 4468, '맨보샤': 4469, '널리': 4470, '얻다': 4471, '섭섭하다': 4472, '예여': 4473, '두고두고': 4474, '껍': 4475, '두둑': 4476, '날임': 4477, '풍기다': 4478, '과장': 4479, '절대로': 4480, '지고': 4481, '몰리': 4482, '살살': 4483, '미루다': 4484, '빠삭해': 4485, '포': 4486, '테이': 4487, '빨래': 4488, '마리면': 4489, '비위생적': 4490, '인게': 4491, '랩': 4492, '안남다': 4493, '가나다': 4494, '라마': 4495, '아자': 4496, '가바': 4497, '재배': 4498, '과식': 4499, '철': 4500, '한판': 4501, '네나': 4502, '줄줄': 4503, '질퍽': 4504, '입금': 4505, '모서리': 4506, '커녕': 4507, '어린이날': 4508, '러버': 4509, '크로칸슈': 4510, '비천': 4511, '마니아': 4512, 'ㅌ': 4513, '로움': 4514, '부재': 4515, '봬': 4516, '단연': 4517, '실리다': 4518, '치밥해': 4519, '어용': 4520, '엇슴': 4521, '통조림': 4522, '나타나다': 4523, '티어': 4524, '무안': 4525, '삼다': 4526, '경': 4527, '하용': 4528, '몇몇': 4529, '일로': 4530, '이득': 4531, '휙': 4532, '출장': 4533, '유튜브': 4534, '언니': 4535, '부들부들': 4536, '론데': 4537, '저렴': 4538, '하므다': 4539, '미니': 4540, '발리': 4541, '금고': 4542, '흔': 4543, '냉정하다': 4544, '험하다': 4545, '작업': 4546, '문의사항': 4547, '황홀하다': 4548, '훈남': 4549, '세척': 4550, '게뭐': 4551, '사기': 4552, '짐함': 4553, '진작': 4554, '뿌링글': 4555, '자칫': 4556, '쫄면': 4557, '압니': 4558, '문구': 4559, '물렁하다': 4560, '신가': 4561, '쉽다': 4562, '어도': 4563, '공원': 4564, '탄산음료': 4565, '우수': 4566, '에드': 4567, '홀리': 4568, '기입': 4569, '겅': 4570, '막판': 4571, '임돠': 4572, '국구': 4573, '웃기다': 4574, '설': 4575, '십년': 4576, '청계천': 4577, '분업': 4578, '지네': 4579, '라이스': 4580, '역겹다': 4581, '빡빡': 4582, '곰팡이': 4583, '비치': 4584, '삭삭': 4585, '간지나다': 4586, '득득': 4587, '의아': 4588, '뇌': 4589, '핑': 4590, '가위': 4591, '달리다': 4592, '생기': 4593, '포에버': 4594, '정육': 4595, '대화': 4596, '거거': 4597, '거너': 4598, '사서': 4599, '핏물': 4600, '아사삭': 4601, '앉은자리': 4602, '포식': 4603, '마시썽': 4604, '면은': 4605, '렀': 4606, '상의': 4607, '아웃': 4608, '쫄쫄이': 4609, '이습': 4610, '제만': 4611, '시비스': 4612, '원픽': 4613, '얼큰하다': 4614, '껄': 4615, '극상': 4616, '안치': 4617, '실로': 4618, '남바': 4619, '몰래': 4620, 'ㅇㅇㅇㅇㅇㅇㅇㅇㅇㅇㅇㅇ': 4621, '기호': 4622, '장소': 4623, '에든': 4624, '발': 4625, '넷': 4626, '그날그날': 4627, '기지': 4628, '기사도': 4629, '겹': 4630, '탈출': 4631, '거래': 4632, '예스': 4633, '속지': 4634, '바깥': 4635, '오빠': 4636, '눈길': 4637, '안시': 4638, '한창': 4639, '값어치': 4640, '졸다': 4641, '비용': 4642, '방치': 4643, '어딜': 4644, '엇읍': 4645, '걷다': 4646, '통입': 4647, '녹아내리다': 4648, '마요': 4649, '앙념': 4650, '어음': 4651, '적합': 4652, '조아영': 4653, '메이': 4654, '쩌': 4655, '마산': 4656, '알람': 4657, '내시': 4658, '저주': 4659, '끼우다': 4660, '치탈': 4661, '찌들다': 4662, '괜춘합니': 4663, '고스': 4664, 'ㄱㄱㄱ': 4665, '댕기': 4666, '중딩': 4667, '토록': 4668, '불량': 4669, '퍼줘': 4670, '만으로도': 4671, '트러플': 4672, '이또': 4673, '쏠리다': 4674, '생가': 4675, '중국집': 4676, '스무': 4677, '더욱더': 4678, '검': 4679, '춘해': 4680, '맛잇엇어용': 4681, '개드립': 4682, '슨': 4683, '타지': 4684, '허옇': 4685, '솜씨': 4686, '쪼아': 4687, '닭집': 4688, '할아버지': 4689, '딜': 4690, '좌': 4691, '놀랏네': 4692, '사사': 4693, 'ㅅㅏ': 4694, '단말기': 4695, '택시': 4696, '재미있다': 4697, '그니': 4698, '손맛': 4699, '안대': 4700, '양하다': 4701, '욜': 4702, '의리': 4703, '기상': 4704, '기약': 4705, '팡': 4706, '대도': 4707, '요도': 4708, '브': 4709, '넘사벽': 4710, '슐랭': 4711, '순살': 4712, '캬캬': 4713, '쾌속': 4714, '라다': 4715, '살부': 4716, '심플': 4717, '슥': 4718, '샥': 4719, '퍼먹어': 4720, '캬캬캬': 4721, '삐지다': 4722, '예고': 4723, '었습': 4724, '퍼센트': 4725, '경쟁': 4726, 'ㅅㅅㅅ': 4727, '마니마니': 4728, '살맛': 4729, '로켓': 4730, '블로그': 4731, '사후': 4732, '콤함': 4733, '이라기': 4734, '가짜': 4735, '자정': 4736, '메우다': 4737, '삼일': 4738, '고혈압': 4739, '뚫다': 4740, '도적': 4741, '불리다': 4742, '엌': 4743, '자영': 4744, '업자': 4745, '월드': 4746, '땜시': 4747, '코팅': 4748, '드림': 4749, '기업가': 4750, '텅빈': 4751, '타점': 4752, '조아연': 4753, 'ㅂㅐ': 4754, '들키다': 4755, '박자': 4756, '두리': 4757, '술술': 4758, '팔리다': 4759, '일지': 4760, '댓글알바': 4761, '펼치다': 4762, '먹히다': 4763, '아릴': 4764, '심심': 4765, '부심': 4766, '쇼킹핫': 4767, '도넛': 4768, '용해': 4769, '제육': 4770, '좀퍽퍽': 4771, '구역': 4772, '쁠': 4773, '다양': 4774, '력': 4775, '묶음': 4776, '기면': 4777, '뎌': 4778, '이행': 4779, '배딜': 4780, '도무지': 4781, '납득': 4782, '어가': 4783, '노란색': 4784, '후반전': 4785, '용용': 4786, '문서': 4787, '불호': 4788, '맘에듬': 4789, '핫쇼킹': 4790, '제겐': 4791, '충족': 4792, '가뜩이나': 4793, '셧다': 4794, '눈물나다': 4795, '사의': 4796, '생수': 4797, '배정': 4798, '식단': 4799, '깜': 4800, '가마': 4801, '잎': 4802, '파향': 4803, '참신하다': 4804, '만날': 4805, '레귤러': 4806, '검은색': 4807, '또는': 4808, '괜춘해': 4809, '찌개': 4810, '머것음': 4811, '노래': 4812, '흘러나오다': 4813, '얌얌': 4814, '융통성': 4815, '중화반점': 4816, '보고서': 4817, '때메': 4818, '미미하다': 4819, '상식': 4820, '변': 4821, '홀라당': 4822, '러시': 4823, '못찍엇네': 4824, '나무라다': 4825, '버터치킨': 4826, '즉시': 4827, '기껏': 4828, '칼집': 4829, '왈왈왈왈': 4830, '크르릉': 4831, '좔좔': 4832, 'ㅍ': 4833, '조항': 4834, '아웅': 4835, '우웅': 4836, '반칙': 4837, '정중하다': 4838, '무사하다': 4839, '직후': 4840, 'ㅓㅓㅓㅓ': 4841, '조정석': 4842, '해방': 4843, '망가지다': 4844, '소린': 4845, '잠도': 4846, '못자다': 4847, '괴롭다': 4848, '최하': 4849, '맘스': 4850, '도구': 4851, '도로': 4852, '자잘하다': 4853, '기술': 4854, '겨자': 4855, '닭뼈': 4856, '벗': 4857, '환경': 4858, '별수': 4859, '도분': 4860, '보더': 4861, '흐음': 4862, '너덜너덜': 4863, '참내': 4864, '반절': 4865, '물질': 4866, '이냐': 4867, '아주머니': 4868, '오렌지': 4869, '쥬스': 4870, '남성': 4871, '균형': 4872, '이슬': 4873, '어의': 4874, '스샷': 4875, '홀릭': 4876, '칠리소스': 4877, '버렷': 4878, '곤란하다': 4879, '이이이이이': 4880, '부와': 4881, '품다': 4882, '닭목': 4883, '사이좋다': 4884, '니니': 4885, 'ㅣㅣ': 4886, '간판': 4887, '가방': 4888, '강하': 4889, '뭐죵': 4890, '결': 4891, '긁다': 4892, '가양': 4893, '별거': 4894, '가온': 4895, '밋밋하다': 4896, '가정': 4897, '세네': 4898, '대낮': 4899, '패스트푸드': 4900, '홍보': 4901, '몹시': 4902, '인터폰': 4903, '걸렷': 4904, '강철': 4905, '고무줄': 4906, '라가': 4907, '구시': 4908, '강서구': 4909, '넨': 4910, '음음': 4911, '실감': 4912, '상소': 4913, 'ㄱㅆㅅㅌㅊ': 4914, '광화문': 4915, '꼬맹이': 4916, '증명': 4917, '이주': 4918, 'ㄷㅏ': 4919, '적응': 4920, '유마': 4921, '계산': 4922, '쩔어요': 4923, '마저도': 4924, '엉엉': 4925, '심야': 4926, '이끌다': 4927, '유행': 4928, '천지': 4929, '왓어용': 4930, '빨강': 4931, '정리': 4932, '하얀색': 4933, '뿌링맵소킹': 4934, '까지만': 4935, '지저분하다': 4936, '식초': 4937, '검사': 4938, '불가능하다': 4939, '배불': 4940, '해오다': 4941, '토막': 4942, '선전': 4943, '처갓집': 4944, '더위': 4945, '드물다': 4946, '칼로리': 4947, '영문': 4948, '듀': 4949, '물컹거리': 4950, '어쩐지': 4951, '도의': 4952, '시세': 4953, '원망': 4954, '마싱': 4955, '쿄': 4956, 'ㅠㅜㅜㅜ': 4957, '예상외': 4958, '근대': 4959, '감감': 4960, '비려': 4961, '살뿌': 4962, '시너지': 4963, '튜닝': 4964, '거짓': 4965, '먹어욤': 4966, '수정': 4967, '금전': 4968, '가세': 4969, '모처럼': 4970, '쟐': 4971, '쫀득해': 4972, '개꿀띠': 4973, '비밀': 4974, '피똥': 4975, '유용하다': 4976, '참말': 4977, '기질': 4978, '물컹물컹하다': 4979, '요하': 4980, '고루': 4981, '취저': 4982, '축축': 4983, '꼬박꼬박': 4984, '밀떡': 4985, '맛납': 4986, '대명사': 4987, '지겹다': 4988, '갤러리': 4989, '꽉차다': 4990, '진득': 4991, '멋지다': 4992, '적자': 4993, '갑사': 4994, '밋있': 4995, '감성': 4996, '소용': 4997, '야기': 4998, '자부': 4999, '뭔들': 5000, '구나': 5001, '어딘': 5002, '동일하다': 5003, '절하': 5004, '후렌치': 5005, '살떡': 5006, '피드백': 5007, '드세다': 5008, '라이즈': 5009, '갠찮': 5010, '획': 5011, '요정': 5012, '퇴근길': 5013, '기강': 5014, '으로서': 5015, '하리': 5016, '노리다': 5017, '늘어서다': 5018, '초반': 5019, '죤맛탱': 5020, '지지도': 5021, '목숨': 5022, '기름쩐내': 5023, '꽁꽁': 5024, '뭉글': 5025, '직행': 5026, '다잡다': 5027, '스테이플러': 5028, '분수': 5029, '보들보들': 5030, '케첩': 5031, '먹었슴돠': 5032, '구로': 5033, '가입': 5034, '부끄럽다': 5035, '알려지다': 5036, '미성년': 5037, '헤헷': 5038, '핫부': 5039, '루틴': 5040, '겸': 5041, '편안하다': 5042, '에에에': 5043, '체제': 5044, '대접': 5045, '형태': 5046, '나선': 5047, '거북하다': 5048, '뿌링끌': 5049, '바순': 5050, '쌩유': 5051, '해소': 5052, 'ㅎㅋ': 5053, '또르르': 5054, '호기심': 5055, '갯수': 5056, '공간': 5057, '배차': 5058, '판단': 5059, '낙': 5060, '쉑쉑': 5061, '떡빼': 5062, '월급': 5063, '책임지다': 5064, '득': 5065, '여느': 5066, '휴일': 5067, '지대': 5068, '날때': 5069, '분해': 5070, '두텁다': 5071, '파삭': 5072, '이보': 5073, '코운': 5074, '오브': 5075, '밤시': 5076, '온점': 5077, '신년': 5078, '긴장': 5079, '배터': 5080, '천차만별': 5081, '걱정스럽다': 5082, '혈압': 5083, '올라서다': 5084, '빨리왓구': 5085, '나하': 5086, '햐': 5087, '눅': 5088, '깨우다': 5089, '보들보들하다': 5090, '개수': 5091, '염분': 5092, '단지': 5093, '가리다': 5094, '꾸리': 5095, '치퀸': 5096, '수프림': 5097, '밤새': 5098, '슈슈': 5099, '반한': 5100, '콜라보': 5101, '사원': 5102, '치팅데이': 5103, '공동': 5104, '월월': 5105, '하진': 5106, '삭히다': 5107, '꼬들목': 5108, '여요': 5109, '으뜸': 5110, '어쩐': 5111, '처치': 5112, '곤란': 5113, '차이점': 5114, '이만원': 5115, '푸푸': 5116, '탕수': 5117, '빱빱빱': 5118, '채소': 5119, '여행': 5120, '아사': 5121, '나이트로': 5122, '뭍혀': 5123, '아연': 5124, '볼때': 5125, 'ㅠㅅ': 5126, '빨랏습니': 5127, '강력하다': 5128, '노고': 5129, '맛저': 5130, '차지': 5131, 'ㅊㅋ': 5132, '한식': 5133, '짜릿하다': 5134, '풀림': 5135, '눈뜨다': 5136, '닛': 5137, '까르보불닭': 5138, '콘소메': 5139, '베달': 5140, '제라': 5141, '한결같이': 5142, '끙': 5143, '가물다': 5144, '미안': 5145, '이상인': 5146, '깨끗': 5147, '고추냉이': 5148, '미가': 5149, '유혹': 5150, '처넌': 5151, '택배': 5152, '후끈하다': 5153, '볼라': 5154, '일상': 5155, '사가다': 5156, '알아보다': 5157, '굶다': 5158, '애도': 5159, '물티슈': 5160, '만들기': 5161, '원조': 5162, '보여주다': 5163, '키킨': 5164, '카운터': 5165, '셧으': 5166, '장이': 5167, '연유': 5168, '오심': 5169, '무지하다': 5170, '살의': 5171, 'ㄱㄱㄱㄱ': 5172, '찢기다': 5173, '벅': 5174, '빌다': 5175, '데블': 5176, 'ㅜㅜㅠ': 5177, '이분': 5178, '요레요레': 5179, '파의': 5180, '칩스': 5181, '섦': 5182, '제대': 5183, '본질': 5184, '또랴오래': 5185, '케엡': 5186, '천하다': 5187, '퍽퍽햇': 5188, '최선': 5189, '마치다': 5190, '남겻어': 5191, '일연': 5192, '왕왕': 5193, '듬성': 5194, '슬슬': 5195, '가주': 5196, '알갱이': 5197, '파파': 5198, '멕시윙': 5199, '끼치다': 5200, '오어': 5201, '부러': 5202, '위아래': 5203, '앤드': 5204, '쿄쿄': 5205, '굵다': 5206, '눅눅항': 5207, '킁': 5208, '전역': 5209, '핫후핫후': 5210, '비츄': 5211, '신포시': 5212, 'ㄴㄹㅁ': 5213, '트위스트': 5214, '꽃혀': 5215, '마니시': 5216, '그중': 5217, '에이번': 5218, '기린': 5219, '개끌': 5220, '닥스': 5221, 'ㅜㅜㅜㅜㅠ': 5222, 'ㅠㅠㅠㅠㅜㅜ': 5223, '주셧우': 5224, '렝': 5225, '갠츈': 5226, '뤠': 5227, '강해진': 5228, '무덥다': 5229, '단가': 5230, '문전': 5231, '데비': 5232, '탓다': 5233, '뻣': 5234, '소름끼치다': 5235, '아따': 5236, '튕김': 5237, '연일': 5238, '닝뿌': 5239, '요체': 5240, '겉바속': 5241, '집시': 5242, '건안': 5243, '도망': 5244, '다인': 5245, '달콤달콤': 5246, 'ㅅㅅㅅㅅㅅㅅㅅㅅㅅㅅㅅ': 5247, '퍼펫트': 5248, '수비대': 5249, '덱': 5250, '세팅': 5251, '매콥': 5252, '치타': 5253, '움직': 5254, '인제': 5255, '와인': 5256, '만약': 5257, '여하튼': 5258, '종보': 5259, '앞으루': 5260, '배애애애앰': 5261, '마시쩌': 5262, '트닭': 5263, '뎅파': 5264, '핵강추': 5265, '퀄리': 5266, '보안': 5267, '장치': 5268, '히어로': 5269, '그지같다': 5270, '참마': 5271, '포점': 5272, '배풩': 5273, '할배': 5274, 'ㅇㅇㅇㅇㅇㅇㅇㅇㅇㅇㅇ': 5275, '남른': 5276, '자전': 5277, 'ㄲㅋㅋㅋ': 5278, '거르게되': 5279, '소나기': 5280, '환영': 5281, 'ㅋㅁㅋ': 5282, '거란': 5283, '다린': 5284, '하규': 5285, '은비': 5286, '메콤': 5287, '계산법': 5288, '원안': 5289, '방구': 5290, '군가': 5291, '글러': 5292, 'ㅔㄴ': 5293, 'ㅅㅡㅅ': 5294, '살빼다': 5295, '난적': 5296, '날수': 5297, '좀욱눅햇어': 5298, '생사': 5299, '알수없음': 5300, '섬': 5301, '복숭아': 5302, '짜리몽땅': 5303, '헛헛': 5304, '쪼꼬': 5305, '죤나': 5306, '탈탈': 5307, '즘': 5308, '체함': 5309, '세로': 5310, '힘들엇습니': 5311, '믿고넛는굽넴': 5312, 'ㅁㅁㅁㅁ': 5313, '어럼': 5314, '멍멍': 5315, '어멀멍멍': 5316, 'ㄴㄴㄴㄴㄴㄴㄴㄴㄴㄴㄴㄴ': 5317, '젓번': 5318, '도품': 5319, '무앗': 5320, '들큰하다': 5321, '파워': 5322, '맵단': 5323, '배치': 5324, '관계': 5325, 'ㄱㅅㄱㅅㄱㅅㄱㅅㄱㅅㄱㅅ': 5326, '능력자': 5327, '으앙': 5328, '느인것': 5329, '닉네임': 5330, '장문': 5331, '동그라미': 5332, '부합': 5333, '또추': 5334, '애먹엇네염': 5335, '숙지': 5336, '아까버': 5337, '대놓고': 5338, '간장게장': 5339, '레아': 5340, '알밥': 5341, '찡하다': 5342, '들쑥날쑥': 5343, '어찌어찌': 5344, '배좀': 5345, '초등학교': 5346, '운동회': 5347, '목어': 5348, '미미': 5349, '가비': 5350, '자동': 5351, '식후감멘보샤': 5352, '아이야': 5353, '완벼': 5354, '치가': 5355, '안뒤': 5356, '못찍엇어': 5357, '눅지네': 5358, '새삼': 5359, '고등학교': 5360, '성장하다': 5361, 'ㅕㅠ': 5362, '독특': 5363, '바름': 5364, '이바': 5365, '꼇': 5366, '다양성': 5367, '닭껍집': 5368, '일수록': 5369, '흘려욤': 5370, '챤스썼네': 5371, '깃살': 5372, 'ㅡㅡㅡㅡㅡㅡㅡㅡㅓㅓㅏㅏㅓㅓㅓㅏㅓㅓㅓㅏㅏㅓㅓㅓ': 5373, '대략': 5374, '불랙라벨': 5375, '타박': 5376, '식임': 5377, '홈페이지': 5378, '고만': 5379, '믓탱': 5380, '쥑': 5381, '리브': 5382, '선불': 5383, '맛이없엇어': 5384, '턴': 5385, '도너츠': 5386, 'ㅅㅇㅊㄴ': 5387, '이견': 5388, '달볼': 5389, '환호성': 5390, '지름': 5391, '맛땜': 5392, '거루': 5393, '로어': 5394, '어너넌': 5395, '신장': 5396, '개업': 5397, '늣': 5398, '스템': 5399, '한다해': 5400, '받치다': 5401, '스넥랩': 5402, '따끈따근하': 5403, '흉악하다': 5404, '거립니': 5405, '주자': 5406, '노벨상': 5407, '흥해랏': 5408, '존맛존맛존맛존맛존맛': 5409, '말힐': 5410, '시크': 5411, '스마트': 5412, '킨사': 5413, '쌥니': 5414, '닌지': 5415, '무언가': 5416, '집사람': 5417, '킬러': 5418, '기여': 5419, '워용': 5420, '염도': 5421, 'ㅜㅇ': 5422, '우조': 5423, '로이': 5424, '요시': 5425, 'ㅁㅁㅁㅁㅁㅁㅁㅁㅁㅁ': 5426, '요행': 5427, '그레이드': 5428, '무고': 5429, '독해': 5430, '부럽다': 5431, '맛잇어욤': 5432, '크흐': 5433, '쪼랩': 5434, '맛번': 5435, '우울': 5436, '엉청빨랏어': 5437, '시렁': 5438, '수북수북': 5439, '리사': 5440, '왓어오': 5441, 'ㅇㅇㄹㅇㅌㅌㅌㅌㅌㅌ': 5442, '생으로': 5443, '해죽': 5444, 'ㅁㅅㅁㅅ': 5445, '쇠롤': 5446, '달고눅눅': 5447, '후횐': 5448, '실종': 5449, '불뿜음': 5450, '전고지': 5451, '소릴': 5452, '목소리': 5453, '헤치다': 5454, '가각': 5455, '쪼심': 5456, '장마': 5457, '감시': 5458, '븐': 5459, '엇요': 5460, '좋아욘': 5461, '교정': 5462, '승강기': 5463, '공사': 5464, '황송': 5465, '쎈스': 5466, '도톰하다': 5467, '잘막엇습니': 5468, '토햇': 5469, '빛빛빛': 5470, '버무러': 5471, '크큭거래': 5472, '성립': 5473, '마디': 5474, '홱': 5475, '영상': 5476, '맛마': 5477, '신라면': 5478, '쇼킹': 5479, '볼륨': 5480, '그랬다고': 5481, '람쥐': 5482, '먀시써욤시써': 5483, '존막': 5484, '누지': 5485, '더라도': 5486, '수신': 5487, '얌냠얌': 5488, '얀': 5489, '홰홰': 5490, '난해하다': 5491, '고니': 5492, '꼽아봐': 5493, '맛났어욤': 5494, '뿌셨': 5495, '면안': 5496, '좀덜달': 5497, '굿굿굿굿굿굿굿굿굿굿': 5498, '쌀때': 5499, '문인진': 5500, '쌉쌀하다': 5501, '오인': 5502, '사지': 5503, '슨살러': 5504, '시공간': 5505, '카드뮴': 5506, '나트륨': 5507, '분소': 5508, '이등병': 5509, '맛납니느': 5510, '비빔밥': 5511, '진행중': 5512, '슈슈소스': 5513, '길래': 5514, '숟갈': 5515, '비조': 5516, 'ㄱㄴ': 5517, '눈뎅': 5518, '들것': 5519, '적군': 5520, '쿠쿠': 5521, '부류': 5522, '호빵': 5523, '꽃빵': 5524, '팥': 5525, '강츄': 5526, '나무쪼각': 5527, '오핸': 5528, '바나나': 5529, '메론': 5530, '또오': 5531, '오점': 5532, '렬': 5533, '살결': 5534, '어거': 5535, '시켯던': 5536, '고서': 5537, '르르르': 5538, '초아': 5539, '해대': 5540, '졀루네': 5541, '물만두': 5542, '드레싱': 5543, '정함': 5544, '접다': 5545, '휴지': 5546, '식자': 5547, '뎀': 5548, '쓱쓱': 5549, '신기록': 5550, '치열하다': 5551, '반응': 5552, '개존맛탠': 5553, '대강': 5554, '범위': 5555, '홀딱': 5556, '왓습': 5557, '시댁': 5558, '엄두': 5559, '성탄절': 5560, '메리': 5561, '농담': 5562, '프라스': 5563, '점음': 5564, '퍼펙트': 5565, '경운': 5566, '츄르륵': 5567, '끄덕이다': 5568, '겉버속촉': 5569, '안드심': 5570, 'ㄴㄴㄴㅋㄴㄴㅋㅋㄴㄴㅋㅋㅋㅋ': 5571, '항싱': 5572, '졸맛탱': 5573, '특등': 5574, '사수': 5575, '넘흐짜': 5576, '피지': 5577, '좀눅진': 5578, '임의': 5579, '마음대로': 5580, '냐냐냐냐': 5581, '냐냐냐': 5582, 'ㅑㄴㅁ': 5583, '투죤': 5584, '후챰': 5585, '짜이다': 5586, '백잔': 5587, '시켯눈데': 5588, '마포구': 5589, '첵쳄': 5590, '압': 5591, '맛굿맛굿': 5592, '괸찮습니': 5593, '배살': 5594, '남짓': 5595, '상활': 5596, '전해': 5597, '압니다': 5598, '유쾌': 5599, '롤드컵': 5600, '애애애애애애앰': 5601, '소사': 5602, '푸욱': 5603, '쫌그': 5604, '펩시콜라': 5605, '보냇오': 5606, '이얼': 5607, '양대': 5608, '산맥': 5609, '완정': 5610, '깝': 5611, '목살': 5612, '미착': 5613, '유유': 5614, '뭡니까뭡': 5615, '구면': 5616, '구차': 5617, '음간': 5618, 'ㄷㅎ': 5619, 'ㅇㄴ': 5620, '떡갈비': 5621, '조여': 5622, '손톱': 5623, '묶인': 5624, '마이너스': 5625, '줄물샛': 5626, '컷으': 5627, '살펴보다': 5628, '등뼈': 5629, 'ㅏㅝㅓㅓㅓㅏㅏㅏㅏㅏ': 5630, '잇엇요': 5631, '파사삭': 5632, '테두리': 5633, '응애': 5634, '응애응애': 5635, '뷰담': 5636, '알리다': 5637, '더맛': 5638, '퐁신쫀득': 5639, '츄베릅': 5640, '머거숩니': 5641, '윱숱': 5642, 'ㄹㅇㄹㄹㄹㅇㄹㄹㅎㄹㅎ': 5643, '누더기': 5644, '구구구구구구': 5645, '호가': 5646, '거르': 5647, '발렌타인데이': 5648, '믿어지다': 5649, '웃음': 5650, '로그인': 5651, '원보': 5652, '구기': 5653, '이깐': 5654, '왜함': 5655, '보상': 5656, '붐붐부': 5657, 'ㅅㅅㄴ': 5658, '빨랏음': 5659, '단일': 5660, '만인': 5661, '지상': 5662, '쥬말': 5663, '굳굳입니딘': 5664, 'ㅠㅜㅜ': 5665, '삼거리': 5666, '이향': 5667, '옥땅': 5668, '꼬얌': 5669, '갠찮을듯': 5670, '망원동': 5671, '시켱다능': 5672, '저쩌': 5673, '약분': 5674, 'ㅠㅠㅋㅋㅋ': 5675, '연근': 5676, '진보': 5677, '차선': 5678, '책': 5679, '돈대': 5680, '름': 5681, '넷이': 5682, '스테플러': 5683, '조오오오오오오오': 5684, '거렸습니': 5685, '신동아': 5686, '도봉': 5687, '구청': 5688, '곳음': 5689, '무더위': 5690, '관부': 5691, '아무나': 5692, '괜촌': 5693, '엄청마늠': 5694, '연해': 5695, '맛낭': 5696, 'ㅡㅡㅡㅡㅡㅡㅡㅡㅡㅡㅡㅡㅡㅡ': 5697, '설기': 5698, '만팔천원': 5699, '뿌링감튀': 5700, '빨랏습니자': 5701, '혈중': 5702, '농도': 5703, '금주': 5704, '너무맛잇엇어': 5705, 'ㅛㅛㅛㅛㅛㅛ': 5706, '나왓': 5707, '에서야': 5708, '때무': 5709, '하셧는': 5710, '이인': 5711, '설거지': 5712, '신경질': 5713, '로록': 5714, '또리': 5715, '맥힙': 5716, 'ㄱㅣ': 5717, '삿인어': 5718, '지민': 5719, 'ㅏㅏㅏㅏㅏㅏㅏㅏㅏㅏㅏㅏ': 5720, '싸이버': 5721, '취한': 5722, '거린데': 5723, '흐느': 5724, '고어': 5725, '쨋': 5726, '빠삭했어': 5727, '사뭇': 5728, 'ㅋㄱㅋ': 5729, '잉이이잉': 5730, '쑥': 5731, '대책': 5732, '다펑': 5733, '뺘르': 5734, '늦엇네': 5735, '드렷': 5736, '슈슈치킨': 5737, '너겟같': 5738, '극명하다': 5739, '해주': 5740, '시리다': 5741, '짯어용': 5742, '캐캐캐': 5743, '캐캬캬': 5744, '캬캐캐캐캐': 5745, '배뷰르당': 5746, 'ㅇㅇㅈ': 5747, '떡굿': 5748, '김밥': 5749, '얘길': 5750, '안왓네용': 5751, '다들시켜드쉐': 5752, '초카': 5753, '정규': 5754, '키로': 5755, '맙': 5756, '강장': 5757, '햇눈데': 5758, '용가리': 5759, '적량': 5760, '값싸다': 5761, '목적': 5762, '눅진감': 5763, 'ㅏㅢㅣ': 5764, 'ㅢㅓㅓㅢㅓㅓㅢㅓ': 5765, '취김옷': 5766, '흐느적거렸': 5767, '마구마구': 5768, '어중간하다': 5769, '결코': 5770, '칙힌칙힌칙힌': 5771, '지죤': 5772, '안성맞춤': 5773, '금지': 5774, '가기': 5775, '거든요': 5776, '당첨': 5777, '노원구': 5778, '핫뿌링클넘': 5779, '먹을랫더': 5780, '쥰맛': 5781, '사임': 5782, '펙트': 5783, '편임순살': 5784, '게눈': 5785, '마시써욤': 5786, '왜해': 5787, '적적하다': 5788, '면도': 5789, '폐하': 5790, '나빠지다': 5791, '비큐': 5792, '대여': 5793, '단백': 5794, '안왓': 5795, '햇읍니': 5796, '종이가방': 5797, '느므짰다': 5798, '나라': 5799, '매무새': 5800, '단정하다': 5801, '경건하다': 5802, '벌리다': 5803, '안왓아': 5804, '게더': 5805, '아두': 5806, '조어': 5807, '다남겻내': 5808, '구안': 5809, '말자하': 5810, '마밌': 5811, 'ㅅㄷㅂ': 5812, '시딘': 5813, '뿌팅클치킨': 5814, '뿌팅클감자': 5815, '이도': 5816, '대학가': 5817, '난다요': 5818, '쥬셔': 5819, '사도': 5820, '꼼꼼': 5821, '나타': 5822, 'ㅏㅌ': 5823, '수수하다': 5824, '누구신지': 5825, '한마음': 5826, '서비스업': 5827, '요나': 5828, '안왓습니다': 5829, '오늘날': 5830, '팝콘': 5831, '왕래': 5832, '지급': 5833, '자꾸만': 5834, '눌럿엇나': 5835, '파닥파닥': 5836, '하다못해': 5837, 'ㅜㅜㅜㅜㅡ': 5838, '한단': 5839, '국떡': 5840, '였': 5841, '펠위칸': 5842, '맛굿': 5843, '도속': 5844, '맷': 5845, '오도독': 5846, '멋남': 5847, '뭔지': 5848, '락스': 5849, '몇분빨랏던듯': 5850, '나바': 5851, '담당': 5852, '일진': 5853, '부정': 5854, '꿀꿀': 5855, '훌룡합니': 5856, '비해': 5857, '위에껀': 5858, '변햇': 5859, '초이스': 5860, 'ㅅㄱㅎㅅㅅ': 5861, '더빨': 5862, '너무윱': 5863, 'ㅆㅋㄹ': 5864, '어데': 5865, '석': 5866, '보내오다': 5867, '마르': 5868, '꼬빠삭빠삭식꼬': 5869, '포토': 5870, '쥑입니': 5871, '디왜': 5872, '람다': 5873, '틈새라면': 5874, '쏠쏠': 5875, '점맛': 5876, '덩말': 5877, '맛숴덮쑈숴랠랠': 5878, '잘묵엇어': 5879, '반쪽': 5880, '날아오다': 5881, '안듭니': 5882, '은평': 5883, '조작': 5884, '이나무': 5885, '왕중': 5886, '플로': 5887, 'ㅆㅆㅆㅅㅌㅊ': 5888, '짜파구리': 5889, '너구리': 5890, '구부리': 5891, '부리부리': 5892, '도음': 5893, '잘멋엇습니': 5894, '화재': 5895, '스푼': 5896, '장임': 5897, '이만이': 5898, 'ㄱㅋㅋ': 5899, '살좀': 5900, '엄청빨랏음': 5901, '노예': 5902, 'ㅂㄴㅂㄷㄱㄷㅅㄱㅈㄱㅂㅈㄱㄷ': 5903, '구오': 5904, '놀랫습미': 5905, '마름': 5906, '굴뚝': 5907, '도읍': 5908, '청두': 5909, '적도': 5910, '아닝': 5911, '굿굿맛': 5912, '굽스굽스': 5913, '굽굽': 5914, '틱틱대': 5915, '뻣뻣힛어': 5916, '쪼오끔': 5917, '발린': 5918, '머리털': 5919, '짐작': 5920, '찌그리다': 5921, '흥건해짐': 5922, 'ㅡㅡㅡㅡㅡㅡㅡㅡ': 5923, '항맛': 5924, '반년': 5925, 'ㅠㅜㄴㅋㅋ': 5926, '슷졀': 5927, '지정도': 5928, '눈곱': 5929, '만큼도': 5930, 'ㅏㅛㅣ': 5931, '갈비먹엇으': 5932, '마눌': 5933, '읖': 5934, '사천': 5935, '떨어뜨리다': 5936, '타요': 5937, '거쥬': 5938, '남아나다': 5939, '히히히': 5940, '아뿔싸': 5941, '쫄깃쫄깃하': 5942, '다자': 5943, '시흥': 5944, '쓰레기': 5945, '빵점': 5946, '주위': 5947, '코앞': 5948, '두렵다': 5949, '시븐': 5950, '적당량': 5951, '무사': 5952, 'ㄴㄴㅇ': 5953, 'ㅛㅛㅛㅛ': 5954, '향연': 5955, '문제점': 5956, '따갑다': 5957, '팡츠': 5958, '글쎄': 5959, '어선': 5960, '좋았슴': 5961, '멧': 5962, '떠지다': 5963, '쥴': 5964, '맵슐랭반': 5965, '맙시': 5966, '쿠로': 5967, '비삭': 5968, '누곳': 5969, '지수': 5970, '정당하다': 5971, '때해': 5972, '얌전하다': 5973, 'ㅅㅅㅅㅅㅅㅅㅅㅅㅅㅅ': 5974, '개념': 5975, '막장': 5976, '점안': 5977, '겉도': 5978, '총사': 5979, '바꾸셧나': 5980, '레게': 5981, '약간눅눅': 5982, '소울메이트': 5983, '좋네욤': 5984, '얹히다': 5985, '녹지': 5986, '솨': 5987, '범죄': 5988, '최민식': 5989, '라고도': 5990, '쥰내': 5991, '배달빠흐': 5992, '무표정': 5993, '윽시': 5994, '초도': 5995, '마이클잭슨': 5996, '감쟈합니': 5997, '진즉': 5998, '익숙해지다': 5999, '유발': 6000, '운동화': 6001, '보물': 6002, '월동': 6003, '아무런': 6004, '방실이': 6005, '취항': 6006, '나체': 6007, 'ㅏㅏㅏㅏㅏㅏㅏㅏㅏ': 6008, '이익': 6009, '번의': 6010, '방학기': 6011, '일기': 6012, '칸풍': 6013, '인스턴트': 6014, 'ㄴㅇㅇㅌㅇㅇㅇㅌㅌㅊ': 6015, '지하실': 6016, '삐약': 6017, '라기보단': 6018, '번벅': 6019, '말랑쫀득해': 6020, '말할게있빱빱빱빱': 6021, '굿굿굿굿굿둣굿굿굿굿': 6022, '케이에프시': 6023, '무근': 6024, '서나': 6025, '맛쌀': 6026, '텁텁한맛': 6027, '마누라': 6028, '그닥별루임': 6029, '창조': 6030, '김옷': 6031, '껌': 6032, '림프': 6033, '인정이': 6034, '맛이없엇어용': 6035, '번쨔': 6036, '최곤거': 6037, '사르': 6038, '말고도': 6039, '바꾸셧으': 6040, '미끄럽다': 6041, '글거려': 6042, '퐁당퐁당': 6043, '단축': 6044, '닭값': 6045, '통상': 6046, '떡진': 6047, '띄다': 6048, '움푹': 6049, '파진': 6050, '맥도널드': 6051, '뒤통수': 6052, '뛰어넘다': 6053, '가장자리': 6054, '빨랏어용': 6055, '맛이쪄욤': 6056, '흐어': 6057, '저염식': 6058, '푸렌차이즈': 6059, '맛닭': 6060, '뿌링뿌링뿌': 6061, '참으로': 6062, '사스': 6063, '불면': 6064, '뭉치': 6065, '이라기보단': 6066, '니야': 6067, '빠루': 6068, '생뚱맞': 6069, '트위': 6070, '스티': 6071, '진미': 6072, '캔맥': 6073, '소가': 6074, '떡짐': 6075, '들보': 6076, '조아룡': 6077, '황태자': 6078, '죤맛': 6079, 'ㄸㄷㄷㄷㄷㄷㄷㄷㄷ': 6080, '빱': 6081, '빳네요뿌': 6082, '찌질하다': 6083, '서민': 6084, '위장': 6085, '형': 6086, '밧다': 6087, '버섯': 6088, '헤어': 6089, '엄연하다': 6090, '처가': 6091, '덜달': 6092, '해양': 6093, '현금영수증': 6094, '휴대': 6095, '관성': 6096, '시커멓다': 6097, 'ㅡㅡㅡ': 6098, '업그레이드': 6099, '물렁뼈': 6100, '알아듣다': 6101, '데도': 6102, '캔디': 6103, '토끼': 6104, '싯어': 6105, '찍엇네용': 6106, '상쇄': 6107, '규롤': 6108, '마리네': 6109, '플레이': 6110, '팅': 6111, '구수': 6112, '아이스': 6113, '크리': 6114, '흩다': 6115, '넓다': 6116, '킹맵떡': 6117, '삼동': 6118, '따위': 6119, '맛이쪼': 6120, '제도': 6121, '우어어': 6122, '고거': 6123, '잘막엇네': 6124, '진격': 6125, '두려움': 6126, '맞서다': 6127, '사방': 6128, '거므스름해': 6129, '해치다': 6130, '개쨋': 6131, '야머': 6132, '독하다': 6133, '떡보': 6134, '뿌클': 6135, '걍괜춘': 6136, '영동': 6137, '출입문': 6138, '휴게': 6139, '런닝': 6140, '떤다': 6141, '코너': 6142, '요술': 6143, '공주': 6144, '재활용': 6145, '함지': 6146, '구지': 6147, '모드': 6148, '되네욤': 6149, '청홍': 6150, '퇴': 6151, '실시간': 6152, '기모찌': 6153, '만주': 6154, '스터디': 6155, '검토': 6156, 'ㄴㄷ': 6157, 'ㅓㅎㄹㄴㅁ': 6158, 'ㅐㅏㅓ': 6159, '처갓': 6160, '람': 6161, 'ㄱㅋㅋㄱㄱㅋㄱㅋㅋㄱ': 6162, '대성공': 6163, '움냐냐냐냐냔': 6164, '넘사콘듀': 6165, '헝흑힉훅느헝': 6166, '대게': 6167, '솟구치다': 6168, '슴슴하달까': 6169, '국산': 6170, '눈코': 6171, '징그럽다': 6172, '정의': 6173, '달이다': 6174, '바삭대다': 6175, '훠훠훠': 6176, '초등학생': 6177, '확률': 6178, '맛이빱빱빱': 6179, '없애다': 6180, '볼더': 6181, '뿌부': 6182, '방심하다': 6183, '토핑섞어': 6184, '삽겹': 6185, 'ㄷㄷㄷㄷㄷㄷㄷ': 6186, '소비': 6187, 'ㅁㅏㅅㅣ': 6188, 'ㅉㅓ': 6189, '배불루': 6190, '뿌링팝': 6191, '하루걸러': 6192, 'ㅋㅍ': 6193, '이츠': 6194, '차로': 6195, '도데': 6196, '페릭라': 6197, '순살칙힌': 6198, '파로': 6199, '배우다': 6200, 'ㅑㅑ': 6201, '우구구': 6202, 'ㅜㄷ': 6203, '다배렸습니': 6204, '눈감다': 6205, '떳더': 6206, '다먹어버렷움': 6207, '금일': 6208, 'ㅕㅕㅠ': 6209, '공중': 6210, '바퀴': 6211, '맛닛어': 6212, '아끼셧음': 6213, '네이버': 6214, '확인가능': 6215, '호들갑': 6216, 'ㅍㄹㄷ': 6217, '루시': 6218, '거절': 6219, '착차': 6220, '차차': 6221, '브이': 6222, '아이피': 6223, '맛땡초': 6224, '차후': 6225, '어긋나다': 6226, '맛도눅눅': 6227, '장일': 6228, '꾸벅': 6229, '알고싶다': 6230, '가다리': 6231, '가랬는데': 6232, '안달': 6233, '헤': 6234, '연초': 6235, '었습니': 6236, '닭내': 6237, '뙤': 6238, '이심': 6239, 'ㄴㄴㄴㄴㅇㅋㄴㄴㄴㄴ': 6240, '갠찮습니': 6241, '자꾸나': 6242, '안됫눈데': 6243, '한때': 6244, '열풍': 6245, '뱀파이어': 6246, '탑임': 6247, '파중': 6248, '뿌링크르가루': 6249, '회복': 6250, '입쪽': 6251, '배터짐돠': 6252, '양개쩜': 6253, '한장': 6254, '느렷어': 6255, '시망': 6256, '처신': 6257, '좁히다': 6258, '시진': 6259, '눅눅햇어': 6260, '식탁': 6261, '좋숩미돠': 6262, '연발': 6263, '뿌링멘보샤': 6264, '식빵': 6265, '뒹굴': 6266, '드링킹': 6267, '어맛': 6268, '치드볼': 6269, '언능': 6270, '잠실': 6271, '여의도': 6272, '시내버스': 6273, '아이러니': 6274, '인수': 6275, '인계': 6276, 'ㄱㅊㄱㅊ': 6277, '물엿': 6278, '스파이': 6279, '치르르': 6280, '찐해욤': 6281, '정보': 6282, '스팩': 6283, '배달량': 6284, '꾸르르': 6285, 'ㄹㄹㄹㄹ': 6286, '용지': 6287, '오타': 6288, '레발루숀': 6289, '텐터': 6290, '맛잇슴': 6291, '뿌링맛초킹': 6292, '짧쪼롬한': 6293, '행뽁함': 6294, '심각': 6295, '혁신': 6296, '주류': 6297, '외관': 6298, '별롭니': 6299, 'ㅂㅂㅇ': 6300, '낡다': 6301, '개보': 6302, '비키다': 6303, '맛초깅': 6304, '쥬맛이있쥬': 6305, '괜창': 6306, '맥스': 6307, '제각각': 6308, '흩어지다': 6309, '도합': 6310, '홍삼': 6311, '멀리사': 6312, '바비큐치킨': 6313, '단양': 6314, '수첩': 6315, '요긴': 6316, '케푸': 6317, '앞우': 6318, '극한': 6319, '직업': 6320, '소상': 6321, '공인': 6322, '없엇네': 6323, '좋갯어': 6324, '치밥용': 6325, '맛돗틸': 6326, '열정': 6327, '먹었슈': 6328, '어렷을때': 6329, '쏠쏠하다': 6330, '낀풍': 6331, '서커스': 6332, '납': 6333, '다감': 6334, '자인': 6335, '중량': 6336, '교육': 6337, '어따': 6338, '뿌잉클': 6339, '백합': 6340, '구현': 6341, '권이지': 6342, '도어': 6343, '규구': 6344, '듸': 6345, '압승': 6346, '치킥': 6347, '꼭좀': 6348, '선하다': 6349, '암특': 6350, '흐스스르흐흑': 6351, '글쌔': 6352, '치마': 6353, '처캑': 6354, '보존': 6355, '봉사': 6356, '메불메': 6357, '허버허버': 6358, '민감하다': 6359, '존존맛': 6360, '백종원': 6361, '국자': 6362, '걔': 6363, '최정': 6364, '상급': 6365, '가산': 6366, '살핫': 6367, '잔득': 6368, '비추가': 6369, '비만': 6370, '십여': 6371, '랴': 6372, '다누': 6373, '터더': 6374, '신세': 6375, '외발': 6376, '집요하다': 6377, '증가': 6378, '갸꿀맛': 6379, '이시고': 6380, '전화기': 6381, '눅눅크했어': 6382, '불패': 6383, '소고': 6384, '접함': 6385, '혈혈': 6386, '단신': 6387, '재수': 6388, '상경': 6389, '몇십': 6390, '친척': 6391, '상단': 6392, '취약': 6393, '풍부': 6394, '타가': 6395, '쓸쓸하다': 6396, '나뉘다': 6397, '뒤병': 6398, '내비': 6399, '더덛': 6400, '에혀': 6401, '스낵': 6402, '생소하다': 6403, '난통': 6404, '차카': 6405, '첨으루': 6406, '자지': 6407, '일색': 6408, '칙킨': 6409, '간분': 6410, '밀': 6411, '중인': 6412, '한일전': 6413, '펼쳐지다': 6414, '그러므로': 6415, '눅눅학': 6416, '이이이이이이': 6417, '베뤼베뤼': 6418, '가즈': 6419, '해버렷': 6420, '부짐': 6421, 'ㅋㅋㄱㄱ': 6422, 'ㅜㅠㅠㅠㅠㅠ': 6423, '소화': 6424, 'ㅇㅇㅇㅇㅇㅇㅇㅇㅇㅇㅇㅇㅇㅇㅇ': 6425, '오래도록': 6426, '입가심': 6427, '멘토스': 6428, '리리': 6429, '닝주': 6430, '낚시': 6431, '탄탄하다': 6432, '답장': 6433, '맛더랍': 6434, '앓다': 6435, '송이': 6436, '호프': 6437, 'ㅘㅜ': 6438, '무족': 6439, '꼬친새우': 6440, '케이크': 6441, '오동통': 6442, '치즈케이크': 6443, '남친': 6444, '적단소릴할까': 6445, '치안': 6446, '텡': 6447, '방이': 6448, '하해': 6449, '코멘트': 6450, '쌍': 6451, '강된장': 6452, '라면서요': 6453, '간징': 6454, '올인': 6455, '푹신하다': 6456, '포근하다': 6457, '석조': 6458, '과일': 6459, '폭립': 6460, '에고': 6461, '넝': 6462, '옥': 6463, '시시': 6464, '일산': 6465, '나올런': 6466, '어쩌라고': 6467, '버시': 6468, '폐점': 6469, '빱빱빱빱': 6470, '없잖슴': 6471, '쏘쏘했숩니': 6472, '스럽지도': 6473, '기가맥힌': 6474, '람보': 6475, '기니': 6476, '분컷': 6477, '해킹': 6478, '오용': 6479, '가까스로': 6480, '변치': 6481, '맵초킹': 6482, '그로': 6483, '뇬': 6484, '둔하다': 6485, '손소독제': 6486, '취솔': 6487, '유도': 6488, '먹엇습더': 6489, '시겄습니': 6490, '오른쪽': 6491, '카운트': 6492, '라야': 6493, '렉': 6494, '만고': 6495, '정해준': 6496, '제각기': 6497, '날짜': 6498, '조일이': 6499, '버스': 6500, '궁극': 6501, '안왓습니': 6502, '약해지다': 6503, '이십': 6504, '십중팔구': 6505, '잡아떼다': 6506, '끔찍하다': 6507, '복귀전': 6508, '리트': 6509, '윈스': 6510, '발사믹': 6511, '도편': 6512, 'ㄷㄷㄷㄷㄷㄷㄷㄷㄷ': 6513, '가막': 6514, '닭갑정': 6515, 'ㅇㅇㄱ': 6516, '시켰느데': 6517, '이경우': 6518, '로주': 6519, '컵라면': 6520, 'ㅎㅐ': 6521, '려니': 6522, '이탈리아': 6523, '머스소스': 6524, '블러': 6525, '삔또상해': 6526, 'ㄱㄴㄱㄴㄱㄴㄱㄴㄱㄴ': 6527, '맛별루해': 6528, '놓이다': 6529, 'ㅈㅁㅌㅈㅁㅌㅈㅁㅌㅈㅁㅌ': 6530, '엇구': 6531, '눅진': 6532, 'ㅎㅌㅊ': 6533, '맛있슈': 6534, '트래비': 6535, '박현빈': 6536, '중맛': 6537, '센터': 6538, '미터': 6539, '웰케': 6540, 'ㅡㅡㅡㅡㅡㅡㅡㅡㅡㅡ': 6541, '애민': 6542, '쌍화탕': 6543, '롯리맥날': 6544, '느렷슴다': 6545, '비림': 6546, '어찌저찌': 6547, '봉입': 6548, '탐색': 6549, '별표': 6550, '바탕': 6551, '아니엇어': 6552, '헤메셧': 6553, '헬': 6554, '벌루': 6555, '임제': 6556, '오십': 6557, '질김': 6558, '잘뱄쥬': 6559, 'ㄲㄲㄲㄲㄲㄲㄲㄲㄲㄲㄱ': 6560, '약도': 6561, '조오오': 6562, '첩': 6563, '스임': 6564, '최곤듯': 6565, '부터가': 6566, 'ㅠㅋ': 6567, 'ㅆㅆㅆㅆㅆㅆㅆㅆㅆㅆㅆㅆㅅ': 6568, '전만': 6569, '윙봉스': 6570, '어캐': 6571, '스킬': 6572, '으레': 6573, '낑기다': 6574, '싯': 6575, '학교': 6576, '묵음': 6577, '옛말': 6578, '느꼇습니': 6579, '랫다': 6580, '요플레': 6581, '햇음': 6582, 'ㅠㅠㅠㅜㅠ': 6583, '계열': 6584, '떡뿌': 6585, '따틋': 6586, '마르지': 6587, '단무지': 6588, '김영란': 6589, '맛너': 6590, '머것읍니': 6591, '콜드': 6592, '까탈': 6593, '엎었': 6594, '가루라': 6595, 'ㅎㄹㅎㅎㅎㅎㅎ': 6596, '말다했죵': 6597, '빼꼼': 6598, '집어넣다': 6599, '슈퍼': 6600, '필히': 6601, '톱': 6602, '시주': 6603, '맛잇슴돠': 6604, '맛릿게달너걱': 6605, '슝': 6606, 'ㅣㄴ': 6607, '은자': 6608, 'ㅣㄱㅈ': 6609, '스링': 6610, 'ㅂㅂㄷ': 6611, 'ㄴㅈ': 6612, '탱뿌': 6613, '질린다': 6614, '집밥': 6615, '벌이다': 6616, '인내심': 6617, '호구': 6618, '권하다': 6619, '구구구구': 6620, '구두': 6621, 'ㅠㅠㅠㅡㅡㅡㅡㅡㅡㅡㅡㅡㅡㅡㅡ': 6622, '적나라하다': 6623, '거르세': 6624, '등분': 6625, '괜춘한맛': 6626, '핏줄': 6627, '그랫던건': 6628, '로선': 6629, '잔맛': 6630, '헛': 6631, '모니터': 6632, '떨치다': 6633, '고등학생': 6634, '부산': 6635, '오래걸렷': 6636, '두부김치': 6637, '붙이': 6638, '하나고': 6639, '근사하다': 6640, '하미나': 6641, '사로자다': 6642, '구리다': 6643, '즐링': 6644, 'ㅊㅊㅊㅊㅊㅋㅋㅋㅋㅋㅋㅋㅋ': 6645, '기쁨': 6646, '부활': 6647, '엄첫나': 6648, '뿍': 6649, '느렷음': 6650, '잘먹엇네용': 6651, '핀': 6652, '죽겠네': 6653, '간햇': 6654, '구십': 6655, '꾸르맛': 6656, '슈슈양념': 6657, '난대': 6658, '유목생활': 6659, '정도걸렷': 6660, 'ㅠㅡ': 6661, '리류': 6662, '대반': 6663, '빼기': 6664, '요랑': 6665, '불통': 6666, '먹튀': 6667, '요요기': 6668, '맞붙다': 6669, '한약': 6670, '구심': 6671, '사이트': 6672, '다짐': 6673, '잘해주다': 6674, '캬카': 6675, '점오': 6676, '죤맛입니': 6677, 'ㅎㅅ': 6678, '진찌': 6679, 'ㅡㅜㅜ': 6680, '대하': 6681, '맛쵸킹이': 6682, '거거거걱': 6683, '연어': 6684, '마시뗘': 6685, '맙소사': 6686, '발명': 6687, '것입': 6688, '가스': 6689, '퀴즈': 6690, '마심': 6691, '콘듀콘듀맛나맛': 6692, '항살': 6693, '킹제': 6694, '셍': 6695, '맛시': 6696, '덜퍽': 6697, '만유': 6698, '왓는데': 6699, '국밥': 6700, '수월하다': 6701, '풀이': 6702, '초보': 6703, 'ㅇㅇㅇㅁㅇㅇ': 6704, '닭운': 6705, '비호': 6706, '삳았습': 6707, '하나로': 6708, '잘무씸더': 6709, '느랴': 6710, '대타': 6711, '도가니탕': 6712, '귿귿귿': 6713, '귿스드귿': 6714, '대왕': 6715, '덩이': 6716, '체험': 6717, '기선': 6718, '꿈': 6719, '쪼그': 6720, '붐붐': 6721, '스팸한통': 6722, '다주': 6723, '계후': 6724, '경험시키다': 6725, '난또': 6726, '타이어': 6727, '외치': 6728, '구라': 6729, '원샷': 6730, '응말': 6731, '처마': 6732, '잘머었습니': 6733, 'ㅋㅋㅋㅋㅋㅋㅋㅋㅋㅋㅋ': 6734, '무방': 6735, '달코롬': 6736, '득함': 6737, '완전범죄': 6738, '머릿속': 6739, '책임': 6740, '취저네': 6741, '연남': 6742, '계장': 6743, '튀겻는': 6744, '요굿': 6745, '따드': 6746, 'ㅡㅅ': 6747, '신경안': 6748, '지장': 6749, '입시': 6750, '눅녹해': 6751, '주간': 6752, '진빠': 6753, '더입': 6754, '체점': 6755, '라이딩': 6756, '투성이': 6757, '포슬펴슬': 6758, '해무': 6759, '바샤삭': 6760, '분대기': 6761, 'ㅅㅅㅅㅅㅅ': 6762, '이실': 6763, '미동': 6764, '감행': 6765, '개두': 6766, '마릴': 6767, '스알짝': 6768, '책정': 6769, '빠염': 6770, '체중': 6771, '콩국수': 6772, '버렷네': 6773, '고양': 6774, '의안': 6775, '분여': 6776, '피자왓다': 6777, '뎁': 6778, 'ㄴㅁㅈ': 6779, '잔업': 6780, '십대': 6781, '피맥': 6782, '결과물': 6783, '도해': 6784, '간절하다': 6785, 'ㅡㅋ': 6786, '빱빱': 6787, 'ㅡㅋㅋㅋ': 6788, '베란다': 6789, '이듭': 6790, '씬맛': 6791, '에마': 6792, '머것습': 6793, '발랏는데': 6794, '어딨다': 6795, '차단': 6796, '개떡같다': 6797, '개똥이': 6798, '쓰러지다': 6799, '로라': 6800, '초월': 6801, '입뮤': 6802, '잘먹얼스비낟': 6803, '훔치다': 6804, '안빠삭': 6805, '똑땅해': 6806, '맛었어': 6807, '거뭐': 6808, '치즈버거': 6809, '아뤼워': 6810, '뿌링뿌링뿌링뿌': 6811, '괘아나요괘': 6812, '괘': 6813, '었음': 6814, '고추눅눅': 6815, '오잉할': 6816, '흰밥': 6817, '눅져있': 6818, '맛태애애애': 6819, 'ㅆㅅ': 6820, '수세미': 6821, '리알': 6822, '달라시': 6823, '빰빰빠빰빰밤빰': 6824, '오옹': 6825, '콘스프맛': 6826, '백숙': 6827, '간좀': 6828, '굴굼': 6829, '깨나': 6830, '등임': 6831, '치명': 6832, '먕념': 6833, '존맛이엇음': 6834, '리야': 6835, '거수': 6836, 'ㅓㅑ': 6837, '시켯습니': 6838, '문밖': 6839, '따틋하': 6840, '좋윱': 6841, '빨떡빨떡': 6842, '거른다': 6843, '아퐈': 6844, '음매': 6845, '지송': 6846, '원플러스원': 6847, '지번': 6848, '도로명주소': 6849, '노코': 6850, '씌우다': 6851, '중임': 6852, '너뭄': 6853, '시티': 6854, '끌': 6855, '월급쟁이': 6856, '식어잇엇음': 6857, '드라군': 6858, '시콧': 6859, '만사': 6860, '오케이': 6861, '혼종': 6862, '번개': 6863, '허헛': 6864, '아련하다': 6865, '낙원': 6866, '프렌치프라이': 6867, '우연히': 6868, '수북하다': 6869, '백년': 6870, '콧': 6871, 'ㄱㅅㄱㅅㄱㅅㄱㅅ': 6872, '식인': 6873, '호인': 6874, '끝맛': 6875, '캔슬된걸': 6876, '외식': 6877, '비릿내': 6878, '이모': 6879, '염따': 6880, '봉굿굿': 6881, '맛낫엇어': 6882, 'ㅅㄱㄷㄱㄴㄱㅈ': 6883, '퍽퍽푹탁퍽퍼퍽퍽퍽퍽': 6884, '굿굿굿굿굿굿': 6885, '떫': 6886, '입무': 6887, '생닭임': 6888, '생닭맛': 6889, '맛오': 6890, '쌨으': 6891, '정성껏': 6892, '왜안': 6893, '서른': 6894, '될까욜': 6895, '휠씬': 6896, '잘먹엌': 6897, '맞닿다': 6898, '손절각': 6899, '콩고왕자': 6900, '더없이': 6901, '엇어용잘묵엇어': 6902, '싸비스': 6903, '덜덜': 6904, '허참': 6905, '짝었는데': 6906, '이마트': 6907, '업뎃': 6908, '집의': 6909, '파닥': 6910, '치칸': 6911, '처럼만': 6912, '대치': 6913, '단언컨대': 6914, '고츠': 6915, 'ㅂㅏ': 6916, '스사': 6917, '맛밌내': 6918, '가타서': 6919, '죙일': 6920, '바누랴': 6921, '럴러구벤': 6922, '오아아': 6923, '맛맛맛맛': 6924, '시경': 6925, '미묘하다': 6926, '퐁퐁냄새': 6927, '꾸중': 6928, '나빳네': 6929, '유목민': 6930, 'ㄷㅈㄷㅅㄴㄷㄴㅌㄴ': 6931, '촐깃': 6932, '리순': 6933, 'ㅅㅅㅅㅅㅎㅅㅅㅅㅅㅅㅅㅅ': 6934, '사비스': 6935, '오가다': 6936, '놨음': 6937, '매출': 6938, '고토': 6939, '굉꼭': 6940, '클로버': 6941, '나빳음': 6942, '렷던': 6943, '땡쵸쥬': 6944, '굿잡생': 6945, '냉국': 6946, '받았스니': 6947, '분다': 6948, '고마': 6949, '못먹엇네': 6950, '고츄바샤샥': 6951, '골다': 6952, 'ㄲㄲㄲㄲㄲㄲㄲㄲㄲㄲ': 6953, '깨빵': 6954, '친하다': 6955, '지내다': 6956, '형제': 6957, '밥도': 6958, '넌어쩜': 6959, '떡입': 6960, '완벼억': 6961, '개꾸르맛탱': 6962, '먹었슘다': 6963, '쏙쏙': 6964, '분주': 6965, '마시기': 6966, '으흐': 6967, '누리': 6968, '마태': 6969, '조화롭다': 6970, '게걸스레': 6971, '버혓': 6972, '대장': 6973, '흥이': 6974, '마나': 6975, '가약': 6976, '땐굽': 6977, '위만': 6978, '은상': 6979, '이오나': 6980, '툐': 6981, '쫀득이': 6982, '장염': 6983, '대수롭다': 6984, '증상': 6985, '한소리': 6986, '볼캐': 6987, '캬캬캬캬캬캬캬캬': 6988, '소나무': 6989, '칫': 6990, 'ㅎㅎㅎㅅ': 6991, '지망': 6992, '왕십리': 6993, '현미': 6994, '잡곡': 6995, '게욥': 6996, '미추': 6997, '헤롱': 6998, '쩌러': 6999, '콘소어쩌구': 7000, 'ㄱㅅㄱㅅㄱㅅ': 7001, '토종닭': 7002, '취급': 7003, '아리랑': 7004, '밋있네': 7005, '파란': 7006, '표방': 7007, '극악': 7008, '선양': 7009, '의의': 7010, '덜빠삭': 7011, '피크': 7012, '먹엇습니더': 7013, '바라지': 7014, '졍마시졍마시헤': 7015, '가벼워지다': 7016, '듬': 7017, '콜로': 7018, '욕박': 7019, '넷플보면': 7020, '다먹엇': 7021, '자의': 7022, '제이': 7023, '엠티': 7024, '이어지다': 7025, '것밖': 7026, '쏠밈': 7027, '마린': 7028, '포티': 7029, '타령': 7030, '맹맹하다': 7031, '유산': 7032, '시기하다': 7033, '해묵': 7034, '뻥튀기': 7035, '맘스터치': 7036, '하전': 7037, '키세': 7038, '빗다': 7039, '뱌달': 7040, '위엄': 7041, '악화': 7042, '존마탱존맣탱': 7043, '만회': 7044, '개응': 7045, '시해': 7046, '통화시': 7047, '씨즈닝': 7048, '각자': 7049, '새우다': 7050, '회용': 7051, '빠트리': 7052, '좋아욤': 7053, '설익다': 7054, '밑쪽': 7055, '실례': 7056, '이용자': 7057, '잇네욤': 7058, '질질흘': 7059, 'ㄱㅅㄱㅅㄱㅅㄱㅅㅊㄷㅂㅇㅈ': 7060, '자작하다': 7061, '액체': 7062, '펄쩍펄쩍': 7063, '좌절': 7064, '레스토랑': 7065, '괜츈한듯': 7066, '꼬리': 7067, '갼틸': 7068, '저절로': 7069, '귀신': 7070, '우기다': 7071, '컬래버': 7072, '정위': 7073, 'ㅏㅏㅏ': 7074, '노너': 7075, '넌': 7076, '퉈김': 7077, '먹었스비': 7078, 'ㅏㅏㅎ': 7079, '분망': 7080, '슈잇어': 7081, '코울슬르': 7082, '늙다': 7083, '아셈': 7084, '필자': 7085, '사명': 7086, '올바르다': 7087, '기업': 7088, '격차': 7089, '허용': 7090, '유쾌하다': 7091, '이스': 7092, '누무맛': 7093, '덛': 7094, 'ㅉㅏ': 7095, 'ㅃㅏ': 7096, '르네': 7097, '치파': 7098, '봉인씰': 7099, '그려지다': 7100, '살아생전': 7101, '당분': 7102, '끼니': 7103, '똥찰': 7104, '주셧눈데': 7105, '와웅': 7106, '양임': 7107, '비또': 7108, '설레다': 7109, '적제': 7110, '흐흑': 7111, 'ㄱㅅㅅㅅㅅㅅㅅㅅㅅㅅ': 7112, '였넹': 7113, '잘튀갸': 7114, '신나요': 7115, '쫠깃해': 7116, '버기': 7117, '초콜렛': 7118, '떵마시떵': 7119, '왔어욤': 7120, '폭행': 7121, '찾아다니다': 7122, '괜춘괜': 7123, 'ㄱㄱㄱㄱㄱㄱㄱㄱㄱㄱㄱㄱ': 7124, '곳맛': 7125, '늘어놓다': 7126, '노애': 7127, '푸제': 7128, '푀': 7129, '돗': 7130, '기울어지다': 7131, '러블': 7132, '개추': 7133, '쇼핑': 7134, '윙뼈': 7135, '이뤄지다': 7136, '느켜봐': 7137, 'ㄱㄴㄹㅁㅇㅁㅎㅇㄷㅇㅇㄴ': 7138, 'ㄱㅆ': 7139, '달렷': 7140, '더기': 7141, '정말루': 7142, '냠냔냔냠': 7143, '무치': 7144, 'ㅅㄷㅅㄴㅅㄴ': 7145, '곳임': 7146, '혀끝': 7147, '국수': 7148, '돔황챠': 7149, '호떡': 7150, '쇼킹핫반': 7151, '뻑': 7152, '핸폰': 7153, '서요': 7154, '습관': 7155, '된장': 7156, '시킬껄': 7157, '악평': 7158, 'ㅠㅠㅋㅋ': 7159, '여진': 7160, '좀걸렷': 7161, '굿구': 7162, '성찰': 7163, '엡': 7164, '롸': 7165, '서비슨데': 7166, '렉스': 7167, '반려견': 7168, '뎁히다만것': 7169, '형님': 7170, '들락거렸네': 7171, '치밀다': 7172, '내버리다': 7173, '쌉가넝': 7174, '주춤': 7175, '과도': 7176, '음주': 7177, '뇌졸중': 7178, '저하': 7179, '일으키다': 7180, 'ㅁㅏㅅ': 7181, 'ㅅㅅㅅㅅㅅㅅㅅㅅㅅㅅㅅㅅ': 7182, '팩틉니': 7183, '난쟁이': 7184, '어쩌자': 7185, '집안': 7186, '프리': 7187, '아리': 7188, '먹어뫄': 7189, '글렀': 7190, 'ㅡㅠ': 7191, '패애애애': 7192, '매웡': 7193, '봐샤샥': 7194, '끊임없다': 7195, 'ㅜㅜㅋㅋㅋ': 7196, '브라우닝': 7197, 'ㅁㅏ': 7198, '죵': 7199, '몬가': 7200, '퇴원': 7201, '수속': 7202, '밟다': 7203, '에보니': 7204, '아랫쪽': 7205, '이런저런': 7206, '수급': 7207, '이라곤': 7208, '맛있엇슴다': 7209, '괘찮습니': 7210, '학창': 7211, '노스': 7212, '텔': 7213, '성해': 7214, '에피타이저': 7215, '음달': 7216, '쪼금더': 7217, '한상태': 7218, '얼리다': 7219, '가오': 7220, '짱빠룸': 7221, '마비': 7222, '많았느': 7223, '늘어지다': 7224, '크래커': 7225, '삼사십분': 7226, '내미다': 7227, '호치케스': 7228, '군요': 7229, '어니': 7230, '구래': 7231, 'ㅋㅎㅋㅎㅋㅎㅎㅋ': 7232, '하인': 7233, '음양': 7234, '안드네': 7235, '쥬신': 7236, '맵맵': 7237, '장식': 7238, '까만색': 7239, '침대': 7240, '호닭': 7241, '박하다': 7242, '무파': 7243, '버버리': 7244, 'ㅅㅅㅅㅅ': 7245, 'ㅈㄷㄴㄱㅂㅅ': 7246, '뿌링킁': 7247, '거무': 7248, '튀튀': 7249, '조아욤': 7250, 'ㄹㅇㅇㅇㅇ': 7251, '합니댜': 7252, '거멓': 7253, '죠아죠': 7254, '밖엔': 7255, '핫링': 7256, '핫블': 7257, '초고': 7258, '추도': 7259, '선방': 7260, '됨스팸': 7261, '반숙': 7262, '익음': 7263, '뜻밖': 7264, '원도': 7265, '송골': 7266, '가유': 7267, '막바지': 7268, '진창': 7269, '맛울': 7270, '빡': 7271, '프렌차': 7272, '강추추': 7273, '솎아내': 7274, '기복': 7275, '엄밀하다': 7276, '만석': 7277, '신포': 7278, '딱따구리': 7279, '리보': 7280, '깜작': 7281, '정작': 7282, '촤': 7283, 'ㅜㅜㅜㅜㅜㅜ': 7284, '신림역': 7285, '날줄': 7286, '보온': 7287, '멋습': 7288, '다지': 7289, '빠싹': 7290, '미각': 7291, '친철해': 7292, '점저': 7293, '손잡이': 7294, '시점': 7295, '거뭇': 7296, '뜬금': 7297, '고르곤졸라': 7298, '청국장': 7299, 'ㅈㅁ': 7300, '호박': 7301, '주량': 7302, '암념맛': 7303, 'ㄱㄱㄱㄱㄱㄱㄱㅋ': 7304, '스파': 7305, '케티': 7306, '달라짐': 7307, '곳못봄': 7308, '모자': 7309, '마시슴': 7310, '음트트': 7311, '뭄': 7312, '미스터리': 7313, '서진': 7314, '삼계탕': 7315, '겉면': 7316, '해체': 7317, 'ㅈㅔ': 7318, '쫌더': 7319, '어두움': 7320, '멍청하다': 7321, '고치다': 7322, '먹엇읍니': 7323, '빠릊니': 7324, '특급': 7325, '갠찮앗어': 7326, '응근갠차늠': 7327, '라이츄': 7328, '메뉴판': 7329, '뿐더러': 7330, '장난없다': 7331, '모조': 7332, '소지': 7333, 'ㅇㄹㅇㅇㅇㅇㅇㅇㅇㅇㅇㅇㅇㅇ': 7334, '찾아내다': 7335, '쥰나마시쭘': 7336, '서든': 7337, '대애': 7338, '통한': 7339, '족도': 7340, '불족': 7341, '시켯다능': 7342, '후련하다': 7343, '손수': 7344, '닭비': 7345, '린네': 7346, '성실': 7347, '해바라기': 7348, '동호': 7349, '이나고': 7350, '찍엇습니당': 7351, '살류': 7352, '애매': 7353, '잇엇네': 7354, '응윱': 7355, '쪼금맵네': 7356, '탔어욤': 7357, '불타': 7358, '눅눅햐': 7359, '딜로': 7360, '고열': 7361, '뻗치다': 7362, '살퍽퍽': 7363, '이외': 7364, '쫀쫀': 7365, '친킹': 7366, '닥츄': 7367, '심호흡': 7368, '맘속': 7369, '텍마머': 7370, '행': 7371, '급행': 7372, '쩐내나': 7373, '옴옴옴': 7374, '욤욤': 7375, '하고프다': 7376, 'ㅜㅜㅠㅠ': 7377, '조직': 7378, '부스러지다': 7379, '은듯': 7380, '달단': 7381, 'ㅜㅜㅋ': 7382, '찔끔': 7383, '거품': 7384, '좋졍': 7385, '발골': 7386, '레후': 7387, '너와나': 7388, '떡뽀끼': 7389, '오오오오오오오': 7390, '맛이엇어': 7391, 'ㅠㅠㅁ': 7392, '응꼬': 7393, '불링': 7394, '내놓다': 7395, '작살': 7396, '개짬': 7397, '크르르르르르릉': 7398, '왈왈왈왈왈왈왈': 7399, '쿰척쿰척': 7400, '러거': 7401, '루너러': 7402, '됫다': 7403, '가불': 7404, '럿': 7405, '구만': 7406, '마쉿서': 7407, '백만': 7408, '코딱지': 7409, '종강': 7410, '엇습니': 7411, 'ㄲㄲㄲ': 7412, '꺄갸': 7413, '객': 7414, '사각': 7415, '바학': 7416, '이탈리안': 7417, '배우': 7418, '개별': 7419, '서두르다': 7420, '모형': 7421, '빼빼': 7422, '북도': 7423, '캔들': 7424, '어딧나': 7425, 'ㅎㅎㄹ': 7426, '가디': 7427, '밤새다': 7428, '맛빱벡덮': 7429, '위답': 7430, '철수': 7431, '세미': 7432, '뭍힐때': 7433, '셧음': 7434, '뿌링핫': 7435, '야자': 7436, '냉장': 7437, '꺄르륵': 7438, '요물': 7439, '쫑깃쫄깃': 7440, 'ㅇㅇㅇㅇㅇㅇㄴ': 7441, '확답': 7442, '속절없다': 7443, '배곯다': 7444, '하사': 7445, 'ㄲ': 7446, '강서': 7447, '깡패': 7448, '부꼭': 7449, '봔탉': 7450, '스은': 7451, '티밥': 7452, '대응': 7453, '왕존맛': 7454, '해머': 7455, '셔': 7456, '정겹다': 7457, '아쥬우우우': 7458, '쿱쿱': 7459, '러런': 7460, '맛있넹': 7461, '성화': 7462, '되풀이': 7463, '사기꾼': 7464, '모시다': 7465, '잇자국': 7466, '미돈': 7467, 'ㅋㅋㄱㄱㄱㄱㄱㄱㄱㄱ': 7468, '꿀떡': 7469, '계로': 7470, '스크린골프': 7471, '시긴': 7472, '편소': 7473, '하드캐리': 7474, '마망점': 7475, '오투': 7476, '움바': 7477, '못햇규': 7478, '짱짱하다': 7479, '현실': 7480, '까르보치킨': 7481, '진빰뽕맛': 7482, '다그치다': 7483, '음성': 7484, '사모님': 7485, '쵭': 7486, '쥬모': 7487, '델몬트': 7488, '켜머금': 7489, '게스트하우스': 7490, '쪼콤': 7491, '적슴돠': 7492, '휴욜': 7493, 'ㅂㅂㅂㅂㅂㅂㅂㅂㅂㅂㅂㅂ': 7494, '고속': 7495, '훌륭': 7496, '숑': 7497, '므너므너므너므': 7498, '므맛': 7499, 'ㅇㅈㄱㅇㅇㅇㅋㅋㄴㄴㅋㅋ': 7500, '초록': 7501, '뚱캔': 7502, '핵꿀맛': 7503, '조조조조오오오오': 7504, '얼버': 7505, '햄버그': 7506, '저서': 7507, '간쌔': 7508, '아래쪽': 7509, '멋던걸': 7510, '이개': 7511, '느키다': 7512, '떽': 7513, '세계관': 7514, '호강': 7515, '사시': 7516, '그랴': 7517, '순산': 7518, 'ㅂㅈㄱㅅㄱㄷㄱㅂㅈㄱ': 7519, 'ㅡㅂㄷ': 7520, 'ㅇㄷ': 7521, 'ㅎㅎㅎㅎㅎㅎㅎㅎㅎㅎㅎㅎㅎ': 7522, '버젓이': 7523, '처분': 7524, '오근': 7525, '뜨거웡': 7526, '졸맛태': 7527, '정맛맛았': 7528, '맛있슴미': 7529, '기엽': 7530, '이나마': 7531, '세영': 7532, '놀이': 7533, '보양식': 7534, '엉뚱하다': 7535, '눅짐': 7536, '문두': 7537, '코리아': 7538, '보편': 7539, '아야': 7540, '토터토': 7541, '품짐': 7542, '야말로': 7543, '았음': 7544, '짝짝이': 7545, '비빅휴': 7546, '은지가': 7547, '퍼리카': 7548, '파값': 7549, '쫀띄기': 7550, '어기': 7551, '바작': 7552, '위도': 7553, '나이프': 7554, '인건비': 7555, '통금': 7556, '부쩍': 7557, '일해': 7558, '소시지': 7559, 'ㄸㄹㄹ': 7560, '미만': 7561, '잘생기다': 7562, '댓': 7563, '옴겨': 7564, '본겁': 7565, '구역질': 7566, '작전': 7567, '머머': 7568, '괸찬음': 7569, '뒷': 7570, '올려놓다': 7571, '숏': 7572, 'ㅎㅅㅎㅅㅅㅎㅎㅎ': 7573, '안경': 7574, '르그': 7575, '르릉': 7576, 'ㄹㄷ': 7577, '별다르다': 7578, '듬뿍하다': 7579, '킹뿌': 7580, '질겁': 7581, '라오': 7582, '아로라': 7583, '왈루': 7584, '조마조마하다': 7585, '의적': 7586, '잘목엇어': 7587, '푸드': 7588, '쌩하다': 7589, '분땜': 7590, '임신': 7591, '당뇨': 7592, '우사인볼트': 7593, '도스': 7594, 'ㅎㅏ': 7595, '맛토킹맛초킹': 7596, 'ㅛㅔ': 7597, '마음씨': 7598, '촤고': 7599, '괘야늠니': 7600, '증기': 7601, '피자치즈': 7602, '비슷향': 7603, '유감': 7604, '클럽': 7605, '혼비백산': 7606, '피치': 7607, '완죠': 7608, '좋은덴': 7609, '건의': 7610, '침범': 7611, '완잔': 7612, '찰': 7613, '토실토실하다': 7614, '메시': 7615, '다마': 7616, '트라오레': 7617, '손흥민': 7618, '의치': 7619, '퓸': 7620, 'ㅠㅋㅋㅋ': 7621, '레카': 7622, '보눈데': 7623, '계석': 7624, '온갖': 7625, '백원': 7626, 'ㄲㄲㄲㄲㄲㄲㄲ': 7627, '산미': 7628, '난뒤': 7629, '키득거리다': 7630, '강추맛': 7631, 'ㅢ': 7632, '누렇': 7633, '중국어': 7634, '아찔하다': 7635, '벌컥벌컥': 7636, '떡말': 7637, '오뎅': 7638, 'ㅆㅆ': 7639, 'ㅛㅛㅛㅛㅛㅛㅆ': 7640, '벡': 7641, '논걸': 7642, '스팸좀': 7643, '초유': 7644, '사태': 7645, '요원': 7646, '가분': 7647, '모마': 7648, '또띠야': 7649, '이제껏': 7650, 'ㅎㄷㄷㄷㄱㄱㄱㄱㄱㄱㄱㄱ': 7651, '목었습니': 7652, '종말': 7653, '짜장라면': 7654, '텁텁하': 7655, '석초': 7656, '마시쪄잉': 7657, '념념굿': 7658, '잇늡': 7659, '랠묏렸칟엘웸': 7660, '라그': 7661, '한성대': 7662, '확맵': 7663, '뿌듯': 7664, '고오': 7665, '댕청': 7666, '읏': 7667, '소담': 7668, '흐물거리': 7669, '아시웠': 7670, '겉껍질': 7671, '지주': 7672, '생파': 7673, '팹': 7674, '침샘': 7675, '어케남김': 7676, '굿굿굿굿': 7677, '살보': 7678, '넘무넘흐': 7679, '늦엇슴다': 7680, '흡족': 7681, '먹을껀데': 7682, '지근': 7683, 'ㅏㅏㅏㅏㅏㅓㅓㅓㅓ': 7684, 'ㅈㄱㅈㄱㅈㄱㅈㄱㅈㄱㅈ': 7685, 'ㅇㅇㅇㅇㅇㄸㄷㅇㅇㅇㅇㅇㅇㅇ': 7686, '달그': 7687, '작작하다': 7688, '무거워': 7689, '박박': 7690, '신규': 7691, '상암': 7692, '직진': 7693, '탄산수': 7694, '사보다': 7695, '도종이': 7696, '배불띠': 7697, 'ㅎㅊㅋㅈㄱ': 7698, '점마': 7699, '콘치': 7700, '뻘': 7701, '잘목엇습': 7702, '겸사겸사': 7703, 'ㄱㅅㄱㅅㄱㅅㄱㅅㄱㅅ': 7704, '어리둥절하다': 7705, '개인정보': 7706, '급식': 7707, '퇴김옷': 7708, '산뜻하다': 7709, '마지쩌': 7710, '오직': 7711, '괘아늠': 7712, '일석이조': 7713, '습지': 7714, '왓던': 7715, '그간': 7716, '다한': 7717, '의전': 7718, '주니': 7719, '다먹엇답니': 7720, '확확': 7721, '덴더': 7722, '지켜보다': 7723, '수증기': 7724, '볼품': 7725, '구우': 7726, '띄우다': 7727, '행버억': 7728, '요리조리': 7729, '콘듀순살': 7730, '렬루': 7731, '교자': 7732, '려구': 7733, '놨는데': 7734, '간시': 7735, '대뜸': 7736, '녹음': 7737, '환경호르몬': 7738, '은유': 7739, '논': 7740, '가라아게': 7741, '직영': 7742, '맛입': 7743, '뒤론': 7744, '움찔': 7745, '다름없다': 7746, '입지': 7747, '에빈트': 7748, '환': 7749, '때리다': 7750, '숨': 7751, '찡그리다': 7752, '아득바득': 7753, '에서부터': 7754, '식탐': 7755, '엇답': 7756, '나뿌': 7757, '스레': 7758, '군말': 7759, '맛없슴': 7760, '없슴돠': 7761, '쫀맛탱': 7762, '확고하다': 7763, '뒷날': 7764, '젤맣': 7765, '쩌용': 7766, '무렵': 7767, '겜': 7768, '홀린': 7769, '용돈': 7770, '물류': 7771, '정일': 7772, '한자리': 7773, '환하다': 7774, '기능': 7775, '불경기': 7776, '왈': 7777, '생색': 7778, '눈치': 7779, '넓적다리': 7780, '세면': 7781, '까칠하다': 7782, '슬쩍': 7783, '굴린건': 7784, '얕다': 7785, 'ㅂㅈㄷㄱ': 7786, 'ㅕㅑㅕㅑㅑ': 7787, '사사사': 7788, '커플': 7789, '잘머것슴돠': 7790, 'ㅜㅜㅜㅠ': 7791, '그딴': 7792, '잠기다': 7793, '유리': 7794, '시체': 7795, '평보': 7796, '꼽': 7797, '내스딸': 7798, '가젤': 7799, '삐쩍': 7800, '도럿됐': 7801, '친킨': 7802, '케이스': 7803, '멱': 7804, '경과': 7805, '공급': 7806, '김종국': 7807, '잘나가다': 7808, '톨닭맛': 7809, '만양': 7810, '치떡': 7811, '운마': 7812, 'ㄱㄱㄱㄱㄱㄱㄱㄱㄱㄱㄱㄱㄱ': 7813, '개빨랏어': 7814, '버삼': 7815, '요따위': 7816, '간간': 7817, '낭패': 7818, '상실': 7819, 'ㅇㄱㄹㅇ': 7820, '페이스': 7821, 'ㅣㄴㄴㄴ': 7822, '고분': 7823, '에코': 7824, '매기': 7825, '짭짜롬': 7826, '도봉구': 7827, '홍홍': 7828, '화용': 7829, '살쪽': 7830, '남아도': 7831, 'ㅅㅌㅊㅅㅌㅊㅅㅌㅊㅅㅌㅊ': 7832, '한해': 7833, '다릿살파': 7834, '키득키득': 7835, '키득': 7836, '멋었네': 7837, '치네다': 7838, '쌍문동': 7839, '야만': 7840, '만엔': 7841, 'ㅡㅡㅋㅋ': 7842, '내지': 7843, '항시': 7844, '분더': 7845, '다이어터': 7846, '치팅이': 7847, '화요일': 7848, '왕맛': 7849, '터키': 7850, '먀며녀녀': 7851, '명감': 7852, '족발': 7853, '무운': 7854, '통째': 7855, 'ㅌㅌㅋㅋㅋㅋ': 7856, '설연휴': 7857, '좀맵': 7858, '희망': 7859, '속삭이다': 7860, '푼': 7861, '구도': 7862, '파악': 7863, '봇': 7864, '창구': 7865, '자유': 7866, '사촌': 7867, '응급실': 7868, '속초': 7869, '코옴': 7870, '자격': 7871, '널맛': 7872, '운기': 7873, '드귿귿': 7874, '그득': 7875, '귿': 7876, '잡솨': 7877, '요또': 7878, '라든지': 7879, '꼬우': 7880, '걸음': 7881, '뛰어가다': 7882, '크아': 7883, '균일하다': 7884, '피똥살': 7885, '자번': 7886, '뿡리소떡': 7887, '정사': 7888, '짜장면': 7889, '숟': 7890, '난해': 7891, '지호': 7892, '해크': 7893, '화로': 7894, '유난': 7895, '커밍': 7896, 'ㅜㅜㅜㅜㅜㅜㅜㅜ': 7897, '잘나오다': 7898, '흑흐': 7899, '일욜': 7900, '쮸': 7901, 'ㅠㅠㅠㅜ': 7902, '냈슴다': 7903, '휼륭하다': 7904, '초래': 7905, '스펜서': 7906, '도기': 7907, '말입': 7908, '어째저': 7909, '엿같': 7910, '임팩트': 7911, '백신': 7912, '십삼분': 7913, '의사소통': 7914, '낑낑': 7915, '마당': 7916, '간맛': 7917, '필링': 7918, '일정': 7919, '어휴': 7920, 'ㅣㅣㅣㅣㅣㅣㅣㅣㅣ': 7921, '문압': 7922, '인증샷': 7923, '더라': 7924, '틔김': 7925, '은제': 7926, '봉으루': 7927, '루안': 7928, '번머것': 7929, '거렸': 7930, '렀걋': 7931, '개조': 7932, '웁': 7933, '잘퓸윱': 7934, '초음': 7935, '버무려와': 7936, '갑작스럽다': 7937, '새콤': 7938, '절감': 7939, '착용': 7940, '선발': 7941, '이열치열': 7942, '초촉': 7943, '샘플': 7944, '사운드': 7945, '브렌': 7946, '한살이': 7947, '존중': 7948, 'ㅎㅎㅎㅋ': 7949, '마시슘': 7950, '의심스럽다': 7951, '돠겟': 7952, '무옷': 7953, '신산하다': 7954, '채덮륵랠': 7955, '깽': 7956, '줄어듬': 7957, '괜찮죵': 7958, '지속': 7959, '퍼주셔': 7960, '뻐고': 7961, '파라': 7962, '잇엇어': 7963, '던애': 7964, '쿰쿰하다': 7965, '물가': 7966, '상승': 7967, '이루어지다': 7968, '천만원': 7969, '안목': 7970, '무얼': 7971, '밭': 7972, '들쭉날쭉': 7973, '토끼다': 7974, '채식': 7975, '동물': 7976, '애영': 7977, '분터': 7978, '정해': 7979, 'ㅅㅅㅅㅅㅅㅅㅅㅅㅅㅅㅅㅅㅅㅅ': 7980, '조로': 7981, '두리안': 7982, '폐기물': 7983, '거대하다': 7984, '추잡': 7985, '양념렷슴': 7986, '집단': 7987, 'ㅑㅇ': 7988, '떠버리': 7989, '무익': 7990, '렌즈': 7991, '소풍': 7992, '먹고살다': 7993, '뼈은': 7994, '배족': 7995, '선생님': 7996, '짐햇': 7997, '떡진맛': 7998, '어만': 7999, '요음': 8000, '마시쟈영': 8001, '맛딧음': 8002, '표준': 8003, '뻘라': 8004, '위함': 8005, '가지다': 8006, '힘차다': 8007, '간질': 8008, '맛초킹처': 8009, '름먹엇는': 8010, '너겟옴': 8011, '적합하다': 8012, '맹슐랭': 8013, 'ㅄ': 8014, '입대': 8015, '갈고': 8016, '항생제': 8017, '마노': 8018, '터툐': 8019, '외부': 8020, '다몬먹을정': 8021, '살구': 8022, '스읍': 8023, 'ㄴㄹㄴ': 8024, '소로': 8025, '떨구다': 8026, '국가': 8027, '뚤릴때': 8028, '대한민국': 8029, '상아탑': 8030, '턱관절': 8031, '혐오': 8032, '까지와': 8033, 'ㅜㅜㅜㅜㅜㅜㅜ': 8034, '맛았었습니': 8035, '팥죽': 8036, '짓날': 8037, '날뛰다': 8038, 'ㄲㄴㄱㅇ': 8039, '가미': 8040, '번쩍': 8041, '절먹엇습니': 8042, '겁내': 8043, '질다': 8044, 'ㅓㅓㅓㅏㅏㅏㅏㅏㅏㅏㅏㅏㅏㅏㅏㅏ': 8045, '기점': 8046, '괜찬았': 8047, '국르': 8048, '쌀밥': 8049, '시쯔음': 8050, '올레': 8051, '가첨': 8052, '의도': 8053, '악담': 8054, '움전': 8055, '쌔거같': 8056, '가몬': 8057, '왜냐면': 8058, '칙흰': 8059, 'ㅍㄹㅋㄴ': 8060, '어설프다': 8061, '투덜거리다': 8062, '욕먹다': 8063, '인척': 8064, '실상': 8065, '부타': 8066, '지유': 8067, '초코파이': 8068, '기타': 8069, '국국': 8070, '둑': 8071, '이듬': 8072, '놀랫': 8073, '순설': 8074, '촤악': 8075, '밥상': 8076, '유투브': 8077, '뚱': 8078, '득템': 8079, '좋넹': 8080, '은월': 8081, '닥발': 8082, '웬일': 8083, '출연': 8084, '삑삑': 8085, 'ㅜㅠㅜㅠ': 8086, '멋대로': 8087, '가차': 8088, '우롱': 8089, '제신': 8090, '정점': 8091, '밥때': 8092, '잡아먹다': 8093, '웃기': 8094, '편임': 8095, 'ㅎㅋㅋㅎ': 8096, 'ㅇㅇㅇㄹㄹㅊㅊㅊㄹㅇㅇ': 8097, '수집': 8098, 'ㅉㄱ': 8099, '었네': 8100, '파오': 8101, '터트려': 8102, '흡사': 8103, '벙': 8104, '명넝낭낭': 8105, '벙놉': 8106, 'ㄴㅂ': 8107, '동이': 8108, '만듬': 8109, '노하우': 8110, '언급': 8111, '지적': 8112, '대중성': 8113, '꺄르르륵': 8114, '우린': 8115, '맛또': 8116, '기구': 8117, '납품': 8118, '닭겁데기': 8119, '고로케': 8120, '덮어서': 8121, '괴': 8122, '싸매다': 8123, '랍니': 8124, '냉동고': 8125, '행궈': 8126, '비롯': 8127, '예감': 8128, '대론': 8129, '민채': 8130, '확신': 8131, '조햐오': 8132, '맞춤': 8133, '머선': 8134, '전폐': 8135, '요한': 8136, '유점': 8137, '구성은': 8138, '태애태애짚': 8139, '웸련': 8140, 'ㅇㅇㅅㅇㄱ': 8141, '초창': 8142, '은빛': 8143, '비운': 8144, '한몫': 8145, '마시쪄욤': 8146, '서리다': 8147, '시공': 8148, '오벨리스크': 8149, 'ㅡㅇㅡ': 8150, '잇엇음': 8151, '조명': 8152, '도망가다': 8153, '무턱': 8154, '어메이징': 8155, '노르스름한': 8156, '경악': 8157, '괸춘합니': 8158, '디테': 8159, '만년': 8160, '오토봇': 8161, '왜처': 8162, '갇은돈': 8163, '서럽다': 8164, '위안': 8165, '강시': 8166, 'ㅁㅎㅎㅎ': 8167, 'ㅠㅜㅠㅠ': 8168, '웅애': 8169, 'ㅠㅜㅜㅠㅠㅜ': 8170, '특성': 8171, '숯': 8172, '달동': 8173, '퍼석퍼석': 8174, '므무느무': 8175, '농': 8176, '중돗': 8177, '떡뽀': 8178, '가시다': 8179, '좝샤들봐': 8180, '재산': 8181, '잚': 8182, '아서': 8183, '상콤': 8184, '갖은': 8185, '과잉': 8186, '달랑': 8187, '엎으시기': 8188, '통보': 8189, '다욧트중': 8190, '치팅데': 8191, '잣': 8192, '싼값': 8193, '시퍼용': 8194, '오늘듀': 8195, '자빠지다': 8196, '삼촌': 8197, '닭번': 8198, '괸찬': 8199, '맛맛맛맛맛': 8200, '몇장': 8201, '개열': 8202, '최저': 8203, '진보면': 8204, '엉기성기': 8205, '개잡': 8206, '마미': 8207, '치카': 8208, '액': 8209, '빠삭빠삭하': 8210, '콩': 8211, '방움': 8212, '융융': 8213, '박살': 8214, '안통': 8215, '구경': 8216, '첸': 8217, '가제': 8218, '소개팅': 8219, '만난': 8220, '손놨습니': 8221, '이글': 8222, '죄책감': 8223, '감미롭다': 8224, '그야말로': 8225, '젠듯': 8226, '뒤범벅': 8227, '맙네': 8228, '진쨔': 8229, '에에': 8230, '에에에에에에': 8231, '쫌많': 8232, '우진': 8233, '살찐': 8234, '미국인': 8235, '발달': 8236, '드러나다': 8237, '소쿠리': 8238, '반말': 8239, '지남': 8240, '왜전': 8241, '우주': 8242, '삼겹살': 8243, '보양': 8244, '여윽시쁘링쿨': 8245, '공릉': 8246, '장위': 8247, '속물': 8248, '골치': 8249, '통감': 8250, '나웅': 8251, '객꿀맛': 8252, '쭈글쭈글하다': 8253, '빠삭빠': 8254, '일어': 8255, '요큐': 8256, '큐큐': 8257, '켄': 8258, '컨디션': 8259, '오공': 8260, '온라인': 8261, '혼란': 8262, 'ㅠㅜㅠㅜ': 8263, '나옹': 8264, '돕다': 8265, '산패': 8266, '트랜스': 8267, '질질흐': 8268, '버프인': 8269, '그땐': 8270, '온전': 8271, '이지나': 8272, '엿먹어': 8273, '뼈줌': 8274, '존멋': 8275, '서울대': 8276, '야금야금': 8277, '러너': 8278, '떡때매': 8279, '따끔따끔': 8280, 'ㄱㅈㅂㄷㅅㄷㄱㄷㄱㄷㅅㄷㅅㄷ': 8281, '회복하다': 8282, '시켜먹엇눈데': 8283, '탄수화물': 8284, '러키': 8285, '생갇보자': 8286, '떵뮌': 8287, '전단지': 8288, '오호호': 8289, '삼위일체': 8290, '괜챦': 8291, '하달': 8292, '촉촉살': 8293, '엽': 8294, '꽤괜': 8295, '간장킨': 8296, '였슴': 8297, '청량감': 8298, '높이다': 8299, '오로지': 8300, '다용': 8301, '욤릉': 8302, 'ㄱㅈㄱㄱㄱㄱㄱㄱㄱㄱ': 8303, '무것습니': 8304, '괜찬은곳': 8305, '매주시': 8306, '붐바': 8307, '훈제': 8308, '중학생': 8309, '틈': 8310, '쥬아용': 8311, '갸오': 8312, '시행': 8313, '물김치': 8314, '무여': 8315, '끼임': 8316, '헝': 8317, '물애': 8318, '리뉴얼': 8319, '캄': 8320, '푸딩': 8321, '개눈': 8322, '달도': 8323, '맛쪼': 8324, '빨간색': 8325, '어쩌려': 8326, '곰곰하다': 8327, '건드리다': 8328, '벽면': 8329, '거여': 8330, '일견': 8331, '뤼': 8332, '상주': 8333, '처무': 8334, '욱처무욱': 8335, '따름': 8336, '응디': 8337, '젓그락': 8338, '개월전': 8339, '권역': 8340, '글렀구': 8341, '별반': 8342, '틴': 8343, '마중': 8344, '땡키': 8345, '해달': 8346, '모하': 8347, '마음먹다': 8348, '쪼개다': 8349, '더부': 8350, '룩': 8351, '맛쵸맛쵸해': 8352, '특색': 8353, '인듯': 8354, '모닝': 8355, '쫀드': 8356, '꿀닭': 8357, '후론': 8358, '투움바맛': 8359, '혼': 8360, '도충': 8361, '밍': 8362, 'ㄱㅇ': 8363, '뻥': 8364, '내겐': 8365, '키키': 8366, '싱나룔': 8367, '천후': 8368, 'ㅅㅌㅊ': 8369, '조쿠': 8370, '해진': 8371, '두운': 8372, '주황': 8373, '빛갈': 8374, 'ㅠㅠㅠㅠㅠㅠㅠㅠㅠㅠㅠㅠㅠㅠ': 8375, '칼질': 8376, '빡빡이': 8377, '길이': 8378, '낙하': 8379, '기안': 8380, '우러나': 8381, '가두다': 8382, '이별': 8383, '곤듀치킨': 8384, '미니멈': 8385, '살반': 8386, '쉿': 8387, '춤': 8388, 'ㅠㅠㅜㅠ': 8389, '술집': 8390, '융또': 8391, '근냔넣어주셧': 8392, 'ㄹㅅㅅㅅㅅㅅㅅㅅㅅㅅ': 8393, '감쩌': 8394, '한밤중': 8395, '교통': 8396, '치르다': 8397, '대구': 8398, '치중': 8399, '적엇어': 8400, '테이크아웃': 8401, '동대문구': 8402, '위인': 8403, '손안': 8404, '하체': 8405, '노답': 8406, '개비': 8407, '주제': 8408, '간임': 8409, '공부': 8410, '앗뿌': 8411, '껄죽하': 8412, '죤맛탱구륑': 8413, 'ㅋㅎㅋㅎㅋㅎ': 8414, '명성': 8415, '꼬털': 8416, '페라카': 8417, '이반': 8418, '다만쪼끔': 8419, '합치': 8420, '맛있엇': 8421, '럭셔리': 8422, '고급스럽다': 8423, '쩌구': 8424, '터프': 8425, '콕콕': 8426, '스녕저양': 8427, '뜸뿍': 8428, 'ㄴㅅㄴㅅ': 8429, '별루임': 8430, '패키지': 8431, '스펨': 8432, '마술': 8433, '일곱시': 8434, '민가': 8435, '마시쩡': 8436, '울고불고': 8437, 'ㅇㄹㅅㅇㅎㅇ': 8438, '입술': 8439, '꿱': 8440, '분나': 8441, '얼룩덜룩': 8442, '소자': 8443, '박제': 8444, '사잔': 8445, '뭅': 8446, '지구': 8447, '더덕': 8448, '지아': 8449, '울리다': 8450, '여우': 8451, '마트': 8452, '융유': 8453, '거실': 8454, '홀로': 8455, '감흥': 8456, '스크린': 8457, '그늘': 8458, '주름': 8459, '이영화': 8460, '바랬': 8461, '어그': 8462, '후감': 8463, '닭날게': 8464, '가납': 8465, '하나같다': 8466, '리기': 8467, '묵어썽용': 8468, '갸꿀': 8469, '짭쪼름한것': 8470, '황': 8471, '은박': 8472, '부속': 8473, '뿅': 8474, '세월': 8475, '저리다': 8476, '네임드': 8477, 'ㅇㅇㅇㅇㅇㅇㅇㅇㅇㄷ': 8478, '재택하': 8479, '견과': 8480, 'ㅎㅎㅋ': 8481, '사르르': 8482, '빠싹빠싹': 8483, '쫀득쫀득': 8484, '글귀': 8485, '겨촌': 8486, '여전': 8487, '쫑덜': 8488, '즐겨먹슴다': 8489, '자리다': 8490, '끗': 8491, '얼룩덜룩하다': 8492, '맛밌음열': 8493, '치즐볼': 8494, '줄렸어': 8495, '튤립': 8496, '헤매다': 8497, '버겁다': 8498, '스위츠': 8499, '연락처': 8500, '발인': 8501, 'ㅠㅠㅎㅎ': 8502, '테디': 8503, '늬': 8504, '하헤햐허호': 8505, '므깨': 8506, 'ㅇㅇㅇㅇㅇㅇㅇㅇㅇㅇㅇㅇㅇ': 8507, '흘럿': 8508, '칸초': 8509, '무기': 8510, '시엔': 8511, '케좀': 8512, '킬로': 8513, '요안': 8514, '스미다': 8515, 'ㄴㄱㅅㅈㄸ': 8516, '넘빠삭': 8517, '쏘스': 8518, '회식': 8519, '잔치': 8520, '눅눅쓰': 8521, '묵': 8522, '앤': 8523, '통제': 8524, '마늉떻윰': 8525, '몬맛': 8526, '가운데': 8527, '부직포': 8528, '이불': 8529, '간나': 8530, '지나가다': 8531, '간격': 8532, '야박하다': 8533, '맵쌀': 8534, '담아먹므': 8535, '의식': 8536, '용서': 8537, '쨘쨩': 8538, '진린': 8539, '은좀': 8540, '땅길땐': 8541, '찍엇어': 8542, '띠용': 8543, '네버': 8544, '강경': 8545, '터벅': 8546, '있슴니': 8547, '좀적엇어': 8548, '엄따': 8549, '라바': 8550, '사워크림': 8551, '계란노른자': 8552, '쩔': 8553, '청안': 8554, '큼큼': 8555, '인연': 8556, '파물': 8557, '아해': 8558, '추움': 8559, '짭쪼름한': 8560, 'ㅌㅌㅌㅌ': 8561, '리플': 8562, '장말': 8563, 'ㅇㅅㄴㅂㅅ': 8564, '켜켜': 8565, '김이나': 8566, '드셧나': 8567, '루삥': 8568, '뽕나무': 8569, '무방비': 8570, '테틸가야': 8571, '테이핑': 8572, '팝업': 8573, '맛소깅': 8574, '좋슈': 8575, '잇츠': 8576, '손절': 8577, '포스트잇': 8578, '개윱': 8579, '컷팅수': 8580, '노가리': 8581, '개줌': 8582, '닭봉음': 8583, '하겟': 8584, '튀어나오다': 8585, '공식': 8586, '맛닙니': 8587, '편안함': 8588, '녘': 8589, '하란': 8590, '이애': 8591, '개옴': 8592, '빱푸드': 8593, 'ㅋㅋㅋㄲㅋㄲㅋㅋㅋㅋ': 8594, '셧던': 8595, '주셧던건': 8596, '해외': 8597, '배당': 8598, 'ㄹㅂㅇ': 8599, '빤른곱': 8600, '역점': 8601, '누누': 8602, '훠씬': 8603, '왔숩니': 8604, '쩌영': 8605, '왜인': 8606, '슷사': 8607, '방침': 8608, '마다의': 8609, '요암': 8610, '친구꼬셔': 8611, '다라': 8612, '집옆': 8613, '쿠': 8614, '대용': 8615, '쩍': 8616, '해고': 8617, 'ㅎㅎㅎㅎㅎㅎㅎㅎㅎㅎㅎㅎㅎㅎㅎ': 8618, '아몬드': 8619, '추위': 8620, '어쩌란거': 8621, '바이러스': 8622, '무리': 8623, '모리': 8624, '빨랐슴다': 8625, '시꺼멓다': 8626, '상점': 8627, '종습니': 8628, '만수무강': 8629, '배불배불': 8630, '퓨리': 8631, '푸리': 8632, 'ㅇㅇㅇㅇㅇㅇㅇㅇㅇㅇㅇㅇㅇㅇㅇㅇ': 8633, '값함': 8634, '익엇어': 8635, '딴말': 8636, '쪽찌다': 8637, '잘묵읏습니': 8638, '공동현': 8639, '관도': 8640, '친환경': 8641, '굽굽굽굽': 8642, '오도': 8643, '럴': 8644, '이남': 8645, '한먀리': 8646, '달착지근하다': 8647, '여조': 8648, '하영': 8649, '이진': 8650, '우동': 8651, '둣함': 8652, '완소하': 8653, 'ㅅㄷㅇ': 8654, '긷': 8655, 'ㅇㄷㅈ': 8656, '짭쪼릅한': 8657, '설날': 8658, '심사': 8659, '이제일': 8660, '굿굿굿굿굿굿굿굿궁굿': 8661, '잘목엇습니': 8662, '비굿': 8663, '스즈닝': 8664, '초라하다': 8665, '일반도': 8666, '성합': 8667, '배양': 8668, '포스': 8669, 'ㅠㅠㅠㅠㅜㅜㅜ': 8670, '톡옴': 8671, '조오': 8672, '민폐': 8673, '하타': 8674, '콤해': 8675, '집문': 8676, '짤햇습': 8677, '잘묵엇습니다딧': 8678, '레시': 8679, '둣': 8680, '희뿌엿네': 8681, '카사바': 8682, 'ㅋㅋㅋㄹㅇ': 8683, '전매': 8684, 'ㅏㄱ': 8685, '블랙리스트': 8686, 'ㅡㅡㅋ': 8687, '유나': 8688, '좀그': 8689, '외삼촌': 8690, '청림': 8691, 'ㄱㅐ': 8692, '리오네': 8693, '갠찮네': 8694, '강추염': 8695, '상향': 8696, '구입': 8697, '배날': 8698, '궈궈': 8699, '이루': 8700, '에디': 8701, '션': 8702, '유모': 8703, '냉면': 8704, '거무잡': 8705, '기풍': 8706, '장정': 8707, '육천원': 8708, '준비됐어요': 8709, '놀랏습': 8710, '타르': 8711, '브렌드': 8712, '달래': 8713, '여친': 8714, '아니엇네': 8715, '비사': 8716, '숙박': 8717, '돈쭐': 8718, 'ㅌㄴ': 8719, '픈': 8720, 'ㅊㅅ': 8721, '로지': 8722, '담앤': 8723, '칵테일': 8724, '망고': 8725, '가타': 8726, 'ㅇㅇㅇㅇㅇㅇㅇㅇㅇㅇㅇㅇㅇㅇㅇㅇㅇ': 8727, '오금': 8728, '쿨타임': 8729, '있엇네': 8730, '엎으셨는': 8731, '짭쫄': 8732, 'ㅁㅁㅁㅁㅁㅁㅁㅁㅁ': 8733, '요점': 8734, '갈라지다': 8735, '부탁드랴': 8736, '뿌링클콤보을': 8737, '드라이브스루': 8738, '파절': 8739, '안도': 8740, '물방울': 8741, '일그러지다': 8742, '중헌': 8743, '시켰슴다': 8744, '맛보기': 8745, '테스트': 8746, '완전체': 8747, '종합': 8748, '휴게소': 8749, '될둣': 8750, '버티다': 8751, '감점': 8752, '선데': 8753, '미뗘따': 8754, '바스락': 8755, '쫀득해영': 8756, '더꿀맛': 8757, '맛뎬쨉': 8758, '꼬소하': 8759, '놀리다': 8760, '아마다': 8761, '스나거': 8762, '노랑통탉': 8763, '렁': 8764, '헛반마싯': 8765, '배달빨랏구': 8766, '강북구청': 8767, '쫀디': 8768, '도오': 8769, '거스름': 8770, '아스날': 8771, '씬': 8772, '단순': 8773, '호객': 8774, '행위': 8775, '콘듀중독': 8776, '다여트할땐': 8777, '잘먹넜습니': 8778, '듭': 8779, '서운해하다': 8780, 'ㄱㅅㅅㅅ': 8781, '아니쥬': 8782, '가전': 8783, '화하다': 8784, '냠새': 8785, '하겟습니': 8786, '기부': 8787, '조긍': 8788, '히트': 8789, '획기': 8790, '살사': 8791, '베이': 8792, '슨데': 8793, '충만': 8794, '팀': 8795, '호박죽': 8796, '또시': 8797, '혼미하다': 8798, '차림': 8799, '과의': 8800, '만듭니': 8801, '약재': 8802, '라이나': 8803, '낯': 8804, '뭬틸': 8805, '평온하다': 8806, '시일': 8807, '짭쪼름하': 8808, '줄라': 8809, '요딴': 8810, '달반': 8811, '이요': 8812, '맛감': 8813, 'ㅠㅠㅎㅎㅎ': 8814, 'ㅁㅐ': 8815, '번맛': 8816, '인주': 8817, 'ㅣㅡ': 8818, '긔': 8819, 'ㅢㅢㅢㅢㅢㅢㅢㅢㅡ': 8820, '땡겻음': 8821, '다코야끼': 8822, '산지': 8823, '픽입니': 8824, '양모': 8825, '방음': 8826, '필승': 8827, '랭어': 8828, 'ㅋㄴㄷㅈㅎㅂㄱㄴㅌㅈㅎ': 8829, '파삭파삭': 8830, '질겅질겅': 8831, '엎어지다': 8832, '질질': 8833, '행벅': 8834, '닭날': 8835, '훨나음': 8836, 'ㄴㄴㅅㄷㅈㅡㅅㄴㄴㄷ': 8837, '위염': 8838, '섬유': 8839, '유연제': 8840, '피죤': 8841, '수학': 8842, '피죤투': 8843, '박임철': 8844, '맛투죤': 8845, '부메랑': 8846, '히잉히잉히잉히잉': 8847, '히잉': 8848, '사진촬영': 8849, '널뿌': 8850, '졸리셧는': 8851, '내부': 8852, '소리치다': 8853, '주무시다': 8854, '이웃': 8855, '방해': 8856, '소제': 8857, '상술': 8858, '억울하다': 8859, 'ㄱㅈㅂㄴㄱ': 8860, '유니세프': 8861, '후원': 8862, '물탄': 8863, '출시': 8864, '혼또니': 8865, '메차': 8866, '쿠차': 8867, '은재': 8868, '랐': 8869, '뿌링뿌잉': 8870, '이집트': 8871, '전성기': 8872, '나일강': 8873, '범람': 8874, '에레에': 8875, '배닷': 8876, '에라도': 8877, '감수': 8878, '슈': 8879, '매운앙념': 8880, '괜차': 8881, '넘넘엄': 8882, '덜렁': 8883, '진지': 8884, '헤메': 8885, '욕설': 8886, '왓다': 8887, '가셧어': 8888, '조리법': 8889, '느껴봄윱': 8890, '오랫동안': 8891, '잇엇습니': 8892, '얼추': 8893, '반대': 8894, '걸루': 8895, '숙제': 8896, '책임감': 8897, '갼찮': 8898, '텁텁': 8899, '낫배': 8900, '등집': 8901, '포스트': 8902, '경웁': 8903, '상종': 8904, '파이다': 8905, '찬스': 8906, '느꼈숩니': 8907, '식엇네': 8908, '맛날': 8909, 'ㅍㅍㅍㅍㅍ': 8910, '털리다': 8911, '텐더네': 8912, '오십분': 8913, '거뜬하다': 8914, '닥함': 8915, '멋았': 8916, 'ㅅㅎㄴ': 8917, 'ㅌㅂ': 8918, 'ㅏㅐㅅㄷㄴㅁㄹㅅㅎㅇㅇ': 8919, '부디': 8920, '거지같다': 8921, '의문문': 8922, '나들이': 8923, '떡하니': 8924, '츄블링': 8925, '늣네': 8926, '잘먹엇어욧': 8927, '풀때': 8928, '오쥬': 8929, '그대': 8930, '경황': 8931, '누깃누깃': 8932, '언버': 8933, 'ㅏㅍ': 8934, '담달': 8935, '키도': 8936, '작렬': 8937, '존함': 8938, 'ㄱㅊㅇ': 8939, '맛점': 8940, '어둠': 8941, '자식': 8942, '스마': 8943, '달랫': 8944, '완맛': 8945, '더밋났어': 8946, '닭꼬지': 8947, '미댜': 8948, '치칸무': 8949, '맛았습니': 8950, '패착': 8951, '분값': 8952, '전국': 8953, '강도': 8954, '빨랏구': 8955, '갈림': 8956, '콘듀시즈닝': 8957, '후끈': 8958, '다시금': 8959, '밀다': 8960, '합격': 8961, '정정': 8962, '효도': 8963, '안맵': 8964, '샤': 8965, '살아나다': 8966, '라던가': 8967, '금식': 8968, 'ㄴㄱㅅㄱㅎㄱㅅㅋㄱ': 8969, '원정': 8970, '이꼬': 8971, '홀륭': 8972, '일괄': 8973, '묵직': 8974, '바유': 8975, '고영': 8976, '똑똑': 8977, '분할': 8978, '맛땡초맛맛': 8979, '에어비앤비': 8980, '인덕션': 8981, '냐냠야야먀먀냠': 8982, '에어팟': 8983, '와로': 8984, '쿠나이': 8985, '닭밑': 8986, '잼잼': 8987, '나뉘어지다': 8988, '마련': 8989, '애꿎': 8990, '지지다': 8991, '껍데': 8992, '가만': 8993, 'ㅈㅇㄱㄷㅅㅇㄴ': 8994, '뽀송하다': 8995, '젠장': 8996, '경희대': 8997, '비몽': 8998, '몽': 8999, '고리': 9000, '팽겨': 9001, '날씬하다': 9002, '뒤덥힌': 9003, '역기': 9004, '매움글구너': 9005, '무탐': 9006, '쌩까다': 9007, '마주': 9008, '그따위': 9009, '후리': 9010, '촉촉쫀득': 9011, '염소': 9012, '느꼇': 9013, '팍': 9014, '일주': 9015, '기보': 9016, '떡파채': 9017, '자자하다': 9018, '분동': 9019, 'ㄱㅈㄷㄱㄴㅂ': 9020, 'ㄱㅈㅂㄷㅂ': 9021, '데코': 9022, '중국': 9023, 'ㄱㄴㅋㅋㅋㅋ': 9024, '마토': 9025, '애플': 9026, '랑께': 9027, '롱': 9028, '헐렁헐렁하다': 9029, '괜찬은편': 9030, '영아': 9031, '어우거러루러': 9032, '괜찮슴다': 9033, '미아': 9034, '눌려진': 9035, '어후': 9036, '부리': 9037, '정통파': 9038, '닮다': 9039, '진달': 9040, '단전': 9041, '과다르': 9042, '더빠짝익혀': 9043, '컨셉': 9044, '강조': 9045, 'ㅋㅋㅋㅋㅋㅋㅋㄱㄲ': 9046, '수구': 9047, '수수': 9048, 'ㅜㅅ': 9049, '구구구구구구구': 9050, '랗': 9051, '감상': 9052, '라따': 9053, '결혼': 9054, '기프티콘': 9055, '유후': 9056, '그랬더니': 9057, '뮤맛': 9058, '향기': 9059, '나아가다': 9060, '무릉도원': 9061, '핵윱': 9062, '벼롤': 9063, '벼로': 9064, '보령': 9065, '뿌링클맛': 9066, '모텔': 9067, '회사원': 9068, '비니': 9069, '냠냐미': 9070, '뭐던': 9071, 'ㅎㅎㅎㅎㅎㅍㅍ': 9072, '믓': 9073, '의무': 9074, '죽지': 9075, '주택': 9076, '대문': 9077, '여름철': 9078, '이연': 9079, '는지': 9080, '리부': 9081, '핵노맛': 9082, '염제': 9083, 'ㅋㅋㄹㄹ': 9084, '기침': 9085, '배무': 9086, 'ㅜㅜㅜㅜㅜㅜㅜㅜㅜㅜㅠ': 9087, '질척질척': 9088, 'ㅏㅏㅏㅏㅏㅏㅏ': 9089, '여가': 9090, '지스': 9091, '배구': 9092, 'ㅈㅣ': 9093, '닝콘': 9094, '건더기': 9095, '분맘': 9096, '나아아': 9097, '라차': 9098, '내기': 9099, '개마리': 9100, '대접받다': 9101, '너덜너덜하다': 9102, '김치볶음밥': 9103, '인편': 9104, '춘하': 9105, '고참': 9106, '눙물': 9107, '아싹': 9108, '맛도윱': 9109, '아메리카노': 9110, '장시간': 9111, '승화': 9112, '슐랭존맛탱': 9113, '맛앗': 9114, '도각': 9115, '국립재활원': 9116, '주문진': 9117, '생존': 9118, '여름밤': 9119, '겉빠속초': 9120, '대학교': 9121, '기숙사': 9122, '피똥쌈': 9123, '곡': 9124, '모듀': 9125, '잘멋었읍니': 9126, '인적': 9127, '근간': 9128, '불가능': 9129, '닯발': 9130, '남매': 9131, '맛으루': 9132, '젤루': 9133, '잔해': 9134, '이구만': 9135, '처은': 9136, '게요': 9137, '금호동': 9138, '드류': 9139, '뺑칟쑈쑈쑈쑈쑈쑈': 9140, '쑈쑈쑈': 9141, '겉빠속촉': 9142, '감자탕': 9143, '광광': 9144, 'ㅈㄷㄴ': 9145, '금새': 9146, '맨손': 9147, '구영': 9148, '찰지다': 9149, '생선': 9150, '머믐': 9151, '경력': 9152, '따근따근': 9153, '쀼링콜팝': 9154, '메융': 9155, '키킬때': 9156, '차요': 9157, '웜붐': 9158, '몽그롱글한': 9159, '핫뽀끼': 9160, '업주': 9161, '따리': 9162, '죤맛탕': 9163, '맛나게머것슴다': 9164, '온대': 9165, '재우다': 9166, 'ㅠㅜㅠㅠㅠ': 9167, '일부분': 9168, '롯데리아': 9169, '무서움': 9170, '리느뉴': 9171, '저니': 9172, '맛평': 9173, '마시쩌룡': 9174, '더른데': 9175, '청결하다': 9176, '즈르르르르': 9177, '도와주다': 9178, '고츤': 9179, '꾀': 9180, '본격': 9181, '엇그제': 9182, '슴느': 9183, '보증': 9184, '막내': 9185, '켱': 9186, '지영': 9187, '깻입': 9188, '찌르다': 9189, '숴용': 9190, '쥐다': 9191, '먹렀습니': 9192, '단독': 9193, '일식': 9194, '반박': 9195, '사형': 9196, '넴': 9197, '학학': 9198, '미우다': 9199, '끌다': 9200, '치파오': 9201, '어뜨케': 9202, '쪼매': 9203, '하압': 9204, '그랬슴다': 9205, '만만': 9206, '최겅': 9207, '삼분': 9208, '아슬아슬': 9209, '지나치다': 9210, '대망': 9211, '거뭇거뭇': 9212, '한눈': 9213, '즈음': 9214, '구토': 9215, '스카치': 9216, '마싯쥬': 9217, '바삿': 9218, '꼽자': 9219, 'ㄹㅣ': 9220, 'ㅊㄱㅈㄴㄴ': 9221, 'ㅁㅅㅋㄴ': 9222, '만쿠': 9223, '중상': 9224, '겟습': 9225, '마음속': 9226, '먹엇어용': 9227, '스피도': 9228, '누꼬찐': 9229, '만만하다': 9230, 'ㅠㅜㅜㅜㅜ': 9231, '꾸밈': 9232, '갈증': 9233, '차디차다': 9234, '때점': 9235, '중요': 9236, '땡초쪽': 9237, '맛었습니': 9238, '대목': 9239, '개편': 9240, '편안': 9241, '만다린': 9242, '전과': 9243, '러스트': 9244, '밋있다': 9245, '넘마씨썽': 9246, '냠냠얌': 9247, '리빙텔': 9248, '함부로': 9249, '냈윱': 9250, '어쉬웠': 9251, '구르르르굳': 9252, '구김': 9253, '걸렷어': 9254, 'ㅛㅛㅛㅛㅛㅛㅛ': 9255, '굿굿굿맛굿': 9256, '슬': 9257, '냐냠': 9258, '오레': 9259, 'ㅓㅓㅓㅓㅓㅓㅓㅓㅓㅓ': 9260, '간인': 9261, '껌짝': 9262, '헛구역질': 9263, '고의': 9264, '들어쥬셔': 9265, '분하다': 9266, '전적': 9267, '쏙듬': 9268, '이크': 9269, '좀덜': 9270, '으로라도': 9271, '늦엊': 9272, '요추': 9273, '잠금장치': 9274, '노파': 9275, '한정판': 9276, '매라': 9277, '맑은': 9278, '쏙듭니': 9279, '군용': 9280, '혜택': 9281, '로온': 9282, 'ㅇㅇㅇㅇㄹㄹㄲㅇㄲㅇ': 9283, 'ㄱㄱㄱㄱㄱㄱㄱㄱㄱㄱㄱ': 9284, '볼걸': 9285, '유입': 9286, '쪼까': 9287, '전문': 9288, '점거': 9289, '안국역': 9290, '기진': 9291, '눈누난나': 9292, '만조': 9293, '뭉개졌': 9294, '고명': 9295, '공감': 9296, '버뜨': 9297, '들락날락': 9298, '뭐말': 9299, '쥐': 9300, '풀겸': 9301, '번재': 9302, '한겨울': 9303, '과속': 9304, '대조': 9305, '방식': 9306, 'ㅋㅋㅜㅜ': 9307, '환호': 9308, '장만': 9309, '왜왜왜': 9310, '두둑하다': 9311, '갸우뚱': 9312, '만오천원': 9313, '사천원': 9314, '만구천원': 9315, '팔천원': 9316, '틀': 9317, '쩌증': 9318, '언되': 9319, '습돠': 9320, '감복': 9321, '뿜어져': 9322, '오밤중': 9323, '졸리': 9324, '칼슘': 9325, '섭취': 9326, '니나': 9327, '장기': 9328, '외롭다': 9329, '원사': 9330, '속세': 9331, '어문': 9332, '탄두리': 9333, '거릴정도': 9334, '리코': 9335, '새해인사': 9336, '만들어지다': 9337, '세로드립': 9338, '폐': 9339, '검정': 9340, '달려가다': 9341, '헬스장': 9342, '향수': 9343, '츄천츄': 9344, '상중하': 9345, '술살': 9346, '꿋수': 9347, '빨랏습니당': 9348, '뱃살': 9349, '마었어용': 9350, '야외': 9351, '옆떡': 9352, '잘목었숩나': 9353, '부탁드령': 9354, '간장앙념': 9355, '간신히': 9356, '좌측': 9357, '좋쿠': 9358, '은곳임': 9359, 'ㅍㅌ': 9360, '멱었': 9361, '조안': 9362, '조조조조': 9363, '헉헉': 9364, '송': 9365, '리치': 9366, 'ㅈㅎㅌㅊ': 9367, '이그': 9368, '강가': 9369, '활짝': 9370, '꼼장어': 9371, '진쩌': 9372, '어더어': 9373, 'ㅠㅠㅋ': 9374, '팝콜': 9375, '도참': 9376, '종도': 9377, '진성': 9378, '또시켜먹엇네용': 9379, '렛': 9380, '꾸루': 9381, '끈적끈적하다': 9382, '핫양녕': 9383, '이의': 9384, '상임': 9385, '힙니': 9386, '은줄': 9387, '항용': 9388, '으어': 9389, '암모니아': 9390, '후너': 9391, '에서와': 9392, '아날로그': 9393, '프랜': 9394, '막엇습니': 9395, '자꾸자꾸': 9396, '치밥이쥬': 9397, '볼케': 9398, '노로': 9399, '캡': 9400, '벗어나다': 9401, '머무': 9402, '니다': 9403, '들숨': 9404, '날숨': 9405, '따로따로': 9406, '맛탱존멋탱스': 9407, '프린트': 9408, '맛투존': 9409, '조심조심': 9410, '담배': 9411, '맛른': 9412, '자투리': 9413, 'ㄴㄱㅅㄴㅂㄴㄱㄷㅂㄱㅅㅈㄱㄴㅂㅅ': 9414, '겨를': 9415, '녜': 9416, '여사': 9417, '농락': 9418, '도아': 9419, '쌔긴합니': 9420, '러료': 9421, '맛없스': 9422, '무작위': 9423, '닭씬': 9424, '오류로': 9425, '공격': 9426, '오차': 9427, '비릿했음': 9428, '콘도': 9429, '물량': 9430, '맛나는뎁': 9431, '했눈뎁': 9432, '아라하': 9433, 'ㄱㅊㄱㅊㄱㅊ': 9434, '음역': 9435, 'ㅜㅋㅋㅋㅋ': 9436, '킹기훈': 9437, '방송': 9438, '존버했더': 9439, '해오': 9440, '때때로': 9441, '적양배추': 9442, '물통': 9443, '킹초킹': 9444, '돔': 9445, '대루': 9446, '타이틀': 9447, '또봉': 9448, '완퍽퍽': 9449, '당제': 9450, '파좀': 9451, '레몬': 9452, '바빳는': 9453, '치우치다': 9454, '휴업': 9455, '대여섯': 9456, '측정': 9457, '느렷': 9458, '수록': 9459, '맛없엇음': 9460, '촌': 9461, '내이': 9462, '사레': 9463, '적진': 9464, '첬': 9465, '햇었습': 9466, '어머': 9467, '마악': 9468, '자연': 9469, '아이스크림': 9470, '앤테이': 9471, '굿드맛나': 9472, '나워': 9473, '운행': 9474, '짭쪼르름': 9475, '판': 9476, '삼겹': 9477, 'ㄷㄷㄷㄷ': 9478, '퍼줬대': 9479, '코로나바이러스': 9480, '해주셧': 9481, '빠이팅': 9482, '임산부': 9483, '본능': 9484, '달전': 9485, '말아먹다': 9486, 'ㅉㅣ': 9487, '는게': 9488, '식신': 9489, '악플': 9490, '도마': 9491, '많쿠용': 9492, '살음': 9493, '너겟맛': 9494, '파지': 9495, '딜리셔스': 9496, '막둥이': 9497, 'ㅠㅋㅋㅋㅋㅋㅋ': 9498, '돈길': 9499, '관': 9500, '규꼭': 9501, '리만큼': 9502, '상세': 9503, '시오': 9504, '알아차리다': 9505, '맛초킥': 9506, '홀수': 9507, '항강': 9508, '달강': 9509, '거림': 9510, '달력': 9511, '텨': 9512, '뜨끈뜨근하': 9513, 'ㅢㅢㅢㄷㅉㄴㄱ': 9514, '거론': 9515, '토핑이': 9516, '라든가': 9517, '물자': 9518, '마자': 9519, '갑자': 9520, '기와': 9521, '몽땅': 9522, '맹닭으루': 9523, 'ㅋㅎㅋㅎㅋㅎㅋㅎㅎㅋ': 9524, '해사': 9525, '린': 9526, '벤제마': 9527, '적절': 9528, '번거': 9529, '미세하다': 9530, '완존맛': 9531, '맛이넹': 9532, '진화': 9533, '엇데': 9534, 'ㅈㅈ': 9535, '식중독': 9536, '냄냠냠냠': 9537, '마수': 9538, '으이': 9539, '잊혀지다': 9540, 'ㄹㅇㅋㅋ': 9541, '음좀': 9542, '상관': 9543, '옆방': 9544, '어쩌란건': 9545, '땅기': 9546, '좇뻗': 9547, '좇': 9548, '로다': 9549, '벌칙': 9550, '쫄': 9551, '빈약하다': 9552, 'ㅋㅌ': 9553, '저글링': 9554, '더러워지다': 9555, '생신': 9556, '듬성듬성': 9557, '이시이': 9558, '우마': 9559, '싸이다': 9560, '애운': 9561, '큰딸': 9562, '급체': 9563, '고간': 9564, '추운': 9565, '뻔뻔': 9566, '이대': 9567, '이자': 9568, '럽': 9569, '이조': 9570, '엄빠': 9571, 'ㅠㅅㅠ': 9572, '사각사각': 9573, '수락': 9574, '삼총사': 9575, '트리오': 9576, '구웅': 9577, '오오오오오오오오': 9578, '무하': 9579, '페퍼로니': 9580, '호롤로': 9581, '록': 9582, '맛밌네': 9583, '반드시': 9584, '첫째': 9585, '우엉': 9586, '빨랏읍': 9587, '세련되다': 9588, '없엇어': 9589, '섭': 9590, '페뤼카': 9591, '안퓸': 9592, '묵겠슴다': 9593, '육계': 9594, '추가햐': 9595, '나마': 9596, '띵': 9597, '느글': 9598, '불지': 9599, '문택주': 9600, '구가': 9601, '담뱍': 9602, '단체': 9603, '어수선하다': 9604, '주전': 9605, '드문드문': 9606, '뿔': 9607, '비결': 9608, 'ㅛㅛ': 9609, '자네': 9610, '목도': 9611, '감자튀기': 9612, '상존': 9613, '의업': 9614, '이구나': 9615, 'ㅁㅇㅇㅇㅉㅉㅉㅉㅉㅉ': 9616, '옴욤욤옴': 9617, '어려움': 9618, '데마': 9619, '고담': 9620, '깍': 9621, '마테': 9622, '애애애': 9623, '조씨': 9624, '취저였어': 9625, '항성': 9626, '고층': 9627, '바베큐치킨': 9628, '굳굳구둑듀묽뺑': 9629, '겡': 9630, '퀵': 9631, '있숩니': 9632, '서거': 9633, '멈칫': 9634, '엇어요뿌': 9635, '같슴다': 9636, '실력': 9637, '다태': 9638, '옴욤': 9639, '랠랠': 9640, '파일': 9641, '녀': 9642, '축': 9643, '암거': 9644, '원산지': 9645, '추구': 9646, '정식': 9647, '컴블레': 9648, '흐엉': 9649, '쁘링쁘링': 9650, '성은': 9651, '상해': 9652, '신혼부부': 9653, '하오': 9654, 'ㅜㅜㅜㅡㅜㅜ': 9655, '보샤': 9656, '수요일': 9657, '걸죽': 9658, '슬픔': 9659, '깜빡깜빡': 9660, '개집': 9661, '간편': 9662, '롭고': 9663, '릿': 9664, '감자전': 9665, '풀땐': 9666, '둘러보다': 9667, '예선': 9668, '레바': 9669, '논전': 9670, '장면': 9671, '우리나라': 9672, '빠삭달콤': 9673, '강하니': 9674, 'ㅎㅓ': 9675, '먹었슴동': 9676, '현명하다': 9677, '월말': 9678, '올로': 9679, '야물다': 9680, '서전': 9681, 'ㅔㅇ': 9682, 'ㅋㅋㅋㅋㅋㅋㅋㅋㅋㅋㅋㅋㅋㅋㅋㅋㅋㅋㅋㅋㅋ': 9683, '안왓어': 9684, '맹탕': 9685, '홍수': 9686, '글코': 9687, '괸춘해': 9688, '시품': 9689, 'ㅓㄴㅈ': 9690, '더메저': 9691, '좁다': 9692, '주스': 9693, '질적': 9694, '훌룡': 9695, '요별': 9696, '케바케': 9697, '쓴소리': 9698, '흐리다': 9699, '막걸리': 9700, 'ㅈㅏ': 9701, '어우우': 9702, '작은딸': 9703, '맨입': 9704, '세기': 9705, '발란스': 9706, '짝꿍': 9707, '마땅하다': 9708, '반찬거리': 9709, '삐뚜러진': 9710, '칠': 9711, 'ㅆㅅㅅㅅㅅㅅㅇㅅㅅㅇㅇㅅㅅㅅ': 9712, '무성의': 9713, '쌩': 9714, '비릿': 9715, '당시': 9716, '좌르르': 9717, '었는데올': 9718, '고먀미': 9719, '술를': 9720, '맛를': 9721, '셋팅': 9722, '발명품': 9723, '한순간': 9724, '추펀': 9725, '레이크': 9726, '밀접': 9727, '접촉': 9728, '주님': 9729, '고충': 9730, '귿귿귿귿귿귿귿귿': 9731, '묵비권': 9732, '네로': 9733, '너무빠삭': 9734, '살임': 9735, 'ㅎㄴㅎㄴㄴ': 9736, '허나랠슈껙숴': 9737, '숴': 9738, '밑줄': 9739, '헤비': 9740, '지니다': 9741, '물렁물렁하다': 9742, '입가': 9743, '심용': 9744, '입틀막': 9745, '살집': 9746, '꿀맛띠': 9747, '지렁이': 9748, '부복': 9749, '관할': 9750, '무책임하다': 9751, '배모': 9752, '뉴스': 9753, '먹어보쥬': 9754, '존맵': 9755, '울면': 9756, '분좀': 9757, '로안': 9758, '시어': 9759, '연두': 9760, '감히': 9761, '주소지': 9762, '쿠키': 9763, '자몽': 9764, '누런': 9765, 'ㅋㅋㄹㅃㅃ': 9766, '달려오다': 9767, '쥬셧': 9768, '맛았어욤': 9769, '나머': 9770, '마력': 9771, '맞쥬': 9772, '맛싯어': 9773, '에서나': 9774, '감초': 9775, '비중': 9776, '다릿살': 9777, '붉은빛': 9778, '자동차극장': 9779, '이격': 9780, 'ㅇㅅㅇㅅㅇㅅㅇㅅㅇㅅㅇㅅㅇㅅㅇ': 9781, '시인': 9782, '뿌링뿌링쁘링클뿌': 9783, '호로로': 9784, '롤': 9785, '하묘': 9786, '성의껏': 9787, '흐믈느글': 9788, '질감': 9789, '발생': 9790, '한가하다': 9791, '짙다': 9792, '우승': 9793, '가래': 9794, '구석구석': 9795, 'ㅡㅎ': 9796, '제작': 9797, '간절': 9798, '그르지맙시': 9799, '맛용': 9800, '마싯죵': 9801, '쩌요르': 9802, 'ㅇㄱㅈㅋㄷㅂㄷㅂㅇㅂㅇㄱㄷㄱㄷ': 9803}\n"
     ]
    }
   ],
   "source": [
    "print(tokenizer.word_index)"
   ]
  },
  {
   "cell_type": "code",
   "execution_count": 26,
   "id": "3efa9c8b",
   "metadata": {},
   "outputs": [
    {
     "name": "stdout",
     "output_type": "stream",
     "text": [
      "단어 집합(vocabulary)의 크기 : 9803\n",
      "등장 빈도가 2번 이하인 희귀 단어의 수: 5863\n",
      "단어 집합에서 희귀 단어의 비율: 59.80822197286545\n",
      "전체 등장 빈도에서 희귀 단어 등장 빈도 비율: 2.8653306645444974\n"
     ]
    }
   ],
   "source": [
    "threshold = 3\n",
    "total_cnt = len(tokenizer.word_index) # 단어의 수\n",
    "rare_cnt = 0 # 등장 빈도수가 threshold보다 작은 단어의 개수를 카운트\n",
    "total_freq = 0 # 훈련 데이터의 전체 단어 빈도수 총 합\n",
    "rare_freq = 0 # 등장 빈도수가 threshold보다 작은 단어의 등장 빈도수의 총 합\n",
    "\n",
    "# 단어와 빈도수의 쌍(pair)을 key와 value로 받는다.\n",
    "for key, value in tokenizer.word_counts.items():\n",
    "    total_freq = total_freq + value\n",
    "\n",
    "    # 단어의 등장 빈도수가 threshold보다 작으면\n",
    "    if(value < threshold):\n",
    "        rare_cnt = rare_cnt + 1\n",
    "        rare_freq = rare_freq + value\n",
    "\n",
    "print('단어 집합(vocabulary)의 크기 :',total_cnt)\n",
    "print('등장 빈도가 %s번 이하인 희귀 단어의 수: %s'%(threshold - 1, rare_cnt))\n",
    "print(\"단어 집합에서 희귀 단어의 비율:\", (rare_cnt / total_cnt)*100)\n",
    "print(\"전체 등장 빈도에서 희귀 단어 등장 빈도 비율:\", (rare_freq / total_freq)*100)"
   ]
  },
  {
   "cell_type": "code",
   "execution_count": 27,
   "id": "7539e365",
   "metadata": {},
   "outputs": [
    {
     "name": "stdout",
     "output_type": "stream",
     "text": [
      "단어 집합의 크기 : 3941\n"
     ]
    }
   ],
   "source": [
    "# 전체 단어 개수 중 빈도수 2이하인 단어는 제거.\n",
    "# 0번 패딩 토큰을 고려하여 + 1\n",
    "vocab_size = total_cnt - rare_cnt + 1\n",
    "print('단어 집합의 크기 :',vocab_size)"
   ]
  },
  {
   "cell_type": "code",
   "execution_count": 28,
   "id": "2fc17e49",
   "metadata": {},
   "outputs": [],
   "source": [
    "# 텍스트 시퀀스를 정수 시퀀스로 변환\n",
    "tokenizer = Tokenizer(vocab_size) \n",
    "tokenizer.fit_on_texts(X_train)\n",
    "X_train = tokenizer.texts_to_sequences(X_train)\n",
    "X_test = tokenizer.texts_to_sequences(X_test)"
   ]
  },
  {
   "cell_type": "code",
   "execution_count": 29,
   "id": "8d68aaaa",
   "metadata": {},
   "outputs": [
    {
     "name": "stdout",
     "output_type": "stream",
     "text": [
      "[[1596, 443, 64, 811], [4, 29, 38, 3, 70, 12, 46, 91, 28, 33], [65, 97, 436, 265, 364, 265, 7, 3, 70, 12]]\n"
     ]
    }
   ],
   "source": [
    "# 정수 인코딩이 되었는지 확인\n",
    "print(X_train[:3])"
   ]
  },
  {
   "cell_type": "code",
   "execution_count": 30,
   "id": "de9431c2",
   "metadata": {},
   "outputs": [],
   "source": [
    "# train_data에서 y_train과 y_test를 별도로 저장해준다\n",
    "y_train = np.array(train_data['Label'])\n",
    "y_test = np.array(test_data['Label'])"
   ]
  },
  {
   "cell_type": "markdown",
   "id": "00a85fef",
   "metadata": {},
   "source": [
    "### 빈 샘플(empty samples) 제거\n",
    "전체 데이터에서 빈도수가 낮은 단어가 삭제되었다는 것은 빈도수가 낮은 단어만으로 구성되었던 샘플들은 빈(empty) 샘플이 되었다는 것을 의미합니다. 빈 샘플들은 어떤 레이블이 붙어있던 의미가 없으므로 빈 샘플들을 제거해주는 작업을 하겠습니다. 각 샘플들의 길이를 확인해서 길이가 0인 샘플들의 인덱스를 받아오겠습니다."
   ]
  },
  {
   "cell_type": "code",
   "execution_count": 31,
   "id": "ecc33ef4",
   "metadata": {},
   "outputs": [],
   "source": [
    "drop_train = [index for index, sentence in enumerate(X_train) if len(sentence) < 1]"
   ]
  },
  {
   "cell_type": "code",
   "execution_count": 32,
   "id": "790df3c2",
   "metadata": {},
   "outputs": [
    {
     "name": "stdout",
     "output_type": "stream",
     "text": [
      "X_train 샘플 제거 후 개수: 22678\n",
      "y_train 샘플 제거 후 개수: 22678\n"
     ]
    }
   ],
   "source": [
    "# 빈 샘플들을 제거\n",
    "X_train = np.delete(X_train, drop_train, axis=0)\n",
    "y_train = np.delete(y_train, drop_train, axis=0)\n",
    "print('X_train 샘플 제거 후 개수:',len(X_train))\n",
    "print('y_train 샘플 제거 후 개수:',len(y_train))"
   ]
  },
  {
   "cell_type": "markdown",
   "id": "abd2ae67",
   "metadata": {},
   "source": [
    "### 패딩\n",
    "서로 다른 길이의 샘플들의 길이를 동일하게 맞춰주는 패딩 작업 진행"
   ]
  },
  {
   "cell_type": "code",
   "execution_count": 33,
   "id": "223a933e",
   "metadata": {},
   "outputs": [
    {
     "name": "stdout",
     "output_type": "stream",
     "text": [
      "리뷰의 최대 길이 : 100\n",
      "리뷰의 평균 길이 : 10.656715759767176\n"
     ]
    },
    {
     "data": {
      "image/png": "[encoded data removed]",
      "text/plain": [
       "<Figure size 432x288 with 1 Axes>"
      ]
     },
     "metadata": {
      "needs_background": "light"
     },
     "output_type": "display_data"
    }
   ],
   "source": [
    "# 전체 데이터에서 가장 길이가 긴 리뷰와 전체 데이터의 길이 분포\n",
    "\n",
    "print('리뷰의 최대 길이 :',max(len(review) for review in X_train))\n",
    "print('리뷰의 평균 길이 :',sum(map(len, X_train))/len(X_train))\n",
    "plt.hist([len(review) for review in X_train], bins=50)\n",
    "plt.xlabel('length of samples')\n",
    "plt.ylabel('number of samples')\n",
    "plt.show()"
   ]
  },
  {
   "cell_type": "markdown",
   "id": "35614eae",
   "metadata": {},
   "source": [
    "가장 긴 리뷰의 길이는 89이며, 그래프를 봤을 때 전체 데이터의 길이 분포는 대체적으로 약 11내외의 길이를 가지는 것을 볼 수 있습니다. 모델이 처리할 수 있도록 X_train과 X_test의 모든 샘플의 길이를 특정 길이로 동일하게 맞춰줄 필요가 있습니다. 특정 길이 변수를 max_len으로 정합니다. 대부분의 리뷰가 내용이 잘리지 않도록 할 수 있는 최적의 max_len의 값은 몇일까요? 전체 샘플 중 길이가 max_len 이하인 샘플의 비율이 몇 %인지 확인하는 함수를 만듭니다."
   ]
  },
  {
   "cell_type": "code",
   "execution_count": 34,
   "id": "8e85500b",
   "metadata": {},
   "outputs": [],
   "source": [
    "def below_threshold_len(max_len, nested_list):\n",
    "  count = 0\n",
    "  for sentence in nested_list:\n",
    "    if(len(sentence) <= max_len):\n",
    "        count = count + 1\n",
    "  print('전체 샘플 중 길이가 %s 이하인 샘플의 비율: %s'%(max_len, (count / len(nested_list))*100))"
   ]
  },
  {
   "cell_type": "code",
   "execution_count": 35,
   "id": "18d30f02",
   "metadata": {},
   "outputs": [
    {
     "name": "stdout",
     "output_type": "stream",
     "text": [
      "전체 샘플 중 길이가 30 이하인 샘플의 비율: 94.43513537348971\n"
     ]
    }
   ],
   "source": [
    "max_len = 30\n",
    "below_threshold_len(max_len, X_train)"
   ]
  },
  {
   "cell_type": "code",
   "execution_count": 36,
   "id": "d3a70da3",
   "metadata": {},
   "outputs": [],
   "source": [
    "# 전체 훈련 데이터 중 약 94%의 리뷰가 30이하의 길이를 가지는 것을 확인\n",
    "# 모든 샘플의 길이를 30으로 맞추기\n",
    "X_train = pad_sequences(X_train, maxlen=max_len)\n",
    "X_test = pad_sequences(X_test, maxlen=max_len)"
   ]
  },
  {
   "cell_type": "code",
   "execution_count": 37,
   "id": "0f4931d7",
   "metadata": {},
   "outputs": [
    {
     "name": "stdout",
     "output_type": "stream",
     "text": [
      "Epoch 1/15\n",
      "283/284 [============================>.] - ETA: 0s - loss: 0.3581 - acc: 0.8447\n",
      "Epoch 1: val_acc improved from -inf to 0.91226, saving model to best_model.h5\n",
      "284/284 [==============================] - 23s 69ms/step - loss: 0.3577 - acc: 0.8449 - val_loss: 0.2239 - val_acc: 0.9123\n",
      "Epoch 2/15\n",
      "283/284 [============================>.] - ETA: 0s - loss: 0.2603 - acc: 0.8967\n",
      "Epoch 2: val_acc improved from 0.91226 to 0.92372, saving model to best_model.h5\n",
      "284/284 [==============================] - 18s 63ms/step - loss: 0.2607 - acc: 0.8965 - val_loss: 0.2201 - val_acc: 0.9237\n",
      "Epoch 3/15\n",
      "283/284 [============================>.] - ETA: 0s - loss: 0.2463 - acc: 0.9017\n",
      "Epoch 3: val_acc improved from 0.92372 to 0.92747, saving model to best_model.h5\n",
      "284/284 [==============================] - 18s 64ms/step - loss: 0.2461 - acc: 0.9018 - val_loss: 0.1967 - val_acc: 0.9275\n",
      "Epoch 4/15\n",
      "283/284 [============================>.] - ETA: 0s - loss: 0.2339 - acc: 0.9086\n",
      "Epoch 4: val_acc did not improve from 0.92747\n",
      "284/284 [==============================] - 19s 65ms/step - loss: 0.2341 - acc: 0.9086 - val_loss: 0.2232 - val_acc: 0.9147\n",
      "Epoch 5/15\n",
      "283/284 [============================>.] - ETA: 0s - loss: 0.2229 - acc: 0.9119\n",
      "Epoch 5: val_acc improved from 0.92747 to 0.93364, saving model to best_model.h5\n",
      "284/284 [==============================] - 19s 66ms/step - loss: 0.2229 - acc: 0.9120 - val_loss: 0.1959 - val_acc: 0.9336\n",
      "Epoch 6/15\n",
      "283/284 [============================>.] - ETA: 0s - loss: 0.2123 - acc: 0.9172\n",
      "Epoch 6: val_acc did not improve from 0.93364\n",
      "284/284 [==============================] - 20s 69ms/step - loss: 0.2123 - acc: 0.9172 - val_loss: 0.2214 - val_acc: 0.9149\n",
      "Epoch 7/15\n",
      "283/284 [============================>.] - ETA: 0s - loss: 0.2009 - acc: 0.9224\n",
      "Epoch 7: val_acc did not improve from 0.93364\n",
      "284/284 [==============================] - 19s 68ms/step - loss: 0.2010 - acc: 0.9224 - val_loss: 0.2447 - val_acc: 0.9074\n",
      "Epoch 8/15\n",
      "284/284 [==============================] - ETA: 0s - loss: 0.1910 - acc: 0.9262\n",
      "Epoch 8: val_acc did not improve from 0.93364\n",
      "284/284 [==============================] - 21s 72ms/step - loss: 0.1910 - acc: 0.9262 - val_loss: 0.2200 - val_acc: 0.9211\n",
      "Epoch 9/15\n",
      "284/284 [==============================] - ETA: 0s - loss: 0.1832 - acc: 0.9293\n",
      "Epoch 9: val_acc did not improve from 0.93364\n",
      "284/284 [==============================] - 28s 99ms/step - loss: 0.1832 - acc: 0.9293 - val_loss: 0.2517 - val_acc: 0.9078\n",
      "Epoch 9: early stopping\n"
     ]
    }
   ],
   "source": [
    "from tensorflow.keras.layers import Embedding, Dense, LSTM\n",
    "from tensorflow.keras.models import Sequential\n",
    "from tensorflow.keras.models import load_model\n",
    "from tensorflow.keras.callbacks import EarlyStopping, ModelCheckpoint\n",
    "\n",
    "embedding_dim = 100\n",
    "hidden_units = 128\n",
    "\n",
    "model = Sequential()\n",
    "model.add(Embedding(vocab_size, embedding_dim))\n",
    "model.add(LSTM(hidden_units))\n",
    "model.add(Dense(1, activation='sigmoid'))\n",
    "\n",
    "es = EarlyStopping(monitor='val_loss', mode='min', verbose=1, patience=4)\n",
    "mc = ModelCheckpoint('best_model.h5', monitor='val_acc', mode='max', verbose=1, save_best_only=True)\n",
    "\n",
    "model.compile(optimizer='rmsprop', loss='binary_crossentropy', metrics=['acc'])\n",
    "history = model.fit(X_train, y_train, epochs=15, callbacks=[es, mc], batch_size=64, validation_split=0.2)"
   ]
  },
  {
   "cell_type": "code",
   "execution_count": 38,
   "id": "a731f711",
   "metadata": {},
   "outputs": [
    {
     "name": "stdout",
     "output_type": "stream",
     "text": [
      "200/200 [==============================] - 5s 19ms/step - loss: 0.3047 - acc: 0.8893\n",
      "\n",
      " 테스트 정확도: 0.8893\n"
     ]
    }
   ],
   "source": [
    "loaded_model = load_model('best_model.h5')\n",
    "print(\"\\n 테스트 정확도: %.4f\" % (loaded_model.evaluate(X_test, y_test)[1]))"
   ]
  },
  {
   "cell_type": "code",
   "execution_count": 39,
   "id": "74e4d1c4",
   "metadata": {},
   "outputs": [],
   "source": [
    "def sentiment_predict(new_sentence):\n",
    "  new_sentence = re.sub(r'[^ㄱ-ㅎㅏ-ㅣ가-힣 ]','', new_sentence)\n",
    "  new_sentence = okt.morphs(new_sentence, stem=True) # 토큰화\n",
    "  new_sentence = [word for word in new_sentence if not word in stopwords] # 불용어 제거\n",
    "  encoded = tokenizer.texts_to_sequences([new_sentence]) # 정수 인코딩\n",
    "  pad_new = pad_sequences(encoded, maxlen = max_len) # 패딩\n",
    "  score = float(loaded_model.predict(pad_new)) # 예측\n",
    "  if(score > 0.5):\n",
    "    print(\"{:.2f}% 확률로 긍정 리뷰입니다.\\n\".format(score * 100))\n",
    "  else:\n",
    "    print(\"{:.2f}% 확률로 부정 리뷰입니다.\\n\".format((1 - score) * 100))"
   ]
  },
  {
   "cell_type": "code",
   "execution_count": 79,
   "id": "4821115f",
   "metadata": {},
   "outputs": [
    {
     "name": "stdout",
     "output_type": "stream",
     "text": [
      "87.73% 확률로 부정 리뷰입니다.\n",
      "\n"
     ]
    }
   ],
   "source": [
    "sentiment_predict('배달도 느리고 치킨은 다 식어서 앞으로 여기서 안먹을거같네요..')"
   ]
  },
  {
   "cell_type": "code",
   "execution_count": 83,
   "id": "0218cd25",
   "metadata": {},
   "outputs": [
    {
     "name": "stdout",
     "output_type": "stream",
     "text": [
      "99.99% 확률로 긍정 리뷰입니다.\n",
      "\n"
     ]
    }
   ],
   "source": [
    "sentiment_predict('역시 믿고 먹는 치느님')"
   ]
  }
 ],
 "metadata": {
  "kernelspec": {
   "display_name": "Python 3 (ipykernel)",
   "language": "python",
   "name": "python3"
  },
  "language_info": {
   "codemirror_mode": {
    "name": "ipython",
    "version": 3
   },
   "file_extension": ".py",
   "mimetype": "text/x-python",
   "name": "python",
   "nbconvert_exporter": "python",
   "pygments_lexer": "ipython3",
   "version": "3.9.7"
  }
 },
 "nbformat": 4,
 "nbformat_minor": 5
}
