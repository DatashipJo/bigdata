{
 "cells": [
  {
   "cell_type": "code",
   "execution_count": 39,
   "id": "cf3c3cb6",
   "metadata": {},
   "outputs": [],
   "source": [
    "import pandas as pd\n",
    "import numpy as np\n",
    "import matplotlib.pyplot as plt\n",
    "import re\n",
    "import urllib.request\n",
    "from konlpy.tag import Okt\n",
    "from tqdm import tqdm\n",
    "from tensorflow.keras.preprocessing.text import Tokenizer\n",
    "from tensorflow.keras.preprocessing.sequence import pad_sequences\n",
    "from sklearn.model_selection import train_test_split\n",
    "import warnings\n",
    "warnings.filterwarnings('ignore')"
   ]
  },
  {
   "cell_type": "code",
   "execution_count": 11,
   "id": "bc6304eb",
   "metadata": {},
   "outputs": [
    {
     "data": {
      "text/html": [
       "<div>\n",
       "<style scoped>\n",
       "    .dataframe tbody tr th:only-of-type {\n",
       "        vertical-align: middle;\n",
       "    }\n",
       "\n",
       "    .dataframe tbody tr th {\n",
       "        vertical-align: top;\n",
       "    }\n",
       "\n",
       "    .dataframe thead th {\n",
       "        text-align: right;\n",
       "    }\n",
       "</style>\n",
       "<table border=\"1\" class=\"dataframe\">\n",
       "  <thead>\n",
       "    <tr style=\"text-align: right;\">\n",
       "      <th></th>\n",
       "      <th>아이디</th>\n",
       "      <th>리뷰</th>\n",
       "      <th>Label</th>\n",
       "    </tr>\n",
       "  </thead>\n",
       "  <tbody>\n",
       "    <tr>\n",
       "      <th>0</th>\n",
       "      <td>oo**님</td>\n",
       "      <td>N</td>\n",
       "      <td>1</td>\n",
       "    </tr>\n",
       "    <tr>\n",
       "      <th>1</th>\n",
       "      <td>de**님</td>\n",
       "      <td>잘 먹었습니다</td>\n",
       "      <td>0</td>\n",
       "    </tr>\n",
       "    <tr>\n",
       "      <th>2</th>\n",
       "      <td>pr**님</td>\n",
       "      <td>양이 많이 줄어든 느낌 이네요.</td>\n",
       "      <td>1</td>\n",
       "    </tr>\n",
       "    <tr>\n",
       "      <th>3</th>\n",
       "      <td>sk**님</td>\n",
       "      <td>오늘도 맛나게 잘 먹었습니다~~~</td>\n",
       "      <td>1</td>\n",
       "    </tr>\n",
       "    <tr>\n",
       "      <th>4</th>\n",
       "      <td>gh**님</td>\n",
       "      <td>맛있어요 양도 많아요</td>\n",
       "      <td>1</td>\n",
       "    </tr>\n",
       "  </tbody>\n",
       "</table>\n",
       "</div>"
      ],
      "text/plain": [
       "     아이디                  리뷰  Label\n",
       "0  oo**님                   N      1\n",
       "1  de**님             잘 먹었습니다      0\n",
       "2  pr**님   양이 많이 줄어든 느낌 이네요.      1\n",
       "3  sk**님  오늘도 맛나게 잘 먹었습니다~~~      1\n",
       "4  gh**님         맛있어요 양도 많아요      1"
      ]
     },
     "execution_count": 11,
     "metadata": {},
     "output_type": "execute_result"
    }
   ],
   "source": [
    "cL_df = pd.read_csv('D:/pythonTest/DataShipJo/chicken_label.csv', names=['아이디', '리뷰', 'Label'])\n",
    "cL_df.head()"
   ]
  },
  {
   "cell_type": "code",
   "execution_count": 16,
   "id": "67d0b875",
   "metadata": {},
   "outputs": [],
   "source": [
    "train_data, test_data = train_test_split(cL_df, test_size = 0.2, random_state=156)"
   ]
  },
  {
   "cell_type": "code",
   "execution_count": 20,
   "id": "8117df89",
   "metadata": {},
   "outputs": [
    {
     "name": "stdout",
     "output_type": "stream",
     "text": [
      "훈련용 리뷰 개수 : 16084\n"
     ]
    }
   ],
   "source": [
    "# 훈련용 리뷰 개수 출력\n",
    "print('훈련용 리뷰 개수 :',len(train_data)) "
   ]
  },
  {
   "cell_type": "code",
   "execution_count": 21,
   "id": "66a91980",
   "metadata": {},
   "outputs": [
    {
     "name": "stdout",
     "output_type": "stream",
     "text": [
      "테스트용 리뷰 개수: 4022\n"
     ]
    }
   ],
   "source": [
    "# 테스트용 리뷰 개수 출력\n",
    "print('테스트용 리뷰 개수:',len(test_data)) "
   ]
  },
  {
   "cell_type": "code",
   "execution_count": 23,
   "id": "84052c8f",
   "metadata": {},
   "outputs": [
    {
     "data": {
      "text/html": [
       "<div>\n",
       "<style scoped>\n",
       "    .dataframe tbody tr th:only-of-type {\n",
       "        vertical-align: middle;\n",
       "    }\n",
       "\n",
       "    .dataframe tbody tr th {\n",
       "        vertical-align: top;\n",
       "    }\n",
       "\n",
       "    .dataframe thead th {\n",
       "        text-align: right;\n",
       "    }\n",
       "</style>\n",
       "<table border=\"1\" class=\"dataframe\">\n",
       "  <thead>\n",
       "    <tr style=\"text-align: right;\">\n",
       "      <th></th>\n",
       "      <th>아이디</th>\n",
       "      <th>리뷰</th>\n",
       "      <th>Label</th>\n",
       "    </tr>\n",
       "  </thead>\n",
       "  <tbody>\n",
       "    <tr>\n",
       "      <th>19400</th>\n",
       "      <td>a0**님</td>\n",
       "      <td>진짜 맛있어요 ㅎㅎ 요청사항도 들어주셔서 너무 감사했어여  ㅜㅜ</td>\n",
       "      <td>1</td>\n",
       "    </tr>\n",
       "    <tr>\n",
       "      <th>893</th>\n",
       "      <td>xu**님</td>\n",
       "      <td>맛있게 잘 먹었어요.</td>\n",
       "      <td>1</td>\n",
       "    </tr>\n",
       "    <tr>\n",
       "      <th>3932</th>\n",
       "      <td>fe**님</td>\n",
       "      <td>평소랑 다르게 좀 오버쿠킹되서 전자렌지에 한번데운 닭상태로 왔네요.. 앞전엔 잘왔는...</td>\n",
       "      <td>0</td>\n",
       "    </tr>\n",
       "    <tr>\n",
       "      <th>16463</th>\n",
       "      <td>ha**님</td>\n",
       "      <td>항상 맛있게 잘 먹고 있습니다. 오늘도 잘 먹었습니다. 양념맛이 특히 칼칼하고 맛있어요.</td>\n",
       "      <td>1</td>\n",
       "    </tr>\n",
       "    <tr>\n",
       "      <th>13156</th>\n",
       "      <td>sy**님</td>\n",
       "      <td>맛아주굿입니다~~~</td>\n",
       "      <td>1</td>\n",
       "    </tr>\n",
       "  </tbody>\n",
       "</table>\n",
       "</div>"
      ],
      "text/plain": [
       "         아이디                                                 리뷰  Label\n",
       "19400  a0**님                진짜 맛있어요 ㅎㅎ 요청사항도 들어주셔서 너무 감사했어여  ㅜㅜ      1\n",
       "893    xu**님                                        맛있게 잘 먹었어요.      1\n",
       "3932   fe**님  평소랑 다르게 좀 오버쿠킹되서 전자렌지에 한번데운 닭상태로 왔네요.. 앞전엔 잘왔는...      0\n",
       "16463  ha**님  항상 맛있게 잘 먹고 있습니다. 오늘도 잘 먹었습니다. 양념맛이 특히 칼칼하고 맛있어요.      1\n",
       "13156  sy**님                                         맛아주굿입니다~~~      1"
      ]
     },
     "execution_count": 23,
     "metadata": {},
     "output_type": "execute_result"
    }
   ],
   "source": [
    "train_data.head()"
   ]
  },
  {
   "cell_type": "code",
   "execution_count": 24,
   "id": "4e1e117d",
   "metadata": {
    "scrolled": true
   },
   "outputs": [
    {
     "data": {
      "text/html": [
       "<div>\n",
       "<style scoped>\n",
       "    .dataframe tbody tr th:only-of-type {\n",
       "        vertical-align: middle;\n",
       "    }\n",
       "\n",
       "    .dataframe tbody tr th {\n",
       "        vertical-align: top;\n",
       "    }\n",
       "\n",
       "    .dataframe thead th {\n",
       "        text-align: right;\n",
       "    }\n",
       "</style>\n",
       "<table border=\"1\" class=\"dataframe\">\n",
       "  <thead>\n",
       "    <tr style=\"text-align: right;\">\n",
       "      <th></th>\n",
       "      <th>아이디</th>\n",
       "      <th>리뷰</th>\n",
       "      <th>Label</th>\n",
       "    </tr>\n",
       "  </thead>\n",
       "  <tbody>\n",
       "    <tr>\n",
       "      <th>12293</th>\n",
       "      <td>ti**님</td>\n",
       "      <td>소스 좀 많은데?? 적당히 넣었으면 좋겠어요~ 맛이 좋아요!</td>\n",
       "      <td>1</td>\n",
       "    </tr>\n",
       "    <tr>\n",
       "      <th>7359</th>\n",
       "      <td>lk**님</td>\n",
       "      <td>맛있어용 중국향음식좋아하시는 분들은 좋아하시겠네요 ㅎ</td>\n",
       "      <td>1</td>\n",
       "    </tr>\n",
       "    <tr>\n",
       "      <th>10793</th>\n",
       "      <td>98**님</td>\n",
       "      <td>색다른 맛이지만 제 입맛에는 별로..또시키지는 않을듯.</td>\n",
       "      <td>1</td>\n",
       "    </tr>\n",
       "    <tr>\n",
       "      <th>15175</th>\n",
       "      <td>mr**님</td>\n",
       "      <td>닭의 상태가 너~무 깨끗하고 땡땡해서 놀랐어요.\\n후추때문인지 생각보다 맵긴했지만,...</td>\n",
       "      <td>1</td>\n",
       "    </tr>\n",
       "    <tr>\n",
       "      <th>14552</th>\n",
       "      <td>wo**님</td>\n",
       "      <td>완전 맛있어요 다음에 또먹을게요 ㅎㅎㅎ</td>\n",
       "      <td>1</td>\n",
       "    </tr>\n",
       "  </tbody>\n",
       "</table>\n",
       "</div>"
      ],
      "text/plain": [
       "         아이디                                                 리뷰  Label\n",
       "12293  ti**님                  소스 좀 많은데?? 적당히 넣었으면 좋겠어요~ 맛이 좋아요!      1\n",
       "7359   lk**님                      맛있어용 중국향음식좋아하시는 분들은 좋아하시겠네요 ㅎ      1\n",
       "10793  98**님                     색다른 맛이지만 제 입맛에는 별로..또시키지는 않을듯.      1\n",
       "15175  mr**님  닭의 상태가 너~무 깨끗하고 땡땡해서 놀랐어요.\\n후추때문인지 생각보다 맵긴했지만,...      1\n",
       "14552  wo**님                              완전 맛있어요 다음에 또먹을게요 ㅎㅎㅎ      1"
      ]
     },
     "execution_count": 24,
     "metadata": {},
     "output_type": "execute_result"
    }
   ],
   "source": [
    "test_data.head()"
   ]
  },
  {
   "cell_type": "markdown",
   "id": "8c82752d",
   "metadata": {},
   "source": [
    "## 데이터 중복 유무 확인"
   ]
  },
  {
   "cell_type": "code",
   "execution_count": 27,
   "id": "a80c04c0",
   "metadata": {},
   "outputs": [
    {
     "name": "stdout",
     "output_type": "stream",
     "text": [
      "훈련용 리뷰 개수 : 16084\n"
     ]
    },
    {
     "data": {
      "text/plain": [
       "(14409, 2)"
      ]
     },
     "execution_count": 27,
     "metadata": {},
     "output_type": "execute_result"
    }
   ],
   "source": [
    "# '리뷰'열과 'Label'열의 중복을 제외한 값의 개수\n",
    "print('훈련용 리뷰 개수 :',len(train_data)) \n",
    "train_data['리뷰'].nunique(), train_data['Label'].nunique()\n",
    "\n",
    "### 1500개 정도의 중복 데이터 확인 ###"
   ]
  },
  {
   "cell_type": "code",
   "execution_count": 28,
   "id": "e2659c22",
   "metadata": {},
   "outputs": [
    {
     "name": "stderr",
     "output_type": "stream",
     "text": [
      "C:\\Users\\USER\\anaconda3\\lib\\site-packages\\pandas\\util\\_decorators.py:311: SettingWithCopyWarning: \n",
      "A value is trying to be set on a copy of a slice from a DataFrame\n",
      "\n",
      "See the caveats in the documentation: https://pandas.pydata.org/pandas-docs/stable/user_guide/indexing.html#returning-a-view-versus-a-copy\n",
      "  return func(*args, **kwargs)\n"
     ]
    }
   ],
   "source": [
    "# '리뷰'열의 중복 제거\n",
    "train_data.drop_duplicates(subset=['리뷰'], inplace=True)"
   ]
  },
  {
   "cell_type": "code",
   "execution_count": 29,
   "id": "ac458a0f",
   "metadata": {},
   "outputs": [
    {
     "name": "stdout",
     "output_type": "stream",
     "text": [
      "훈련용 리뷰 개수 : 14409\n"
     ]
    }
   ],
   "source": [
    "print('훈련용 리뷰 개수 :',len(train_data)) "
   ]
  },
  {
   "cell_type": "code",
   "execution_count": 30,
   "id": "60a71c9d",
   "metadata": {},
   "outputs": [
    {
     "data": {
      "text/plain": [
       "<AxesSubplot:>"
      ]
     },
     "execution_count": 30,
     "metadata": {},
     "output_type": "execute_result"
    },
    {
     "data": {
      "image/png": "[encoded data removed]",
      "text/plain": [
       "<Figure size 432x288 with 1 Axes>"
      ]
     },
     "metadata": {
      "needs_background": "light"
     },
     "output_type": "display_data"
    }
   ],
   "source": [
    "# train_data에서 해당 리뷰의 긍, 부정 유무가 기재되어있는 레이블(Label) 값의 분포\n",
    "train_data['Label'].value_counts().plot(kind = 'bar')"
   ]
  },
  {
   "cell_type": "code",
   "execution_count": 33,
   "id": "e2f5e4b9",
   "metadata": {},
   "outputs": [
    {
     "name": "stdout",
     "output_type": "stream",
     "text": [
      "   Label  count\n",
      "0      0   1881\n",
      "1      1  12528\n"
     ]
    }
   ],
   "source": [
    "# 'Label'의 값이 정확히 몇개인지 확인\n",
    "print(train_data.groupby('Label').size().reset_index(name = 'count'))\n",
    "\n",
    "### 부정:: 1881, 긍정:: 12528 ###"
   ]
  },
  {
   "cell_type": "code",
   "execution_count": 37,
   "id": "f1af403a",
   "metadata": {},
   "outputs": [
    {
     "data": {
      "text/plain": [
       "아이디      0\n",
       "리뷰       0\n",
       "Label    0\n",
       "dtype: int64"
      ]
     },
     "execution_count": 37,
     "metadata": {},
     "output_type": "execute_result"
    }
   ],
   "source": [
    "# train_data 결측값 확인\n",
    "train_data.isna().sum()"
   ]
  },
  {
   "cell_type": "markdown",
   "id": "32810912",
   "metadata": {},
   "source": [
    "### 결측값 위치 확인\n",
    "train_data.loc[train_data.document.isnull()]"
   ]
  },
  {
   "cell_type": "markdown",
   "id": "454f08ab",
   "metadata": {},
   "source": [
    "### 결측값 제거\n",
    "#### Null 값이 존재하는 행 제거\n",
    "train_data = train_data.dropna(how = 'any') \n",
    "#### Null 값이 존재하는지 확인\n",
    "print(train_data.isnull().values.any()) "
   ]
  },
  {
   "cell_type": "markdown",
   "id": "a0a054cf",
   "metadata": {},
   "source": [
    "## 데이터 전처리"
   ]
  },
  {
   "cell_type": "code",
   "execution_count": 40,
   "id": "99a8ed56",
   "metadata": {},
   "outputs": [
    {
     "data": {
      "text/html": [
       "<div>\n",
       "<style scoped>\n",
       "    .dataframe tbody tr th:only-of-type {\n",
       "        vertical-align: middle;\n",
       "    }\n",
       "\n",
       "    .dataframe tbody tr th {\n",
       "        vertical-align: top;\n",
       "    }\n",
       "\n",
       "    .dataframe thead th {\n",
       "        text-align: right;\n",
       "    }\n",
       "</style>\n",
       "<table border=\"1\" class=\"dataframe\">\n",
       "  <thead>\n",
       "    <tr style=\"text-align: right;\">\n",
       "      <th></th>\n",
       "      <th>아이디</th>\n",
       "      <th>리뷰</th>\n",
       "      <th>Label</th>\n",
       "    </tr>\n",
       "  </thead>\n",
       "  <tbody>\n",
       "    <tr>\n",
       "      <th>19400</th>\n",
       "      <td>a0**님</td>\n",
       "      <td>진짜 맛있어요 ㅎㅎ 요청사항도 들어주셔서 너무 감사했어여  ㅜㅜ</td>\n",
       "      <td>1</td>\n",
       "    </tr>\n",
       "    <tr>\n",
       "      <th>893</th>\n",
       "      <td>xu**님</td>\n",
       "      <td>맛있게 잘 먹었어요</td>\n",
       "      <td>1</td>\n",
       "    </tr>\n",
       "    <tr>\n",
       "      <th>3932</th>\n",
       "      <td>fe**님</td>\n",
       "      <td>평소랑 다르게 좀 오버쿠킹되서 전자렌지에 한번데운 닭상태로 왔네요 앞전엔 잘왔는데 아쉽</td>\n",
       "      <td>0</td>\n",
       "    </tr>\n",
       "    <tr>\n",
       "      <th>16463</th>\n",
       "      <td>ha**님</td>\n",
       "      <td>항상 맛있게 잘 먹고 있습니다 오늘도 잘 먹었습니다 양념맛이 특히 칼칼하고 맛있어요</td>\n",
       "      <td>1</td>\n",
       "    </tr>\n",
       "    <tr>\n",
       "      <th>13156</th>\n",
       "      <td>sy**님</td>\n",
       "      <td>맛아주굿입니다</td>\n",
       "      <td>1</td>\n",
       "    </tr>\n",
       "  </tbody>\n",
       "</table>\n",
       "</div>"
      ],
      "text/plain": [
       "         아이디                                                리뷰  Label\n",
       "19400  a0**님               진짜 맛있어요 ㅎㅎ 요청사항도 들어주셔서 너무 감사했어여  ㅜㅜ      1\n",
       "893    xu**님                                        맛있게 잘 먹었어요      1\n",
       "3932   fe**님  평소랑 다르게 좀 오버쿠킹되서 전자렌지에 한번데운 닭상태로 왔네요 앞전엔 잘왔는데 아쉽      0\n",
       "16463  ha**님    항상 맛있게 잘 먹고 있습니다 오늘도 잘 먹었습니다 양념맛이 특히 칼칼하고 맛있어요      1\n",
       "13156  sy**님                                           맛아주굿입니다      1"
      ]
     },
     "execution_count": 40,
     "metadata": {},
     "output_type": "execute_result"
    }
   ],
   "source": [
    "# 한글과 공백을 제외하고 모두 제거\n",
    "train_data['리뷰'] = train_data['리뷰'].str.replace(\"[^ㄱ-ㅎㅏ-ㅣ가-힣 ]\",\"\")\n",
    "train_data[:5]"
   ]
  },
  {
   "cell_type": "code",
   "execution_count": 42,
   "id": "c53fc6e8",
   "metadata": {},
   "outputs": [
    {
     "name": "stdout",
     "output_type": "stream",
     "text": [
      "아이디        0\n",
      "리뷰       118\n",
      "Label      0\n",
      "dtype: int64\n"
     ]
    }
   ],
   "source": [
    "# 정규표현식 후 결측값 확인\n",
    "train_data['리뷰'] = train_data['리뷰'].str.replace('^ +', \"\") \n",
    "train_data['리뷰'].replace('', np.nan, inplace=True)\n",
    "print(train_data.isnull().sum())"
   ]
  },
  {
   "cell_type": "code",
   "execution_count": 44,
   "id": "7ba07313",
   "metadata": {},
   "outputs": [
    {
     "data": {
      "text/html": [
       "<div>\n",
       "<style scoped>\n",
       "    .dataframe tbody tr th:only-of-type {\n",
       "        vertical-align: middle;\n",
       "    }\n",
       "\n",
       "    .dataframe tbody tr th {\n",
       "        vertical-align: top;\n",
       "    }\n",
       "\n",
       "    .dataframe thead th {\n",
       "        text-align: right;\n",
       "    }\n",
       "</style>\n",
       "<table border=\"1\" class=\"dataframe\">\n",
       "  <thead>\n",
       "    <tr style=\"text-align: right;\">\n",
       "      <th></th>\n",
       "      <th>아이디</th>\n",
       "      <th>리뷰</th>\n",
       "      <th>Label</th>\n",
       "    </tr>\n",
       "  </thead>\n",
       "  <tbody>\n",
       "    <tr>\n",
       "      <th>11424</th>\n",
       "      <td>손님</td>\n",
       "      <td>NaN</td>\n",
       "      <td>1</td>\n",
       "    </tr>\n",
       "    <tr>\n",
       "      <th>10795</th>\n",
       "      <td>da**님</td>\n",
       "      <td>NaN</td>\n",
       "      <td>0</td>\n",
       "    </tr>\n",
       "    <tr>\n",
       "      <th>866</th>\n",
       "      <td>co**님</td>\n",
       "      <td>NaN</td>\n",
       "      <td>1</td>\n",
       "    </tr>\n",
       "    <tr>\n",
       "      <th>0</th>\n",
       "      <td>oo**님</td>\n",
       "      <td>NaN</td>\n",
       "      <td>1</td>\n",
       "    </tr>\n",
       "    <tr>\n",
       "      <th>13269</th>\n",
       "      <td>mo**님</td>\n",
       "      <td>NaN</td>\n",
       "      <td>1</td>\n",
       "    </tr>\n",
       "  </tbody>\n",
       "</table>\n",
       "</div>"
      ],
      "text/plain": [
       "         아이디   리뷰  Label\n",
       "11424     손님  NaN      1\n",
       "10795  da**님  NaN      0\n",
       "866    co**님  NaN      1\n",
       "0      oo**님  NaN      1\n",
       "13269  mo**님  NaN      1"
      ]
     },
     "execution_count": 44,
     "metadata": {},
     "output_type": "execute_result"
    }
   ],
   "source": [
    "# 결측값 확인\n",
    "train_data.loc[train_data.리뷰.isnull()][:5]"
   ]
  },
  {
   "cell_type": "code",
   "execution_count": 45,
   "id": "c490b8c4",
   "metadata": {},
   "outputs": [
    {
     "name": "stdout",
     "output_type": "stream",
     "text": [
      "14291\n"
     ]
    }
   ],
   "source": [
    "# 결측값 삭제\n",
    "train_data = train_data.dropna(how = 'any')\n",
    "print(len(train_data))"
   ]
  },
  {
   "cell_type": "code",
   "execution_count": 48,
   "id": "d7ac1168",
   "metadata": {},
   "outputs": [
    {
     "name": "stdout",
     "output_type": "stream",
     "text": [
      "전처리 후 테스트용 샘플의 개수 : 3757\n"
     ]
    }
   ],
   "source": [
    "# test_data 또한 동일하게 전처리 진행\n",
    "\n",
    "test_data.drop_duplicates(subset = ['리뷰'], inplace=True) # '리뷰'열에서 중복인 내용이 있다면 중복 제거\n",
    "test_data['리뷰'] = test_data['리뷰'].str.replace(\"[^ㄱ-ㅎㅏ-ㅣ가-힣 ]\",\"\") # 정규 표현식 수행\n",
    "test_data['리뷰'] = test_data['리뷰'].str.replace('^ +', \"\") # 공백은 empty 값으로 변경\n",
    "test_data['리뷰'].replace('', np.nan, inplace=True) # 공백은 Null 값으로 변경\n",
    "test_data = test_data.dropna(how='any') # Null 값 제거\n",
    "print('전처리 후 테스트용 샘플의 개수 :',len(test_data))"
   ]
  },
  {
   "cell_type": "code",
   "execution_count": 49,
   "id": "9b57ea1c",
   "metadata": {},
   "outputs": [],
   "source": [
    "stopwords = ['의','가','이','은','들','는','좀','잘','걍','과','도','를','으로','자','에','와','한','하다']"
   ]
  },
  {
   "cell_type": "code",
   "execution_count": 53,
   "id": "6829bb4d",
   "metadata": {},
   "outputs": [
    {
     "data": {
      "text/plain": [
       "['오다',\n",
       " '이렇다',\n",
       " '것',\n",
       " '도',\n",
       " '치킨',\n",
       " '이라고',\n",
       " '차라리',\n",
       " '닭',\n",
       " '가슴',\n",
       " '살',\n",
       " '을',\n",
       " '만들다',\n",
       " '게',\n",
       " '나다',\n",
       " '뻔']"
      ]
     },
     "execution_count": 53,
     "metadata": {},
     "output_type": "execute_result"
    }
   ],
   "source": [
    "okt = Okt()\n",
    "okt.morphs('와 이런 것도 치킨이라고 차라리 닭가슴살을 만드는 게 나을 뻔', stem = True)"
   ]
  },
  {
   "cell_type": "code",
   "execution_count": 54,
   "id": "291f9fb2",
   "metadata": {},
   "outputs": [
    {
     "name": "stderr",
     "output_type": "stream",
     "text": [
      "100%|███████████████████████████████████████████████████████████████████████████| 14291/14291 [01:15<00:00, 188.74it/s]\n"
     ]
    }
   ],
   "source": [
    "### 토큰화 후 X_train 에 저장 ###\n",
    "X_train = []\n",
    "for sentence in tqdm(train_data['리뷰']):\n",
    "    tokenized_sentence = okt.morphs(sentence, stem=True) # 토큰화\n",
    "    stopwords_removed_sentence = [word for word in tokenized_sentence if not word in stopwords] # 불용어 제거\n",
    "    X_train.append(stopwords_removed_sentence)"
   ]
  },
  {
   "cell_type": "code",
   "execution_count": 55,
   "id": "45198aec",
   "metadata": {},
   "outputs": [
    {
     "name": "stdout",
     "output_type": "stream",
     "text": [
      "[['진짜', '맛있다', 'ㅎㅎ', '요청', '사항', '들어주다', '너무', '감사하다', 'ㅜㅜ'], ['맛있다', '자다', '먹다'], ['평소', '랑', '다르다', '오버쿠킹되', '서', '전자렌지', '한번', '데우다', '닭', '상태', '로', '오다', '앞전', '엔', '오다', '아쉽다']]\n"
     ]
    }
   ],
   "source": [
    "print(X_train[:3])"
   ]
  },
  {
   "cell_type": "code",
   "execution_count": 56,
   "id": "f826100a",
   "metadata": {},
   "outputs": [
    {
     "name": "stderr",
     "output_type": "stream",
     "text": [
      "100%|█████████████████████████████████████████████████████████████████████████████| 3757/3757 [00:28<00:00, 130.22it/s]\n"
     ]
    }
   ],
   "source": [
    "### 토큰화 후 X_test 에 저장 ###\n",
    "X_test = []\n",
    "for sentence in tqdm(test_data['리뷰']):\n",
    "    tokenized_sentence = okt.morphs(sentence, stem=True) # 토큰화\n",
    "    stopwords_removed_sentence = [word for word in tokenized_sentence if not word in stopwords] # 불용어 제거\n",
    "    X_test.append(stopwords_removed_sentence)"
   ]
  },
  {
   "cell_type": "markdown",
   "id": "39bb0454",
   "metadata": {},
   "source": [
    "### 정수 인코딩\n",
    "기계가 텍스트를 숫자로 처리할 수 있도록 훈련 데이터와 테스트 데이터에 정수 인코딩을 수행한다"
   ]
  },
  {
   "cell_type": "code",
   "execution_count": 57,
   "id": "47af9efa",
   "metadata": {},
   "outputs": [],
   "source": [
    "tokenizer = Tokenizer()\n",
    "tokenizer.fit_on_texts(X_train)"
   ]
  },
  {
   "cell_type": "code",
   "execution_count": 58,
   "id": "b034693b",
   "metadata": {},
   "outputs": [
    {
     "name": "stdout",
     "output_type": "stream",
     "text": [
      "{'맛있다': 1, '먹다': 2, '배달': 3, '맛': 4, '시키다': 5, '너무': 6, '좋다': 7, '치킨': 8, '자다': 9, '보다': 10, '오다': 11, '빠르다': 12, '많다': 13, '있다': 14, '요': 15, '감사하다': 16, '이다': 17, '항상': 18, '양도': 19, 'ㅎㅎ': 20, '링클': 21, '주문': 22, '같다': 23, '진짜': 24, '뿌': 25, '다': 26, '역시': 27, '만': 28, '정말': 29, '또': 30, '을': 31, '로': 32, '최고': 33, '양': 34, '바삭': 35, '후라이드': 36, '양념': 37, '점': 38, '많이': 39, '안': 40, '넘다': 41, '하고': 42, '시간': 43, '처음': 44, '빨리': 45, '더': 46, '없다': 47, '않다': 48, '서비스': 49, '치즈볼': 50, '잇다': 51, '리뷰': 52, '다음': 53, '소스': 54, '오늘': 55, '튀김': 56, '나다': 57, '시립대': 58, '닭': 59, 'ㅠㅠ': 60, '여기': 61, '나': 62, '떡': 63, '서': 64, '받다': 65, '것': 66, '엄청': 67, '친절하다': 68, '고': 69, '주다': 70, '분': 71, '사진': 72, '찍다': 73, '살': 74, '아쉽다': 75, '가루': 76, '에서': 77, '순': 78, '좋아하다': 79, '못': 80, '때': 81, '맛초킹': 82, '이벤트': 83, '되다': 84, '다른': 85, '자주': 86, '빨르다': 87, '습': 88, '소': 89, '뿌링클': 90, '조금': 91, '네': 92, '짜다': 93, '늦다': 94, '해주다': 95, '생각': 96, '킹': 97, '아니다': 98, '님': 99, '그렇다': 100, '까지': 101, '인데': 102, '들다': 103, '메뉴': 104, '따뜻하다': 105, '니당다': 106, '제': 107, '그래도': 108, '짱': 109, '아주': 110, '늘': 111, '완전': 112, 'ㅠ': 113, '에도': 114, '괜찮다': 115, '반': 116, '골드': 117, '오랜': 118, 'ㅎ': 119, '엔': 120, '사장': 121, '간장': 122, '맵다': 123, '언제나': 124, '믿다': 125, '튀기다': 126, '늘다': 127, '중': 128, '집': 129, '근데': 130, '이라': 131, '이랑': 132, '콜라': 133, '추천': 134, '곳': 135, '그냥': 136, '랑': 137, '적': 138, '식다': 139, '적다': 140, '걸리다': 141, '감자': 142, '옷': 143, '예상': 144, '배송': 145, '푸다': 146, '두': 147, 'ㅜㅜ': 148, '굿': 149, 'ㅋㅋ': 150, '이에요': 151, '게': 152, '거': 153, '기름': 154, '개': 155, '존맛': 156, '아이': 157, '매콤': 158, '디디': 159, '정도': 160, '비': 161, '떡볶이': 162, '음식': 163, '이번': 164, '그': 165, '지점': 166, '제일': 167, '굳다': 168, '수': 169, '저': 170, '뿌리다': 171, '말': 172, '콤보': 173, '번': 174, '알다': 175, '먹기': 176, '지': 177, '라서': 178, '번창': 179, '만족하다': 180, '핫': 181, '요청': 182, '시': 183, '치즈스틱': 184, '같이': 185, '딱': 186, '에는': 187, '크다': 188, '드리다': 189, '가지': 190, '적당하다': 191, '쿠폰': 192, '오': 193, '짐': 194, '느낌': 195, '앞': 196, '매번': 197, '인': 198, '여': 199, '니': 200, '이네': 201, '가다': 202, '눅눅하다': 203, '에요': 204, '싶다': 205, '담': 206, '라': 207, '하나': 208, '하': 209, '살이': 210, '빨': 211, '주신': 212, '부드럽다': 213, 'ㅎㅎㅎ': 214, '용': 215, '마리': 216, '별로': 217, '할인': 218, '살짝': 219, 'ㅋ': 220, '포장': 221, '날': 222, '넉넉하다': 223, '원': 224, '느끼하다': 225, '그리고': 226, '약간': 227, '첨': 228, '사항': 229, '탱': 230, '주시': 231, '다시': 232, '빼다': 233, '도착': 234, '전': 235, '바삭바삭하다': 236, '뿌링': 237, '가격': 238, '별': 239, '굿굿': 240, '세': 241, 'ㅋㅋㅋ': 242, '전화': 243, '없이': 244, '추가': 245, '달라': 246, '한번': 247, '아': 248, '주': 249, '되어다': 250, '만족': 251, '모르다': 252, '보내다': 253, '이렇게': 254, '쓰다': 255, '진리': 256, '나오다': 257, '깔끔하다': 258, '맵': 259, '기분': 260, '바삭바삭': 261, '다리': 262, '닭다리': 263, '원래': 264, '마다': 265, '뼈': 266, '꼭': 267, '버리다': 268, '언제': 269, '단': 270, '오래': 271, '계속': 272, '상태': 273, '여기다': 274, '쌀': 275, 'ㅜ': 276, '때문': 277, '듯': 278, '통닭': 279, '왜': 280, '내': 281, '문': 282, '양념치킨': 283, '만족스럽다': 284, '뭐': 285, '구': 286, '무': 287, '특히': 288, '맞다': 289, '넣다': 290, '다르다': 291, '신': 292, '남다': 293, '냄새': 294, '어': 295, '입': 296, '모두': 297, '밥': 298, '치즈': 299, '양은': 300, '생각나다': 301, '지다': 302, '말다': 303, '분도': 304, '써다': 305, '예요': 306, '속': 307, '챙기다': 308, '뜨겁다': 309, '남기다': 310, '따다': 311, '인지': 312, '가성': 313, '너': 314, '세트': 315, '강추': 316, '바로': 317, '차다': 318, '들어주다': 319, '걸': 320, '온': 321, '배': 322, '조각': 323, '평소': 324, '덜': 325, '부탁드리다': 326, '기다리다': 327, '감': 328, '핫도그': 329, '애': 330, '함': 331, '놀라다': 332, '하지만': 333, '촉촉하다': 334, '매다': 335, '바쁘다': 336, '저번': 337, '실망': 338, '입맛': 339, '맛집': 340, '감동': 341, '배부르다': 342, '대박': 343, '해': 344, '젤': 345, '혼자': 346, '과자': 347, '대': 348, '서다': 349, '다만': 350, '돼다': 351, '건지다': 352, '이제': 353, '이나': 354, 'ㅠㅠㅠ': 355, '따로': 356, '처럼': 357, '최애': 358, '데': 359, '빠지다': 360, '날개': 361, '매우': 362, '면': 363, '마': 364, '보고': 365, '단골': 366, '부분': 367, '교촌': 368, '튀다': 369, '고추': 370, '느끼다': 371, '거의': 372, '퍽퍽': 373, '깜빡': 374, '딱딱하다': 375, '비다': 376, '감사': 377, '푸르다': 378, '느껴지다': 379, '지만': 380, '묻다': 381, '분만': 382, '기': 383, '즈': 384, '맛쵸킹': 385, '이용': 386, '일': 387, '고기': 388, '덕분': 389, '배고프다': 390, '깨끗하다': 391, '파닭': 392, '일찍': 393, '닭강정': 394, '맞추다': 395, '닝': 396, '죄송하다': 397, '사랑': 398, 'ㅋㅋㅋㅋ': 399, '개인': 400, '작다': 401, '두다': 402, '사람': 403, '찌다': 404, '행사': 405, '글': 406, '신선하다': 407, '맨날': 408, '그런데': 409, '요즘': 410, '어제': 411, '향': 412, '재': 413, '자마자': 414, '줄': 415, '기사': 416, '끄다': 417, '죠': 418, '요기': 419, '마싯다': 420, '이렇다': 421, '올리다': 422, '달달': 423, '가장': 424, '으로도': 425, '친구': 426, '듬뿍': 427, '허니': 428, '자체': 429, '만들다': 430, '안되다': 431, '여전하다': 432, '달다': 433, '부터': 434, '구성': 435, '예전': 436, '가슴': 437, '급하다': 438, '이상': 439, '보이다': 440, '일단': 441, '라고': 442, '매장': 443, '카레': 444, '예정': 445, '후': 446, '가족': 447, '고소하다': 448, '나서다': 449, '고민': 450, '새롭다': 451, '느리다': 452, '간': 453, '찾다': 454, '도시락': 455, '종로': 456, '뜨다': 457, '알': 458, '식후감': 459, '맛없다': 460, '쓸다': 461, '그래서': 462, '지금': 463, '짱짱': 464, '저녁': 465, '금방': 466, '감사히': 467, '해봤다': 468, '포테킹': 469, '이고': 470, '씩': 471, '음': 472, '파다': 473, '함께': 474, '치': 475, '첫': 476, '기본': 477, '박스': 478, '주말': 479, '건': 480, '사이드': 481, '크기': 482, '씨': 483, '담백하다': 484, '둘': 485, '무조건': 486, '이해': 487, '저렴하다': 488, '명': 489, '훨씬': 490, '고맙다': 491, '쏘다': 492, '블랙': 493, 'ㅎㅎㅎㅎ': 494, '레드': 495, '들어가다': 496, '치다': 497, '저희': 498, '만에': 499, '애용': 500, '여러': 501, '욤': 502, '버거': 503, '윙': 504, '젓가락': 505, '두번째': 506, '신경': 507, '갓': 508, '겉': 509, '거리': 510, '전화하다': 511, '무엇': 512, '다양하다': 513, '살다': 514, '골고루': 515, '연락': 516, '싸다': 517, '이유': 518, '제대로': 519, '무난': 520, '조합': 521, '문제': 522, '끈': 523, '근처': 524, '임': 525, '가게': 526, '어떻다': 527, '에서만': 528, '예': 529, '엇': 530, '달': 531, '영': 532, '강하다': 533, '내다': 534, '짜지다': 535, '만두': 536, '정확하다': 537, '걱정': 538, '엄마': 539, '되게': 540, '전체': 541, '장': 542, '빨갛다': 543, '해보다': 544, '선택': 545, '햇': 546, '충분하다': 547, '아들': 548, '야식': 549, '손': 550, '어울리다': 551, '기대': 552, '모': 553, '간이': 554, '난': 555, '취향': 556, '부위': 557, '치키다': 558, '식감': 559, '나중': 560, '커리': 561, '터지다': 562, '간만': 563, '후기': 564, '땡기다': 565, '훌륭하다': 566, '땐': 567, '뭔가': 568, '스럽다': 569, '줄다': 570, '바르다': 571, '부족하다': 572, '여서': 573, '확인': 574, '잡다': 575, '마음': 576, '모으다': 577, '달콤하다': 578, '보통': 579, '꿀맛': 580, '잡채': 581, '굉장하다': 582, '이집': 583, '두껍다': 584, '날씨': 585, '기대하다': 586, '니까': 587, '우리': 588, '참여': 589, '버터': 590, '햄버거': 591, '밖에': 592, '마늘': 593, '가끔': 594, '갖다': 595, '대봉': 596, '필요': 597, '하하': 598, '잊다': 599, '잘먹엇습니': 600, '동네': 601, '껍질': 602, '살로': 603, '햄': 604, '안나': 605, '곱다': 606, '까먹다': 607, '완벽하다': 608, '식': 609, '퍽퍽살': 610, '오래되다': 611, '몇': 612, '묻히다': 613, '익다': 614, '붙다': 615, '아아': 616, '양파': 617, '문자': 618, '힘들다': 619, '스타일': 620, '편이': 621, '편하다': 622, '속도': 623, '중간': 624, '깔다': 625, '이건': 626, '기다': 627, '벌써': 628, '고생': 629, '잘못': 630, '그런': 631, '행복하다': 632, '맵스터': 633, '굿굿굿': 634, '정시': 635, '응대': 636, '최': 637, '퀸': 638, '번째': 639, '실망하다': 640, 'ㅠㅜ': 641, '나누다': 642, '닭도리탕': 643, '돈': 644, '이런': 645, '당': 646, '만큼': 647, '즐기다': 648, '히': 649, '낫다': 650, '나용': 651, '허겁지겁': 652, '딱이다': 653, '욥': 654, '힘내다': 655, '켯': 656, '비싸다': 657, '도전': 658, '편': 659, 'ㅠㅠㅠㅠ': 660, '까르보나라': 661, '대비': 662, '닭볶음탕': 663, '젖다': 664, '옛날': 665, '하루': 666, '반찬': 667, '써주다': 668, '자극': 669, '국물': 670, '보다는': 671, '좀더': 672, '타': 673, '조': 674, '그거': 675, '대박나다': 676, '이야': 677, '필요없다': 678, '최근': 679, '매': 680, '직접': 681, '나쁘다': 682, '뜨끈하다': 683, '질': 684, '담다': 685, '다이어리': 686, '차갑다': 687, 'ㅎㅎㅎㅎㅎ': 688, '짭짤하다': 689, '최악': 690, '미치다': 691, '성': 692, '리지': 693, '먹음': 694, '멀다': 695, '강': 696, '대로': 697, '말고': 698, '가져다주다': 699, '전혀': 700, '야하다': 701, '밑': 702, '겉바': 703, '촉': 704, '미리': 705, '엇습': 706, '이지만': 707, '이라고': 708, '추다': 709, '따끈하다': 710, '전부': 711, '한데': 712, '말씀': 713, '조리': 714, '추하다': 715, '바라다': 716, '째': 717, '새해': 718, '수고': 719, '위': 720, '모든': 721, '브랜드': 722, '보단': 723, '지난번': 724, '맥주': 725, '눈': 726, '지나다': 727, '밀리다': 728, '착하다': 729, '열': 730, 'ㅋㅋㅋㅋㅋ': 731, '바꾸다': 732, '궁금하다': 733, '께서': 734, '깜짝': 735, '갈릭': 736, '건강하다': 737, '물론': 738, '신속하다': 739, '순삭': 740, '대신': 741, '비도': 742, '확실하다': 743, '맘': 744, '새우': 745, '후회': 746, '해주시': 747, '야': 748, '마르다': 749, '직원': 750, '맛보다': 751, '실수': 752, 'ㅡ': 753, '새': 754, '복': 755, '중독': 756, '지는': 757, '기요': 758, 'ㅇ': 759, '불리': 760, '그렇게': 761, '런가': 762, '안좋다': 763, '꽤': 764, '놓다': 765, '울': 766, '안주': 767, '먼저': 768, '달콤': 769, '센스': 770, 'ㅡㅡ': 771, '엄청나다': 772, '맵슐랭': 773, '볼': 774, '자꾸': 775, '끼': 776, '우우': 777, '사': 778, '이상하다': 779, '에게': 780, '마스크': 781, '장사': 782, '불다': 783, '집다': 784, '덥다': 785, '인거': 786, '쯤': 787, '일주일': 788, '진심': 789, '떨어지다': 790, '가득': 791, '겁나다': 792, '비리다': 793, '뿌링소스': 794, '비슷하다': 795, '네네': 796, '인가': 797, '가요': 798, '만점': 799, '차이': 800, '옹': 801, '건가': 802, '어요': 803, '열다': 804, '그것': 805, '보': 806, '에여': 807, '그대로': 808, '서울': 809, '닭고기': 810, '고구마': 811, '한테': 812, '주변': 813, '오는': 814, '움': 815, '언': 816, '종이': 817, '일반': 818, '사먹다': 819, '기르다': 820, '몇번': 821, '삼겹': 822, '여러분': 823, '바싹': 824, '맛잇엇어': 825, '바닥': 826, '요리': 827, '솔직하다': 828, '에이치': 829, '싱겁다': 830, '친절': 831, '알리오': 832, '요다음': 833, '인정': 834, '따끈따끈하다': 835, '아침': 836, '결제': 837, '뜯다': 838, '슴': 839, '먹엇습니': 840, '둘이서': 841, '찍': 842, '가깝다': 843, '가능하다': 844, '막': 845, '특유': 846, '이서': 847, '독립문': 848, '한참': 849, '강정': 850, '종종': 851, '와우': 852, '읍니': 853, '나가다': 854, '널': 855, '정성': 856, '얼마': 857, '기간': 858, '에서도': 859, '김': 860, '오지': 861, '이틀': 862, '따르다': 863, '찜닭': 864, '스팸': 865, '칩': 866, '인가요': 867, '암튼': 868, '분들': 869, '으로는': 870, '밉다': 871, '틱': 872, '개다': 873, '무슨': 874, '쫌': 875, '파': 876, '질리': 877, '내일': 878, '쫄깃': 879, '변하다': 880, '기름기': 881, '참고': 882, '겁니다': 883, '당연하다': 884, '데우다': 885, '육즙': 886, '우선': 887, '치밥': 888, '흑': 889, 'ㅠㅠㅠㅠㅠ': 890, '엉': 891, '웨': 892, '에서는': 893, '변경': 894, '깜박': 895, 'ㄹㅇ': 896, '우리동네': 897, '다시다': 898, '갈다': 899, '옴': 900, '에선': 901, '식지': 902, '인생': 903, '신분': 904, '옳다': 905, '부탁': 906, '바스': 907, '선물': 908, 'ㅅ': 909, '혜자': 910, '봉': 911, '질리다': 912, '염': 913, '메모': 914, '새벽': 915, '정신': 916, '처리': 917, '빼': 918, '놀래다': 919, '그리다': 920, '감다': 921, '호불호': 922, '물다': 923, '코카콜라': 924, '생기다': 925, '쉬다': 926, '백': 927, '얇다': 928, '타코': 929, '켜': 930, '이르다': 931, '올리브': 932, '사다': 933, '혹시': 934, '래': 935, '아쉬움': 936, '오히려': 937, '작아지다': 938, '속이다': 939, '딸': 940, '이기다': 941, '새다': 942, '붐': 943, '고추장': 944, '무도': 945, '준비': 946, '즐겁다': 947, '더욱': 948, '대다': 949, '어플': 950, '날다': 951, '본': 952, '요구사항': 953, '아프다': 954, '재주': 955, '어디': 956, '타다': 957, '뻔': 958, '무가': 959, '상자': 960, '싸이': 961, '명불허전': 962, '군': 963, '힘드다': 964, '누르다': 965, '마지막': 966, '정착': 967, '유': 968, '음료': 969, '적절하다': 970, '밤': 971, '이사': 972, '귀엽다': 973, '아무': 974, '갑': 975, '당황': 976, '누락': 977, '부르다': 978, '차': 979, '한지': 980, '매일': 981, '는걸': 982, '광고': 983, 'ㄴ': 984, '아직': 985, '패밀리': 986, '올': 987, '우': 988, '스틱': 989, '세상': 990, '베다': 991, '고르다': 992, '조만간': 993, '앱': 994, '라이더': 995, '닷': 996, '지키다': 997, '탑': 998, '간도': 999, '막다': 1000, '사리': 1001, '싫다': 1002, '라면': 1003, '주소': 1004, '상': 1005, '싱글': 1006, '정신없이': 1007, '발라': 1008, '뿐': 1009, 'ㄷㄷ': 1010, '끊다': 1011, '넘어서다': 1012, '결국': 1013, '거기': 1014, '똑같다': 1015, '기억': 1016, '다섯': 1017, '연속': 1018, '계란후라이': 1019, '남': 1020, '커서': 1021, '의사': 1022, '스': 1023, '기도': 1024, '대요': 1025, '아무튼': 1026, '홈': 1027, '물리다': 1028, '이지': 1029, '동생': 1030, '이어서': 1031, '물': 1032, '조화': 1033, '급': 1034, '크림': 1035, '평점': 1036, '이라도': 1037, '년': 1038, '인기': 1039, '긋다': 1040, '절대': 1041, 'ㅋㅋㅋㅋㅋㅋ': 1042, '윙봉': 1043, '콜팝': 1044, '편지': 1045, '동안': 1046, '돌다': 1047, '디디다': 1048, '이미': 1049, '어렵다': 1050, '캔': 1051, '그저': 1052, '해도': 1053, '소금': 1054, '세번': 1055, '바베큐': 1056, '얼마나': 1057, '신속': 1058, '보장': 1059, '바': 1060, '남아': 1061, '역쉬': 1062, '필요하다': 1063, '오랫': 1064, '스럽게': 1065, '시작': 1066, '비닐': 1067, '식사': 1068, '늦어지다': 1069, '로는': 1070, '벨': 1071, '인분': 1072, '상당하다': 1073, '오구': 1074, '부모님': 1075, '겠다': 1076, '으': 1077, '콘': 1078, '코': 1079, '맛남': 1080, '치하': 1081, 'ㅜㅠ': 1082, '료': 1083, '사실': 1084, '다행': 1085, '여러가지': 1086, '이라서': 1087, '입히다': 1088, '모자라다': 1089, '고객': 1090, '가보다': 1091, '씹다': 1092, '아깝다': 1093, '흡입': 1094, '늘어나다': 1095, '쪽': 1096, '취소': 1097, '뿌링소떡': 1098, '파우더': 1099, '무척': 1100, '께': 1101, '꼼꼼하다': 1102, '등': 1103, '누가': 1104, '수가': 1105, '원하다': 1106, '확': 1107, '핫후': 1108, '진짜진짜': 1109, '토마토': 1110, '너무나': 1111, '그때': 1112, '으론': 1113, 'ㄱ': 1114, '진하다': 1115, '끝': 1116, '색': 1117, '건데': 1118, '소이': 1119, '밀가루': 1120, '기회': 1121, '진': 1122, '특별하다': 1123, '말씀드리다': 1124, '촉촉': 1125, '신청': 1126, '든든하다': 1127, '갑자기': 1128, '주심': 1129, '출발': 1130, 'ㅏ': 1131, 'ㅛ': 1132, '심': 1133, '봉투': 1134, '에만': 1135, '그치다': 1136, '오오': 1137, '각': 1138, '귀찮다': 1139, '크리스마스': 1140, '식당': 1141, '켜다': 1142, '불편하다': 1143, '매력': 1144, '치맥': 1145, '김치': 1146, '허다': 1147, '일품': 1148, '짐해': 1149, '순간': 1150, '운': 1151, '기고': 1152, '라칸': 1153, '마초': 1154, '냠냠': 1155, '워낙': 1156, '먹엇어': 1157, '단맛': 1158, '짜증': 1159, '먹고다': 1160, '덕': 1161, '보이': 1162, '완벽': 1163, '남자': 1164, '보다도': 1165, '말르다': 1166, '준': 1167, '불구': 1168, '또한': 1169, '싫어하다': 1170, '요양': 1171, 'ㅠㅠㅠㅠㅠㅠ': 1172, '들어서다': 1173, '배신': 1174, '줄어들다': 1175, '없어지다': 1176, '뒤': 1177, '짤': 1178, '찍히다': 1179, '탓': 1180, '점심': 1181, '스노': 1182, '머리카락': 1183, '근': 1184, '나무': 1185, '젤리': 1186, '버': 1187, '습니다': 1188, '로제': 1189, '교촌치킨': 1190, '전반': 1191, '대학로': 1192, '부추': 1193, '구이': 1194, '이전': 1195, '여태': 1196, '대해': 1197, '수준': 1198, '설명': 1199, '쥬': 1200, '사용': 1201, '안질리다': 1202, '퀄리티': 1203, '뭔': 1204, '피': 1205, '쌈': 1206, '분명': 1207, '걸다': 1208, '왓': 1209, '사과': 1210, '고해': 1211, '장갑': 1212, '투움바': 1213, '든': 1214, '어유': 1215, '무치다': 1216, 'ㅜㅜㅜ': 1217, '넘치다': 1218, '허니콤': 1219, '아무리': 1220, '담기다': 1221, '돌리다': 1222, '녹다': 1223, '슬프다': 1224, '아주아주': 1225, '어른': 1226, '째다': 1227, '점심시간': 1228, '디': 1229, '돌아오다': 1230, '비비다': 1231, '여기저기': 1232, '심심하다': 1233, '정': 1234, '신제품': 1235, '어느': 1236, '분리': 1237, 'ㅎㅎㅎㅎㅎㅎ': 1238, '유지': 1239, '프랜차이즈': 1240, '안국': 1241, '완료': 1242, '심하다': 1243, '사이즈': 1244, '높다': 1245, '야들야들하다': 1246, '다가': 1247, '터치': 1248, '유일하다': 1249, '신랑': 1250, '제공': 1251, '바뀌다': 1252, '번은': 1253, '내용물': 1254, '비교': 1255, '셧': 1256, '신기하다': 1257, '옵니다': 1258, '아무래도': 1259, '에어': 1260, '나름': 1261, '잉': 1262, '평이': 1263, '엥': 1264, '셋': 1265, '뻔하다': 1266, '일이': 1267, '코로나': 1268, '들어오다': 1269, '푹': 1270, '하바네로': 1271, '절반': 1272, '재다': 1273, '크리스': 1274, '붙이다': 1275, '오픈': 1276, '끝내주다': 1277, '굳이': 1278, '뭘': 1279, '픽업': 1280, '구리': 1281, '회사': 1282, '옆': 1283, '그건': 1284, '중이': 1285, '어쩔': 1286, '체고': 1287, '숯불': 1288, 'ㄷ': 1289, '야채': 1290, '청양': 1291, '개꿀맛': 1292, '요새': 1293, '핫뿌': 1294, '이쁘다': 1295, '이니': 1296, '장점': 1297, '제육': 1298, '멋있다': 1299, '라이': 1300, '포함': 1301, '온도': 1302, '올라오다': 1303, '집중': 1304, '짭잘하다': 1305, '전문점': 1306, '엇어': 1307, '섞이다': 1308, '라도': 1309, '품': 1310, '저격': 1311, '팔다': 1312, '서도': 1313, '업체': 1314, '냥': 1315, '일부러': 1316, '징': 1317, '조심하다': 1318, '절': 1319, '조르다': 1320, '뚜껑': 1321, '괜히': 1322, '발리다': 1323, '화': 1324, '읽다': 1325, '장난': 1326, '대충': 1327, '아끼다': 1328, '수도': 1329, '시구': 1330, '신건': 1331, '불맛': 1332, '안해': 1333, '앙': 1334, '나머지': 1335, '대안': 1336, '춥다': 1337, '어머니': 1338, '품질': 1339, '호': 1340, '다소': 1341, '찹쌀': 1342, '콤': 1343, '반도': 1344, '맘스': 1345, '기적': 1346, '만이': 1347, '부턴': 1348, '멀리': 1349, '뻑뻑': 1350, '카드': 1351, '똥집': 1352, 'ㅇㅇ': 1353, '이란': 1354, '낮': 1355, '닭똥집': 1356, '뚝딱': 1357, '흐르다': 1358, '삭': 1359, '한두': 1360, '몇개': 1361, '과는': 1362, 'ㅇㅇㅇㅇ': 1363, '미지근하다': 1364, '만하': 1365, '뻣뻣하다': 1366, '종류': 1367, '쇼': 1368, '습기': 1369, '아빠': 1370, '이벤': 1371, '또띠아': 1372, 'ㅁ': 1373, '처': 1374, '적히다': 1375, '오징어': 1376, '그러나': 1377, '왕': 1378, '작고': 1379, '이동': 1380, '틀다': 1381, '샐러드': 1382, '바람': 1383, '근방': 1384, '오시': 1385, '로만': 1386, '찌': 1387, '그럭저럭': 1388, '독특하다': 1389, '특이하다': 1390, '예술': 1391, '실하다': 1392, '유명하다': 1393, '교': 1394, '꺼': 1395, '고요': 1396, '덜하다': 1397, '길': 1398, '뿌링가루': 1399, '마치': 1400, '영화': 1401, '끝나다': 1402, '닭발': 1403, '갠': 1404, '행복': 1405, '양념통닭': 1406, '평범하다': 1407, '순식간': 1408, '베리': 1409, '필수': 1410, '그동안': 1411, '어마': 1412, '아예': 1413, '이리': 1414, '쁘': 1415, '통': 1416, '짧다': 1417, '프레': 1418, '메인': 1419, '잘먹엇어': 1420, '말고는': 1421, '안식': 1422, '레카': 1423, '꼬치': 1424, '묵다': 1425, '좋아지다': 1426, '당면': 1427, '반죽': 1428, '군데': 1429, '루': 1430, '어어': 1431, '듣다': 1432, '웃': 1433, '호텔': 1434, '제나': 1435, '덜다': 1436, '매니아': 1437, '위생': 1438, '한개': 1439, '놀다': 1440, '통통하다': 1441, '천원': 1442, '열심히': 1443, '낭낭': 1444, '색다르다': 1445, '프로': 1446, '알맞다': 1447, '었': 1448, '깐풍기': 1449, '댓글': 1450, '아마': 1451, '올해': 1452, '길다': 1453, '실제': 1454, '사이': 1455, '준수': 1456, 'ㅎㅎㅎㅎㅎㅎㅎ': 1457, '부담': 1458, '프로모션': 1459, '비주': 1460, '시간대': 1461, '잘맞다': 1462, '정석': 1463, '라는': 1464, '밍밍': 1465, '펴다': 1466, '온건': 1467, '전달': 1468, '치고': 1469, '무섭다': 1470, '스트레스': 1471, '사라지다': 1472, '단점': 1473, '불': 1474, '잔뜩': 1475, '슬로': 1476, '잠발라야': 1477, '드네': 1478, '치우다': 1479, '눈물': 1480, '흘리다': 1481, '쫀득': 1482, '이름': 1483, '내용': 1484, '쪽지': 1485, '중요하다': 1486, '불친절하다': 1487, '한가지': 1488, '약속': 1489, '경우': 1490, '후루룩': 1491, '킹윙': 1492, '암': 1493, '갈비': 1494, '살코기': 1495, '쎄다': 1496, '정말로': 1497, '술안주': 1498, '들이다': 1499, '앗': 1500, '재시': 1501, '글구': 1502, '느님': 1503, '팩': 1504, '초': 1505, '드디어': 1506, '약': 1507, '은근': 1508, '내리다': 1509, '낼': 1510, '청양고추': 1511, '부족': 1512, '추억': 1513, '욧': 1514, '씹히다': 1515, '엿': 1516, '막히다': 1517, '이기': 1518, '아저씨': 1519, '손님': 1520, '싹': 1521, '익스': 1522, '며': 1523, '더하다': 1524, '만나다': 1525, '인상': 1526, '역': 1527, '왠만하다': 1528, '베': 1529, '살인': 1530, '캬': 1531, '값': 1532, '한국': 1533, '미안하다': 1534, '죄송': 1535, '실패': 1536, '위주': 1537, '무지': 1538, '괜': 1539, '성비': 1540, '스티커': 1541, '시기': 1542, '드': 1543, '얼': 1544, '닿다': 1545, '우와': 1546, '일요일': 1547, '갈아타다': 1548, '살뿌': 1549, '이구': 1550, '머': 1551, '첨부': 1552, '빠삭': 1553, '어니언': 1554, '하니': 1555, '대부분': 1556, '계란': 1557, '극': 1558, '다이어트': 1559, '금요일': 1560, '생맥주': 1561, '여자': 1562, '너무하다': 1563, '크게': 1564, '달리': 1565, '이라는': 1566, '존맛탱': 1567, '무리다': 1568, '남편': 1569, '술': 1570, '팍팍': 1571, '물리': 1572, '마시다': 1573, '옵션': 1574, '메시지': 1575, '곧': 1576, '감칠맛': 1577, '채': 1578, '기준': 1579, '복날': 1580, '그날': 1581, '안주시': 1582, '제로': 1583, '누리다': 1584, '와는': 1585, '얼다': 1586, '구매': 1587, '번시': 1588, '쪼끔': 1589, '속상하다': 1590, '냉장고': 1591, '총': 1592, '꿀': 1593, '친철': 1594, '찝찝하다': 1595, '외국인': 1596, '찢어지다': 1597, '빵': 1598, '텐더': 1599, '징거버거': 1600, '목': 1601, '애초': 1602, '짜증나다': 1603, '멋': 1604, '트리플': 1605, '만족도': 1606, '소문': 1607, '으로만': 1608, '갈리다': 1609, '무적': 1610, '울다': 1611, '심지어': 1612, '다식': 1613, '부어': 1614, '어보': 1615, '별미': 1616, '화이팅': 1617, '탕': 1618, '안전하다': 1619, '건조하다': 1620, '누구': 1621, '싹싹': 1622, '용용': 1623, '어떤': 1624, '나르다': 1625, '문의': 1626, 'ㅈ': 1627, '오르다': 1628, '엄지': 1629, '어리다': 1630, '소리': 1631, '물어보다': 1632, '융': 1633, '파도': 1634, '놓치다': 1635, '유독': 1636, '마요': 1637, '어찌': 1638, 'ㅠㅡㅠ': 1639, '환불': 1640, '지도': 1641, '읍': 1642, '한결같이': 1643, '색깔': 1644, '악마': 1645, '쪼금': 1646, '웬만하다': 1647, '별개': 1648, '다행하다': 1649, '소사': 1650, '뉴': 1651, '약하다': 1652, '뿌링맵소킹': 1653, '핫팩': 1654, '도리': 1655, '정답': 1656, '흠': 1657, '젠': 1658, '간식': 1659, '깜놀': 1660, '짝짝': 1661, '써비스': 1662, '조심': 1663, '작성': 1664, '바사': 1665, '의심': 1666, 'ㅠㅠㅠㅠㅠㅠㅠ': 1667, '바싹바싹': 1668, '뿌리': 1669, '익히다': 1670, '듬성듬성': 1671, '다음주': 1672, '애기': 1673, '역대': 1674, '연하다': 1675, '명품': 1676, '축축하다': 1677, '게다가': 1678, '파가': 1679, '세명': 1680, '나요': 1681, '츄': 1682, '뿐이다': 1683, '까맣다': 1684, '점점': 1685, '의외': 1686, '메다': 1687, '외': 1688, '짭쪼름': 1689, '해먹': 1690, '양상추': 1691, '이며': 1692, '쩔다': 1693, '화나다': 1694, '포기': 1695, '체크': 1696, '개선': 1697, '대행': 1698, '스윗': 1699, '용하다': 1700, '연말': 1701, '의향': 1702, '입안': 1703, '고추가': 1704, '까지도': 1705, '자르다': 1706, '근본': 1707, '해바라기': 1708, '점포': 1709, '식구': 1710, '바사삭': 1711, '예쁘다': 1712, '개존맛': 1713, '탕수육': 1714, '뿌링콜팝': 1715, '랄': 1716, '요건': 1717, '월': 1718, '알차다': 1719, '봉지': 1720, '관리': 1721, '미니': 1722, '뭉치다': 1723, '알바': 1724, '한텐': 1725, '장님': 1726, '전자렌지': 1727, '칼칼하다': 1728, '라니': 1729, '이브': 1730, '집밥': 1731, '그만큼': 1732, '맛잇엇습니': 1733, '사주다': 1734, '편입': 1735, '화가': 1736, '문해': 1737, '빼먹다': 1738, '신세계': 1739, '맨': 1740, '강렬하다': 1741, '오오오오': 1742, '애매하다': 1743, '열리다': 1744, '최고다': 1745, '노크': 1746, '기존': 1747, '리터': 1748, '적당': 1749, '성대': 1750, '땅': 1751, '조금씩': 1752, '달래다': 1753, '세다': 1754, '배다': 1755, '훨': 1756, '애정': 1757, '위해': 1758, '산': 1759, '니깐': 1760, '보관': 1761, '하얗다': 1762, '체': 1763, '줌': 1764, '올라가다': 1765, '최공': 1766, '억': 1767, '다리다': 1768, '찰': 1769, '여자친구': 1770, '오신': 1771, '듭니': 1772, '털다': 1773, '안전': 1774, '발견': 1775, '아낌없이': 1776, '딱좋다': 1777, '재미': 1778, '그다지': 1779, '그게': 1780, '어마어마하다': 1781, '에고': 1782, '사은': 1783, '어우러지다': 1784, '척': 1785, '연': 1786, '깔리다': 1787, '동대문구': 1788, '별루': 1789, '아버지': 1790, '퇴근': 1791, '그랬는데': 1792, '쁘링클': 1793, '레전드': 1794, '프라이': 1795, '뎅': 1796, '후추': 1797, '요요': 1798, '오리': 1799, '섞다': 1800, '줄이다': 1801, '보시': 1802, '사이다': 1803, '가량': 1804, '위로': 1805, '분안': 1806, '강정은': 1807, '악': 1808, '뿌링뿌링': 1809, '거지': 1810, '쫀득하': 1811, '안녕하다': 1812, '베이스': 1813, '추석': 1814, '배려': 1815, '자주자주': 1816, '한결같다': 1817, '언니': 1818, '당근': 1819, '싱싱하다': 1820, 'ㄹ': 1821, '후다닥': 1822, '마이': 1823, '스프': 1824, '이라니': 1825, '매너': 1826, '헷갈리다': 1827, '붕어빵': 1828, '깨다': 1829, '불금': 1830, '짠맛': 1831, '호캉스': 1832, '가면': 1833, '답': 1834, '어물': 1835, '업': 1836, '적용': 1837, '류': 1838, '학교': 1839, '파티': 1840, '기지점': 1841, '방금': 1842, 'ㅓ': 1843, '개요': 1844, '색도': 1845, '이예': 1846, '결정': 1847, '안쪽': 1848, '안보': 1849, '적극': 1850, '모로': 1851, '만해': 1852, '뜻': 1853, '신다': 1854, '공': 1855, '신나다': 1856, '란': 1857, '따끈따끈': 1858, '시도': 1859, '도둑': 1860, '참다': 1861, '해결': 1862, '파랑': 1863, '돌아가다': 1864, '후반': 1865, '안내받다': 1866, '노': 1867, '네요': 1868, '감안': 1869, '이여': 1870, '놀러와': 1871, '딱하다': 1872, '연휴': 1873, '불친절': 1874, '내주다': 1875, '고프다': 1876, '먹어주다': 1877, '일만': 1878, '반하다': 1879, '요가': 1880, '본사': 1881, '마냥': 1882, '피클': 1883, '쓴맛': 1884, '안내': 1885, '검증': 1886, '직': 1887, '내년': 1888, '풍': 1889, '평가': 1890, '인사': 1891, '거만': 1892, '잘쓰다': 1893, '시원하다': 1894, '상품': 1895, '벗겨지다': 1896, '쭉': 1897, '들리다': 1898, '능': 1899, '많아지다': 1900, '냐': 1901, '비틀어지다': 1902, '한마디': 1903, '방문': 1904, '케이에프씨': 1905, '반숙': 1906, '뻑살': 1907, '껍데기': 1908, '해오다': 1909, '혀': 1910, '해드리다': 1911, '호호': 1912, '달짝지근하다': 1913, '알싸하다': 1914, '눈데': 1915, 'ㅣ': 1916, 'ㅆ': 1917, '완전하다': 1918, '찰떡': 1919, '궁합': 1920, '고고': 1921, '재료': 1922, '아래': 1923, '시큼하다': 1924, '지난': 1925, '던데': 1926, '표현': 1927, '일회용': 1928, '어우': 1929, '떡복': 1930, '주지': 1931, '회': 1932, '이면': 1933, '골': 1934, '면서': 1935, '현금': 1936, '안다': 1937, '축구': 1938, '늦': 1939, '대가': 1940, '음료수': 1941, '쓰시': 1942, '프라이어': 1943, '스며들다': 1944, '역다': 1945, '변화': 1946, '랑은': 1947, '이제야': 1948, '맛나': 1949, '제외': 1950, '케이준': 1951, '마무리': 1952, '감기': 1953, '유난히': 1954, '몰리다': 1955, '까진': 1956, '평균': 1957, '품목': 1958, 'ㅜㅜㅜㅜ': 1959, '더불다': 1960, '이래서': 1961, '건더기': 1962, '봄': 1963, '조카': 1964, '고소': 1965, '별하나': 1966, '범벅': 1967, '테이프': 1968, '망설이다': 1969, '근무': 1970, '제발': 1971, '제때': 1972, '프렌': 1973, '누': 1974, '십분': 1975, '개꿀': 1976, '대한': 1977, '랫': 1978, '저렇게': 1979, '플': 1980, '불쾌하다': 1981, '죽다': 1982, '노력': 1983, '썰다': 1984, '흐물흐물': 1985, '양호': 1986, '성인': 1987, '클리어': 1988, '신지': 1989, '사고': 1990, '다해': 1991, '밀봉': 1992, '사업': 1993, '물이': 1994, '추': 1995, '시립': 1996, '그릇': 1997, '비율': 1998, '미네': 1999, '오기': 2000, '한식': 2001, '질겨': 2002, '아내': 2003, '뿌링감자': 2004, '요로': 2005, '지나': 2006, '감탄': 2007, '전지현': 2008, '워': 2009, '충무로': 2010, '빨랏구': 2011, '풀리다': 2012, '꺼내다': 2013, '가져오다': 2014, '글자': 2015, '넘어가다': 2016, '부': 2017, '선호': 2018, '와도': 2019, '세지': 2020, '닫다': 2021, '원님': 2022, '싸': 2023, '이요': 2024, '적어지다': 2025, '특징': 2026, '올림픽': 2027, '난리': 2028, '표시': 2029, '거뭇': 2030, '말모': 2031, '점바점': 2032, '압도': 2033, '첨으로': 2034, '튼실하다': 2035, '기네': 2036, '비추다': 2037, '천하다': 2038, '힘': 2039, '잠깐': 2040, '이내': 2041, '배아': 2042, '쓰기': 2043, '청량리': 2044, '이즈': 2045, '말랑하다': 2046, '흔들리다': 2047, '칭찬': 2048, '옥수수': 2049, '메이': 2050, '랜덤': 2051, '타워': 2052, '도중': 2053, '삼다': 2054, '저렇다': 2055, '스프라이트': 2056, '사이좋다': 2057, '착각': 2058, '만의': 2059, '입천장': 2060, '데일': 2061, '햇습니': 2062, '잠들다': 2063, '더맛': 2064, '내시': 2065, '환절기': 2066, '다다다': 2067, '몸': 2068, '종': 2069, '평타': 2070, '계시다': 2071, '골뱅이': 2072, '시킴': 2073, '체인점': 2074, '중복': 2075, '역사': 2076, '레오': 2077, '입다': 2078, '하진': 2079, '층': 2080, '물컹하다': 2081, '근간': 2082, '김치찌개': 2083, '강력': 2084, '지인': 2085, '어이': 2086, '듯해': 2087, '겁': 2088, '인심': 2089, '출출하다': 2090, '적도': 2091, '일드': 2092, '스탈': 2093, '광화문': 2094, '쭈욱': 2095, '어쨌든': 2096, '피자': 2097, '퍽살': 2098, '만원': 2099, '정량': 2100, '주의': 2101, '리': 2102, '쓴다': 2103, '뭐라다': 2104, '다운': 2105, '노랗다': 2106, '줍다': 2107, '볶다': 2108, '한적': 2109, '야들야들': 2110, '이만': 2111, '공기': 2112, '제거': 2113, '짭쪼름하': 2114, '찜': 2115, '덤': 2116, '부다': 2117, '통해': 2118, '요구': 2119, '혼나다': 2120, '웃다': 2121, '심해': 2122, '덩어리': 2123, '양반': 2124, '뭍': 2125, '쬐다': 2126, '더럽다': 2127, '맘스터치': 2128, '인게': 2129, '부실하다': 2130, '총알': 2131, '얘': 2132, '베스트': 2133, '흥건': 2134, '달라지다': 2135, '굽다': 2136, '요추': 2137, '오버': 2138, '점차': 2139, '청소': 2140, '찾기': 2141, '단순하다': 2142, '우유': 2143, '치아': 2144, '만으로도': 2145, '짠하다': 2146, '겨': 2147, '화장실': 2148, '뭐해': 2149, '믿음': 2150, '퍼지다': 2151, '시국': 2152, '여윽시': 2153, 'ㅋㅋㅋㅋㅋㅋㅋㅋ': 2154, '맛탕': 2155, '숨다': 2156, '핫뿌링클': 2157, 'ㅎㄹ': 2158, '최강': 2159, '영수증': 2160, '야근': 2161, '그나마': 2162, '현장': 2163, '기재': 2164, '퓨': 2165, '쫄면': 2166, '널다': 2167, '그대': 2168, '의외로': 2169, '밖': 2170, '이후': 2171, '요거트': 2172, '칸': 2173, '어떡하다': 2174, '두부김치': 2175, '선': 2176, '피드백': 2177, '포테이토': 2178, '지리다': 2179, '볶음밥': 2180, '위치': 2181, '된거': 2182, '반영': 2183, '끼다': 2184, '여행': 2185, '변치않다': 2186, '얘기': 2187, '어쩌다': 2188, '에다': 2189, '곁들이다': 2190, '만으로': 2191, '현관문': 2192, '뮤': 2193, '현관': 2194, '채소': 2195, '불편': 2196, '니드': 2197, '쑤다': 2198, '한편': 2199, '어디서': 2200, '띄다': 2201, '머스타드': 2202, '슴돠': 2203, '맛임': 2204, '실패하다': 2205, 'ㅋㅋㅋㅋㅋㅋㅋ': 2206, '부터는': 2207, '막내': 2208, '달도': 2209, '기대다': 2210, '찾아보다': 2211, '가까이': 2212, '가시': 2213, 'ㅇㅓ': 2214, '까르보': 2215, '번거롭다': 2216, '받아들이다': 2217, '지역': 2218, '헤헤': 2219, '똥': 2220, '생일': 2221, '불향': 2222, '슐랭': 2223, '퀄': 2224, '출근': 2225, '분동': 2226, '자기': 2227, '간간': 2228, '이탈리안': 2229, '전날': 2230, '덕지덕지': 2231, '해달라다': 2232, '쩝': 2233, '닥': 2234, '가버리다': 2235, '생수': 2236, '뚱캔': 2237, '여지': 2238, '껏': 2239, '뇌물': 2240, '한양': 2241, '동': 2242, '빼놓다': 2243, '힝': 2244, '모습': 2245, '모양': 2246, '장모아': 2247, '왜인': 2248, '곳도': 2249, '트이다': 2250, '거나': 2251, '예약': 2252, '집앞': 2253, '취저': 2254, '펩시': 2255, '불리다': 2256, '뒤지다': 2257, '와사비': 2258, '이니까': 2259, '가볍다': 2260, '또다른': 2261, '갖추다': 2262, '레이크': 2263, '대패': 2264, '사하다': 2265, '분명하다': 2266, '가라': 2267, '아영': 2268, '존맛존맛': 2269, '교환': 2270, '도안': 2271, '러버': 2272, '케찹': 2273, '잘해주다': 2274, '양념감자': 2275, '고려': 2276, '이정': 2277, '파악': 2278, '보람': 2279, '저녁식사': 2280, '생': 2281, '쫄깃하': 2282, '믄': 2283, '앗다': 2284, '장말': 2285, '허허': 2286, '참나': 2287, '주네': 2288, '소요': 2289, '맵진': 2290, '롭고': 2291, '큰집': 2292, '권': 2293, 'ㅜㅜㅜㅜㅜ': 2294, '나무라다': 2295, '까지는': 2296, '유후': 2297, '끌리다': 2298, '동일하다': 2299, '떠나다': 2300, '달리다': 2301, '닭봉': 2302, '잡': 2303, '별도': 2304, '증명': 2305, '팬': 2306, '익숙하다': 2307, '틀리다': 2308, '꽂히다': 2309, '채우다': 2310, '링': 2311, '댜': 2312, '말투': 2313, '까르': 2314, '차별': 2315, '탈탈': 2316, '치토스': 2317, '주먹': 2318, '그렇다고': 2319, '이라고는': 2320, '나유': 2321, '멋지다': 2322, '우아': 2323, '손편지': 2324, '론': 2325, '쌓이다': 2326, '삼박자': 2327, '찢다': 2328, '소비자': 2329, '평일': 2330, '만큼은': 2331, '그걸': 2332, '내외': 2333, '부자': 2334, '간단하다': 2335, '쏙': 2336, '어찌나': 2337, '사오다': 2338, '용가리': 2339, '푸석하다': 2340, '오늘이': 2341, '께요': 2342, '러신': 2343, '옅다': 2344, '깊다': 2345, '무뼈': 2346, '쾅쾅': 2347, '할껄': 2348, '속초': 2349, '연골': 2350, '교체': 2351, '몰다': 2352, '부서지다': 2353, '찬': 2354, '안정': 2355, '양으로': 2356, '젤맛': 2357, '대서': 2358, '짱짱맨': 2359, '한동안': 2360, '보랑': 2361, '시반': 2362, '듬뿍듬뿍': 2363, '벗어나다': 2364, 'ㅜㅜㅠ': 2365, '상소': 2366, '일인': 2367, '툼': 2368, '물건': 2369, '개도': 2370, '월드컵': 2371, '혁명': 2372, 'ㅇㅇㅇ': 2373, '이천원': 2374, '셋트': 2375, '진상': 2376, '반시': 2377, '더더': 2378, '무시': 2379, '습니': 2380, '합리': 2381, '덧': 2382, '다주': 2383, '제품': 2384, '내면': 2385, '잊어버리다': 2386, '피다': 2387, '조아하다': 2388, '에겐': 2389, '돼지': 2390, '파서': 2391, '담날': 2392, '품절': 2393, '나위': 2394, '인하다': 2395, '연유': 2396, '가져가다': 2397, '고기랑': 2398, '오빠': 2399, '비우다': 2400, '뛰어넘다': 2401, '피곤하다': 2402, '얌': 2403, '거짓말': 2404, '멕시칸': 2405, '너겟': 2406, '결과': 2407, '오오오오오오': 2408, '상관없다': 2409, '픽': 2410, '달력': 2411, '덩': 2412, '고정': 2413, '에다가': 2414, '프라이드': 2415, '점수': 2416, '청결': 2417, '등등': 2418, '메뉴판': 2419, '차라리': 2420, '하림': 2421, '지르다': 2422, '뭐합': 2423, '맛았': 2424, '겸': 2425, '딘': 2426, '손가락': 2427, '와이프': 2428, '된장': 2429, '노래': 2430, '평': 2431, '남친': 2432, '먹이다': 2433, '삼겹살': 2434, '참치': 2435, '사리다': 2436, '머금': 2437, '오브': 2438, '부족함': 2439, '헐다': 2440, '오래오래': 2441, '따라오다': 2442, '쩐': 2443, '괜춘': 2444, '낮다': 2445, '날인': 2446, '최소': 2447, '왠지': 2448, '딴': 2449, '얼큰하다': 2450, '굿굿굿굿굿': 2451, '네오': 2452, '대체': 2453, '트러플': 2454, 'ㅜㅠㅜ': 2455, '레알': 2456, '주방': 2457, '대기': 2458, '지방': 2459, 'ㅇㅈ': 2460, '궂': 2461, '군데군데': 2462, '기다림': 2463, '할라피뇨': 2464, '노란색': 2465, '머무': 2466, '왓어': 2467, '레게': 2468, '형': 2469, '자알': 2470, '안퍽퍽': 2471, '버거킹': 2472, '계': 2473, '먹엇어용': 2474, '인증': 2475, '삼': 2476, '골든': 2477, '핵': 2478, '자취': 2479, '머거다': 2480, '옥': 2481, '백퍼': 2482, '전보': 2483, '포테토': 2484, '무어': 2485, '검색': 2486, '불패': 2487, '장이': 2488, '주로': 2489, '로젤킹': 2490, '듀': 2491, '보기': 2492, '책임': 2493, '신선': 2494, '유통': 2495, '과식': 2496, '고급스럽다': 2497, '마쵸킹': 2498, '치바': 2499, '황당하다': 2500, '찌게': 2501, '비계': 2502, '번호': 2503, '팡팡': 2504, '쏠쏠하다': 2505, '얻다': 2506, '혼닭': 2507, '환상': 2508, '찌개': 2509, '긁다': 2510, '수분': 2511, '영업': 2512, '지연': 2513, '초등': 2514, 'ㅂ': 2515, '퀴즈': 2516, '슬로우': 2517, '한쪽': 2518, '금은': 2519, '쓰이다': 2520, '떵봉': 2521, '거진': 2522, '강력하다': 2523, '이군': 2524, '안남다': 2525, '살살': 2526, '프라': 2527, '자세하다': 2528, '잘나가다': 2529, '가나': 2530, '에가': 2531, '크리미': 2532, '쫀득쫀득': 2533, '뿌링글': 2534, '용서': 2535, '어쩜': 2536, '지저분하다': 2537, '너므': 2538, '뒷맛': 2539, '눈길': 2540, '엇네': 2541, '사가': 2542, '아라하': 2543, '드릴': 2544, '어지간하다': 2545, '성의': 2546, '머그': 2547, '듯이': 2548, '웡': 2549, '초심': 2550, '조리도': 2551, '나이스': 2552, '한가득': 2553, '찌들다': 2554, '테': 2555, '는데': 2556, '이빨': 2557, '며칠': 2558, '존맛임': 2559, '기전': 2560, '패스': 2561, '터': 2562, '찜찜하다': 2563, '오입': 2564, '조음': 2565, '이자': 2566, '시드라': 2567, '툭': 2568, '직하다': 2569, '동봉': 2570, '거도': 2571, '오류': 2572, '깨': 2573, '캡사이신': 2574, '꾸준하다': 2575, '엽': 2576, '므': 2577, '오오오오오오오오': 2578, '버세': 2579, '마나': 2580, '성격': 2581, '개봉': 2582, '가득하다': 2583, '마인드': 2584, '어젠': 2585, '맘터': 2586, '해당': 2587, '정신차리다': 2588, '음식점': 2589, '대응': 2590, '아유': 2591, '이랑은': 2592, '섬세하다': 2593, '려': 2594, '배탈': 2595, '설날': 2596, '밤늦다': 2597, '컬': 2598, '퍼센트': 2599, '국내': 2600, '직전': 2601, '대처': 2602, '간편하다': 2603, '요인': 2604, '머리': 2605, '얌얌': 2606, '빗다': 2607, '수저': 2608, '파시': 2609, '나나': 2610, '합': 2611, '큼지막하다': 2612, '대체로': 2613, '갈수록': 2614, '에게도': 2615, '축하': 2616, '이따': 2617, '설탕': 2618, '그닥': 2619, '일어나다': 2620, '투': 2621, '박하다': 2622, 'ㅎㅅㅎ': 2623, '병아리': 2624, '기술': 2625, '오묘하다': 2626, '연발': 2627, '숟가락': 2628, '도저히': 2629, '빠삭하': 2630, '매수': 2631, '솔': 2632, '빠삭해': 2633, '칼로리': 2634, '서너': 2635, '올라서다': 2636, '천': 2637, '미끄럽다': 2638, '정성스럽다': 2639, '넘기다': 2640, '충실하다': 2641, '더니': 2642, '입구': 2643, '뚝뚝': 2644, '로비': 2645, '일정하다': 2646, '일전': 2647, '킹왕짱': 2648, '존엄': 2649, '건물': 2650, '규': 2651, '태어나다': 2652, '변치': 2653, '꺄': 2654, '잘먹엇어용': 2655, '운전': 2656, '육질': 2657, '장안': 2658, '채다': 2659, '차이나다': 2660, '아기': 2661, '동대문': 2662, '요레요레': 2663, '던지다': 2664, '상황': 2665, '너무나도': 2666, '소소하다': 2667, '주먹밥': 2668, '케': 2669, '행': 2670, '댁': 2671, '래서': 2672, '설레다': 2673, '표': 2674, '최대한': 2675, '롯데리아': 2676, '든지': 2677, '노트': 2678, '졸맛': 2679, '경': 2680, '저만': 2681, '저녁때': 2682, '주인': 2683, '너무맛잇엇어': 2684, '기사도': 2685, '덮다': 2686, '상관': 2687, '마저': 2688, '땅콩': 2689, '곤': 2690, '아랫쪽': 2691, '일도': 2692, '반값': 2693, '개드립': 2694, 'ㅔ': 2695, '양파링': 2696, '온전': 2697, '반쪽': 2698, '봉인': 2699, '편의점': 2700, 'ㅠㅋㅋㅋ': 2701, '여유': 2702, '브': 2703, '꼽': 2704, '버렷': 2705, '넉': 2706, '국룰': 2707, '카사바': 2708, '포식': 2709, '본인': 2710, '끝맛': 2711, '다다르다': 2712, '무우': 2713, '써비': 2714, 'ㅏㅏㅏㅏㅏ': 2715, '차서': 2716, '간다': 2717, '땀': 2718, '댕꿀맛': 2719, 'ㅏㅏㅏ': 2720, '관련': 2721, '꾀': 2722, '상이': 2723, '조기': 2724, '중국': 2725, '정체': 2726, '햇음': 2727, '걸렷': 2728, '들추다': 2729, '뒷': 2730, '이세': 2731, '에두': 2732, '핫윙': 2733, '조화롭다': 2734, '죠아': 2735, '유마': 2736, '멘보샤': 2737, '장만': 2738, '차지': 2739, '식기': 2740, '시청': 2741, '맛있엇어': 2742, '거품': 2743, '리오': 2744, '최상': 2745, '달려오다': 2746, '사로자다': 2747, '여분': 2748, '망하다': 2749, '접': 2750, '어이없다': 2751, '남성': 2752, '어딨다': 2753, '투움바맛': 2754, '군요': 2755, '세네': 2756, '느무': 2757, '집들이': 2758, '잘만': 2759, '때점': 2760, '오예': 2761, '불량': 2762, '비비': 2763, '오오오': 2764, '무려': 2765, '오가다': 2766, '길쭉하다': 2767, '허벅지': 2768, '머스터드': 2769, '반갑다': 2770, '더부룩하다': 2771, '살리다': 2772, '견주': 2773, '민망하다': 2774, '강아지': 2775, '엌': 2776, '구리구리': 2777, '작': 2778, '부리다': 2779, '먹었숩니': 2780, '쉰': 2781, '취해': 2782, '먹었슴다': 2783, '모델': 2784, '카나': 2785, '생가': 2786, 'ㅠㅜㅠ': 2787, '큼직큼직하다': 2788, '오오오오오': 2789, '뿌링뿌': 2790, '벌레': 2791, '줄알': 2792, '허옇': 2793, '한국인': 2794, '매주': 2795, '비밀번호': 2796, '즐거움': 2797, '비양도': 2798, 'ㅠㅠㅜ': 2799, '고서': 2800, '똑같이': 2801, '묘': 2802, '신선도': 2803, '남자친구': 2804, '거스름': 2805, '이양': 2806, '음으로': 2807, '끊임없다': 2808, '꽃': 2809, '두텁다': 2810, '르보': 2811, '앵': 2812, '분더': 2813, '신상': 2814, '지갑': 2815, '맛나뇨': 2816, '먹방': 2817, '결재': 2818, '엄빠': 2819, '병': 2820, '질감': 2821, '치킨너겟': 2822, '영화관': 2823, '지치다': 2824, '스크린': 2825, '두드리다': 2826, '하여튼': 2827, '설사': 2828, '자담': 2829, '홧팅': 2830, 'ㅎㅎㅎㅎㅎㅎㅎㅎ': 2831, '초딩': 2832, '부러지다': 2833, '정확': 2834, '절묘하다': 2835, '초킹': 2836, '메뉴인': 2837, '심심': 2838, '진짜루': 2839, '이만원': 2840, 'ㅋㅋㅋㅋㅋㅋㅋㅋㅋ': 2841, '빠삭빠삭': 2842, '검다': 2843, '뭔들': 2844, '멈추다': 2845, '몇몇': 2846, '단계': 2847, '존': 2848, '셨': 2849, '뒤늦다': 2850, '인대': 2851, '듬': 2852, '피크타임': 2853, '마요네즈': 2854, '서든': 2855, '불닭': 2856, '이래도': 2857, '각각': 2858, '예선': 2859, '요하': 2860, '불안하다': 2861, '비법': 2862, '저런': 2863, '오해': 2864, '항의': 2865, '만유': 2866, '뱉다': 2867, '조아': 2868, '탈': 2869, '도나': 2870, '평보': 2871, '땜': 2872, '어쩌나': 2873, '저리': 2874, '보신': 2875, '바짝': 2876, '짭쪼롬하': 2877, '최선': 2878, '체적': 2879, '망치다': 2880, '와중': 2881, '옇': 2882, '캐다': 2883, '대형': 2884, '다담': 2885, '요것': 2886, '요전': 2887, '귀요미': 2888, '흥': 2889, '기프티콘': 2890, '인닭': 2891, '청': 2892, '보아': 2893, 'ㅣㅣ': 2894, '적지': 2895, '핵존맛': 2896, '던': 2897, '엄첨': 2898, '아파트': 2899, '울부짖다': 2900, '노고': 2901, '억지로': 2902, '떠오르다': 2903, '신뢰': 2904, '제도': 2905, '아직도': 2906, '전자레인지': 2907, '뜸': 2908, '봬': 2909, '덜달': 2910, '디저트': 2911, '키세': 2912, '스켓': 2913, '밑반찬': 2914, '빠': 2915, '딸아이': 2916, '스럽지': 2917, '맛잇어욤': 2918, '끝판': 2919, 'ㅎㅎㅎㅎㅎㅎㅎㅎㅎㅎ': 2920, '까다롭다': 2921, '돠': 2922, '비쥬': 2923, '셈': 2924, '피해': 2925, '막상': 2926, '자고': 2927, '잠': 2928, '칠리소스': 2929, '벌다': 2930, '우왕': 2931, '갈릴': 2932, '한다는': 2933, 'ㅡㅡㅋ': 2934, '예상외': 2935, '탱탱': 2936, '심다': 2937, '구역': 2938, '스레': 2939, '뿌링뿌링소스': 2940, '안타깝다': 2941, '채도': 2942, '보이지': 2943, '에게는': 2944, '취': 2945, '우연히': 2946, '쉐이크': 2947, '흔들다': 2948, '예민하다': 2949, '이기도': 2950, '줄줄': 2951, '디테': 2952, '모이다': 2953, '해진': 2954, '삼삼하다': 2955, '거들다': 2956, 'ㅠㅠㅋㅋㅋㅋ': 2957, '핵꿀맛': 2958, '숩': 2959, '쓰리다': 2960, '켄터키': 2961, 'ㅇㄷㅁ': 2962, '리오네': 2963, '어서': 2964, '대표': 2965, '고뿌': 2966, '딜': 2967, '요렇게': 2968, '소진': 2969, '뼈쪽': 2970, '치파오': 2971, '살맛': 2972, '죽': 2973, '혼란': 2974, '매직': 2975, '복불복': 2976, '나머진': 2977, '유행': 2978, '떡볶기': 2979, '뜨뜻하다': 2980, '이이': 2981, '중화': 2982, '불닭볶음면': 2983, '유명': 2984, '집의': 2985, '통짜': 2986, '굿굿굿굿굿굿굿굿굿굿': 2987, '춘해': 2988, '어무': 2989, '장애': 2990, '부스러기': 2991, '뿌뿌': 2992, '영양': 2993, '고난': 2994, '스윗츄': 2995, '고급': 2996, '살포시': 2997, '요호': 2998, '신의': 2999, '한수': 3000, '홀릭': 3001, 'ㄸㅏ': 3002, '늘어지다': 3003, 'ㅎㄷㄷ': 3004, '개이득': 3005, '태도': 3006, '난건': 3007, '상가': 3008, '뛰어나다': 3009, '증말': 3010, '쪼': 3011, '주전': 3012, '드문드문': 3013, '의문': 3014, '플랫폼': 3015, 'ㅏㅏㅏㅏㅏㅏㅏㅏㅏ': 3016, '자가': 3017, '격리': 3018, '재밌다': 3019, '시장': 3020, '맛납': 3021, '요원': 3022, '식품': 3023, '신고': 3024, '폭립': 3025, '패티': 3026, '접수': 3027, '사진찍엇어': 3028, '쏘이다': 3029, '안남': 3030, '쿠키': 3031, '슈퍼': 3032, '바른': 3033, '금': 3034, '편안하다': 3035, '스리': 3036, '라차': 3037, '사소하다': 3038, '항사': 3039, '금액': 3040, '차가워지다': 3041, '함정': 3042, '동료': 3043, '묜': 3044, '인성': 3045, '붉다': 3046, '노랑': 3047, '대낮': 3048, '주기': 3049, '시점': 3050, '위인': 3051, '재탕': 3052, '메세지': 3053, '에프': 3054, '간혹': 3055, '밀리': 3056, '삼십분': 3057, '됴': 3058, '남김없이': 3059, '넘사벽': 3060, '인터넷': 3061, '알람': 3062, '무소식': 3063, '우수': 3064, '커지다': 3065, '잃다': 3066, '이적': 3067, '제시': 3068, '근대': 3069, '온통': 3070, '눅눅': 3071, '꼴': 3072, '칠리': 3073, '끝내다': 3074, 'ㅠㅠㅠㅠㅠㅠㅠㅠ': 3075, 'ㅇㅇㅇㅇㅇ': 3076, '괜찬아': 3077, '바꿈': 3078, '비록': 3079, '공부': 3080, '섭스': 3081, '치자': 3082, '커버': 3083, '또는': 3084, '고양': 3085, '볶음': 3086, '정통': 3087, '캐': 3088, '두둑하다': 3089, '콩나물': 3090, '비빔밥': 3091, '손질': 3092, '저장': 3093, '청안': 3094, '흔': 3095, '중국집': 3096, '프렌치프라이': 3097, '견과류': 3098, '질문': 3099, '민감하다': 3100, '위쪽': 3101, '잔': 3102, '마약': 3103, '왔어욤': 3104, '아보': 3105, '부담스럽다': 3106, '차액': 3107, '지리': 3108, '헉': 3109, '윽': 3110, '론데': 3111, '꼬': 3112, '이제일': 3113, '아우': 3114, '딸내미': 3115, '차리다': 3116, '연근': 3117, '불지': 3118, '때매': 3119, '어둡다': 3120, '등록': 3121, '소세지': 3122, '차이점': 3123, '친정': 3124, '살점': 3125, '사무실': 3126, '화끈하다': 3127, '야구': 3128, '진정하다': 3129, 'ㅡㅜ': 3130, '쩌': 3131, '식후': 3132, '소주': 3133, '포슬포슬': 3134, '탁하다': 3135, '성공': 3136, '장마': 3137, '해외': 3138, '리해': 3139, '세용': 3140, '콤달콤': 3141, '웬걸': 3142, '실력': 3143, '햇던': 3144, '초이스': 3145, '빨랏어': 3146, '내사': 3147, '다니다': 3148, '호로록': 3149, '찍기': 3150, '물렁하다': 3151, '나이트': 3152, '키로': 3153, '로써': 3154, '디지다': 3155, '조리법': 3156, '정성껏': 3157, '맞이': 3158, '윱': 3159, '자작하다': 3160, '잘알다': 3161, '풀다': 3162, '측': 3163, '음식사진': 3164, '편리하다': 3165, '상상': 3166, '왜냐면': 3167, '놀람': 3168, '산패': 3169, '취킨': 3170, '생명': 3171, '시각': 3172, '즉시': 3173, '점마': 3174, '기부': 3175, '쥰맛탱': 3176, '슈': 3177, '향신료': 3178, '무무': 3179, '트위스터': 3180, '으로써': 3181, '배갈': 3182, '고루': 3183, '좔좔': 3184, '핑': 3185, '연희동': 3186, '정말루': 3187, '윤기': 3188, '알리다': 3189, '순하다': 3190, '숩니': 3191, '풍부하다': 3192, '도넛': 3193, '짯어': 3194, '할머니': 3195, '컷': 3196, '스피드': 3197, '풍족하다': 3198, '으로서': 3199, '힌': 3200, '욘': 3201, '탄산음료': 3202, '씁쓸하다': 3203, '게더': 3204, '욕쉬': 3205, '다기': 3206, '어묵': 3207, '거구': 3208, '여요': 3209, '구입': 3210, '랍니': 3211, '시너지': 3212, '쏟아지다': 3213, '순정': 3214, '튼튼하다': 3215, '야무지다': 3216, '오우': 3217, '노노노': 3218, '신맛': 3219, '분하다': 3220, '스러운': 3221, '안심': 3222, '당시': 3223, '먹을껄': 3224, '머글': 3225, 'ㅇㅆ': 3226, '동시': 3227, '인크레더블': 3228, '도적': 3229, '월월': 3230, '싸움': 3231, '빠트리': 3232, '눕다': 3233, '래미': 3234, '아이러니': 3235, '이랬는데': 3236, '쿠킹': 3237, '불만': 3238, '초인종': 3239, '하고는': 3240, '은은하다': 3241, '초등학생': 3242, '세영': 3243, '완성': 3244, '이어도': 3245, '혼': 3246, '불면': 3247, '모말': 3248, '아삭아삭': 3249, '부드러움': 3250, '병원': 3251, '푸석푸석하다': 3252, '견과': 3253, '배구': 3254, '별다르다': 3255, '번성': 3256, '담그다': 3257, '대단하다': 3258, '아름답다': 3259, '체다': 3260, '퍽퍽함': 3261, '지체': 3262, '나선': 3263, '느므': 3264, '어여': 3265, '도장': 3266, '응': 3267, '묶다': 3268, '비비큐': 3269, '모레': 3270, '영접': 3271, '죽음': 3272, '폭풍': 3273, '당분간': 3274, '부부': 3275, '마감': 3276, '충격': 3277, '쀼': 3278, '요랑': 3279, '맘에듭니': 3280, '미지': 3281, '경험': 3282, '구성은': 3283, '쏠리다': 3284, '이하': 3285, '싸구려': 3286, '당기다': 3287, '에이': 3288, '버전': 3289, '벤트': 3290, '캡': 3291, '기선': 3292, '헤매다': 3293, '생닭': 3294, '명절': 3295, '알려지다': 3296, '요금': 3297, '다녀오다': 3298, '돌아서다': 3299, '골목': 3300, '확률': 3301, '만찬': 3302, '포크': 3303, '금새': 3304, '입장': 3305, '하이': 3306, '쥑': 3307, '메이저': 3308, '부디': 3309, '맛맛': 3310, '리트': 3311, '이라기': 3312, '신가': 3313, '요물': 3314, '크로칸슈': 3315, '구래': 3316, '징거': 3317, '살아나다': 3318, '만세': 3319, '두께': 3320, '종일': 3321, '메모장': 3322, '멀쩡하다': 3323, '주더': 3324, '이구만': 3325, '두부': 3326, '동글동글': 3327, '감성': 3328, '옛': 3329, '려고': 3330, '무마': 3331, '점주': 3332, '가맹': 3333, '사르다': 3334, '찌그러지다': 3335, '이미지': 3336, '점장님': 3337, '답답하다': 3338, '흔하다': 3339, '건내다': 3340, '집도': 3341, '중식': 3342, '후식': 3343, '전해지다': 3344, '문안': 3345, '니니': 3346, '초토화': 3347, '오금': 3348, '숙소': 3349, '전주': 3350, '박자': 3351, '쥬셔': 3352, '접시': 3353, '꺼억': 3354, '공지': 3355, '았': 3356, '성하다': 3357, '하자': 3358, '거북하다': 3359, '통화': 3360, '당직': 3361, '머것': 3362, '주소지': 3363, '주식': 3364, '엊그제': 3365, '실화': 3366, '구기다': 3367, '쏘스': 3368, '분식': 3369, '안녕': 3370, '거가': 3371, '정해진': 3372, '알림': 3373, '분후': 3374, 'ㄱㅅㄱㅅ': 3375, '사서': 3376, '전이': 3377, '존맛존맛존맛': 3378, '호일': 3379, '찾아오다': 3380, '설': 3381, '대도': 3382, '대식': 3383, '수능': 3384, '평범': 3385, '햇반': 3386, '쿡': 3387, '살찌다': 3388, '모텔': 3389, '가나다': 3390, '라마': 3391, '블': 3392, '기한': 3393, '두어': 3394, '파삭파삭': 3395, '기점': 3396, '정이': 3397, '요강': 3398, '무조': 3399, '버겁다': 3400, '목구멍': 3401, '떼다': 3402, '남지': 3403, '찹쌀떡': 3404, '뽑다': 3405, '백배': 3406, 'ㅠㅎ': 3407, '초복': 3408, '죽이다': 3409, '눈거': 3410, '검은색': 3411, '기름쩐내': 3412, '장소': 3413, '렌': 3414, '하고도': 3415, '쿠쿠': 3416, '싸우다': 3417, '기만': 3418, '분배': 3419, '듬성': 3420, '아날로그': 3421, '고향': 3422, '답니': 3423, '드렷': 3424, '앤드': 3425, '홍제': 3426, '야간': 3427, '꼽히다': 3428, '로서': 3429, '컴': 3430, '플레인': 3431, '둘째': 3432, '이십분': 3433, '페트병': 3434, '물기': 3435, '만은': 3436, '친': 3437, '슴니': 3438, '극상': 3439, '기절': 3440, '개개': 3441, '육포': 3442, '맛깔나다': 3443, '씻다': 3444, '이보': 3445, '칼': 3446, '이드': 3447, '맡다': 3448, '모험': 3449, '뿌듯하다': 3450, '크크': 3451, '화요일': 3452, '아이디': 3453, '짭쪼롬': 3454, '비릿': 3455, '새까맣다': 3456, '시커멓다': 3457, '널리': 3458, '특성': 3459, '우웅': 3460, '케이에프시': 3461, '무오': 3462, '완젼': 3463, '힐링': 3464, '눈물나다': 3465, '실': 3466, '출시': 3467, '습관': 3468, '능력': 3469, '티': 3470, '빠뜨리다': 3471, '평상시': 3472, '쫙': 3473, '샹각': 3474, '하렵니': 3475, '윗': 3476, '누군가': 3477, '맛있넹': 3478, '얼른': 3479, '지나치다': 3480, '양념쏘스': 3481, '달걀': 3482, '닦다': 3483, 'ㅠㅅㅠ': 3484, '날로': 3485, '무겁다': 3486, '후회되다': 3487, '핫맛': 3488, '럭키': 3489, '담번': 3490, 'ㅏㅅ': 3491, '늦엇네': 3492, '비갑': 3493, '압': 3494, '육': 3495, '빡치다': 3496, '환': 3497, '응원': 3498, '라기': 3499, '깻잎': 3500, '쫄깃쫄깃': 3501, '쭉쭉': 3502, '박다': 3503, 'ㄱㅊ': 3504, '빅콜팝': 3505, '쫄깃함': 3506, '마디': 3507, '다다': 3508, '잡히다': 3509, '날줄': 3510, '수령': 3511, '뇨': 3512, '홍': 3513, '양해': 3514, '대한민국': 3515, '전설': 3516, '쌓다': 3517, '눅지': 3518, '공동': 3519, '두시': 3520, '젊다': 3521, '아시': 3522, '이겠다': 3523, '그랫는': 3524, '재탕하다': 3525, '쉬': 3526, '큼직하다': 3527, '가야': 3528, '쫀득해': 3529, '결론': 3530, '유사하다': 3531, '어뜨케': 3532, '토핑': 3533, '쪼오끔': 3534, '해피': 3535, '뿌링빅콜팝': 3536, '엉망': 3537, '현저': 3538, '꾸다': 3539, '로우': 3540, '조절': 3541, 'ㅠㅠㅠㅠㅠㅠㅠㅠㅠㅠ': 3542, '벌떡': 3543, '빠이팅': 3544, '쫄깃해': 3545, '이슈': 3546, '원인': 3547, '흔적': 3548, '외로': 3549, '상한': 3550, '본점': 3551, '완숙': 3552, '과의': 3553, '만남': 3554, '팔리다': 3555, '개월': 3556, '케이': 3557, '오버쿠킹되': 3558, '앞전': 3559, '시리즈': 3560, '뺏다': 3561, '서브': 3562, '파스타': 3563, '내미다': 3564, '뚝': 3565, '앉다': 3566, '못자다': 3567, '빨랏습니': 3568, '객관': 3569, '메이커': 3570, '빈': 3571, '뭉치': 3572, '단어': 3573, '밖엔': 3574, '강황': 3575, '냉': 3576, '홍홍': 3577, '화용': 3578, '시크': 3579, '심햇': 3580, '살닭강': 3581, '말랑말랑하다': 3582, '퍽퍽푹탁퍽퍼퍽퍽퍽퍽': 3583, '탄산': 3584, '완': 3585, '오오오오오오오': 3586, '삼천원': 3587, '먹었스비': 3588, '에레에': 3589, '대책': 3590, '썬더': 3591, '촤악넘': 3592, '이탈리아': 3593, '만년': 3594, '쥬아욤': 3595, '맛토킹맛초킹': 3596, '지급': 3597, '자연': 3598, '아이스크림': 3599, '사가다': 3600, '앤테이': 3601, '리오내': 3602, '굿굿굿굿굿굿굿굿굿굿굿굿굿굿굿굿': 3603, '튀킴': 3604, '성능': 3605, '루다': 3606, '호두': 3607, '잣': 3608, 'ㅁㅁㅁㅁㅁㅁㅁㅁㅁㅁ': 3609, '실험': 3610, '차감': 3611, '깨작깨작': 3612, '듭': 3613, '몬': 3614, '결코': 3615, '전채': 3616, '전체샷': 3617, '곳습': 3618, '여름': 3619, '꼼꼼': 3620, '맴': 3621, 'ㅂㅂㅂㅂㅂㅂㅂㅂㅂㅂㅂㅂ': 3622, '메콤': 3623, '방지': 3624, '초록색': 3625, '입자': 3626, '철야': 3627, '서거': 3628, '뿌륑뿌륑': 3629, '래야': 3630, '지난주': 3631, '올린다': 3632, '큰소리': 3633, '성질': 3634, '소름끼치다': 3635, 'ㄹㄹ': 3636, '꼼': 3637, '차이즈중': 3638, '풀겸': 3639, '핸드폰': 3640, '꿀깨굴': 3641, '데코': 3642, '엄써': 3643, '알고싶다': 3644, '다그': 3645, '통수': 3646, '트러팔': 3647, '이루': 3648, '바이트': 3649, '깜작': 3650, '글코': 3651, '땅겨': 3652, '명시': 3653, '편도': 3654, '주제': 3655, '계륵': 3656, '쁘링': 3657, '곳음': 3658, '이온': 3659, '서운하다': 3660, '엄수': 3661, '양배추': 3662, '멕시코': 3663, '맥시': 3664, '빈공간': 3665, '자부': 3666, '밸런스': 3667, '쥬셧': 3668, 'ㅡㅇ': 3669, '인도': 3670, '시락': 3671, '다나': 3672, '켱': 3673, '석': 3674, '폭풍우': 3675, '터벅': 3676, '인삼': 3677, '정중하다': 3678, '후론': 3679, '여유롭다': 3680, '케밥': 3681, '잠시': 3682, '닉네임': 3683, '떡뽁': 3684, '좋쿠': 3685, '하주시': 3686, '갱': 3687, '장하다': 3688, '굽': 3689, '사이사이': 3690, '너겟같': 3691, '극명하다': 3692, '애가': 3693, 'ㅅㅌㅊ': 3694, '어김없이': 3695, '바이러스': 3696, '립니': 3697, '재난': 3698, '원금': 3699, '골제': 3700, '아이폰': 3701, '기념': 3702, '었어': 3703, '땡겻음': 3704, '샤': 3705, '넘버원': 3706, '시집': 3707, '경북': 3708, '살때': 3709, '소화': 3710, '멍': 3711, '공감': 3712, '반려': 3713, '댕댕': 3714, '맛나쥬': 3715, '일부분': 3716, 'ㅔㄴ': 3717, '짜파구리': 3718, '너구리': 3719, '구부리': 3720, '부리부리': 3721, '흐으': 3722, '밋있네': 3723, '레': 3724, '반입': 3725, '치레': 3726, '넵': 3727, '열정': 3728, '술자리': 3729, '받았슴다': 3730, '임신': 3731, '프': 3732, '씽씽': 3733, '고딩': 3734, '야자': 3735, '낙점': 3736, '위에껀': 3737, '두고두고': 3738, '걱정스럽다': 3739, '멕': 3740, '완소하': 3741, '일반도': 3742, '체인': 3743, '부랴부랴': 3744, '홍수': 3745, '양보': 3746, '고도': 3747, '묵직하다': 3748, '빳네요뿌': 3749, '이중': 3750, '유니세프': 3751, '후원': 3752, '다버렷습니': 3753, '게임': 3754, '반정': 3755, '왜케빨라': 3756, '이롭다': 3757, '플라스틱': 3758, '반했어': 3759, '진성': 3760, '맛밌음열': 3761, '터툐': 3762, '이루어지다': 3763, '맥힘': 3764, '융유': 3765, '휼륭하다': 3766, '핫소스': 3767, '까르보우유맛': 3768, '임팩트': 3769, '보편': 3770, '폭립맛': 3771, '토마토소스': 3772, '부산': 3773, '커피': 3774, '소감': 3775, '꼽자': 3776, '떠올리다': 3777, '근사하다': 3778, '고무줄': 3779, '옴욤욤옴': 3780, '설정': 3781, '유쾌하다': 3782, '종말': 3783, '신사': 3784, '긔': 3785, '먹엌씁니': 3786, '엇어용넷': 3787, '틈': 3788, '직영': 3789, '양적': 3790, '왜해': 3791, '창피하다': 3792, '향기': 3793, '시시키': 3794, '쫘르륵': 3795, '공통점': 3796, '파채': 3797, '톰령': 3798, '회사원': 3799, '한정': 3800, '놀랫어': 3801, '이습': 3802, '빼애애애': 3803, 'ㅐ': 3804, '액': 3805, '납득': 3806, '잘멋었어': 3807, 'ㅠㅠㅋㅋㅋ': 3808, '걱': 3809, '미세먼지': 3810, '편차': 3811, '섬': 3812, '데리야끼': 3813, '지호': 3814, 'ㅋㅋㅋㅋㅋㅋㅋㅋㅋㅋㅋㅋㅋㅋㅋㅋㅋㅋ': 3815, '이점': 3816, '탱글탱글': 3817, '리가': 3818, '꽁꽁': 3819, '하라': 3820, '오전': 3821, '고담': 3822, '버터치킨': 3823, '주인공': 3824, '당일': 3825, '디음': 3826, '땔램': 3827, '거실': 3828, '홀로': 3829, '감흥': 3830, '빛': 3831, '그늘': 3832, '주름': 3833, '이영화': 3834, '바랬': 3835, '어그': 3836, '후감': 3837, '튤립': 3838, '가시다': 3839, '밤시': 3840, '거바': 3841, '없넹': 3842, '염도': 3843, '연관검색어': 3844, '팟습': 3845, '인근': 3846, '책임지다': 3847, '빠삭맛초킹': 3848, '만들어지다': 3849, '여태껏': 3850, '오븐': 3851, '방학기': 3852, '일기': 3853, '론듯': 3854, '고료': 3855, '단지': 3856, '전인': 3857, '주무': 3858, '맛있스': 3859, '외롭다': 3860, '원사': 3861, '속세': 3862, '와인': 3863, '존맛이었슴다': 3864, '진라면': 3865, '혀끝': 3866, '아릴': 3867, '흡수': 3868, '막판': 3869, '국수': 3870, '사방': 3871, '튀어': 3872, '승부': 3873, '오거': 3874, '타임세일': 3875, '위점': 3876, 'ㅁㅊ': 3877, '노밈': 3878, '졸라': 3879, '맛쵸킹으러': 3880, '따지다': 3881, '고속': 3882, '감샤르': 3883, '을해': 3884, '멈': 3885, '용다': 3886, '어깨': 3887, '껌짝': 3888, '식물': 3889, '사이버펑크': 3890, '데이': 3891, '어긋나다': 3892, '귀신': 3893, 'ㄹㅎㅎㅎ': 3894, '딜리셔스': 3895, '지쨔': 3896, '주간': 3897, '일루': 3898, '조윰': 3899, '특수성': 3900, '노답': 3901, '소나기': 3902, '혼술': 3903, '혁신': 3904, '찍엇네': 3905, 'ㅜㅋ': 3906, '갠취': 3907, '요한': 3908, '월등하다': 3909, '케씨': 3910, '다용': 3911, '욤릉': 3912, '턱뼈': 3913, 'ㅁㅅ': 3914, '숑': 3915, '므너므': 3916, '당당': 3917, '몬해': 3918, '거짓': 3919, '어무니': 3920, '유의': 3921, '맛깃': 3922, '엇러': 3923, '오감': 3924, '자번': 3925, '맛잇게먹엇어': 3926, 'ㅋㅋㅋㅋㅋㅋㅋㅋㅋㅋㅋ': 3927, '보가': 3928, 'ㅓㅅ': 3929, '혜택': 3930, '자리': 3931, '저러다': 3932, '거절': 3933, '잔소리': 3934, '바작': 3935, '칠이': 3936, '왕창': 3937, '황홀감': 3938, '재현': 3939, '결리다': 3940, '스낵': 3941, '랩': 3942, '박박': 3943, '맛있슈': 3944, '익힝': 3945, '양모': 3946, '세심': 3947, '빠져나오다': 3948, 'ㄷㅈㄷㅅㄴㄷㄴㅌㄴ': 3949, '빵끈': 3950, '납': 3951, '다감': 3952, '슬슬': 3953, '맛남맛남': 3954, '다치다': 3955, '애좀': 3956, '넓다': 3957, '나옹': 3958, '맥잔': 3959, '자영': 3960, '업자': 3961, '웃기다': 3962, '결혼': 3963, '분해': 3964, '삭히다': 3965, '불가능하다': 3966, '궁금햇던': 3967, '뿌링덕후': 3968, '개취': 3969, '세지면': 3970, '뿌링킁': 3971, '오래간만': 3972, 'ㅋㅋㅋㅋㅋㅋㅋㅋㅋㅋ': 3973, '늘맛': 3974, '동서남북': 3975, '장정': 3976, '키우다': 3977, '농부': 3978, '쑤시다': 3979, '첨가': 3980, '진쩌': 3981, '화보': 3982, '맵족': 3983, '구해': 3984, '또시켜먹엇네용': 3985, '스특': 3986, '놓이다': 3987, '모락모락': 3988, '위답': 3989, '킹맛': 3990, '요코': 3991, '에그타르트': 3992, '고비': 3993, '아메리카노': 3994, '촉촉퍽퍽': 3995, '굿궁굿': 3996, '단종': 3997, '둥': 3998, '상실': 3999, '알아듣다': 4000, '꾸덕꾸덕': 4001, '손대다': 4002, '수요일': 4003, '앵도': 4004, '다모': 4005, '무쟈': 4006, '먹어욤': 4007, '잘나오다': 4008, '흑흐': 4009, '인간': 4010, '어어어어': 4011, '일욜': 4012, '쮸': 4013, '심플': 4014, '덕인': 4015, '감샤': 4016, '참으로': 4017, '이상인': 4018, '괸': 4019, '세도': 4020, '여럿': 4021, '치킹': 4022, '몹쓸': 4023, '대학교': 4024, '게요': 4025, '셧을텐': 4026, '쁠': 4027, '렉스': 4028, '빵빵': 4029, '기막히다': 4030, '스랑': 4031, '완뱍해': 4032, '달래': 4033, '에든': 4034, '끗': 4035, '뽀송뽀송': 4036, '송구': 4037, '맵스': 4038, '터보': 4039, '못찍엇어': 4040, '초고': 4041, 'ㅋㄱㅋ': 4042, '고마': 4043, '골다': 4044, '짝': 4045, '스테플러': 4046, '대입': 4047, '성신여대': 4048, '학로점': 4049, '매드': 4050, '연구': 4051, '의견': 4052, '군말': 4053, '보완': 4054, '죽여주다': 4055, '무기징역': 4056, 'ㅜㅜㅜㅜㅜㅜㅜ': 4057, '기운': 4058, '안국역': 4059, '핫르': 4060, '똑': 4061, '낚이': 4062, '첫날': 4063, '우열': 4064, '리기': 4065, '제겐': 4066, '더없이': 4067, '바닭': 4068, '코피': 4069, '완죠': 4070, '처갓집': 4071, '다투다': 4072, '툰': 4073, '엎어지다': 4074, '라보': 4075, '나라': 4076, '접함': 4077, '택시': 4078, '타고': 4079, '그러면': 4080, '매출': 4081, '자리다': 4082, '대저': 4083, '괘안아': 4084, '상처': 4085, '붐붐': 4086, '보송보송하다': 4087, '안시': 4088, '나레기': 4089, '쳔': 4090, '무진장': 4091, '어리석다': 4092, '지출': 4093, '물든': 4094, '모자라': 4095, '마음먹다': 4096, '사보다': 4097, '쥰맛': 4098, '개줌': 4099, '돌아다니다': 4100, '형편': 4101, '자잘하다': 4102, '천차만별': 4103, '닭번': 4104, '소떳': 4105, '레이': 4106, '도읍': 4107, '악의': 4108, '상종': 4109, '파이다': 4110, '외출': 4111, '찬스': 4112, '뉴스': 4113, '차려': 4114, '탐색': 4115, '별표': 4116, '바탕': 4117, '작업': 4118, '치팅데이': 4119, 'ㅠㅠㅠㅠㅜㅜㅜ': 4120, '쌤': 4121, '거치다': 4122, '와일드': 4123, '비싸욤': 4124, '피맛남': 4125, '아이구': 4126, '번복': 4127, '분컷해': 4128, '박담': 4129, '부들부들하다': 4130, '대세': 4131, '껄': 4132, '핏기': 4133, '뻐고': 4134, '박제가': 4135, 'ㅌ': 4136, '나타나다': 4137, '로거': 4138, '제입': 4139, '연예인': 4140, '보양': 4141, '두툼': 4142, '얹다': 4143, '서한': 4144, '조차': 4145, '유자청': 4146, '먹이': 4147, '양념렷슴': 4148, '그중': 4149, '갑갑갑': 4150, '꽉': 4151, '붙이': 4152, '분업': 4153, '즐링': 4154, '비릿내': 4155, '원전': 4156, '먹었스': 4157, '불가': 4158, '뜰': 4159, '배불배불': 4160, '아이고': 4161, '멋았': 4162, '륭웅': 4163, '시즌': 4164, '띠용': 4165, '남아도': 4166, '낟': 4167, '시퍼': 4168, '빱빱빱': 4169, 'ㅋㅋㅋㅋㅋㅋㅋㅋㅋㅋㅋㅋㅋㅋㅋ': 4170, '지겹다': 4171, '가신': 4172, '치킨뉨': 4173, '보따리': 4174, '듭니당': 4175, '촌스럽다': 4176, 'ㅠㅡ': 4177, '고하': 4178, 'ㅓㅓㅓㅓㅓㅓㅓㅓㅓㅓ': 4179, '제격': 4180, '훠니컴버': 4181, '뿌링뿌링쁘링클뿌': 4182, '마트': 4183, '젤로': 4184, '봉으루': 4185, '손살': 4186, '날때': 4187, '짓좀': 4188, '오심': 4189, '츄릅': 4190, 'ㅅㅅ': 4191, '스팸한통': 4192, '계후': 4193, '뭍혀진': 4194, '개성': 4195, '고스': 4196, '크런치': 4197, '질기': 4198, '금지': 4199, '짯는데': 4200, '이두': 4201, 'ㅅㅅㅅㅅㅅㅅㅅㅅㅅㅅ': 4202, '화욜': 4203, 'ㄱㄱ': 4204, 'ㅋㅋㅋㅎㄷㄷㄷ': 4205, '친철해': 4206, '핫뿌릭클': 4207, '조오오오오오오오': 4208, '번안': 4209, '눅늑': 4210, '넨': 4211, '부정': 4212, '마법': 4213, '째꼼': 4214, '달려들다': 4215, '빱빱빱빱빱빱빱': 4216, '네이버웹툰': 4217, '컵': 4218, '요긴': 4219, '먹물': 4220, '으으': 4221, '갠찮앗어': 4222, 'ㅊㅋ': 4223, '휴욜': 4224, '폭주': 4225, '왁왁': 4226, '트라우마': 4227, '괜춘괜춘': 4228, '요역': 4229, '먹겄습니': 4230, '같슴다': 4231, '뜸뿍': 4232, '뻥튀기': 4233, 'ㅂㅇㄱ': 4234, 'ㅅㄷㄴㄷㄴㄷㄴㄷ': 4235, '빠싹': 4236, '롯리맥날': 4237, '공갈': 4238, 'ㄴㄴ': 4239, '됫': 4240, '웰케': 4241, '제각기': 4242, '무료': 4243, '축축': 4244, 'ㅜㅜㅜㅜㅜㅜ': 4245, '간판': 4246, 'ㅠㅠㅎㅎ': 4247, '목말': 4248, '재고': 4249, '지라': 4250, '그래듀': 4251, '말자하': 4252, '상위': 4253, '포식자': 4254, '마시슴': 4255, '램': 4256, '왜케': 4257, 'ㅎㅎㅎㅎㅎㅎㅎㅎㅎㅎㅎㅎㅎㅎㅎ': 4258, '깃밥': 4259, '꼽음': 4260, '현': 4261, '팁좀': 4262, '강도': 4263, '뿌링시즈닝': 4264, '극한': 4265, '직업': 4266, 'ㄱㅈㄷㄱㄴㅂ': 4267, '닛': 4268, 'ㄱㅈㅂㄷㅂ': 4269, '맛있엉르': 4270, '맛저': 4271, '효율': 4272, '낫': 4273, '기약': 4274, '음해': 4275, '찐쪼끔': 4276, '이득': 4277, '존맛꿀맛': 4278, '뷔': 4279, '따른': 4280, '대반': 4281, '심정': 4282, '감감': 4283, '파이팅': 4284, '굿굿굿굿': 4285, '덜드갓어': 4286, '으루': 4287, '요별': 4288, 'ㅜㅡㅜ': 4289, '상담': 4290, '이안': 4291, '도와주다': 4292, '맞붙다': 4293, '득득': 4294, '발렷어': 4295, '맛초킹맛': 4296, '쇼킹': 4297, '느므느므': 4298, '연결': 4299, '넘쥬앙': 4300, '토욜날': 4301, '토종닭': 4302, '컨슈머': 4303, '취급': 4304, '이오': 4305, '십': 4306, '서걱서걱': 4307, '증폭': 4308, '시한': 4309, '나빠지다': 4310, '업앤': 4311, '중제': 4312, '심각': 4313, '대답': 4314, '타임딜': 4315, '다재': 4316, '뼈닭': 4317, '일지': 4318, '조긍': 4319, '통틀어': 4320, '하앍': 4321, '큐브': 4322, '굿국': 4323, '주력': 4324, '리사': 4325, '떡뽁이': 4326, '내려오다': 4327, '도해': 4328, '쑈': 4329, 'ㅇㅇㅇㅇㅇㅇㅇㅇㅇ': 4330, '뻑살없': 4331, 'ㄴㄱㅅㅈㄸ': 4332, '오렌': 4333, '시진': 4334, '위장': 4335, '경고': 4336, '무시무시하다': 4337, '생으로': 4338, '들락날락': 4339, '재우다': 4340, 'ㅠㅜㅠㅠㅠ': 4341, '천연색': 4342, '소인': 4343, '우려': 4344, '엉뚱하다': 4345, '상대방': 4346, '조치': 4347, '정식': 4348, '이외': 4349, '이단': 4350, '회식': 4351, '벽': 4352, '오도독': 4353, '삽겹': 4354, '해볼렵니': 4355, '한일': 4356, '저리다': 4357, 'ㅂㅁ': 4358, 'ㅋㅍ': 4359, '이츠': 4360, '이던': 4361, '차로': 4362, '도데': 4363, '뺑뺑': 4364, '폭발': 4365, '비니': 4366, '가용': 4367, '교훈': 4368, '김찌': 4369, '쇼트트랙': 4370, '조청': 4371, '맛초킹반': 4372, '빠텐더': 4373, '푸욱': 4374, '시가': 4375, '잘나다': 4376, '깔깔하다': 4377, '날수': 4378, '완죤': 4379, '구모': 4380, '닭잡': 4381, '으뜸': 4382, '짭조롬': 4383, '물러서다': 4384, '쨋': 4385, '시전': 4386, 'ㅇㄹㅇㅇㅇㅇㅇㅇㅇㅇㅇㅇㅇㅇ': 4387, '쩐내나': 4388, '눌려': 4389, '존맛탬': 4390, '비치': 4391, '간지': 4392, '청사': 4393, '갠차다': 4394, '저학년': 4395, '영롱하다': 4396, 'ㅇㅇㅇㅇㅇㅇㅇㅇ': 4397, '리스트': 4398, '두운': 4399, '맛잇엇어옹': 4400, '민': 4401, '손글씨': 4402, '반구': 4403, '집애': 4404, '다머': 4405, 'ㅎㅎㅎㅎㅅㅅㅎ': 4406, '시해': 4407, '통화시': 4408, '마니마니': 4409, '맵초킹': 4410, '담배': 4411, '뿌팅클치킨': 4412, '뿌팅클감자': 4413, '성품': 4414, '지진': 4415, '진보': 4416, '차선': 4417, '책': 4418, '오렌지': 4419, '쥬스': 4420, '앞서서': 4421, '산초': 4422, '껀': 4423, '초창': 4424, '밝다': 4425, '은빛': 4426, '건강': 4427, '퀵': 4428, '떡말': 4429, '회닭': 4430, '어나': 4431, '그립다': 4432, '일부': 4433, 'ㅎㅎㅎㅎㅎㅎㅅㅎ': 4434, '용구성': 4435, '시세': 4436, '독보': 4437, '짐함': 4438, '거만하다': 4439, '전해': 4440, '식욕': 4441, '맛있쥬': 4442, '뿌링뿌링뿌링': 4443, '퍼펙트': 4444, '준결승': 4445, '한일전': 4446, '미건': 4447, '흘': 4448, '맹맛임': 4449, '소떡뿌링': 4450, '있죵': 4451, '김물': 4452, '정함': 4453, '과속': 4454, '대조': 4455, '이신': 4456, '플레너': 4457, '치츠볼': 4458, '감정': 4459, '자연스레': 4460, '녹읍': 4461, '다미': 4462, '걸쭉하다': 4463, '게눈': 4464, '감추다': 4465, '꼬들꼬들하다': 4466, '가방': 4467, '매진': 4468, '초과': 4469, '닥닥': 4470, '내슈빌': 4471, '애도': 4472, '축': 4473, '청계천': 4474, '보라': 4475, '우동': 4476, '인증샷': 4477, '격하': 4478, '졸업': 4479, '안습': 4480, 'ㅎㅎㅎㅎㅎㅎㅎㅎㅎ': 4481, '열두': 4482, '호사': 4483, '시차': 4484, '적응': 4485, 'ㅅㄱㄷㄱㄴㄱㅈ': 4486, '무반': 4487, '왓구': 4488, '느렷어': 4489, '서로': 4490, '과장': 4491, '의리': 4492, '청량고추': 4493, '삼총사': 4494, '트리오': 4495, '오래도록': 4496, '오래전': 4497, '진득': 4498, '휘': 4499, '젓다': 4500, '그윽': 4501, '맴돌다': 4502, '화룡': 4503, '정점': 4504, '뭍혀': 4505, '즈음': 4506, '녀무': 4507, 'ㅠㅠㅜㅜㅜㅜㅜㅜㅜㅜㅜ': 4508, '어렷을때': 4509, '호다닥': 4510, '두도': 4511, '콥': 4512, '보반': 4513, '우짤꼬': 4514, '카테고리': 4515, '따스하다': 4516, '세팅': 4517, '뿡리소떡': 4518, '렝': 4519, '잘막엇습니': 4520, 'ㅇㅛ': 4521, '청국장': 4522, '애호박': 4523, '맛소깅': 4524, '미슐랭': 4525, '시절': 4526, '잘메엇어': 4527, '난생': 4528, '의행': 4529, '역쉬맛': 4530, 'ㅏㅏ': 4531, '용비': 4532, '몌콤': 4533, '꾹': 4534, '엇죠': 4535, '코너': 4536, '고맙스': 4537, '건배': 4538, '호캉스할때': 4539, '텼': 4540, '담당자': 4541, '날아오다': 4542, '친궝투움바': 4543, '베이비': 4544, '크랩': 4545, '개존맛탱': 4546, '어용': 4547, 'ㅎㅅㅊ': 4548, '맛나는뎁': 4549, '짬뽕': 4550, '했눈뎁': 4551, '음음': 4552, '바학': 4553, '량': 4554, 'ㅓㅁ': 4555, '밋있데': 4556, '에잇': 4557, '엇을': 4558, '어머나': 4559, '쿨타임': 4560, '보답': 4561, '옹온': 4562, '맛있늠': 4563, '후렌치': 4564, '미아': 4565, '보눈데': 4566, '개열': 4567, '최저': 4568, '진보면': 4569, '엉기성기': 4570, '떨다': 4571, '대충대충': 4572, '개잡': 4573, '큼큼': 4574, '진국': 4575, '도야': 4576, '온주': 4577, '순살': 4578, '양인': 4579, '치친': 4580, '야외': 4581, '의아': 4582, '이딴': 4583, '은애': 4584, '업계': 4585, '다급하다': 4586, '끌다': 4587, '울리다': 4588, '러스트': 4589, '어룡': 4590, '포토': 4591, '막엇습니': 4592, '초월': 4593, '치밥해': 4594, '고용': 4595, '광장': 4596, '둣함': 4597, '달기': 4598, '킹뿌': 4599, '성공하다': 4600, '이이이이이이': 4601, '베뤼베뤼': 4602, '가즈': 4603, '해버렷': 4604, '콘푸': 4605, '라이트': 4606, '케첩': 4607, '상분': 4608, '좌절': 4609, '산책': 4610, '직장': 4611, '구내식당': 4612, '비수': 4613, '립': 4614, '주마': 4615, '클럽': 4616, '썸머': 4617, '복통': 4618, '일으키다': 4619, '가지다': 4620, '라벨': 4621, '먹엇네': 4622, '기지': 4623, '지민': 4624, '외국': 4625, 'ㅎㅏ': 4626, '직행': 4627, '직후': 4628, '냉장': 4629, '매각': 4630, '스포츠': 4631, '이이이이': 4632, '격': 4633, '잠자리': 4634, '후뿌': 4635, '아몬드': 4636, '건포도': 4637, '식혜': 4638, '발상': 4639, '흐': 4640, '로비오': 4641, '맛쵸킹중': 4642, '학생': 4643, '예여': 4644, '한순간': 4645, '편안': 4646, '일해': 4647, '마토': 4648, '짭쪼름해': 4649, '쀼링': 4650, '맛있엌': 4651, '걸죽': 4652, '노른자': 4653, '트리': 4654, '반지르르': 4655, '정밀': 4656, '떡뽁기': 4657, '번재': 4658, '자정': 4659, '이어지다': 4660, '것밖': 4661, '볼케이노': 4662, '딜리': 4663, '샷쓰': 4664, '뜬금': 4665, '어르신': 4666, '치팅': 4667, '메불메': 4668, '금주': 4669, '짭쪼름한': 4670, '괜찬다': 4671, '플레이': 4672, '팅': 4673, '닭살': 4674, '킹제': 4675, '롤드컵': 4676, '비만': 4677, '타드랑': 4678, '끼리': 4679, '벅': 4680, '맛잇엇네용': 4681, '맘속': 4682, 'ㄱㄱㄱㄱㄱㄱ': 4683, '함덕': 4684, 'ㄹㄱ': 4685, '요딴': 4686, '반반하다': 4687, '드세다': 4688, '한결': 4689, '무럿': 4690, '롤챔스': 4691, '변햇': 4692, '나흘': 4693, '매점': 4694, '허버허버': 4695, '뿌링쿨': 4696, '비삭': 4697, '히힛': 4698, '가식': 4699, '놀랏습': 4700, '매콥해': 4701, '어린이': 4702, '때마': 4703, '연두': 4704, '부와': 4705, '많넹': 4706, '상온': 4707, '방치': 4708, '흘럿': 4709, '대변': 4710, '급니': 4711, '생맥': 4712, '도조': 4713, '자제': 4714, '구독': 4715, '이루다': 4716, '삼은': 4717, '스윙': 4718, '가득가득': 4719, '꿀맛임': 4720, '치칸': 4721, '참말': 4722, '먹엇습니당': 4723, '엇슴': 4724, '유난': 4725, '대화': 4726, '각종': 4727, '경쟁': 4728, '튜닝': 4729, '달이': 4730, '밋': 4731, '증': 4732, '포': 4733, '졍': 4734, '뷔폐': 4735, '감튀듀': 4736, '수증기': 4737, '슬펏어': 4738, '교자': 4739, '려구': 4740, '쌘': 4741, 'ㄱㅅㄱㅅㄱㅅ': 4742, '질도': 4743, '깨물다': 4744, '지지다': 4745, '양쪽': 4746, '접다': 4747, '만큼이나': 4748, '놔두다': 4749, '얼얼하다': 4750, '가안': 4751, '만오': 4752, '혹은': 4753, '배송비': 4754, '좋슴다': 4755, '착오': 4756, '통째': 4757, '실례': 4758, '뽑기': 4759, '미우다': 4760, '따땃하': 4761, '굿굿굿굿굿둣굿굿굿굿': 4762, '수요': 4763, '꼬얌': 4764, '이거슨': 4765, '리얼': 4766, '오아아': 4767, '무사': 4768, '사견': 4769, '처럼만': 4770, '읖': 4771, '사전': 4772, '쩡': 4773, '매꼼': 4774, '순이': 4775, '뵤': 4776, '셧습': 4777, '크르릉': 4778, '왈왈': 4779, '빠짝하': 4780, '눈치': 4781, '이글': 4782, '달랫': 4783, '매운정도': 4784, '뒤병': 4785, '내비': 4786, '좋슴미더': 4787, '있드': 4788, '커다랗다': 4789, '조차도': 4790, '헛갈려': 4791, '몃일': 4792, '단위': 4793, '헛': 4794, '성화': 4795, '빨랏고진': 4796, '기록': 4797, '기여': 4798, '워용': 4799, '양질': 4800, '이성': 4801, '더부': 4802, '룩': 4803, '덜맵': 4804, '그땐': 4805, '용출': 4806, '증발': 4807, '발전': 4808, '휴일': 4809, '송도': 4810, '한성대': 4811, '원픽': 4812, '아쥬': 4813, '작렬': 4814, '존함': 4815, 'ㄱㅊㅇ': 4816, '쫄깃쫄깃해': 4817, '헹궈': 4818, '노인': 4819, '쓰라리다': 4820, '기쁨': 4821, '슬픔': 4822, '감당': 4823, '충성': 4824, '기오': 4825, '왜캐': 4826, '간단': 4827, '듯합': 4828, '얌전하다': 4829, '더맛잇엇어': 4830, '반응': 4831, '맛초킥': 4832, 'ㄱㅆㅅㅌㅊ': 4833, '테이핑': 4834, '나하': 4835, '테이': 4836, '영문': 4837, '경쟁력': 4838, '엇어요뿌': 4839, '체인지': 4840, '애쓰다': 4841, '크리스마스이브': 4842, '찾아다니다': 4843, '입원': 4844, '퇴원': 4845, '수속': 4846, '밟다': 4847, '캬캬': 4848, '요충': 4849, 'ㅇㅇㅇㅇㅇㅇㅇㅇㅇㅇ': 4850, '었습니': 4851, '안배': 4852, '감삼돠': 4853, '묘미': 4854, '후후후': 4855, '못느슈쨉': 4856, '자투리': 4857, '휜': 4858, '대구': 4859, '대성공': 4860, '밋밋하다': 4861, '명색': 4862, '그런대로': 4863, '제네럴': 4864, '빠싹해': 4865, '안맛': 4866, '늑눅': 4867, '노을': 4868, 'ㅁㅏ': 4869, '비용': 4870, '논술': 4871, '나타': 4872, 'ㅏㅌ': 4873, '교대': 4874, '스파이': 4875, '진구': 4876, '거번': 4877, '쉑쉑': 4878, 'ㄱㄱㄱㄱㄱㄱㄱㄱㄱㄱ': 4879, '맛일': 4880, '사원': 4881, '입체': 4882, '잘려지다': 4883, '콘소어쩌구': 4884, '지우다': 4885, '어째서': 4886, '구구구구구구구구': 4887, '인원': 4888, '짝수': 4889, '공유': 4890, '마시슘': 4891, '구역질': 4892, '닭튀김': 4893, '솔직': 4894, '이라든지': 4895, '니다': 4896, '원중': 4897, '스모크': 4898, 'ㅇㅇㅇㅇㅇㅇ': 4899, '아차': 4900, '덴': 4901, '으앙': 4902, '맛있엇습니': 4903, '무앗': 4904, '혜태콰': 4905, '아지': 4906, '뿌링짱': 4907, '쵸': 4908, '영원하다': 4909, '용기': 4910, '군것질': 4911, 'ㅕ': 4912, '마늉떻윰': 4913, '우울하다': 4914, '이야기': 4915, '손델뻔': 4916, '서두': 4917, '어쩌잔말': 4918, '겨볼': 4919, '마찬가지': 4920, '우지': 4921, '기타등등': 4922, '발달': 4923, '적어도': 4924, '천추': 4925, '수집': 4926, '꿀꺽': 4927, '상존': 4928, '라던가': 4929, '때굿굿': 4930, '그저께': 4931, 'ㅜㅡ': 4932, '즉': 4933, '덕이': 4934, '브라질': 4935, '쪼그라들다': 4936, '마는': 4937, '개발': 4938, '팀': 4939, '적자': 4940, '맛초깅': 4941, '파태': 4942, '조슴': 4943, '들쑥날쑥': 4944, '여가': 4945, '맛있쩌': 4946, '음청맛': 4947, '케푸': 4948, '군대': 4949, '휴가': 4950, '어느덧다': 4951, '츄르륵': 4952, '고개': 4953, '끄덕이다': 4954, '넘넘엄': 4955, '글씨': 4956, '르': 4957, '빨랏어용': 4958, '뻘라': 4959, '코팅': 4960, '서리다': 4961, '스테이플러': 4962, '선지': 4963, '분수': 4964, '눈뜨다': 4965, '음청': 4966, '쫄깃쫄깃하': 4967, '의하다': 4968, '누적': 4969, '마시기': 4970, '오분': 4971, '비단': 4972, '여도': 4973, '저서': 4974, '생략': 4975, '목표': 4976, '덤덤하다': 4977, '잘먹엇네용': 4978, '가미': 4979, 'ㅎㅎㅎㅎㅎㅎㅎㅎㅎㅎㅎ': 4980, '케맛': 4981, '진찌': 4982, 'ㅡㅜㅜ': 4983, '정육': 4984, '치이다': 4985, '너무도': 4986, '만치': 4987, '밥상': 4988, '홍홍홍': 4989, '고르곤졸라': 4990, 'ㅜㅜㅠㅠㅠ': 4991, '알바생': 4992, '하비다': 4993, '잼': 4994, '컨데': 4995, '쥰내': 4996, '엎었': 4997, '가루라': 4998, '쉽다': 4999, '세계': 5000, '메리': 5001, '훌룡합니': 5002, '돋다': 5003, '촤': 5004, '최하': 5005, '무한': 5006, '신라면': 5007, '빨랐슴다': 5008, '맛잇엇어용': 5009, '짭쪼르하': 5010, '거멓': 5011, '가사': 5012, '상해': 5013, '일케': 5014, '과정': 5015, '잘생기다': 5016, '와의': 5017, 'ㅂㅐ': 5018, '빨강': 5019, '기류': 5020, '꼭좀': 5021, '닭갈비': 5022, '서걱': 5023, '한소끔': 5024, '끓이다': 5025, '구구': 5026, '수구': 5027, '구르르르굳': 5028, '꿈': 5029, '질척하다': 5030, '굿굿맛': 5031, '쥬문': 5032, '저가': 5033, '도편': 5034, '불타': 5035, '매치다': 5036, '새기다': 5037, '떡질': 5038, '아리송': 5039, '해치다': 5040, '이편': 5041, '무리': 5042, '묵고': 5043, '쫀득쫀득해': 5044, '종료': 5045, '좀먼늦엇어': 5046, '레트로': 5047, '감맙': 5048, '냅다': 5049, '정보': 5050, '업주': 5051, '가르다': 5052, '찰지다': 5053, '인세': 5054, '자취러': 5055, '후렌치후': 5056, '마땅치': 5057, '회복하다': 5058, '선정': 5059, '도크': 5060, '마잇': 5061, 'ㅋㅋㅋㅋㅋㅋㅋㅋㅋㅋㅋㅋ': 5062, '맛쵸킹시킨곳': 5063, '까만색': 5064, '침대': 5065, '셧다': 5066, '소린': 5067, '굿밀': 5068, '뭡': 5069, '분전': 5070, '유튜브': 5071, '윈스': 5072, '극찬': 5073, '발사믹': 5074, '한방약': 5075, '재맛': 5076, '닭퀄': 5077, '다델뻔': 5078, '스파게티': 5079, '초록빛': 5080, '국적': 5081, '비아': 5082, '용해': 5083, '죄다': 5084, '거부': 5085, '흘러나오다': 5086, '대학생': 5087, '고등학생': 5088, '굿굿뿌': 5089, '가온': 5090, '무족': 5091, '꼬친새우': 5092, '케이크': 5093, '오동통': 5094, '치즈케이크': 5095, '아이코': 5096, '더비': 5097, '오케이': 5098, '베트남': 5099, '눈누난나': 5100, '먹엇슴다': 5101, 'ㅓㅓㅓㅓ': 5102, '땃근하': 5103, '재품': 5104, '간나': 5105, '이대': 5106, '떡국': 5107, '사망': 5108, '바삭대다': 5109, '백점만점': 5110, '천이백': 5111, '단것': 5112, '음제': 5113, '거든요': 5114, '꼬소하': 5115, '놀리다': 5116, 'ㅎㅋ': 5117, '렷': 5118, '넷플릭스': 5119, '발명품': 5120, '글쎄': 5121, '어선': 5122, '낯설다': 5123, '슴둥': 5124, '좁다': 5125, '인간관계': 5126, '형성': 5127, '여념': 5128, '스스로': 5129, '에게라도': 5130, '투정': 5131, '부리고': 5132, '이러하다': 5133, '사연': 5134, '발린': 5135, '머리털': 5136, '짐작': 5137, '날리다': 5138, 'ㅍ': 5139, '요구르트': 5140, '빠작빠작': 5141, '애호가': 5142, '플렉스': 5143, '자점': 5144, '울산': 5145, '식량': 5146, '설익다': 5147, '개운': 5148, '시시': 5149, '짜쯩남': 5150, '괴롭다': 5151, '중학교': 5152, '용돈': 5153, '혜': 5154, '오랬': 5155, '아쒸': 5156, '마싯슴': 5157, '집층': 5158, '내려가다': 5159, '걸루': 5160, '벗기다': 5161, '분뒤': 5162, '쨩쨩': 5163, '반신반의': 5164, '홀라당': 5165, '괜춘합니': 5166, 'ㅅㄱ': 5167, '차마': 5168, '적기가': 5169, '드물다': 5170, '집배': 5171, '딘짜': 5172, '즐': 5173, '레시피': 5174, '떼': 5175, '도하': 5176, '졸다': 5177, 'ㅉ': 5178, '까르보나르': 5179, '뿌링끌': 5180, '해방촌': 5181, '스미다': 5182, '죄': 5183, '게스': 5184, '펼쳐지다': 5185, '파맛': 5186, '딸램': 5187, '불근': 5188, '짝꿍': 5189, '말로': 5190, '한때': 5191, '꼬박꼬박': 5192, '그득': 5193, '카메라': 5194, '살굿굿굿': 5195, '낯선': 5196, '호기심': 5197, '옴뭐': 5198, '불쾌': 5199, '냉동': 5200, '햇더': 5201, '교육': 5202, '겟다': 5203, '하셧음': 5204, '화남': 5205, '이직': 5206, '근래': 5207, '지안': 5208, '취양': 5209, '헤사': 5210, '구라': 5211, '저렴': 5212, '판매': 5213, '번거': 5214, '사시': 5215, 'ㅉㄱ': 5216, '었네': 5217, '내려놓다': 5218, '자주봬': 5219, '이열치열': 5220, '은색': 5221, '외모': 5222, '케바케': 5223, '가능': 5224, '요염': 5225, '맛땜': 5226, '달걀프라이': 5227, '셨음': 5228, '혼밥용': 5229, '덩이': 5230, '또르': 5231, '띠': 5232, '미로': 5233, '보여주다': 5234, '늠': 5235, '뿅': 5236, '늣네': 5237, '유우': 5238, '리리': 5239, '닝주': 5240, '이이이이이': 5241, '당분': 5242, '끼니': 5243, '폰': 5244, '사랑스럽다': 5245, '떡맛': 5246, '에어비앤비': 5247, '간절하다': 5248, '믿어지다': 5249, '웃음': 5250, '짓다': 5251, '로그인': 5252, '만을': 5253, '원보': 5254, '히잉히잉히잉히잉': 5255, '히잉': 5256, '중입': 5257, '분소': 5258, '뷴': 5259, '바삐': 5260, '쥬신': 5261, '기쁘다': 5262, '레몬': 5263, '즙': 5264, '시치미': 5265, '고추토핑': 5266, '한다해': 5267, '번만': 5268, '떡하니': 5269, '반칙': 5270, '배딸': 5271, '빠륵': 5272, '푸욱자': 5273, '쥬맛이있쥬': 5274, '꼬소': 5275, '쟈니': 5276, '반잔': 5277, '냠냐미': 5278, '부럽다': 5279, '알곡': 5280, '아스라이': 5281, '잊혀지다': 5282, '효': 5283, '여타': 5284, '비례': 5285, '특출나다': 5286, '아렵': 5287, 'ㅎㅎㅎㄹㅎㄹㄹㄹㄹㅎㅎ': 5288, '리부': 5289, '스팸잡채': 5290, '듬뿍하다': 5291, '삐뚜러진': 5292, '어린이날': 5293, '이래': 5294, '만도': 5295, '훨배': 5296, '처가': 5297, '활인': 5298, '가락': 5299, '배주른데': 5300, '서요': 5301, '에너지': 5302, '뿜뿜': 5303, 'ㅜㅜㅜㅜㅠ': 5304, '오이도': 5305, '독특': 5306, '미단골': 5307, '시댁': 5308, '충만': 5309, 'ㄱㄱㄱㄱㄱㄱㄱㄱㄱㄱㄱㄱㄱ': 5310, '아맘스': 5311, '주리다': 5312, '포케킹': 5313, '복병': 5314, '친하다': 5315, '지내다': 5316, '형제': 5317, '밥도': 5318, '넌어쩜': 5319, '리도': 5320, '떡입': 5321, '괜찬네': 5322, '넘어지다': 5323, '짜장면': 5324, '우주': 5325, '포테킹핫': 5326, '정리': 5327, '적정': 5328, '개수': 5329, '세련되다': 5330, '맛오': 5331, '점원': 5332, '금욜': 5333, '에나': 5334, '관해': 5335, 'ㅈㅁㅌ': 5336, '갸오': 5337, '비슷거': 5338, '무항': 5339, '사정': 5340, '법인': 5341, '묵비권': 5342, '젖': 5343, '막내아들': 5344, '푸딩': 5345, '린': 5346, '교만': 5347, '무심하다': 5348, '곱': 5349, '빽빽하다': 5350, '쿨': 5351, '티비': 5352, '예감': 5353, '가라앉다': 5354, '많았느': 5355, '과연': 5356, '최적': 5357, 'ㅡㅎㅎ': 5358, '네스': 5359, '무얼': 5360, '탱뿌': 5361, '칩스': 5362, '부윈데못': 5363, '삐지다': 5364, '출장': 5365, '몽땅': 5366, '쪼금더': 5367, '전농동': 5368, '간좀': 5369, '년전': 5370, '분분': 5371, '원주고': 5372, '음양도': 5373, '확실': 5374, '일텐데': 5375, '피스': 5376, '너와나': 5377, '더욱더': 5378, '야합': 5379, '장인': 5380, '빌리버': 5381, '맛있됴': 5382, '견디다': 5383, '버스': 5384, '연달': 5385, '스탠다드': 5386, '딱따구리': 5387, '감사햐': 5388, '점도': 5389, '왜케느가': 5390, '니나': 5391, '맛있슴다': 5392, '질적': 5393, '작년': 5394, '한해': 5395, '투머': 5396, '치한': 5397, '별루였': 5398, '원조': 5399, '이사해': 5400, '제이': 5401, '엠티': 5402, '보심': 5403, '양임': 5404, '쇼킹핫': 5405, '어떨': 5406, '평생': 5407, '쿠': 5408, '대용': 5409, '상의': 5410, '배서': 5411, '털': 5412, '상대': 5413, '클래식': 5414, '상콤': 5415, '효자': 5416, '마린': 5417, '의심스럽다': 5418, '쟁여놓': 5419, '까지와': 5420, '먹렀어': 5421, '뿌힝클': 5422, '배스': 5423, '뜻햇': 5424, '귀': 5425, '여우': 5426, '그레이': 5427, '잘잘': 5428, '엇숩': 5429, '다우': 5430, '슈크림붕어빵': 5431, '의업': 5432, '햄볶': 5433, 'ㅅㅅㅅㅅㅅㅅㅅㅅ': 5434, '찡하다': 5435, '매달': 5436, '놀이': 5437, '공원': 5438, '페퍼': 5439, '젤루': 5440, '소개': 5441, '안온': 5442, '틀듕안': 5443, '베송잘받았': 5444, '달동': 5445, '쫄기': 5446, '지존': 5447, '방앗간': 5448, '럼': 5449, '맛감': 5450, '낮추다': 5451, '맛좋아욜': 5452, 'ㅠㅣㅓㅎ': 5453, '파지': 5454, '법': 5455, '장사진': 5456, '침절해': 5457, '댜음': 5458, '굿굿굿굿굿굿': 5459, '터트려': 5460, '주위': 5461, '쏙쏙': 5462, '나히': 5463, '죄슝합니': 5464, '닭털': 5465, '화상': 5466, '자발': 5467, '가기': 5468, 'ㅎㅡㅎ': 5469, '지옥': 5470, '건의': 5471, '매벙': 5472, '맛맛맛맛맛맛': 5473, '케좀': 5474, '돕다': 5475, '지불': 5476, '정직하다': 5477, '성실하다': 5478, '트랜스': 5479, '모처럼': 5480, '될런': 5481, '먀운': 5482, '일요': 5483, '일밤': 5484, '곰돌이': 5485, '배제': 5486, '적군': 5487, '귀염': 5488, '뽕짝': 5489, '버프인': 5490, '프랜': 5491, '수북수북': 5492, '썽': 5493, '도로': 5494, '꾸르르': 5495, 'ㄹㄹㄹㄹ': 5496, '딸기': 5497, '비위생적': 5498, '쫄깃힌맛': 5499, '나야': 5500, '톱': 5501, '어언': 5502, '죵': 5503, '머믐': 5504, 'ㅎㅎㅎㅅ': 5505, '매콥': 5506, '치타': 5507, '얏': 5508, '비스켓': 5509, '고음': 5510, '바스라지다': 5511, '텁텁': 5512, '뭄': 5513, '남녀': 5514, '쩐맛': 5515, '쩐내': 5516, '복잡하다': 5517, '빈약하다': 5518, '타입': 5519, '텐데': 5520, '바보': 5521, '갈라': 5522, '앞으루': 5523, '용이': 5524, '위함': 5525, '시대': 5526, '경험시키다': 5527, '콤함': 5528, '존맛꿀맛핵맛': 5529, '항': 5530, '게우다': 5531, '일리': 5532, '진해': 5533, '인터폰': 5534, '고장': 5535, '내심': 5536, '양송이': 5537, '수프': 5538, '반한': 5539, '요먼': 5540, '살집': 5541, '두리안': 5542, '음식물': 5543, '폐기물': 5544, '추가햐': 5545, '더강': 5546, '비첸향': 5547, '짭쪼르름': 5548, '스모키': 5549, '맛맛초킹': 5550, '맛초킹존맛': 5551, '다시없다': 5552, '죄송스럽다': 5553, '드셧나': 5554, '폭': 5555, '넓어지다': 5556, '뚫다': 5557, '비행기': 5558, '그니': 5559, '이지유': 5560, '개맛': 5561, '스녕저양': 5562, '읏': 5563, '정상': 5564, '정해': 5565, '흔쾌하다': 5566, '나니': 5567, '핵맛': 5568, '깨끗': 5569, '이신선': 5570, '오용': 5571, '메융': 5572, '기뻐욤': 5573, '느킴': 5574, '빗속': 5575, '싸느랗다': 5576, '뭉클하다': 5577, '부득이': 5578, '닭장': 5579, '포인트': 5580, '눌려진': 5581, '젠듯': 5582, '태풍': 5583, '달코롬': 5584, '파의': 5585, '찌르다': 5586, '겨자': 5587, '토': 5588, '어쩌시려': 5589, '클레': 5590, '난감하다': 5591, '철': 5592, '수세미': 5593, '시겄습니': 5594, '스팸잡채김': 5595, '만팔천원': 5596, '이돈': 5597, '짬': 5598, 'ㅅㅅㅅㅅㅅ': 5599, '요담': 5600, '앙념': 5601, '끼치다': 5602, '잇몸': 5603, '로켓': 5604, '조심조심': 5605, '비치다': 5606, '만용': 5607, '너뮈': 5608, '거무': 5609, '튀튀': 5610, '맵쇼킹': 5611, '불필요하다': 5612, '플러스': 5613, '잘먹엇네': 5614, '장일': 5615, '꾸벅': 5616, '해동': 5617, '엄두': 5618, '의미': 5619, '분컷': 5620, '돌': 5621, '얼룩덜룩하다': 5622, '구로': 5623, '젠장': 5624, '경희대': 5625, '알아보다': 5626, '덕소': 5627, '뱃살': 5628, '지세': 5629, '깨알': 5630, '코딱지': 5631, '세스코': 5632, '프린트': 5633, '안왓네용': 5634, '무옷': 5635, '신산하다': 5636, '짜쪼름': 5637, 'ㄴㄴㅇ': 5638, '하필': 5639, '녕': 5640, '랬': 5641, '열자': 5642, '므깨': 5643, '각양각색': 5644, '지루함': 5645, '구함': 5646, '브렌': 5647, '쩌구': 5648, '터프': 5649, '날씬하다': 5650, '아숩': 5651, '소울메이트': 5652, '이뿌다': 5653, '냐냠굿': 5654, '합리화': 5655, '역설': 5656, '미각': 5657, '발휘': 5658, '활용': 5659, '손잡이': 5660, '돌뼈': 5661, '개쩌렁': 5662, '집관': 5663, '분식집': 5664, '뚜': 5665, '마침': 5666, '벌칙': 5667, '어우르다': 5668, '죄책감': 5669, '쫄깃했어': 5670, '게스트하우스': 5671, '쪼콤': 5672, '적슴돠': 5673, '쌀떡': 5674, '업다': 5675, 'ㅡㅡㅠ': 5676, '치스볼': 5677, '죵말': 5678, '갈고': 5679, '깃털': 5680, '무빼': 5681, '와이': 5682, '포티': 5683, '타령': 5684, '고명': 5685, '맛있웅': 5686, 'ㄴㅓ': 5687, '좀봉': 5688, '림': 5689, '맛잇게먹엇어연': 5690, '폭염': 5691, '신설': 5692, '빠삭빠삭해': 5693, '녀석': 5694, '시험': 5695, '실감': 5696, '뿌듯': 5697, '물질': 5698, '빨간색': 5699, '어쩌려': 5700, '곰곰하다': 5701, '짯': 5702, '치재': 5703, 'ㅢ': 5704, '맵슐량': 5705, '렁': 5706, '볼륨': 5707, '공손하다': 5708, '황송': 5709, '지경': 5710, '덱': 5711, '에디': 5712, '션': 5713, '짧쪼롬': 5714, '핫마': 5715, '동물복지': 5716, 'ㅠㅠㅠㅠㅠㅠㅠㅜㅜㅜ': 5717, '잘튀겻': 5718, '해주': 5719, '척척': 5720, '황': 5721, '깜밖': 5722, '맛슐랭': 5723, '먹엇을땐': 5724, '인용': 5725, '군용': 5726, 'ㅊㅣ': 5727, '킨': 5728, '빰빰빠빰빰밤빰': 5729, '이참': 5730, '하헤햐허호': 5731, '더스트': 5732, '컨셉': 5733, '패키지': 5734, '기획': 5735, '실행': 5736, '팍': 5737, '스펨': 5738, '천식': 5739, '중등': 5740, '느꼇': 5741, '선거운동': 5742, '도오': 5743, '녹음': 5744, '득': 5745, '은비': 5746, '남무': 5747, '통합': 5748, '분간': 5749, '부순': 5750, '색상': 5751, '미끌미끌': 5752, '물컹': 5753, '중도': 5754, '썩': 5755, '똑똑': 5756, '맥쥬': 5757, '메우다': 5758, '절임': 5759, '가주': 5760, '볶이다': 5761, '넷': 5762, '치네다': 5763, '떡갈비': 5764, '테킹': 5765, '소량': 5766, '밋있어': 5767, '물방울': 5768, '하미나': 5769, '테이크아웃': 5770, '데리': 5771, 'ㅅㅌㅊㅅㅌㅊㅅㅌㅊㅅㅌㅊ': 5772, '못찍엇네용': 5773, '맛쵸킹우': 5774, '냉면': 5775, '백신': 5776, '접종': 5777, '부작용': 5778, '훌륭': 5779, '펼치다': 5780, '절로': 5781, '제법': 5782, '일회용품': 5783, 'ㅋㅌ': 5784, '저글링': 5785, '구르다': 5786, '더러워지다': 5787, '레볼루션': 5788, '홍제역': 5789, '오십분': 5790, '햐': 5791, '더블': 5792, '맥스': 5793, '면목': 5794, '후리다': 5795, '기다해': 5796, 'ㅎㅇ': 5797, '숩니다아앝': 5798, '으아닛': 5799, '머시': 5800, '욕심': 5801, '완소픽': 5802, '안드네': 5803, 'ㄷㅔ': 5804, '구릿': 5805, '얼굴': 5806, '컨디션': 5807, '튼실헤': 5808, '요일': 5809, '퀄러티': 5810, '훈제': 5811, '휑': 5812, '로재': 5813, '잘멋엇습니': 5814, '어리가': 5815, '붐바': 5816, '타이밍': 5817, '타임': 5818, '아시웠': 5819, '본적': 5820, '커뮤니티': 5821, '지난달': 5822, '빡빡': 5823, '나웅': 5824, '맛잉': 5825, '어오': 5826, 'ㅡㅎ': 5827, '굿담': 5828, '이장': 5829, '스크럼': 5830, '후리': 5831, '참기름': 5832, '스크린골프': 5833, '치면': 5834, '조조오오오오': 5835, '자잠': 5836, '뿌링클때': 5837, '솜씨': 5838, '뒤론': 5839, '시었습니': 5840, '개비': 5841, '또또': 5842, '어차피': 5843, '맡기다': 5844, '이친': 5845, '그만두다': 5846, '일정': 5847, '앞날': 5848, '묽다': 5849, '불규칙하다': 5850, '집굿굿': 5851, '잘라지다': 5852, '고지': 5853, 'ㄱㅔ': 5854, '쏟다': 5855, '주기도': 5856, '눅눅햐': 5857, '리뉴얼': 5858, '자칫': 5859, '캄': 5860, 'ㅋㅋㅋㅋㅋㅋㅋㅋㅋㅋㅋㅋㅋ': 5861, '저기': 5862, '좋았슴돠': 5863, '떳는데': 5864, '좀게': 5865, '다시금': 5866, '햇습': 5867, '맛보기': 5868, '테스트': 5869, '갈등': 5870, '죽겐네': 5871, '슬퓨다구': 5872, '레바': 5873, '논전': 5874, '후반전': 5875, '장면': 5876, '우리나라': 5877, '줏': 5878, '부터가': 5879, 'ㅠㅋ': 5880, '질질': 5881, '얼룩덜룩': 5882, '전화번호': 5883, '장식': 5884, '센터': 5885, '자동': 5886, '응답': 5887, '의도': 5888, '퇴후': 5889, '쫀득쫀뜩': 5890, '젤맘': 5891, '때메': 5892, '겨촌': 5893, '위염': 5894, '표면': 5895, '다스': 5896, '사르르': 5897, '접사': 5898, '할머님': 5899, '콜라보': 5900, '현재': 5901, '시켯눈데': 5902, '상세': 5903, 'ㅋㅋㅌㅋㅋ': 5904, '맛초킹뿌링': 5905, '소떡': 5906, '한층': 5907, '굿굿굿굿굿굿굿굿굿굿굿굿': 5908, '짙다': 5909, '갈색': 5910, '맛쵸킹콤보': 5911, '버무러져': 5912, '냠냠얌': 5913, '하그': 5914, '친필': 5915, '무인': 5916, '상적': 5917, '점사': 5918, '왈남': 5919, '올려놓다': 5920, '밖에는': 5921, '멉': 5922, 'ㅇㅅ': 5923, '따숩다': 5924, '간반': 5925, '호세': 5926, '야오리': 5927, '지평': 5928, '엽니': 5929, '지망': 5930, '요안': 5931, '씨꺼맣': 5932, '배우다': 5933, '생강': 5934, '쎈스': 5935, '섭섭하다': 5936, '남성민': 5937, '화질': 5938, '맥앤치즈': 5939, '주도': 5940, '완벼억': 5941, '핫쇼킹': 5942, '그나저나': 5943, '오랜만': 5944, '상술': 5945, '억울하다': 5946, '휴': 5947, '욜라': 5948, '잇떵': 5949, '여후롭': 5950, '뛰다': 5951, '아줌마': 5952, '탱글탱글하다': 5953, '수록': 5954, '통좡': 5955, '쌀밥': 5956, '챤스썼네': 5957, '샤워': 5958, '그야말로': 5959, '달착지근하다': 5960, '맵단': 5961, '조화로': 5962, '조그맣다': 5963, '소홀하다': 5964, '상치': 5965, '발생': 5966, '뎌': 5967, '짯어용': 5968, '꼭꼭': 5969, '보매': 5970, '뒷날': 5971, '응윱': 5972, '요리사': 5973, '안왓네': 5974, '이의': 5975, '후려치다': 5976, '맛이빱빱빱': 5977, '맛음': 5978, '추구': 5979, '살좀': 5980, '살부': 5981, '위도': 5982, '알구': 5983, '벌리다': 5984, '왠': 5985, '일로': 5986, '크으': 5987, '꾼': 5988, '소수': 5989, '겨를': 5990, '합체': 5991, '사자성어': 5992, '감싸다': 5993, '향덕': 5994, '고오': 5995, '달짝': 5996, '지근': 5997, '아가': 5998, '중임': 5999, '매주시': 6000, '최초': 6001, '꼽습니': 6002, '심사': 6003, '맛탱퓨': 6004, '잘멋었읍니': 6005, '뿌링클쏘스': 6006, '적임': 6007, '차고': 6008, '소식': 6009, '대선': 6010, '푸드': 6011, '몹시': 6012, '유유': 6013, '또띠야': 6014, '균형': 6015, '쏘쏘했숩니': 6016, 'ㅏㅇ': 6017, '마싯슴니': 6018, '짝었는데': 6019, '합치다': 6020, '감히': 6021, '늘어서다': 6022, '이겨냇으': 6023, '시망': 6024, '퀼': 6025, '띠꺼웠다': 6026, '빱빱': 6027, '넘맛잇엇어': 6028, '마자': 6029, '괜츈': 6030, '정도걸렷': 6031, '미소': 6032, '때때로': 6033, '적양배추': 6034, '전형': 6035, '케이스': 6036, '인왈': 6037, '반개': 6038, '치순': 6039, '뿌링클존맛탱': 6040, '입속': 6041, '꾸중': 6042, '계단': 6043, '한숨': 6044, '나빳네': 6045, '부실': 6046, '종더': 6047, '짱짱하다': 6048, '총사': 6049, '경기': 6050, '개시': 6051, '불만족': 6052, '티어': 6053, '질김': 6054, '국가': 6055, '뚤릴때': 6056, '방울': 6057, '상아탑': 6058, '분리수거': 6059, '밑바닥': 6060, '잘리다': 6061, '안떨어지다': 6062, '핵강추': 6063, '잔치': 6064, '바리': 6065, '완존': 6066, '공책': 6067, '시공': 6068, '페리': 6069, '인색하다': 6070, '괜츈네용': 6071, '거고요': 6072, '방침': 6073, '겪다': 6074, '족도': 6075, '불족': 6076, '달라붙다': 6077, '급식': 6078, '비대': 6079, '에야': 6080, '껍데': 6081, '가만': 6082, '삼가다': 6083, '맥': 6084, '주량': 6085, '미처': 6086, '안지': 6087, '목소리': 6088, '문의사항': 6089, '대접받다': 6090, '강추추추추': 6091, 'ㅜㅜㅜㅜㅜㅜㅜㅜ': 6092, '숙박': 6093, '또다시': 6094, '돈쭐': 6095, '혼내다': 6096, '다른사람': 6097, '걸치다': 6098, '바비큐': 6099, '쇼핑': 6100, '정마': 6101, '맛있슴': 6102, '간장게장': 6103, '겁내': 6104, '치볼': 6105, '잇엇음': 6106, '을제': 6107, '라피': 6108, 'ㅋㄱ': 6109, '입지': 6110, '전국': 6111, '장담': 6112, '계속계속': 6113, '진달': 6114, '단전': 6115, '과다르': 6116, '아사': 6117, '몸통': 6118, '더빠짝익혀': 6119, '쌩유': 6120, '청해': 6121, '계시': 6122, '찌글': 6123, '도아': 6124, '멍청하다': 6125, '보리': 6126, '다들시켜드쉐': 6127, '가뜩이나': 6128, '부가': 6129, '홱': 6130, '놀랫': 6131, '어누': 6132, '문인': 6133, '간맛': 6134, '닭씬': 6135, '쫀맛': 6136, '맛있넜습니': 6137, '스론': 6138, '훌쩍': 6139, '낙': 6140, '욧용': 6141, '두세': 6142, 'ㅜㅜㅋㅋ': 6143, '풀렷': 6144, '해피해피': 6145, '현대': 6146, '재미있다': 6147, '존재': 6148, '아부지': 6149, '몰래': 6150, '좀덜': 6151, '쿠로': 6152, '한국어': 6153, '서툴다': 6154, 'ㅘㅜ': 6155, '어맛': 6156, '이러케': 6157, '사악하다': 6158, '버무린뒤': 6159, '없엇어': 6160, '빨링': 6161, '승화': 6162, '다중': 6163, '레스토랑': 6164, '단순': 6165, '방안': 6166, '전병': 6167, '임산부': 6168, '도가니': 6169, '식히다': 6170, '지번': 6171, '도로명주소': 6172, '꿀맛닭': 6173, '부들부들': 6174, '자그맣다': 6175, '다방면': 6176, '술취': 6177, '초기': 6178, '웠': 6179, '만족감': 6180, '하아': 6181, '주체': 6182, '운동': 6183, '힝힝': 6184, 'ㅎㅎㅎㅎㅎㅎㅎㅎㅎㅎㅎㅎ': 6185, '이리저리': 6186, '드렸스비': 6187, '노노': 6188, '노너': 6189, '넌': 6190, '기기': 6191, '물통': 6192, '겨우': 6193, '보드': 6194, '일일': 6195, '이래저래': 6196, '진정': 6197, '빨랏': 6198, '단양': 6199, '아요': 6200, '초킹초킹': 6201, '쇼킹쇼킹': 6202, '압승': 6203, '이밀': 6204, '례': 6205, '랭킹': 6206, '등식': 6207, '임돠': 6208, '공짜': 6209, '라지': 6210, '킬러': 6211, '가마니': 6212, '로안': 6213, '개꿀띠': 6214, '전등': 6215, '하타': 6216, '즈르르르르': 6217, '맛좀': 6218, '보증': 6219, '멕시카': 6220, '눈꽃': 6221, '키친': 6222, '올로': 6223, '외관': 6224, '달러': 6225, '썰리다': 6226, '청랴리점': 6227, '니요': 6228, '여야': 6229, '대통령': 6230, '선거날': 6231, '키도': 6232, '최소한': 6233, '링크': 6234, '맘음': 6235, '드거웠': 6236, '감솨': 6237, '내겐': 6238, '갯수': 6239, '옴청': 6240, '못지않다': 6241, '쿰척쿰척': 6242, '쌀때': 6243, '문인진': 6244, '쌉쌀하다': 6245, '습리': 6246, '괜잔음': 6247, '빵피': 6248, '윙킹': 6249, '젤라틴': 6250, '무대': 6251, '입력': 6252, '건너편': 6253, '비엔나': 6254, '스푼': 6255, '장임': 6256, '다양성': 6257, '숴': 6258, '개정': 6259, '도인': 6260, '진창': 6261, '기관': 6262, '리좀': 6263, '시꺼멓다': 6264, '걷다': 6265, '어떻': 6266, '다가오다': 6267, '계육': 6268, '뎁혀': 6269, '단백질': 6270, '슴느': 6271, '넝': 6272, '칼집': 6273, '맛쌀': 6274, '텁텁한맛': 6275, '전쟁': 6276, '데려오다': 6277, '맛잇읏다': 6278, '친구꼬셔': 6279, '확연': 6280, '갖은': 6281, '느무느무': 6282, '어울림': 6283, '널뿌': 6284, '맛잇엇구': 6285, '널맛': 6286, '겉껍질': 6287, '배달빨랏구': 6288, '티킨': 6289, '포만': 6290, '도대체': 6291, '안이': 6292, '징챠': 6293, '독립문역': 6294, '홀려': 6295, '적나라하다': 6296, '드러나다': 6297, '간김': 6298, 'ㅎㅎㄹㄹ': 6299, '마리인': 6300, '마음씨': 6301, '진쟈': 6302, '찐득하다': 6303, '밀접': 6304, '접촉': 6305, '검사': 6306, '둬': 6307, '최고봉': 6308, '유연하다': 6309, '큰거왓듬': 6310, '생애': 6311, '타르': 6312, '대란': 6313, '박히다': 6314, '콕': 6315, '빌어먹을': 6316, '맛굿': 6317, '한상태': 6318, '훔치다': 6319, '빨리왓구': 6320, '치킨홀릭': 6321, '흠뻑': 6322, '퓨전': 6323, '스런': 6324, '왕맛': 6325, '애교': 6326, '뿌링클른': 6327, '안거': 6328, '자괴': 6329, '감듬': 6330, '조아욤': 6331, '잘목엇습': 6332, '갠츈': 6333, '보들보들': 6334, '책자': 6335, '첫째': 6336, '따갑다': 6337, '투덜거리다': 6338, '딛다': 6339, '카다': 6340, '후루': 6341, '먹엇습나': 6342, '떡추': 6343, '상타': 6344, '어째': 6345, '발리': 6346, '더퍽': 6347, 'ㅛㅛㅛㅛㅛㅛ': 6348, '발골': 6349, '로고': 6350, '념': 6351, '김이랑': 6352, '됨스팸': 6353, '익음': 6354, '마쉬': 6355, '사드': 6356, '잘먹엇습다': 6357, '이슬': 6358, '거저': 6359, '눅진하다': 6360, '어치': 6361, '못찍엇네': 6362, '간자': 6363, '걸렷습니': 6364, '나뉘다': 6365, '소화도': 6366, '일관': 6367, '말임니돠': 6368, '매컴': 6369, '아위': 6370, '생생': 6371, '길이': 6372, '안잔': 6373, '넹': 6374, '타지': 6375, '에서와': 6376, '환멸': 6377, '천배': 6378, '양심': 6379, '낭': 6380, '호캉스할': 6381, '형님': 6382, '이십': 6383, '줄쫙': 6384, '혼종': 6385, '토록': 6386, '고혈압': 6387, '술해': 6388, '본가': 6389, '티나': 6390, '안건': 6391, '충분': 6392, '고분': 6393, '에코': 6394, '매기': 6395, '미스': 6396, '은줄': 6397, '왓습니': 6398, '말힐': 6399, '웃겻네': 6400, '최대': 6401, '겉모습': 6402, '단연': 6403, '왕존맛': 6404, '거임': 6405, '쪼매': 6406, '하압': 6407, '그랬슴다': 6408, '문건': 6409, '꼬맹이': 6410, '추후': 6411, '빅': 6412, '합격': 6413, '감탄사': 6414, '페티': 6415, '홀': 6416, '대리점': 6417, '거슬리다': 6418, '본질': 6419, '엉덩이': 6420, 'ㅜㅠㅠㅠㅠㅠㅠ': 6421, '긔여워': 6422, '맛있엇': 6423, '카': 6424, '간토': 6425, '릿': 6426, '쫀득쫀득한맛': 6427, '극락': 6428, '어쨋': 6429, '혼미하다': 6430, '차림': 6431, '도주': 6432, '곳임': 6433, '아앙': 6434, '맛이없엇어': 6435, '턴': 6436, '평안': 6437, '고함': 6438, '맛킹': 6439, '푸석': 6440, '맛날': 6441, 'ㅍㅍㅍㅍㅍ': 6442, '조미료': 6443, '털리다': 6444, '컵라면': 6445, '보들보들하다': 6446, '날뻔': 6447, '수수하다': 6448, '오링': 6449, '거릅니': 6450, '뭣': 6451, '잘목었습니': 6452, '눅진': 6453, '어디가': 6454, '갈팡질팡': 6455, '주민': 6456, '그렁': 6457, '좋숩니당': 6458, '토끼다': 6459, '채식': 6460, '동물': 6461, '어쩌지': 6462, '계란노른자': 6463, '아쥬우우우': 6464, '분실': 6465, '쌍': 6466, '블로그': 6467, '영도': 6468, '모짜렐라': 6469, '도거': 6470, '아야': 6471, '초오': 6472, '토터토': 6473, '앙증맞다': 6474, '개념': 6475, '묶음': 6476, '깎다': 6477, '취저맛': 6478, '마싯슘': 6479, '일주': 6480, '갠찮습니': 6481, '회신': 6482, '주관': 6483, '베니': 6484, '햄맛': 6485, '찌꺼기': 6486, '다분': 6487, '위기': 6488, '왜리': 6489, '업소': 6490, '오점': 6491, '만다린': 6492, '극적': 6493, '끊어지다': 6494, '식감맛': 6495, 'ㅠㅜㅜㅜ': 6496, '순살셋트': 6497, '번쩍이다': 6498, '리본': 6499, '요런': 6500, '뿌클': 6501, '달짝찌': 6502, '드라군': 6503, '레드윙': 6504, 'ㄹㅅㅅㅅㅅㅅㅅㅅㅅㅅ': 6505, '거마': 6506, '구려': 6507, '률': 6508, '신장': 6509, '개업': 6510, '중요': 6511, '하드': 6512, '캐리': 6513, '추워지다': 6514, '간강': 6515, '시르다': 6516, '귤': 6517, '크림소스': 6518, '아자': 6519, '뿌링클넘': 6520, '시경': 6521, '그러하다': 6522, '열기': 6523, '월동': 6524, '인편': 6525, '냠': 6526, '완추함': 6527, '좀덜달': 6528, '루긴': 6529, '책임감': 6530, '검믓': 6531, '공기밥': 6532, '회용': 6533, '바베큐치킨': 6534, '있슴니': 6535, '프론트': 6536, '배떡': 6537, '첩': 6538, '내뱉다': 6539, '때찌': 6540, '진행': 6541, '호치': 6542, '캐스': 6543, '겨울': 6544, '맵기': 6545, '으른이날': 6546, '적수': 6547, '등장': 6548, '짓': 6549, '퇴식': 6550, '간당간당': 6551, '번의': 6552, '엄': 6553, '법도': 6554, '굿굿굿닭': 6555, '중맛': 6556, '친철힌시': 6557, '헤': 6558, '큐': 6559, '팡': 6560, '츠': 6561, '넘어오다': 6562, '가도': 6563, '호박': 6564, '그만': 6565, '배기': 6566, '렌지': 6567, '쥰': 6568, '룽': 6569, '솟다': 6570, '미가': 6571, '칠': 6572, '차원': 6573, '하나요': 6574, '꺄르륵': 6575, 'ㄹㅣ': 6576, '수문': 6577, '벌': 6578, '탱탱하다': 6579, '마르고': 6580, '분노하다': 6581, '춘하': 6582, '황금': 6583, 'ㅆㅅㅌㅊ': 6584, '마일': 6585, '드하': 6586, 'ㅅㅠ': 6587, '만읖만읖': 6588, '남른': 6589, '쪽쪽': 6590, '일등': 6591, '인걸': 6592, '있숩니': 6593}\n"
     ]
    }
   ],
   "source": [
    "print(tokenizer.word_index)"
   ]
  },
  {
   "cell_type": "code",
   "execution_count": 59,
   "id": "3efa9c8b",
   "metadata": {},
   "outputs": [
    {
     "name": "stdout",
     "output_type": "stream",
     "text": [
      "단어 집합(vocabulary)의 크기 : 6593\n",
      "등장 빈도가 2번 이하인 희귀 단어의 수: 3917\n",
      "단어 집합에서 희귀 단어의 비율: 59.411497042317606\n",
      "전체 등장 빈도에서 희귀 단어 등장 빈도 비율: 3.2463226836628367\n"
     ]
    }
   ],
   "source": [
    "threshold = 3\n",
    "total_cnt = len(tokenizer.word_index) # 단어의 수\n",
    "rare_cnt = 0 # 등장 빈도수가 threshold보다 작은 단어의 개수를 카운트\n",
    "total_freq = 0 # 훈련 데이터의 전체 단어 빈도수 총 합\n",
    "rare_freq = 0 # 등장 빈도수가 threshold보다 작은 단어의 등장 빈도수의 총 합\n",
    "\n",
    "# 단어와 빈도수의 쌍(pair)을 key와 value로 받는다.\n",
    "for key, value in tokenizer.word_counts.items():\n",
    "    total_freq = total_freq + value\n",
    "\n",
    "    # 단어의 등장 빈도수가 threshold보다 작으면\n",
    "    if(value < threshold):\n",
    "        rare_cnt = rare_cnt + 1\n",
    "        rare_freq = rare_freq + value\n",
    "\n",
    "print('단어 집합(vocabulary)의 크기 :',total_cnt)\n",
    "print('등장 빈도가 %s번 이하인 희귀 단어의 수: %s'%(threshold - 1, rare_cnt))\n",
    "print(\"단어 집합에서 희귀 단어의 비율:\", (rare_cnt / total_cnt)*100)\n",
    "print(\"전체 등장 빈도에서 희귀 단어 등장 빈도 비율:\", (rare_freq / total_freq)*100)"
   ]
  },
  {
   "cell_type": "code",
   "execution_count": 60,
   "id": "7539e365",
   "metadata": {},
   "outputs": [
    {
     "name": "stdout",
     "output_type": "stream",
     "text": [
      "단어 집합의 크기 : 2677\n"
     ]
    }
   ],
   "source": [
    "# 전체 단어 개수 중 빈도수 2이하인 단어는 제거.\n",
    "# 0번 패딩 토큰을 고려하여 + 1\n",
    "vocab_size = total_cnt - rare_cnt + 1\n",
    "print('단어 집합의 크기 :',vocab_size)"
   ]
  },
  {
   "cell_type": "code",
   "execution_count": 61,
   "id": "2fc17e49",
   "metadata": {},
   "outputs": [],
   "source": [
    "# 텍스트 시퀀스를 정수 시퀀스로 변환\n",
    "tokenizer = Tokenizer(vocab_size) \n",
    "tokenizer.fit_on_texts(X_train)\n",
    "X_train = tokenizer.texts_to_sequences(X_train)\n",
    "X_test = tokenizer.texts_to_sequences(X_test)"
   ]
  },
  {
   "cell_type": "code",
   "execution_count": 62,
   "id": "8d68aaaa",
   "metadata": {},
   "outputs": [
    {
     "name": "stdout",
     "output_type": "stream",
     "text": [
      "[[24, 1, 20, 182, 229, 319, 6, 16, 148], [1, 9, 2], [324, 137, 291, 64, 1727, 247, 885, 59, 273, 32, 11, 120, 11, 75]]\n"
     ]
    }
   ],
   "source": [
    "# 정수 인코딩이 되었는지 확인\n",
    "print(X_train[:3])"
   ]
  },
  {
   "cell_type": "code",
   "execution_count": 64,
   "id": "de9431c2",
   "metadata": {},
   "outputs": [],
   "source": [
    "# train_data에서 y_train과 y_test를 별도로 저장해준다\n",
    "y_train = np.array(train_data['Label'])\n",
    "y_test = np.array(test_data['Label'])"
   ]
  },
  {
   "cell_type": "markdown",
   "id": "00a85fef",
   "metadata": {},
   "source": [
    "### 빈 샘플(empty samples) 제거\n",
    "전체 데이터에서 빈도수가 낮은 단어가 삭제되었다는 것은 빈도수가 낮은 단어만으로 구성되었던 샘플들은 빈(empty) 샘플이 되었다는 것을 의미합니다. 빈 샘플들은 어떤 레이블이 붙어있던 의미가 없으므로 빈 샘플들을 제거해주는 작업을 하겠습니다. 각 샘플들의 길이를 확인해서 길이가 0인 샘플들의 인덱스를 받아오겠습니다."
   ]
  },
  {
   "cell_type": "code",
   "execution_count": 65,
   "id": "ecc33ef4",
   "metadata": {},
   "outputs": [],
   "source": [
    "drop_train = [index for index, sentence in enumerate(X_train) if len(sentence) < 1]"
   ]
  },
  {
   "cell_type": "code",
   "execution_count": 66,
   "id": "790df3c2",
   "metadata": {},
   "outputs": [
    {
     "name": "stdout",
     "output_type": "stream",
     "text": [
      "X_train 샘플 제거 후 개수: 14261\n",
      "y_train 샘플 제거 후 개수: 14261\n"
     ]
    }
   ],
   "source": [
    "# 빈 샘플들을 제거\n",
    "X_train = np.delete(X_train, drop_train, axis=0)\n",
    "y_train = np.delete(y_train, drop_train, axis=0)\n",
    "print('X_train 샘플 제거 후 개수:',len(X_train))\n",
    "print('y_train 샘플 제거 후 개수:',len(y_train))"
   ]
  },
  {
   "cell_type": "markdown",
   "id": "abd2ae67",
   "metadata": {},
   "source": [
    "### 패딩\n",
    "서로 다른 길이의 샘플들의 길이를 동일하게 맞춰주는 패딩 작업 진행"
   ]
  },
  {
   "cell_type": "code",
   "execution_count": 67,
   "id": "223a933e",
   "metadata": {},
   "outputs": [
    {
     "name": "stdout",
     "output_type": "stream",
     "text": [
      "리뷰의 최대 길이 : 89\n",
      "리뷰의 평균 길이 : 10.027347310847766\n"
     ]
    },
    {
     "data": {
      "image/png": "[encoded data removed]",
      "text/plain": [
       "<Figure size 432x288 with 1 Axes>"
      ]
     },
     "metadata": {
      "needs_background": "light"
     },
     "output_type": "display_data"
    }
   ],
   "source": [
    "# 전체 데이터에서 가장 길이가 긴 리뷰와 전체 데이터의 길이 분포\n",
    "\n",
    "print('리뷰의 최대 길이 :',max(len(review) for review in X_train))\n",
    "print('리뷰의 평균 길이 :',sum(map(len, X_train))/len(X_train))\n",
    "plt.hist([len(review) for review in X_train], bins=50)\n",
    "plt.xlabel('length of samples')\n",
    "plt.ylabel('number of samples')\n",
    "plt.show()"
   ]
  },
  {
   "cell_type": "markdown",
   "id": "35614eae",
   "metadata": {},
   "source": [
    "가장 긴 리뷰의 길이는 89이며, 그래프를 봤을 때 전체 데이터의 길이 분포는 대체적으로 약 11내외의 길이를 가지는 것을 볼 수 있습니다. 모델이 처리할 수 있도록 X_train과 X_test의 모든 샘플의 길이를 특정 길이로 동일하게 맞춰줄 필요가 있습니다. 특정 길이 변수를 max_len으로 정합니다. 대부분의 리뷰가 내용이 잘리지 않도록 할 수 있는 최적의 max_len의 값은 몇일까요? 전체 샘플 중 길이가 max_len 이하인 샘플의 비율이 몇 %인지 확인하는 함수를 만듭니다."
   ]
  },
  {
   "cell_type": "code",
   "execution_count": 68,
   "id": "8e85500b",
   "metadata": {},
   "outputs": [],
   "source": [
    "def below_threshold_len(max_len, nested_list):\n",
    "  count = 0\n",
    "  for sentence in nested_list:\n",
    "    if(len(sentence) <= max_len):\n",
    "        count = count + 1\n",
    "  print('전체 샘플 중 길이가 %s 이하인 샘플의 비율: %s'%(max_len, (count / len(nested_list))*100))"
   ]
  },
  {
   "cell_type": "code",
   "execution_count": 69,
   "id": "18d30f02",
   "metadata": {},
   "outputs": [
    {
     "name": "stdout",
     "output_type": "stream",
     "text": [
      "전체 샘플 중 길이가 30 이하인 샘플의 비율: 95.3719935488395\n"
     ]
    }
   ],
   "source": [
    "max_len = 30\n",
    "below_threshold_len(max_len, X_train)"
   ]
  },
  {
   "cell_type": "code",
   "execution_count": 70,
   "id": "d3a70da3",
   "metadata": {},
   "outputs": [],
   "source": [
    "# 전체 훈련 데이터 중 약 94%의 리뷰가 30이하의 길이를 가지는 것을 확인\n",
    "# 모든 샘플의 길이를 30으로 맞추기\n",
    "X_train = pad_sequences(X_train, maxlen=max_len)\n",
    "X_test = pad_sequences(X_test, maxlen=max_len)"
   ]
  },
  {
   "cell_type": "code",
   "execution_count": 71,
   "id": "0f4931d7",
   "metadata": {},
   "outputs": [
    {
     "name": "stdout",
     "output_type": "stream",
     "text": [
      "Epoch 1/15\n",
      "178/179 [============================>.] - ETA: 0s - loss: 0.3966 - acc: 0.8668\n",
      "Epoch 1: val_acc improved from -inf to 0.86505, saving model to best_model.h5\n",
      "179/179 [==============================] - 16s 68ms/step - loss: 0.3966 - acc: 0.8668 - val_loss: 0.3904 - val_acc: 0.8651\n",
      "Epoch 2/15\n",
      "178/179 [============================>.] - ETA: 0s - loss: 0.3761 - acc: 0.8696\n",
      "Epoch 2: val_acc did not improve from 0.86505\n",
      "179/179 [==============================] - 11s 62ms/step - loss: 0.3760 - acc: 0.8697 - val_loss: 0.3897 - val_acc: 0.8651\n",
      "Epoch 3/15\n",
      "178/179 [============================>.] - ETA: 0s - loss: 0.3621 - acc: 0.8708\n",
      "Epoch 3: val_acc did not improve from 0.86505\n",
      "179/179 [==============================] - 11s 60ms/step - loss: 0.3620 - acc: 0.8708 - val_loss: 0.4039 - val_acc: 0.8630\n",
      "Epoch 4/15\n",
      "178/179 [============================>.] - ETA: 0s - loss: 0.3516 - acc: 0.8739\n",
      "Epoch 4: val_acc did not improve from 0.86505\n",
      "179/179 [==============================] - 11s 61ms/step - loss: 0.3520 - acc: 0.8738 - val_loss: 0.3967 - val_acc: 0.8615\n",
      "Epoch 5/15\n",
      "178/179 [============================>.] - ETA: 0s - loss: 0.3405 - acc: 0.8764\n",
      "Epoch 5: val_acc did not improve from 0.86505\n",
      "179/179 [==============================] - 12s 64ms/step - loss: 0.3408 - acc: 0.8763 - val_loss: 0.4124 - val_acc: 0.8556\n",
      "Epoch 6/15\n",
      "178/179 [============================>.] - ETA: 0s - loss: 0.3302 - acc: 0.8804\n",
      "Epoch 6: val_acc did not improve from 0.86505\n",
      "179/179 [==============================] - 12s 68ms/step - loss: 0.3302 - acc: 0.8803 - val_loss: 0.4329 - val_acc: 0.8493\n",
      "Epoch 6: early stopping\n"
     ]
    }
   ],
   "source": [
    "from tensorflow.keras.layers import Embedding, Dense, LSTM\n",
    "from tensorflow.keras.models import Sequential\n",
    "from tensorflow.keras.models import load_model\n",
    "from tensorflow.keras.callbacks import EarlyStopping, ModelCheckpoint\n",
    "\n",
    "embedding_dim = 100\n",
    "hidden_units = 128\n",
    "\n",
    "model = Sequential()\n",
    "model.add(Embedding(vocab_size, embedding_dim))\n",
    "model.add(LSTM(hidden_units))\n",
    "model.add(Dense(1, activation='sigmoid'))\n",
    "\n",
    "es = EarlyStopping(monitor='val_loss', mode='min', verbose=1, patience=4)\n",
    "mc = ModelCheckpoint('best_model.h5', monitor='val_acc', mode='max', verbose=1, save_best_only=True)\n",
    "\n",
    "model.compile(optimizer='rmsprop', loss='binary_crossentropy', metrics=['acc'])\n",
    "history = model.fit(X_train, y_train, epochs=15, callbacks=[es, mc], batch_size=64, validation_split=0.2)"
   ]
  },
  {
   "cell_type": "code",
   "execution_count": 72,
   "id": "a731f711",
   "metadata": {},
   "outputs": [
    {
     "name": "stdout",
     "output_type": "stream",
     "text": [
      "118/118 [==============================] - 2s 12ms/step - loss: 0.3880 - acc: 0.8680\n",
      "\n",
      " 테스트 정확도: 0.8680\n"
     ]
    }
   ],
   "source": [
    "loaded_model = load_model('best_model.h5')\n",
    "print(\"\\n 테스트 정확도: %.4f\" % (loaded_model.evaluate(X_test, y_test)[1]))"
   ]
  },
  {
   "cell_type": "code",
   "execution_count": 73,
   "id": "74e4d1c4",
   "metadata": {},
   "outputs": [],
   "source": [
    "def sentiment_predict(new_sentence):\n",
    "  new_sentence = re.sub(r'[^ㄱ-ㅎㅏ-ㅣ가-힣 ]','', new_sentence)\n",
    "  new_sentence = okt.morphs(new_sentence, stem=True) # 토큰화\n",
    "  new_sentence = [word for word in new_sentence if not word in stopwords] # 불용어 제거\n",
    "  encoded = tokenizer.texts_to_sequences([new_sentence]) # 정수 인코딩\n",
    "  pad_new = pad_sequences(encoded, maxlen = max_len) # 패딩\n",
    "  score = float(loaded_model.predict(pad_new)) # 예측\n",
    "  if(score > 0.5):\n",
    "    print(\"{:.2f}% 확률로 긍정 리뷰입니다.\\n\".format(score * 100))\n",
    "  else:\n",
    "    print(\"{:.2f}% 확률로 부정 리뷰입니다.\\n\".format((1 - score) * 100))"
   ]
  },
  {
   "cell_type": "code",
   "execution_count": 101,
   "id": "4821115f",
   "metadata": {},
   "outputs": [
    {
     "name": "stdout",
     "output_type": "stream",
     "text": [
      "85.72% 확률로 긍정 리뷰입니다.\n",
      "\n"
     ]
    }
   ],
   "source": [
    "sentiment_predict('치킨 다 식어서 오고 퍽퍽해서 한입먹고 다버림, 역대 최악의 치킨이였음, 다시는 여기서 안시킴')"
   ]
  }
 ],
 "metadata": {
  "kernelspec": {
   "display_name": "Python 3 (ipykernel)",
   "language": "python",
   "name": "python3"
  },
  "language_info": {
   "codemirror_mode": {
    "name": "ipython",
    "version": 3
   },
   "file_extension": ".py",
   "mimetype": "text/x-python",
   "name": "python",
   "nbconvert_exporter": "python",
   "pygments_lexer": "ipython3",
   "version": "3.9.7"
  }
 },
 "nbformat": 4,
 "nbformat_minor": 5
}
