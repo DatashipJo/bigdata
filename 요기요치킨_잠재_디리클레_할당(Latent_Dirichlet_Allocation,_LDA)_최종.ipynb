{
 "cells": [
  {
   "cell_type": "markdown",
   "metadata": {
    "id": "tMgqTIaPnzUA"
   },
   "source": [
    "토픽 모델링의 대표적인 알고리즘은 잠재 디리클레 할당(Latent Dirichlet Allocation, LDA)라 할 수 있다.\n",
    "\n",
    "\n",
    "참고 링크 : https://lettier.com/projects/lda-topic-modeling/"
   ]
  },
  {
   "cell_type": "markdown",
   "metadata": {
    "id": "4Ak307GilNkJ"
   },
   "source": [
    "# 1. 잠재 디리클레 할당(이하 LDA) 개요"
   ]
  },
  {
   "cell_type": "markdown",
   "metadata": {
    "id": "dI3p6Ez6pqAH"
   },
   "source": [
    "LDA를 일종의 블랙 박스로 보고 LDA에 문서 집합을 입력하면,\n",
    "어떤 결과를 보여주는지 아래와 같이 살펴보자. "
   ]
  },
  {
   "cell_type": "markdown",
   "metadata": {
    "id": "dsZ56jf_pxo9"
   },
   "source": [
    "아래와 같은 3개의 문서가 존재한다면 직관적을 토픽 모델링을 할 수 있으나,\n",
    "실제 수십만개 이상의 문서가 있는 경우 직접 토픽을 찾아내기가 어렵다"
   ]
  },
  {
   "cell_type": "markdown",
   "metadata": {
    "id": "3P_HRt6Fp9tt"
   },
   "source": [
    "* 문서1 : 저는 사과랑 바나나를 먹어요\n",
    "* 문서2 : 우리는 귀여운 강아지가 좋아요\n",
    "* 문서3 : 저의 깜찍하고 귀여운 강아지가 바나나를 먹어요 "
   ]
  },
  {
   "cell_type": "markdown",
   "metadata": {
    "id": "1fsZa10SqGMk"
   },
   "source": [
    "LDA를 수행할 때 문서 집합에서 토픽이 몇 개가 존재할지 가정하는 것은 사용자가 해야 할 일이다. 만약 위의 문서 3개 중에서 2개의 토픽을 찾으라고 한다면\n",
    "\n",
    "즉, 토픽의 개수를 의미하는 변수를 k라고 하였을 때, k를 2로 한다는 의미이다."
   ]
  },
  {
   "cell_type": "markdown",
   "metadata": {
    "id": "BejfhlDX5kzd"
   },
   "source": [
    "#### 1. 실습을 통한 이해 -1) News_data_headline"
   ]
  },
  {
   "cell_type": "code",
   "execution_count": 1,
   "metadata": {
    "id": "7AsP-2bbx__D"
   },
   "outputs": [],
   "source": [
    "import pandas as pd\n",
    "import numpy as np\n",
    "import urllib.request\n",
    "import nltk\n",
    "from nltk.corpus import stopwords\n",
    "from nltk.stem import WordNetLemmatizer\n",
    "from sklearn.feature_extraction.text import TfidfVectorizer\n",
    "from sklearn.decomposition import LatentDirichletAllocation"
   ]
  },
  {
   "cell_type": "code",
   "execution_count": 2,
   "metadata": {
    "scrolled": true
   },
   "outputs": [
    {
     "data": {
      "text/html": [
       "<div>\n",
       "<style scoped>\n",
       "    .dataframe tbody tr th:only-of-type {\n",
       "        vertical-align: middle;\n",
       "    }\n",
       "\n",
       "    .dataframe tbody tr th {\n",
       "        vertical-align: top;\n",
       "    }\n",
       "\n",
       "    .dataframe thead th {\n",
       "        text-align: right;\n",
       "    }\n",
       "</style>\n",
       "<table border=\"1\" class=\"dataframe\">\n",
       "  <thead>\n",
       "    <tr style=\"text-align: right;\">\n",
       "      <th></th>\n",
       "      <th>번호</th>\n",
       "      <th>가게명</th>\n",
       "      <th>총평점</th>\n",
       "      <th>주소</th>\n",
       "      <th>아이디</th>\n",
       "      <th>평점</th>\n",
       "      <th>날짜</th>\n",
       "      <th>리뷰</th>\n",
       "    </tr>\n",
       "  </thead>\n",
       "  <tbody>\n",
       "    <tr>\n",
       "      <th>0</th>\n",
       "      <td>0</td>\n",
       "      <td>BHC-시립대점</td>\n",
       "      <td>4.8</td>\n",
       "      <td>서울특별시 동대문구 전농동 295-9 성진빌딩 295-9 동광교회 1층</td>\n",
       "      <td>de**님</td>\n",
       "      <td>1</td>\n",
       "      <td>2시간 전</td>\n",
       "      <td>잘 먹었습니다</td>\n",
       "    </tr>\n",
       "    <tr>\n",
       "      <th>1</th>\n",
       "      <td>1</td>\n",
       "      <td>BHC-시립대점</td>\n",
       "      <td>4.8</td>\n",
       "      <td>서울특별시 동대문구 전농동 295-9 성진빌딩 295-9 동광교회 1층</td>\n",
       "      <td>pr**님</td>\n",
       "      <td>5</td>\n",
       "      <td>4시간 전</td>\n",
       "      <td>양이 많이 줄어든 느낌 이네요.</td>\n",
       "    </tr>\n",
       "    <tr>\n",
       "      <th>2</th>\n",
       "      <td>2</td>\n",
       "      <td>BHC-시립대점</td>\n",
       "      <td>4.8</td>\n",
       "      <td>서울특별시 동대문구 전농동 295-9 성진빌딩 295-9 동광교회 1층</td>\n",
       "      <td>sk**님</td>\n",
       "      <td>5</td>\n",
       "      <td>8시간 전</td>\n",
       "      <td>오늘도 맛나게 잘 먹었습니다~~~</td>\n",
       "    </tr>\n",
       "    <tr>\n",
       "      <th>3</th>\n",
       "      <td>3</td>\n",
       "      <td>BHC-시립대점</td>\n",
       "      <td>4.8</td>\n",
       "      <td>서울특별시 동대문구 전농동 295-9 성진빌딩 295-9 동광교회 1층</td>\n",
       "      <td>gh**님</td>\n",
       "      <td>5</td>\n",
       "      <td>10시간 전</td>\n",
       "      <td>맛있어요 양도 많아요</td>\n",
       "    </tr>\n",
       "    <tr>\n",
       "      <th>4</th>\n",
       "      <td>4</td>\n",
       "      <td>BHC-시립대점</td>\n",
       "      <td>4.8</td>\n",
       "      <td>서울특별시 동대문구 전농동 295-9 성진빌딩 295-9 동광교회 1층</td>\n",
       "      <td>ki**님</td>\n",
       "      <td>5</td>\n",
       "      <td>17시간 전</td>\n",
       "      <td>맛있게 잘먹었어요 다음에 또주문할께요</td>\n",
       "    </tr>\n",
       "  </tbody>\n",
       "</table>\n",
       "</div>"
      ],
      "text/plain": [
       "   번호       가게명  총평점                                       주소    아이디  평점  \\\n",
       "0   0  BHC-시립대점  4.8  서울특별시 동대문구 전농동 295-9 성진빌딩 295-9 동광교회 1층  de**님   1   \n",
       "1   1  BHC-시립대점  4.8  서울특별시 동대문구 전농동 295-9 성진빌딩 295-9 동광교회 1층  pr**님   5   \n",
       "2   2  BHC-시립대점  4.8  서울특별시 동대문구 전농동 295-9 성진빌딩 295-9 동광교회 1층  sk**님   5   \n",
       "3   3  BHC-시립대점  4.8  서울특별시 동대문구 전농동 295-9 성진빌딩 295-9 동광교회 1층  gh**님   5   \n",
       "4   4  BHC-시립대점  4.8  서울특별시 동대문구 전농동 295-9 성진빌딩 295-9 동광교회 1층  ki**님   5   \n",
       "\n",
       "       날짜                    리뷰  \n",
       "0   2시간 전               잘 먹었습니다  \n",
       "1   4시간 전     양이 많이 줄어든 느낌 이네요.  \n",
       "2   8시간 전    오늘도 맛나게 잘 먹었습니다~~~  \n",
       "3  10시간 전           맛있어요 양도 많아요  \n",
       "4  17시간 전  맛있게 잘먹었어요 다음에 또주문할께요  "
      ]
     },
     "execution_count": 2,
     "metadata": {},
     "output_type": "execute_result"
    }
   ],
   "source": [
    "chicken_review = pd.read_csv('D:/pythonTest/DataShipJo/chicken_train_최종.csv', names=['번호','가게명','총평점','주소','아이디','평점','날짜','리뷰'])\n",
    "chicken_review.head()"
   ]
  },
  {
   "cell_type": "code",
   "execution_count": 3,
   "metadata": {
    "id": "IAO7By9uyqjT"
   },
   "outputs": [
    {
     "name": "stdout",
     "output_type": "stream",
     "text": [
      "치킨 리뷰 개수 : 99494\n"
     ]
    }
   ],
   "source": [
    "print('치킨 리뷰 개수 :', len(chicken_review))"
   ]
  },
  {
   "cell_type": "code",
   "execution_count": 4,
   "metadata": {
    "id": "YcwtSgNc5Hc5"
   },
   "outputs": [
    {
     "data": {
      "text/html": [
       "<div>\n",
       "<style scoped>\n",
       "    .dataframe tbody tr th:only-of-type {\n",
       "        vertical-align: middle;\n",
       "    }\n",
       "\n",
       "    .dataframe tbody tr th {\n",
       "        vertical-align: top;\n",
       "    }\n",
       "\n",
       "    .dataframe thead th {\n",
       "        text-align: right;\n",
       "    }\n",
       "</style>\n",
       "<table border=\"1\" class=\"dataframe\">\n",
       "  <thead>\n",
       "    <tr style=\"text-align: right;\">\n",
       "      <th></th>\n",
       "      <th>리뷰</th>\n",
       "    </tr>\n",
       "  </thead>\n",
       "  <tbody>\n",
       "    <tr>\n",
       "      <th>0</th>\n",
       "      <td>잘 먹었습니다</td>\n",
       "    </tr>\n",
       "    <tr>\n",
       "      <th>1</th>\n",
       "      <td>양이 많이 줄어든 느낌 이네요.</td>\n",
       "    </tr>\n",
       "    <tr>\n",
       "      <th>2</th>\n",
       "      <td>오늘도 맛나게 잘 먹었습니다~~~</td>\n",
       "    </tr>\n",
       "    <tr>\n",
       "      <th>3</th>\n",
       "      <td>맛있어요 양도 많아요</td>\n",
       "    </tr>\n",
       "    <tr>\n",
       "      <th>4</th>\n",
       "      <td>맛있게 잘먹었어요 다음에 또주문할께요</td>\n",
       "    </tr>\n",
       "  </tbody>\n",
       "</table>\n",
       "</div>"
      ],
      "text/plain": [
       "                     리뷰\n",
       "0               잘 먹었습니다\n",
       "1     양이 많이 줄어든 느낌 이네요.\n",
       "2    오늘도 맛나게 잘 먹었습니다~~~\n",
       "3           맛있어요 양도 많아요\n",
       "4  맛있게 잘먹었어요 다음에 또주문할께요"
      ]
     },
     "execution_count": 4,
     "metadata": {},
     "output_type": "execute_result"
    }
   ],
   "source": [
    "chicken_review.drop(chicken_review[['번호','가게명','총평점','주소','아이디','평점','날짜']], axis=1, inplace=True)\n",
    "chicken_review.head()"
   ]
  },
  {
   "cell_type": "markdown",
   "metadata": {
    "id": "MrzMwdJ15Rqp"
   },
   "source": [
    "## 2) 리뷰 전처리"
   ]
  },
  {
   "cell_type": "code",
   "execution_count": 5,
   "metadata": {
    "scrolled": false
   },
   "outputs": [
    {
     "data": {
      "text/plain": [
       "리뷰    0\n",
       "dtype: int64"
      ]
     },
     "execution_count": 5,
     "metadata": {},
     "output_type": "execute_result"
    }
   ],
   "source": [
    "chicken_review.isna().sum()"
   ]
  },
  {
   "cell_type": "code",
   "execution_count": 6,
   "metadata": {},
   "outputs": [],
   "source": [
    "# # 결측값 열 삭제\n",
    "# chicken_review.dropna(inplace=True)"
   ]
  },
  {
   "cell_type": "code",
   "execution_count": 7,
   "metadata": {},
   "outputs": [],
   "source": [
    "# # 결측값 대체\n",
    "# chicken_review['리뷰'].fillna('꿀맛', inplace=True)"
   ]
  },
  {
   "cell_type": "markdown",
   "metadata": {},
   "source": [
    "### 불용어 제거, 표제어 추출, 길이가 짧은 단어 제거라는 세 가지 전처리 기법을 사용합니다."
   ]
  },
  {
   "cell_type": "code",
   "execution_count": 8,
   "metadata": {},
   "outputs": [],
   "source": [
    "# NLTK의 word_tokenize를 통해 단어 토큰화를 수행한다\n",
    "chicken_review['리뷰'] = chicken_review.apply(lambda row: nltk.word_tokenize(str(row['리뷰'])), axis=1)"
   ]
  },
  {
   "cell_type": "code",
   "execution_count": 9,
   "metadata": {},
   "outputs": [
    {
     "data": {
      "text/html": [
       "<div>\n",
       "<style scoped>\n",
       "    .dataframe tbody tr th:only-of-type {\n",
       "        vertical-align: middle;\n",
       "    }\n",
       "\n",
       "    .dataframe tbody tr th {\n",
       "        vertical-align: top;\n",
       "    }\n",
       "\n",
       "    .dataframe thead th {\n",
       "        text-align: right;\n",
       "    }\n",
       "</style>\n",
       "<table border=\"1\" class=\"dataframe\">\n",
       "  <thead>\n",
       "    <tr style=\"text-align: right;\">\n",
       "      <th></th>\n",
       "      <th>리뷰</th>\n",
       "    </tr>\n",
       "  </thead>\n",
       "  <tbody>\n",
       "    <tr>\n",
       "      <th>0</th>\n",
       "      <td>[잘, 먹었습니다]</td>\n",
       "    </tr>\n",
       "    <tr>\n",
       "      <th>1</th>\n",
       "      <td>[양이, 많이, 줄어든, 느낌, 이네요, .]</td>\n",
       "    </tr>\n",
       "    <tr>\n",
       "      <th>2</th>\n",
       "      <td>[오늘도, 맛나게, 잘, 먹었습니다~~~]</td>\n",
       "    </tr>\n",
       "    <tr>\n",
       "      <th>3</th>\n",
       "      <td>[맛있어요, 양도, 많아요]</td>\n",
       "    </tr>\n",
       "    <tr>\n",
       "      <th>4</th>\n",
       "      <td>[맛있게, 잘먹었어요, 다음에, 또주문할께요]</td>\n",
       "    </tr>\n",
       "  </tbody>\n",
       "</table>\n",
       "</div>"
      ],
      "text/plain": [
       "                          리뷰\n",
       "0                 [잘, 먹었습니다]\n",
       "1  [양이, 많이, 줄어든, 느낌, 이네요, .]\n",
       "2    [오늘도, 맛나게, 잘, 먹었습니다~~~]\n",
       "3            [맛있어요, 양도, 많아요]\n",
       "4  [맛있게, 잘먹었어요, 다음에, 또주문할께요]"
      ]
     },
     "execution_count": 9,
     "metadata": {},
     "output_type": "execute_result"
    }
   ],
   "source": [
    "chicken_review.head()"
   ]
  },
  {
   "cell_type": "markdown",
   "metadata": {},
   "source": [
    "### 불용어 사전"
   ]
  },
  {
   "cell_type": "code",
   "execution_count": 10,
   "metadata": {},
   "outputs": [],
   "source": [
    "# RANKS NL에 제공해주는 한국어 불용어 사전\n",
    "stopwords = pd.read_csv(\"https://raw.githubusercontent.com/yoonkt200/FastCampusDataset/master/korean_stopwords.txt\").values.tolist()\n",
    "stopwords[:10]\n",
    "\n",
    "# 사용자가 지정하는 불용어를 stopwords 안에 추가로 저장\n",
    "chicken_review_stopwords = ['시립대', '이네요', '다음에',\n",
    "                           '느낌', '오늘도', '먹었습니다', '부탁드렸는데제', '휴', '아이구', '아이쿠', '역시',\n",
    "                            '역시', 'ㅎㅎ', '후참', '조금', '그래도', '진짜', '좋아요', '처음', '시켰는데',\n",
    "                            '엄청', '아주', '근데', '항상', '먹고', '맛있게', '맛있어서', '먹었어요',\n",
    "                            'ㅠㅠ', '정말', '너무', '언제나', '잘먹었습니다', '감사합니다', '맛있고', '같아요', '오랜만에', '그냥', '자주']\n",
    "for word in chicken_review_stopwords:\n",
    "    stopwords.append(word)"
   ]
  },
  {
   "cell_type": "markdown",
   "metadata": {},
   "source": [
    "### 불용어 제거"
   ]
  },
  {
   "cell_type": "code",
   "execution_count": 11,
   "metadata": {},
   "outputs": [],
   "source": [
    "chicken_review['리뷰'] = chicken_review['리뷰'].apply(lambda x: [word for word in x if word not in (stopwords)])"
   ]
  },
  {
   "cell_type": "code",
   "execution_count": 12,
   "metadata": {},
   "outputs": [
    {
     "data": {
      "text/html": [
       "<div>\n",
       "<style scoped>\n",
       "    .dataframe tbody tr th:only-of-type {\n",
       "        vertical-align: middle;\n",
       "    }\n",
       "\n",
       "    .dataframe tbody tr th {\n",
       "        vertical-align: top;\n",
       "    }\n",
       "\n",
       "    .dataframe thead th {\n",
       "        text-align: right;\n",
       "    }\n",
       "</style>\n",
       "<table border=\"1\" class=\"dataframe\">\n",
       "  <thead>\n",
       "    <tr style=\"text-align: right;\">\n",
       "      <th></th>\n",
       "      <th>리뷰</th>\n",
       "    </tr>\n",
       "  </thead>\n",
       "  <tbody>\n",
       "    <tr>\n",
       "      <th>0</th>\n",
       "      <td>[잘]</td>\n",
       "    </tr>\n",
       "    <tr>\n",
       "      <th>1</th>\n",
       "      <td>[양이, 많이, 줄어든, .]</td>\n",
       "    </tr>\n",
       "    <tr>\n",
       "      <th>2</th>\n",
       "      <td>[맛나게, 잘, 먹었습니다~~~]</td>\n",
       "    </tr>\n",
       "    <tr>\n",
       "      <th>3</th>\n",
       "      <td>[맛있어요, 양도, 많아요]</td>\n",
       "    </tr>\n",
       "    <tr>\n",
       "      <th>4</th>\n",
       "      <td>[잘먹었어요, 또주문할께요]</td>\n",
       "    </tr>\n",
       "  </tbody>\n",
       "</table>\n",
       "</div>"
      ],
      "text/plain": [
       "                   리뷰\n",
       "0                 [잘]\n",
       "1    [양이, 많이, 줄어든, .]\n",
       "2  [맛나게, 잘, 먹었습니다~~~]\n",
       "3     [맛있어요, 양도, 많아요]\n",
       "4     [잘먹었어요, 또주문할께요]"
      ]
     },
     "execution_count": 12,
     "metadata": {},
     "output_type": "execute_result"
    }
   ],
   "source": [
    "chicken_review.head()"
   ]
  },
  {
   "cell_type": "markdown",
   "metadata": {},
   "source": [
    "### 정규 표현식 처리와 명사 추출"
   ]
  },
  {
   "cell_type": "code",
   "execution_count": 13,
   "metadata": {},
   "outputs": [],
   "source": [
    "# 정규 표현식 함수 정의\n",
    "\n",
    "import re\n",
    "\n",
    "def apply_regular_expression(text):\n",
    "    hangul = re.compile('[^ ㄱ-ㅣ 가-힣]')         # 한글 추출 규칙: 띄어 쓰기(1 개)를 포함한 한글\n",
    "    result = hangul.sub('', str(text))             # 위에 설정한 \"hangul\"규칙을 \"text\"에 적용(.sub)시킴\n",
    "    return result"
   ]
  },
  {
   "cell_type": "code",
   "execution_count": 14,
   "metadata": {
    "scrolled": true
   },
   "outputs": [
    {
     "data": {
      "text/html": [
       "<div>\n",
       "<style scoped>\n",
       "    .dataframe tbody tr th:only-of-type {\n",
       "        vertical-align: middle;\n",
       "    }\n",
       "\n",
       "    .dataframe tbody tr th {\n",
       "        vertical-align: top;\n",
       "    }\n",
       "\n",
       "    .dataframe thead th {\n",
       "        text-align: right;\n",
       "    }\n",
       "</style>\n",
       "<table border=\"1\" class=\"dataframe\">\n",
       "  <thead>\n",
       "    <tr style=\"text-align: right;\">\n",
       "      <th></th>\n",
       "      <th>리뷰</th>\n",
       "    </tr>\n",
       "  </thead>\n",
       "  <tbody>\n",
       "    <tr>\n",
       "      <th>0</th>\n",
       "      <td>[잘]</td>\n",
       "    </tr>\n",
       "    <tr>\n",
       "      <th>1</th>\n",
       "      <td>[양이, 많이, 줄어든, .]</td>\n",
       "    </tr>\n",
       "    <tr>\n",
       "      <th>2</th>\n",
       "      <td>[맛나게, 잘, 먹었습니다~~~]</td>\n",
       "    </tr>\n",
       "    <tr>\n",
       "      <th>3</th>\n",
       "      <td>[맛있어요, 양도, 많아요]</td>\n",
       "    </tr>\n",
       "    <tr>\n",
       "      <th>4</th>\n",
       "      <td>[잘먹었어요, 또주문할께요]</td>\n",
       "    </tr>\n",
       "  </tbody>\n",
       "</table>\n",
       "</div>"
      ],
      "text/plain": [
       "                   리뷰\n",
       "0                 [잘]\n",
       "1    [양이, 많이, 줄어든, .]\n",
       "2  [맛나게, 잘, 먹었습니다~~~]\n",
       "3     [맛있어요, 양도, 많아요]\n",
       "4     [잘먹었어요, 또주문할께요]"
      ]
     },
     "execution_count": 14,
     "metadata": {},
     "output_type": "execute_result"
    }
   ],
   "source": [
    "chicken_review.head()"
   ]
  },
  {
   "cell_type": "code",
   "execution_count": 15,
   "metadata": {},
   "outputs": [
    {
     "data": {
      "text/plain": [
       "'맛나게 잘 먹었습니다'"
      ]
     },
     "execution_count": 15,
     "metadata": {},
     "output_type": "execute_result"
    }
   ],
   "source": [
    "apply_regular_expression(chicken_review['리뷰'][2])"
   ]
  },
  {
   "cell_type": "code",
   "execution_count": 16,
   "metadata": {},
   "outputs": [
    {
     "name": "stdout",
     "output_type": "stream",
     "text": [
      "0                 []\n",
      "1      [양이, 많이, 줄어든]\n",
      "2    [맛나게, 먹었습니다~~~]\n",
      "3    [맛있어요, 양도, 많아요]\n",
      "4    [잘먹었어요, 또주문할께요]\n",
      "Name: 리뷰, dtype: object\n"
     ]
    }
   ],
   "source": [
    "tokenized_doc = chicken_review['리뷰'].apply(lambda x: [word for word in x if len(word) > 1])\n",
    "print(tokenized_doc[:5])"
   ]
  },
  {
   "cell_type": "markdown",
   "metadata": {},
   "source": [
    "## 3) TF-IDF 행렬 만들기"
   ]
  },
  {
   "cell_type": "markdown",
   "metadata": {},
   "source": [
    "TF-IDF 실습에서 배운 TfidfVectorizer는 기본적으로 토큰화가 되어있지 않은 텍스트 데이터를 입력으로 사용한다.\n",
    "\n",
    "이를 사용하기 위해 다시 토큰화 작업을 역으로 취소하는 역토큰화(Detokenization)작업을 수행해보자."
   ]
  },
  {
   "cell_type": "code",
   "execution_count": 17,
   "metadata": {},
   "outputs": [],
   "source": [
    "# 역토큰화\n",
    "\n",
    "detokenized_doc = []\n",
    "for i in range(len(chicken_review['리뷰'])):\n",
    "    t = ' '.join(tokenized_doc[i])\n",
    "    detokenized_doc.append(t)\n",
    "\n",
    "chicken_review['리뷰'] = detokenized_doc"
   ]
  },
  {
   "cell_type": "code",
   "execution_count": 18,
   "metadata": {},
   "outputs": [
    {
     "data": {
      "text/html": [
       "<div>\n",
       "<style scoped>\n",
       "    .dataframe tbody tr th:only-of-type {\n",
       "        vertical-align: middle;\n",
       "    }\n",
       "\n",
       "    .dataframe tbody tr th {\n",
       "        vertical-align: top;\n",
       "    }\n",
       "\n",
       "    .dataframe thead th {\n",
       "        text-align: right;\n",
       "    }\n",
       "</style>\n",
       "<table border=\"1\" class=\"dataframe\">\n",
       "  <thead>\n",
       "    <tr style=\"text-align: right;\">\n",
       "      <th></th>\n",
       "      <th>리뷰</th>\n",
       "    </tr>\n",
       "  </thead>\n",
       "  <tbody>\n",
       "    <tr>\n",
       "      <th>0</th>\n",
       "      <td></td>\n",
       "    </tr>\n",
       "    <tr>\n",
       "      <th>1</th>\n",
       "      <td>양이 많이 줄어든</td>\n",
       "    </tr>\n",
       "    <tr>\n",
       "      <th>2</th>\n",
       "      <td>맛나게 먹었습니다~~~</td>\n",
       "    </tr>\n",
       "    <tr>\n",
       "      <th>3</th>\n",
       "      <td>맛있어요 양도 많아요</td>\n",
       "    </tr>\n",
       "    <tr>\n",
       "      <th>4</th>\n",
       "      <td>잘먹었어요 또주문할께요</td>\n",
       "    </tr>\n",
       "  </tbody>\n",
       "</table>\n",
       "</div>"
      ],
      "text/plain": [
       "             리뷰\n",
       "0              \n",
       "1     양이 많이 줄어든\n",
       "2  맛나게 먹었습니다~~~\n",
       "3   맛있어요 양도 많아요\n",
       "4  잘먹었어요 또주문할께요"
      ]
     },
     "execution_count": 18,
     "metadata": {},
     "output_type": "execute_result"
    }
   ],
   "source": [
    "chicken_review[:5]"
   ]
  },
  {
   "cell_type": "code",
   "execution_count": 19,
   "metadata": {},
   "outputs": [
    {
     "name": "stdout",
     "output_type": "stream",
     "text": [
      "TF-IDF 행렬의 크기 : (99494, 1000)\n"
     ]
    }
   ],
   "source": [
    "# 상위 1000개의 단어를 보존\n",
    "vectorizer = TfidfVectorizer(max_features=1000)\n",
    "X = vectorizer.fit_transform(chicken_review['리뷰'])\n",
    "\n",
    "# TF-IDF 행렬의 크기 확인\n",
    "print('TF-IDF 행렬의 크기 :', X.shape)"
   ]
  },
  {
   "cell_type": "markdown",
   "metadata": {},
   "source": [
    "## 4) 토픽 모델링"
   ]
  },
  {
   "cell_type": "code",
   "execution_count": 20,
   "metadata": {},
   "outputs": [],
   "source": [
    "lda_model = LatentDirichletAllocation(n_components=10, learning_method='online', random_state=777, max_iter=1)"
   ]
  },
  {
   "cell_type": "code",
   "execution_count": 21,
   "metadata": {},
   "outputs": [],
   "source": [
    "lda_top = lda_model.fit_transform(X)"
   ]
  },
  {
   "cell_type": "code",
   "execution_count": 22,
   "metadata": {},
   "outputs": [
    {
     "name": "stdout",
     "output_type": "stream",
     "text": [
      "[[1.00017452e-01 1.00022527e-01 1.00008455e-01 ... 1.00008001e-01\n",
      "  1.12224661e-01 1.00024852e-01]\n",
      " [1.00004658e-01 1.00009442e-01 1.00005673e-01 ... 1.00009551e-01\n",
      "  1.00027845e-01 1.00017347e-01]\n",
      " [1.00004210e-01 8.31432051e+01 1.00005515e-01 ... 1.00006776e-01\n",
      "  5.90384586e+02 1.00009272e-01]\n",
      " ...\n",
      " [1.53718546e+02 1.00026990e-01 1.00018098e-01 ... 1.00019780e-01\n",
      "  1.03792795e-01 1.00031692e-01]\n",
      " [1.00023415e-01 1.00017805e-01 3.86252772e+01 ... 1.00018816e-01\n",
      "  1.00032766e-01 1.30545784e+02]\n",
      " [1.00011617e-01 1.00012630e-01 1.00005460e-01 ... 1.00014119e-01\n",
      "  1.32044058e-01 1.00012848e-01]]\n",
      "(10, 1000)\n"
     ]
    }
   ],
   "source": [
    "print(lda_model.components_)\n",
    "print(lda_model.components_.shape)"
   ]
  },
  {
   "cell_type": "code",
   "execution_count": 45,
   "metadata": {},
   "outputs": [],
   "source": [
    "# 단어 집합. 1,000개의 단어가 저장됨\n",
    "terms = vectorizer.get_feature_names_out()\n",
    "\n",
    "def get_topics(components, feature_names_out, n=5):\n",
    "    for idx, topic in enumerate(components):\n",
    "        print(\"Topic %d:\" % (idx+1), [(feature_names_out[i], topic[i].round(2)) for i in topic.argsort()[:-n - 1:-1]])"
   ]
  },
  {
   "cell_type": "code",
   "execution_count": 47,
   "metadata": {
    "id": "DNR0QXx6QPaB"
   },
   "outputs": [
    {
     "name": "stdout",
     "output_type": "stream",
     "text": [
      "Topic 1: [('양념도', 483.92), ('좋았습니다', 415.35), ('양도많고', 361.91), ('먹어요', 322.02), ('만족합니다', 296.87)]\n",
      "Topic 2: [('먹었습니다', 1099.32), ('양념', 667.4), ('맛나요', 660.92), ('맛잇어요', 489.67), ('맛있음', 431.69)]\n",
      "Topic 3: [('맛있습니다', 1727.77), ('후참잘', 590.38), ('맛나게', 567.4), ('맛있어용', 457.86), ('맛있는', 455.15)]\n",
      "Topic 4: [('배달도', 1925.02), ('빠르고', 1811.46), ('배달', 1066.26), ('맛도', 993.84), ('양이', 773.86)]\n",
      "Topic 5: [('최고', 593.13), ('먹었어요', 484.83), ('완전', 449.82), ('맛있어요', 383.47), ('감사합니다', 372.84)]\n",
      "Topic 6: [('배달이', 806.84), ('ㅋㅋ', 460.53), ('믿고', 425.54), ('바삭하고', 419.31), ('먹는', 405.35)]\n",
      "Topic 7: [('맛있어요', 4107.1), ('양도', 933.91), ('많고', 889.03), ('치킨은', 717.14), ('시켜', 366.27)]\n",
      "Topic 8: [('후라이드', 1905.42), ('치킨', 1268.85), ('맛있었어요', 1134.01), ('잘먹었습니다', 869.81), ('맛있었습니다', 809.35)]\n",
      "Topic 9: [('맛있네요', 1339.61), ('서비스', 509.79), ('양은', 495.58), ('서비스도', 443.75), ('맛잇게', 371.6)]\n",
      "Topic 10: [('후라이드는', 990.04), ('잘먹었어요', 970.0), ('있습니다', 554.65), ('좋네요', 530.09), ('가성비', 498.72)]\n"
     ]
    }
   ],
   "source": [
    "get_topics(lda_model.components_, terms)"
   ]
  },
  {
   "cell_type": "code",
   "execution_count": 48,
   "metadata": {
    "id": "pxCdFKueQXAG",
    "scrolled": true
   },
   "outputs": [
    {
     "data": {
      "text/plain": [
       "0                 []\n",
       "1      [양이, 많이, 줄어든]\n",
       "2    [맛나게, 먹었습니다~~~]\n",
       "3    [맛있어요, 양도, 많아요]\n",
       "4    [잘먹었어요, 또주문할께요]\n",
       "Name: 리뷰, dtype: object"
      ]
     },
     "execution_count": 48,
     "metadata": {},
     "output_type": "execute_result"
    }
   ],
   "source": [
    "tokenized_doc[:5]"
   ]
  },
  {
   "cell_type": "code",
   "execution_count": 49,
   "metadata": {},
   "outputs": [
    {
     "name": "stdout",
     "output_type": "stream",
     "text": [
      "[(0, 1), (1, 1), (2, 1)]\n"
     ]
    }
   ],
   "source": [
    "from gensim import corpora\n",
    "dictionary = corpora.Dictionary(tokenized_doc)\n",
    "corpus = [dictionary.doc2bow(text) for text in tokenized_doc]\n",
    "print(corpus[1])"
   ]
  },
  {
   "cell_type": "code",
   "execution_count": 50,
   "metadata": {},
   "outputs": [
    {
     "name": "stdout",
     "output_type": "stream",
     "text": [
      "1닭했네요\n"
     ]
    }
   ],
   "source": [
    "print(dictionary[66])"
   ]
  },
  {
   "cell_type": "code",
   "execution_count": 51,
   "metadata": {},
   "outputs": [
    {
     "data": {
      "text/plain": [
       "114781"
      ]
     },
     "execution_count": 51,
     "metadata": {},
     "output_type": "execute_result"
    }
   ],
   "source": [
    "len(dictionary)"
   ]
  },
  {
   "cell_type": "code",
   "execution_count": 52,
   "metadata": {},
   "outputs": [
    {
     "name": "stdout",
     "output_type": "stream",
     "text": [
      "(0, '0.253*\"배달도\" + 0.174*\"빠르고\" + 0.075*\"맛도\" + 0.035*\"배달\"')\n",
      "(1, '0.192*\"치킨\" + 0.054*\"맛있는\" + 0.047*\"다른\" + 0.029*\"제일\"')\n",
      "(2, '0.056*\"순살\" + 0.049*\"오늘은\" + 0.031*\"만족합니다\" + 0.030*\"시킬게요\"')\n",
      "(3, '0.196*\"양도\" + 0.092*\"많고\" + 0.050*\"맛도\" + 0.038*\"서비스도\"')\n",
      "(4, '0.065*\"^^\" + 0.056*\"그리고\" + 0.053*\"시켜봤는데\" + 0.029*\"굿굿\"')\n",
      "(5, '0.121*\"양이\" + 0.091*\"맛은\" + 0.044*\"생각보다\" + 0.043*\"맛나게\"')\n",
      "(6, '0.055*\"맛있어요~\" + 0.044*\"주문했는데\" + 0.036*\"좋았습니다\" + 0.024*\"시켜먹을게요\"')\n",
      "(7, '0.090*\"치킨은\" + 0.079*\"많이\" + 0.071*\"후라이드는\" + 0.028*\"않고\"')\n",
      "(8, '0.053*\"서비스로\" + 0.052*\"주신\" + 0.034*\"있어요\" + 0.028*\"치즈볼도\"')\n",
      "(9, '0.104*\"배달\" + 0.045*\"시켜\" + 0.044*\"가성비\" + 0.032*\"혼자\"')\n",
      "(10, '0.114*\"맛있습니다\" + 0.044*\"양은\" + 0.043*\"완전\" + 0.042*\"좋았어요\"')\n",
      "(11, '0.073*\"후라이드가\" + 0.059*\"....\" + 0.033*\"소스가\" + 0.028*\"양념치킨\"')\n",
      "(12, '0.057*\"양념이\" + 0.047*\"맛나요\" + 0.047*\"ㅋㅋ\" + 0.047*\"최고\"')\n",
      "(13, '0.229*\"맛있네요\" + 0.056*\"먹었습니다~\" + 0.033*\"ㅜㅜ\" + 0.028*\"빨라서\"')\n",
      "(14, '0.170*\"후라이드\" + 0.065*\"양념\" + 0.043*\"먹었는데\" + 0.042*\"좋네요\"')\n",
      "(15, '0.062*\"배달이\" + 0.053*\"치킨이\" + 0.049*\"잘먹었어요\" + 0.049*\"배달은\"')\n",
      "(16, '0.040*\"제가\" + 0.038*\"맛있음\" + 0.028*\"리뷰\" + 0.023*\"리뷰이벤트\"')\n",
      "(17, '0.461*\"맛있어요\" + 0.027*\"살짝\" + 0.025*\"먹어도\" + 0.023*\"너무너무\"')\n",
      "(18, '0.245*\"..\" + 0.106*\"맛있었어요\" + 0.051*\"맛있었습니다\" + 0.047*\"맛이\"')\n",
      "(19, '0.194*\"...\" + 0.066*\"바삭하고\" + 0.030*\"먹어봤는데\" + 0.030*\"닭이\"')\n"
     ]
    }
   ],
   "source": [
    "import gensim\n",
    "NUM_TOPICS = 20 # 20개의 토픽, k=20\n",
    "ldamodel = gensim.models.ldamodel.LdaModel(corpus, num_topics = NUM_TOPICS, id2word=dictionary, passes=15)\n",
    "topics = ldamodel.print_topics(num_words=4)\n",
    "for topic in topics:\n",
    "    print(topic)"
   ]
  },
  {
   "cell_type": "code",
   "execution_count": 53,
   "metadata": {},
   "outputs": [
    {
     "name": "stdout",
     "output_type": "stream",
     "text": [
      "[(0, '0.253*\"배달도\" + 0.174*\"빠르고\" + 0.075*\"맛도\" + 0.035*\"배달\" + 0.023*\"잘먹었습니다~\" + 0.015*\"간장\" + 0.015*\"역시나\" + 0.012*\"맛나네요\" + 0.011*\"배송도\" + 0.010*\"치킨도\"'), (1, '0.192*\"치킨\" + 0.054*\"맛있는\" + 0.047*\"다른\" + 0.029*\"제일\" + 0.025*\"앞으로\" + 0.020*\"입니다\" + 0.018*\"이제\" + 0.017*\"추천합니다\" + 0.017*\"여긴\" + 0.016*\"여기가\"'), (2, '0.056*\"순살\" + 0.049*\"오늘은\" + 0.031*\"만족합니다\" + 0.030*\"시킬게요\" + 0.028*\"먹었네요\" + 0.026*\"치킨을\" + 0.023*\"치즈볼\" + 0.021*\"그런데\" + 0.021*\"합니다\" + 0.018*\"같습니다\"'), (3, '0.196*\"양도\" + 0.092*\"많고\" + 0.050*\"맛도\" + 0.038*\"서비스도\" + 0.038*\"좋고\" + 0.035*\"여기\" + 0.016*\"해서\" + 0.014*\"좋아해서\" + 0.014*\"주문할게요\" + 0.014*\"먹는데\"'), (4, '0.065*\"^^\" + 0.056*\"그리고\" + 0.053*\"시켜봤는데\" + 0.029*\"굿굿\" + 0.023*\"먹으면\" + 0.023*\"깔끔하고\" + 0.018*\"시켜서\" + 0.017*\"넘나\" + 0.015*\"매콤하고\" + 0.015*\"있네요\"'), (5, '0.121*\"양이\" + 0.091*\"맛은\" + 0.044*\"생각보다\" + 0.043*\"맛나게\" + 0.034*\"사장님\" + 0.023*\"많아요\" + 0.022*\"다음에도\" + 0.021*\"모두\" + 0.019*\"배달이\" + 0.017*\"1시간\"'), (6, '0.055*\"맛있어요~\" + 0.044*\"주문했는데\" + 0.036*\"좋았습니다\" + 0.024*\"시켜먹을게요\" + 0.022*\"바삭바삭\" + 0.019*\"바로\" + 0.017*\"순살은\" + 0.017*\"맛과\" + 0.017*\"일단\" + 0.017*\"오래\"'), (7, '0.090*\"치킨은\" + 0.079*\"많이\" + 0.071*\"후라이드는\" + 0.028*\"않고\" + 0.025*\"했는데\" + 0.021*\"소스도\" + 0.018*\"주셔서\" + 0.015*\"다시\" + 0.014*\"부드럽고\" + 0.014*\"매운\"'), (8, '0.053*\"서비스로\" + 0.052*\"주신\" + 0.034*\"있어요\" + 0.028*\"치즈볼도\" + 0.025*\"맛잇게\" + 0.019*\"요청사항도\" + 0.018*\"주시고\" + 0.017*\"맛있네요~\" + 0.017*\"바삭하니\" + 0.017*\"따뜻하게\"'), (9, '0.104*\"배달\" + 0.045*\"시켜\" + 0.044*\"가성비\" + 0.032*\"혼자\" + 0.032*\"맛있어용\" + 0.031*\"맛있는데\" + 0.028*\"여기서\" + 0.022*\"주문\" + 0.021*\"콜라\" + 0.019*\"친절하시고\"'), (10, '0.114*\"맛있습니다\" + 0.044*\"양은\" + 0.043*\"완전\" + 0.042*\"좋았어요\" + 0.042*\"빨리\" + 0.034*\"배달\" + 0.031*\"와서\" + 0.031*\"치킨도\" + 0.027*\"왔어요\" + 0.020*\"예상시간보다\"'), (11, '0.073*\"후라이드가\" + 0.059*\"....\" + 0.033*\"소스가\" + 0.028*\"양념치킨\" + 0.024*\"최고입니다\" + 0.020*\"적당하고\" + 0.017*\"없고\" + 0.015*\"순살이\" + 0.015*\"솔직히\" + 0.014*\"저번에\"'), (12, '0.057*\"양념이\" + 0.047*\"맛나요\" + 0.047*\"ㅋㅋ\" + 0.047*\"최고\" + 0.041*\"있습니다\" + 0.034*\"소스\" + 0.031*\"ㅎㅎㅎ\" + 0.028*\"많아서\" + 0.028*\"계속\" + 0.028*\"같이\"'), (13, '0.229*\"맛있네요\" + 0.056*\"먹었습니다~\" + 0.033*\"ㅜㅜ\" + 0.028*\"빨라서\" + 0.024*\"좋은\" + 0.024*\"배달빠르고\" + 0.022*\"하지만\" + 0.018*\"추천\" + 0.016*\"맨날\" + 0.016*\"먹으니\"'), (14, '0.170*\"후라이드\" + 0.065*\"양념\" + 0.043*\"먹었는데\" + 0.042*\"좋네요\" + 0.039*\"먹는\" + 0.038*\"믿고\" + 0.021*\"담에\" + 0.018*\"저는\" + 0.017*\"시켜먹는데\" + 0.016*\"감사해요\"'), (15, '0.062*\"배달이\" + 0.053*\"치킨이\" + 0.049*\"잘먹었어요\" + 0.049*\"배달은\" + 0.030*\"오늘\" + 0.029*\"약간\" + 0.029*\"먹다가\" + 0.024*\"다만\" + 0.022*\"사진을\" + 0.020*\"먹어요\"'), (16, '0.040*\"제가\" + 0.038*\"맛있음\" + 0.028*\"리뷰\" + 0.023*\"리뷰이벤트\" + 0.023*\"ㅋㅋㅋ\" + 0.021*\"시켜먹었는데\" + 0.018*\"먹었어요~\" + 0.018*\"리뷰이벤트로\" + 0.017*\"이벤트로\" + 0.017*\"멕시카나\"'), (17, '0.461*\"맛있어요\" + 0.027*\"살짝\" + 0.025*\"먹어도\" + 0.023*\"너무너무\" + 0.023*\"매번\" + 0.020*\"번창하세요\" + 0.016*\"존맛탱\" + 0.011*\"언제\" + 0.010*\"먹습니다\" + 0.009*\"튀김옷\"'), (18, '0.245*\"..\" + 0.106*\"맛있었어요\" + 0.051*\"맛있었습니다\" + 0.047*\"맛이\" + 0.042*\"서비스\" + 0.029*\"좋습니다\" + 0.027*\"양념도\" + 0.024*\"맛잇어요\" + 0.023*\"특히\" + 0.019*\"튀김옷이\"'), (19, '0.194*\"...\" + 0.066*\"바삭하고\" + 0.030*\"먹어봤는데\" + 0.030*\"닭이\" + 0.028*\"원래\" + 0.025*\"후라이드도\" + 0.024*\"있어서\" + 0.023*\"먹기\" + 0.022*\"양도많고\" + 0.020*\"이렇게\"')]\n"
     ]
    }
   ],
   "source": [
    "print(ldamodel.print_topics())"
   ]
  },
  {
   "cell_type": "code",
   "execution_count": 77,
   "metadata": {},
   "outputs": [
    {
     "name": "stdout",
     "output_type": "stream",
     "text": [
      "Requirement already satisfied: pyLDAvis in c:\\users\\user\\anaconda3\\lib\\site-packages (2.1.2)\n",
      "Requirement already satisfied: joblib>=0.8.4 in c:\\users\\user\\anaconda3\\lib\\site-packages (from pyLDAvis) (1.1.0)\n",
      "Requirement already satisfied: funcy in c:\\users\\user\\anaconda3\\lib\\site-packages (from pyLDAvis) (1.17)\n",
      "Requirement already satisfied: pytest in c:\\users\\user\\anaconda3\\lib\\site-packages (from pyLDAvis) (6.2.4)\n",
      "Requirement already satisfied: numexpr in c:\\users\\user\\anaconda3\\lib\\site-packages (from pyLDAvis) (2.7.3)\n",
      "Requirement already satisfied: scipy>=0.18.0 in c:\\users\\user\\anaconda3\\lib\\site-packages (from pyLDAvis) (1.7.1)\n",
      "Requirement already satisfied: future in c:\\users\\user\\anaconda3\\lib\\site-packages (from pyLDAvis) (0.18.2)\n",
      "Requirement already satisfied: numpy>=1.9.2 in c:\\users\\user\\anaconda3\\lib\\site-packages (from pyLDAvis) (1.20.3)\n",
      "Requirement already satisfied: wheel>=0.23.0 in c:\\users\\user\\anaconda3\\lib\\site-packages (from pyLDAvis) (0.37.0)\n",
      "Requirement already satisfied: pandas>=0.17.0 in c:\\users\\user\\anaconda3\\lib\\site-packages (from pyLDAvis) (1.3.4)\n",
      "Requirement already satisfied: jinja2>=2.7.2 in c:\\users\\user\\anaconda3\\lib\\site-packages (from pyLDAvis) (2.11.3)\n",
      "Requirement already satisfied: MarkupSafe>=0.23 in c:\\users\\user\\anaconda3\\lib\\site-packages (from jinja2>=2.7.2->pyLDAvis) (1.1.1)\n",
      "Requirement already satisfied: python-dateutil>=2.7.3 in c:\\users\\user\\anaconda3\\lib\\site-packages (from pandas>=0.17.0->pyLDAvis) (2.8.2)\n",
      "Requirement already satisfied: pytz>=2017.3 in c:\\users\\user\\anaconda3\\lib\\site-packages (from pandas>=0.17.0->pyLDAvis) (2021.3)\n",
      "Requirement already satisfied: six>=1.5 in c:\\users\\user\\anaconda3\\lib\\site-packages (from python-dateutil>=2.7.3->pandas>=0.17.0->pyLDAvis) (1.16.0)\n",
      "Requirement already satisfied: attrs>=19.2.0 in c:\\users\\user\\anaconda3\\lib\\site-packages (from pytest->pyLDAvis) (21.2.0)\n",
      "Requirement already satisfied: iniconfig in c:\\users\\user\\anaconda3\\lib\\site-packages (from pytest->pyLDAvis) (1.1.1)\n",
      "Requirement already satisfied: packaging in c:\\users\\user\\anaconda3\\lib\\site-packages (from pytest->pyLDAvis) (21.0)\n",
      "Requirement already satisfied: pluggy<1.0.0a1,>=0.12 in c:\\users\\user\\anaconda3\\lib\\site-packages (from pytest->pyLDAvis) (0.13.1)\n",
      "Requirement already satisfied: py>=1.8.2 in c:\\users\\user\\anaconda3\\lib\\site-packages (from pytest->pyLDAvis) (1.10.0)\n",
      "Requirement already satisfied: toml in c:\\users\\user\\anaconda3\\lib\\site-packages (from pytest->pyLDAvis) (0.10.2)\n",
      "Requirement already satisfied: atomicwrites>=1.0 in c:\\users\\user\\anaconda3\\lib\\site-packages (from pytest->pyLDAvis) (1.4.0)\n",
      "Requirement already satisfied: colorama in c:\\users\\user\\anaconda3\\lib\\site-packages (from pytest->pyLDAvis) (0.4.4)\n",
      "Requirement already satisfied: pyparsing>=2.0.2 in c:\\users\\user\\anaconda3\\lib\\site-packages (from packaging->pytest->pyLDAvis) (3.0.4)\n"
     ]
    }
   ],
   "source": [
    "!pip install pyLDAvis"
   ]
  },
  {
   "cell_type": "markdown",
   "metadata": {},
   "source": [
    "## LDA 시각화 하기"
   ]
  },
  {
   "cell_type": "code",
   "execution_count": 70,
   "metadata": {},
   "outputs": [],
   "source": [
    "# !pip install pyLDAvis==2.1.2\n"
   ]
  },
  {
   "cell_type": "code",
   "execution_count": 83,
   "metadata": {},
   "outputs": [
    {
     "data": {
      "text/html": [
       "\n",
       "<link rel=\"stylesheet\" type=\"text/css\" href=\"https://cdn.jsdelivr.net/gh/bmabey/pyLDAvis@3.3.1/pyLDAvis/js/ldavis.v1.0.0.css\">\n",
       "\n",
       "\n",
       "<div id=\"ldavis_el182823469264360168069140236\"></div>\n",
       "<script type=\"text/javascript\">\n",
       "\n",
       "var ldavis_el182823469264360168069140236_data = {\"mdsDat\": {\"x\": [0.03284219498020858, 0.08328425303601619, -0.175912113147199, 0.15028392069028593, 0.01975733567993742, 0.05055478399314052, 0.03222155175364675, -0.14199907398400438, 0.052414274828224784, -0.003238629495597611, 0.04522020564856995, -0.22996272327792597, 0.05579055200379835, 0.03471240855497439, 0.018502604282699817, -0.11924575402249257, 0.028348110022146707, 0.01788319275876259, 0.028689943430409242, 0.019852962264398193], \"y\": [0.20931848536451775, 0.12693831487295873, -0.01862916676412932, -0.267948811349992, -0.09100955389625237, 0.09125386302462228, -0.021880506902953577, -0.03928293044666203, -0.004020033895873849, 3.002312784517284e-05, 0.006820709292847189, -0.034498396919256095, 0.038517282908752164, -0.0035884126057893675, -0.010796995101182486, -0.010641974208903818, 0.006609819759812076, 0.007949031948707354, 0.012159245950886436, 0.0027000058400461504], \"topics\": [1, 2, 3, 4, 5, 6, 7, 8, 9, 10, 11, 12, 13, 14, 15, 16, 17, 18, 19, 20], \"cluster\": [1, 1, 1, 1, 1, 1, 1, 1, 1, 1, 1, 1, 1, 1, 1, 1, 1, 1, 1, 1], \"Freq\": [6.376581637778661, 6.323978225472043, 6.1347553999228115, 5.945511594126503, 5.873692618617287, 5.411141833354078, 5.3420843658846655, 5.300032211125582, 5.08447159009303, 4.907252018273306, 4.887602171589216, 4.843394791184782, 4.648527879486782, 4.582368831290546, 4.539132135556366, 4.298131155911091, 4.08131249659526, 3.916456241063678, 3.7709153859666262, 3.732657416707688]}, \"tinfo\": {\"Term\": [\"\\ub9db\\uc788\\uc5b4\\uc694\", \"..\", \"\\ubc30\\ub2ec\\ub3c4\", \"...\", \"\\uc591\\ub3c4\", \"\\ub9db\\uc788\\ub124\\uc694\", \"\\uce58\\ud0a8\", \"\\ube60\\ub974\\uace0\", \"\\ud6c4\\ub77c\\uc774\\ub4dc\", \"\\ub9db\\uc788\\uc2b5\\ub2c8\\ub2e4\", \"\\uc591\\uc774\", \"\\ub9db\\uc788\\uc5c8\\uc5b4\\uc694\", \"\\ubc30\\ub2ec\", \"\\uce58\\ud0a8\\uc740\", \"\\ub9db\\ub3c4\", \"\\ub9ce\\uace0\", \"\\ub9db\\uc740\", \"\\ub9ce\\uc774\", \"\\ud6c4\\ub77c\\uc774\\ub4dc\\ub294\", \"\\ubc30\\ub2ec\\uc774\", \"\\ubc14\\uc0ad\\ud558\\uace0\", \"\\uc591\\ub150\", \"\\ud6c4\\ub77c\\uc774\\ub4dc\\uac00\", \"\\ub9db\\uc788\\uc5c8\\uc2b5\\ub2c8\\ub2e4\", \"\\uce58\\ud0a8\\uc774\", \"\\uc798\\uba39\\uc5c8\\uc5b4\\uc694\", \"\\ub9db\\uc774\", \"\\uc591\\ub150\\uc774\", \"\\ubc30\\ub2ec\\uc740\", \"\\uc11c\\ube44\\uc2a4\\ub85c\", \"..\", \"\\ub9db\\uc788\\uc5c8\\uc5b4\\uc694\", \"\\ub9db\\uc788\\uc5c8\\uc2b5\\ub2c8\\ub2e4\", \"\\ub9db\\uc774\", \"\\uc11c\\ube44\\uc2a4\", \"\\uc88b\\uc2b5\\ub2c8\\ub2e4\", \"\\ub9db\\uc787\\uc5b4\\uc694\", \"\\ud2b9\\ud788\", \"\\ub9db\\uc788\\uc5b4\\uc694~~\", \"\\ucd5c\\uace0\\uc5d0\\uc694\", \"\\ud588\\uc9c0\\ub9cc\", \"\\ubc1b\\uc558\\uc2b5\\ub2c8\\ub2e4\", \"\\ub9db\\uc788\\ub124\\uc6a9\", \"\\uac10\\uc0ac\\ud569\\ub2c8\\ub2f9\", \"\\ub9db\\uc788\\uc2b5\\ub2c8\\ub2e4~\", \"\\ub2f4\\uc5d0\\ub3c4\", \"\\ub9e5\\uc8fc\", \"\\uace0\\uc18c\\ud558\\uace0\", \"\\uadf8\\ub7f0\\uac00\", \"\\ud30c\\uc138\\uc694\", \"\\ub9db\\ub0a8\", \"\\ub098\\uace0\", \"\\ub108\\ubb34\\ub098\", \"\\uc5c6\\uc2b5\\ub2c8\\ub2e4\", \"\\uc0c1\\ub2f9\\ud788\", \"\\uac00\\uc838\\ub2e4\", \"\\ub205\\ub205\\ud558\\uace0\", \"\\ub9db\\uc787\\uc5b4\\uc6a9\", \"\\ufffd\\uc624\", \"\\ub9de\\uac8c\", \"\\uc591\\ub150\\ub3c4\", \"\\ud280\\uae40\\uc637\\uc774\", \"\\uce58\\ud0a8\\ub3c4\", \"\\uce58\\ud0a8\\uc740\", \"\\ub9ce\\uc774\", \"\\ud6c4\\ub77c\\uc774\\ub4dc\\ub294\", \"\\uc54a\\uace0\", \"\\ud588\\ub294\\ub370\", \"\\uc18c\\uc2a4\\ub3c4\", \"\\ub9e4\\uc6b4\", \"\\ub355\\ubd84\\uc5d0\", \"\\uc694\\uc998\", \"\\uc5c6\\uc774\", \"\\ubc14\\uc0ad\\ud574\\uc11c\", \"\\ud280\\uae40\\uc774\", \"\\ub2ed\\ub3c4\", \"\\uc587\\uace0\", \"\\uc0b4\\uc774\", \"\\ubb34\\uc5c7\\ubcf4\\ub2e4\", \"\\ub9db\\uc788\\uc5c8\\ub294\\ub370\", \"\\ud655\\uc2e4\\ud788\", \"\\ub9e4\\ucf64\\ud574\\uc11c\", \"\\ub118\\uac8c\", \"\\uc8fc\\ubb38\\uc774\", \"\\uac00\\ub054\", \"\\uac83\\ub3c4\", \"\\uc2dc\\uac04\\uc5d0\", \"\\ucc98\\uc74c\\uc778\\ub370\", \"\\ub9d0\\uc774\", \"\\ucee4\\uc11c\", \"\\ud06c\\uace0\", \"\\uc2dd\\ud6c4\\uac10\", \"\\uc544\\uc26c\\uc6e0\\uc2b5\\ub2c8\\ub2e4\", \"\\uc8fc\\uc154\\uc11c\", \"\\ubd80\\ub4dc\\ub7fd\\uace0\", \"\\ub2e4\\uc2dc\", \"\\uadf8\\ub7f0\\uc9c0\", \"\\uac19\\uc774\", \"\\ud280\\uae40\\uc637\\uc774\", \"\\ub9ce\\uc544\\uc11c\", \"\\ub9db\\uc788\\uc2b5\\ub2c8\\ub2e4\", \"\\uc591\\uc740\", \"\\uc644\\uc804\", \"\\uc88b\\uc558\\uc5b4\\uc694\", \"\\ube68\\ub9ac\", \"\\uc640\\uc11c\", \"\\uc654\\uc5b4\\uc694\", \"\\uc608\\uc0c1\\uc2dc\\uac04\\ubcf4\\ub2e4\", \"\\ube60\\ub974\\uac8c\", \"\\uc874\\ub9db\", \"\\ud6e8\\uc52c\", \"\\ube68\\ub77c\\uc694\", \"\\ubb34\\uc870\\uac74\", \"\\ud558\\ub098\", \"\\uc654\\uace0\", \"\\uc88b\\uc544\\ud558\\ub294\\ub370\", \"\\ube68\\ub790\\uc5b4\\uc694\", \"\\uc804\\uc5d0\", \"\\u314e\\u314e\\u314e\\u314e\", \"\\uadf8\\ub300\\ub85c\", \"\\ub9db\\uc744\", \"\\uc654\\uc2b5\\ub2c8\\ub2e4\", \"\\uac89\\ubc14\\uc18d\\ucd09\", \"\\uc548\\ub098\\uace0\", \"\\ucd5c\\uace0\\ub124\\uc694\", \"\\uce58\\uc988\\ubcfc\\uc774\", \"\\ub9db\\uc774\\uc5d0\\uc694\", \"\\uc54a\\ub294\", \"\\uc8fc\\ubb38\\ud560\\uaed8\\uc694\", \"\\ud3ec\\uc7a5\", \"\\uce58\\ud0a8\\ub3c4\", \"\\uc8fc\\ubb38\\ud574\\uc11c\", \"\\ubc30\\ub2ec\", \"\\ubc30\\ub2ec\\uc774\", \"\\ub2e4\\ub978\", \"\\uc788\\uc5b4\\uc11c\", \"\\ub9db\\uc788\\uc5b4\\uc694\", \"\\uba39\\uc5b4\\ub3c4\", \"\\ub108\\ubb34\\ub108\\ubb34\", \"\\ubc88\\ucc3d\\ud558\\uc138\\uc694\", \"\\uc874\\ub9db\\ud0f1\", \"\\uc5b8\\uc81c\", \"\\uba39\\uc2b5\\ub2c8\\ub2e4\", \"\\ud280\\uae40\\uc637\", \"\\ub418\\uac8c\", \"\\uc9c4\\ub9ac\", \"\\uad1c\\ucc2e\\uace0\", \"\\ub9db\\uc788\\uc5b4\\uc694~~~\", \"\\uc5b8\\uc81c\\uba39\\uc5b4\\ub3c4\", \"\\uae08\\ubc29\", \"\\uba39\\uc5c8\\uc5b4\\uc694~~\", \"\\uc0ac\\uc2e4\", \"\\ucd94\\uac00\", \"\\uac04\\ub3c4\", \"\\ubb38\\uc55e\\uc5d0\", \"\\uc88b\\uc558\\uace0\", \"\\uc2dc\\ucf1c\\ub3c4\", \"\\uba39\\uac8c\", \"\\uc88b\\uac8c\", \"\\ube7c\\uace0\", \"\\uaecd\\uc9c8\\uc774\", \"\\uc9c4\\ub9ac\\uc785\\ub2c8\\ub2e4\", \"\\ubd84\\ub4e4\\uc740\", \"\\uc8fc\\uc168\\uc5b4\\uc694\", \"\\ub2e4\\uc2e0\", \"\\uac10\\uc0ac\\ub4dc\\ub9bd\\ub2c8\\ub2e4\", \"\\ub9e4\\ubc88\", \"\\uc0b4\\uc9dd\", \"\\ubc14\\uc0ad\\ubc14\\uc0ad\", \"\\uce58\\ud0a8\\uc774\", \"\\uc798\\uba39\\uc5c8\\uc5b4\\uc694\", \"\\ubc30\\ub2ec\\uc740\", \"\\uc624\\ub298\", \"\\uc57d\\uac04\", \"\\uba39\\ub2e4\\uac00\", \"\\ub2e4\\ub9cc\", \"\\uc0ac\\uc9c4\\uc744\", \"\\uba39\\uc5b4\\uc694\", \"\\ub530\\ub85c\", \"\\uba39\\ub290\\ub77c\", \"\\ubcc4\\ub85c\", \"\\ud558\\uace0\", \"\\ub9db\\uc788\\uc5c8\\uc5b4\\uc694~\", \"\\uc5ec\\uae30\\ub294\", \"\\uadf8\\ub798\\uc11c\", \"\\uad1c\\ucc2e\\uc544\\uc694\", \"\\ubc14\\uc0ad\", \"\\ub2a6\\uc5c8\\uc9c0\\ub9cc\", \"\\uc5b4\\uc81c\", \"\\ub9db\\ub098\\uace0\", \"\\uc0dd\\uac01\\ub098\\uc11c\", \"\\ubc30\\ub2ec\\ub3c4\\ube60\\ub974\\uace0\", \"\\ubcf4\\ud1b5\", \"\\uc624\\uc790\\ub9c8\\uc790\", \"\\uc0b4\\ub3c4\", \"\\ub098\\uc911\\uc5d0\", \"\\uc77c\\uc8fc\\uc77c\\uc5d0\", \"\\ucc0d\\uc5c8\\ub124\\uc694\", \"\\ub109\\ub109\\ud788\", \"\\ubc30\\ub2ec\\uc774\", \"\\uc0ac\\uc9c4\\uc740\", \"\\uc0b4\\uc9dd\", \"\\ub9ac\\ubdf0\", \"...\", \"\\ubc14\\uc0ad\\ud558\\uace0\", \"\\uba39\\uc5b4\\ubd24\\ub294\\ub370\", \"\\ub2ed\\uc774\", \"\\uc6d0\\ub798\", \"\\ud6c4\\ub77c\\uc774\\ub4dc\\ub3c4\", \"\\uba39\\uae30\", \"\\uc591\\ub3c4\\ub9ce\\uace0\", \"\\uc774\\ub807\\uac8c\", \"\\ub9db\\uc788\\ub2e4\\uace0\", \"\\ub9db\\uc788\\ub2e4\", \"\\ud280\\uae40\\ub3c4\", \"\\ub2a6\\uc740\", \"\\ub9db\\uc9d1\", \"\\uba39\\uc5c8\\uc2b5\\ub2c8\\ub2e4^^\", \"\\ube44\\ud574\", \"\\ub530\\ub73b\\ud558\\uace0\", \"\\uc2dc\\ucf30\\uc5b4\\uc694\", \"\\uad49\\uc7a5\\ud788\", \"\\uce58\\uc988\\ubcfc\\uc740\", \"\\uba39\\uc5b4\\ubcf4\\uace0\", \"\\ud574\\uc694\", \"\\ucd5c\\uc560\", \"\\ub9db\\uc774\\ub124\\uc694\", \"\\uc18d\\uc740\", \"\\uac00\\uaca9\\uc774\", \"\\uac89\\uc740\", \"\\ubc88\\ucc3d\\ud558\\uc138\\uc694~\", \"\\ub9ce\\uc544\", \"\\uc5fc\\uc9c0\\uac00\", \"\\uc788\\uc5b4\\uc11c\", \"\\uba39\\uc744\", \"\\uc2dd\\uc5b4\\uc11c\", \"\\uc591\\ub150\\ub3c4\", \"\\uce58\\ud0a8\\uc744\", \"\\uc591\\uc774\", \"\\ub9db\\uc740\", \"\\uc0dd\\uac01\\ubcf4\\ub2e4\", \"\\ub9db\\ub098\\uac8c\", \"\\uc0ac\\uc7a5\\ub2d8\", \"\\ub9ce\\uc544\\uc694\", \"\\ub2e4\\uc74c\\uc5d0\\ub3c4\", \"\\ubaa8\\ub450\", \"1\\uc2dc\\uac04\", \"\\uac70\\uc758\", \"\\uc544\\uc27d\\ub124\\uc694\", \"\\uc788\\ub294\\ub370\", \"\\ub9ce\\ub124\\uc694\", \"\\ub108\\ubb34\\ub9db\\uc788\\uc5b4\\uc694\", \"\\uc54c\\uc558\\ub294\\ub370\", \"\\ub9db\\uc788\\uc5c8\\uace0\", \"\\uc694\\uccad\\uc0ac\\ud56d\", \"\\uba39\\uace0\\uc788\\uc2b5\\ub2c8\\ub2e4\", \"\\uc798\\uba39\\uc5c8\\uc2b5\\ub2c8\\ub2f9\", \"\\uce58\\ud0a8\\uc774\\ub791\", \"\\uc2dc\\ucf1c\\uba39\\uace0\", \"\\uae09\\ud558\\uac8c\", \"\\uc788\\uc5b4\", \"\\ub9e4\\uc6cc\\uc694\", \"\\ud574\\uc8fc\\uc154\\uc11c\", \"1\\uc778\", \"\\ubc1b\\uc558\\uc5b4\\uc694\", \"\\uc11c\\ube44\\uc2a4\\uae4c\\uc9c0\", \"\\ubbf8\\ub9ac\", \"\\uc74c\\uc2dd\\ub3c4\", \"\\uc774\\ubca4\\ud2b8\", \"\\ubc30\\ub2ec\\uc774\", \"\\uc591\\ub3c4\", \"\\ub9ce\\uace0\", \"\\uc11c\\ube44\\uc2a4\\ub3c4\", \"\\uc5ec\\uae30\", \"\\ud574\\uc11c\", \"\\uc88b\\uc544\\ud574\\uc11c\", \"\\uc8fc\\ubb38\\ud560\\uac8c\\uc694\", \"\\uc5ec\\uc804\\ud788\", \"\\ucc98\\uc74c\\uc73c\\ub85c\", \"\\uac10\\uc0ac\\ud569\\ub2c8\\ub2e4~\", \"\\uad1c\\ucc2e\\uc558\\uc5b4\\uc694\", \"\\uc544\\uc774\\ub4e4\\uc774\", \"\\uce58\\ud0a8\\ubb34\", \"\\uce5c\\uc808\\ud558\\uac8c\", \"\\ub290\\ub08c\\uc774\", \"\\uc2dc\\ud0ac\", \"\\ub9db\\uc788\\uad6c\", \"\\uc2dc\\ud0a4\\uba74\", \"\\ub118\\ub118\", \"\\uc2dc\\ud0a4\\ub294\", \"\\uc544\\uc26c\\uc6cc\\uc694\", \"\\uc624\\ud788\\ub824\", \"\\uc788\\uc9c0\\ub9cc\", \"2\\uc2dc\\uac04\", \"\\ub4dc\\uc138\\uc694\", \"\\uc2f8\\uac8c\", \"\\uc798\\ud558\\ub124\\uc694\", \"\\uc560\\ub4e4\\uc774\", \"\\uc0ac\\uc9c4\\ub3c4\", \"\\ub9cc\\uc871\\uc2a4\\ub7fd\\uc2b5\\ub2c8\\ub2e4\", \"\\uc88b\\uace0\", \"\\uc5ec\\uae30\\uc11c\\ub9cc\", \"\\ub9db\\ub3c4\", \"\\uba39\\ub294\\ub370\", \"\\uc11c\\ube44\\uc2a4\\ub85c\", \"\\uc8fc\\uc2e0\", \"\\uc788\\uc5b4\\uc694\", \"\\uce58\\uc988\\ubcfc\\ub3c4\", \"\\ub9db\\uc787\\uac8c\", \"\\uc694\\uccad\\uc0ac\\ud56d\\ub3c4\", \"\\uc8fc\\uc2dc\\uace0\", \"\\ub9db\\uc788\\ub124\\uc694~\", \"\\ubc14\\uc0ad\\ud558\\ub2c8\", \"\\ub530\\ub73b\\ud558\\uac8c\", \".....\", \"\\uc788\\ub294\", \"\\uba39\\uc5c8\\uc2b5\\ub2c8\\ub2f9\", \"\\ubbff\\uace0\\uba39\\ub294\", \"\\ubc30\\ubd80\\ub974\\uac8c\", \"\\ud55c\\ubc88\", \"\\uac10\\uc0ac\\ud788\", \"\\uba39\\ub358\", \"\\uc2dc\\ucf1c\\uba39\\uc744\", \"\\uc21c\\uc0b4\\ub3c4\", \"\\ubfcc\\ub9c1\\ud074\", \"\\uc9f1\\uc9f1\", \"\\uba39\\ub2e4\\ubcf4\\ub2c8\", \"\\ud568\\uaed8\", \"\\uba39\\uc5b4\\ubcf8\", \"\\ubcf4\\uace0\", \"\\uc18c\\ub5a1\\ub3c4\", \"\\uc8fc\\ubb38\\ud558\\uace0\", \"\\ub4e4\\uc5b4\\uc8fc\\uc2dc\\uace0\", \"\\ube68\\ub9ac\\uc654\\uc5b4\\uc694\", \"\\uce58\\ud0a8\", \"\\ub9db\\uc788\\ub294\", \"\\uc55e\\uc73c\\ub85c\", \"\\uc785\\ub2c8\\ub2e4\", \"\\uc774\\uc81c\", \"\\ucd94\\ucc9c\\ud569\\ub2c8\\ub2e4\", \"\\uc5ec\\uae34\", \"\\uc5ec\\uae30\\uac00\", \"\\uc0c8\\ubcbd\\uc5d0\", \"\\ub2e4\\uc74c\\uc5d0\\ub294\", \"\\uad73\\uad73\", \"\\ub9ce\\uc740\", \"\\ub9db\\uc788\\uc2b5\\ub2c8\\ub2f9\", \"\\uae54\\ub054\\ud558\\uac8c\", \"\\uae30\\ub984\", \"\\ubb3c\\ub860\", \"\\uce58\\ud0a8\\uacfc\", \"\\ud280\\uae34\", \"\\uc774\\uc81c\\uc57c\", \"\\uac19\\uace0\", \"\\uace8\\uace0\\ub8e8\", \"\\uc5b4\\ub5bb\\uac8c\", \"\\ub9ac\\ubdf0\\uc774\\ubca4\\ud2b8\\ub3c4\", \"\\ub9db\\uc788\\uc5c8\\uc5b4\\uc694~~\", \"\\ubc8c\\uc368\", \"\\uba39\\uc5c8\\uc2b5\\ub2c8\\ub2e4~^^\", \"\\ubc16\\uc5d0\", \"\\ub450\\uace0\", \"\\ucc98\\uc74c\\uba39\\uc5b4\\ubd24\\ub294\\ub370\", \"\\uc55e\\uc5d0\", \"\\ub2e4\\ub978\", \"\\uc81c\\uc77c\", \"\\uc5ec\\uae30\\uc11c\", \"\\ub9ac\\ubdf0\", \"\\uba39\\uc744\", \"\\uc5ec\\uae30\\uc11c\\ub9cc\", \"\\ud6c4\\ub77c\\uc774\\ub4dc\", \"\\uc591\\ub150\", \"\\uba39\\uc5c8\\ub294\\ub370\", \"\\uc88b\\ub124\\uc694\", \"\\uba39\\ub294\", \"\\ubbff\\uace0\", \"\\ub2f4\\uc5d0\", \"\\uc800\\ub294\", \"\\uc2dc\\ucf1c\\uba39\\ub294\\ub370\", \"\\uac10\\uc0ac\\ud574\\uc694\", \"\\uad1c\\ucc2e\\ub124\\uc694\", \"\\ud478\\uc9d0\\ud558\\uace0\", \"\\ubc14\\uc0ad\\ud55c\", \"\\ub9e4\\ucf64\\ud55c\", \"\\uac1c\\uc778\\uc801\\uc73c\\ub85c\", \"\\ub9ac\\ubdf0\\uac00\", \"\\uc5c6\\ub124\\uc694\", \"\\uba39\\uc5b4\\ubcf4\\ub294\\ub370\", \"\\uac15\\ucd94\", \"\\uc798\\uba39\\uc5c8\\uc2b5\\ub2c8\\ub2e4~~\", \"\\uac04\\ub9cc\\uc5d0\", \"\\ucd09\\ucd09\\ud558\\uace0\", \"\\ud280\\uae40\\uc637\\ub3c4\", \"\\uac04\\uc7a5\\uce58\\ud0a8\", \"\\uc788\\uc5c8\\uc5b4\\uc694\", \"\\ub9f5\\ub124\\uc694\", \"\\uc798\\uba39\\uaca0\\uc2b5\\ub2c8\\ub2e4\", \"\\uc790\\uafb8\", \"\\ube60\\ub978\\ubc30\\ub2ec\", \"\\ub2f4\\ubc31\\ud558\\uace0\", \"\\ubc14\\uc0ad\\ud558\\uac8c\", \"\\ubc30\\ub2ec\\ub3c4\", \"\\ube60\\ub974\\uace0\", \"\\uc798\\uba39\\uc5c8\\uc2b5\\ub2c8\\ub2e4~\", \"\\uac04\\uc7a5\", \"\\uc5ed\\uc2dc\\ub098\", \"\\ub9db\\ub098\\ub124\\uc694\", \"\\ubc30\\uc1a1\\ub3c4\", \"\\uc815\\ub3c4\\ub85c\", \"\\ubc30\\uc1a1\", \"\\ubc1b\\uc544\\uc11c\", \"\\ucd5c\\uace0\\uc608\\uc694\", \"\\uc800\\ub834\\ud558\\uac8c\", \"\\u314b\\u314b\\u314b\\u314b\\u314b\", \"\\uc88b\\ub124\\uc694~\", \"\\uc88b\\uc558\\uc5b4\\uc694~\", \"\\uc88b\\uaca0\\uc2b5\\ub2c8\\ub2e4\", \"\\uc18c\\ub5a1\", \"\\uc624\\ub298\\ub530\\ub77c\", \"\\uc2dc\\ucf30\\uc2b5\\ub2c8\\ub2e4\", \"\\ucd5c\\uadfc\\uc5d0\", \"\\ub9db\\uc9d1\\uc785\\ub2c8\\ub2e4\", \"\\ub205\\ub205\\ud574\\uc11c\", \"\\uc11c\\ube44\\uc2a4\\ub294\", \"\\ud560\\uc778\\ub3c4\", \"\\uc640\\uc6b0\", \"\\uc2dc\\ucf1c\\ub4dc\\uc138\\uc694\", \"\\uc800\\uc758\", \"\\ucc38\\uace0\", \"\\uce58\\uc988\\ubcfc\\uc774\\ub791\", \"\\uc9dc\\uc9c0\\ub3c4\", \"\\ub9db\\ub3c4\", \"\\ubc30\\ub2ec\", \"\\uc88b\\uc558\\uc2b5\\ub2c8\\ub2e4\", \"\\uce58\\ud0a8\\ub3c4\", \"\\uc88b\\uace0\", \"\\uc591\\ub150\\uc774\", \"\\ub9db\\ub098\\uc694\", \"\\u314b\\u314b\", \"\\ucd5c\\uace0\", \"\\uc788\\uc2b5\\ub2c8\\ub2e4\", \"\\uc18c\\uc2a4\", \"\\u314e\\u314e\\u314e\", \"\\uacc4\\uc18d\", \"\\ubc18\\ubc18\", \"\\uc801\\ub2f9\\ud788\", \"\\uba39\\uc5b4\\uc11c\", \"\\uc774\\ubc88\\uc5d4\", \"\\uc624\\uace0\", \"\\uc2dc\\ucf1c\\uba39\\uc5b4\\uc694\", \"\\uc544\\ub2c8\\ub77c\", \"\\ub2f4\\uc5d4\", \"\\uc798\\uba39\\uace0\", \"\\uc21c\\uc0b4\\ub85c\", \"\\uc798\\uba39\\uc5c8\\uc5b4\\uc694~\", \"\\ub9f5\\uace0\", \"\\uc544\\uc774\\uac00\", \"\\uc608\\uc0c1\\ubcf4\\ub2e4\", \"\\uc8fc\\ubb38\\ud560\", \"\\ub9db\\uc788\\uc9c0\\ub9cc\", \"\\uc2dc\\ud0a4\\ub294\\ub370\", \"\\uba39\\uc5c8\\ub358\", \"\\ub9db\\uc5d0\", \"\\uafc0\\ub9db\", \"\\uc798\\uba39\\uc5c8\\uc2b5\\ub2c8\\ub2e4^^\", \"\\ubc14\\uc0ad\\ubc14\\uc0ad\\ud558\\ub2c8\", \"\\ub9ce\\uc544\\uc11c\", \"\\uac19\\uc774\", \"\\uc81c\\uac00\", \"\\ub9db\\uc788\\uc74c\", \"\\ub9ac\\ubdf0\\uc774\\ubca4\\ud2b8\", \"\\u314b\\u314b\\u314b\", \"\\uc2dc\\ucf1c\\uba39\\uc5c8\\ub294\\ub370\", \"\\uba39\\uc5c8\\uc5b4\\uc694~\", \"\\ub9ac\\ubdf0\\uc774\\ubca4\\ud2b8\\ub85c\", \"\\uc774\\ubca4\\ud2b8\\ub85c\", \"\\uba55\\uc2dc\\uce74\\ub098\", \"\\uc654\\ub124\\uc694\", \"\\uba39\\uc740\", \"\\uc88b\\uc544\\ud558\\ub294\", \"\\ubc14\\uc0ad\\ubc14\\uc0ad\\ud558\\uace0\", \"\\uce58\\ud0a8\\uc9d1\", \"\\ub458\\ub2e4\", \"\\ubc1b\\uc740\", \"\\uac00\\uc7a5\", \"\\ube68\\ub9ac\\uc640\\uc11c\", \"\\uc88b\\uc740\\ub370\", \"\\uac19\\uc740\", \"\\uac00\\uaca9\\uc5d0\", \"\\ub9e4\\uc6cc\\uc11c\", \"\\ucd5c\\uace0\\uc758\", \"\\uc798\\uba39\\uc5c7\\uc2b5\\ub2c8\\ub2e4\", \"\\ubcf4\\ub0b4\\uc8fc\\uc154\\uc11c\", \"\\uce58\\ud0a8\\uc758\", \"\\uc804\\uccb4\\uc801\\uc73c\\ub85c\", \"\\uc2dc\\ud0a8\", \"\\ub9db\\uc788\\ub294\\uac70\", \"\\uc804\\ubd80\", \"\\ub9ac\\ubdf0\", \"\\uc81c\\uc77c\", \"\\ub9db\\uc788\\uc5b4\\uc694~\", \"\\uc8fc\\ubb38\\ud588\\ub294\\ub370\", \"\\uc2dc\\ucf1c\\uba39\\uc744\\uac8c\\uc694\", \"\\ubc14\\ub85c\", \"\\uc21c\\uc0b4\\uc740\", \"\\ub9db\\uacfc\", \"\\uc77c\\ub2e8\", \"\\uc624\\ub798\", \"\\uc0ac\\uc9c4\", \"\\uac19\\ub124\\uc694\", \"\\uc788\\uace0\", \"\\uc591\\ub9ce\\uace0\", \"\\uc7ac\\uc8fc\\ubb38\", \"\\uc608\\uc0c1\", \"\\uc55e\\uc73c\\ub85c\\ub3c4\", \"\\ubc30\\uace0\\ud30c\\uc11c\", \"\\uba39\\ub2e4\", \"\\uae30\\ubd84\", \"\\ub098\\uc11c\", \"\\uc77c\\ucc0d\", \"\\uba39\\uace0\\uc788\\uc5b4\\uc694\", \"\\uc2dc\\uac04\\uc774\", \"\\ub4e4\\uc5b4\\uc8fc\\uc154\\uc11c\", \"\\ub2e4\\ub4e4\", \"\\uc774\\ubc88\\uc5d0\\ub294\", \"\\ube7c\\uace0\\ub294\", \"\\uc801\\ub2f9\\ud55c\", \"\\ud55c\\uc785\", \"\\uba3c\\uc800\", \"\\uac78\\ub838\\uc9c0\\ub9cc\", \"\\uc88b\\uc558\\uc2b5\\ub2c8\\ub2e4\", \"\\ubc14\\uc0ad\\ubc14\\uc0ad\", \"\\uc2dc\\ucf1c\", \"\\uac00\\uc131\\ube44\", \"\\ud63c\\uc790\", \"\\ub9db\\uc788\\uc5b4\\uc6a9\", \"\\ub9db\\uc788\\ub294\\ub370\", \"\\uc8fc\\ubb38\", \"\\ucf5c\\ub77c\", \"\\uce5c\\uc808\\ud558\\uc2dc\\uace0\", \"\\uc5c6\\uc5b4\\uc11c\", \"\\ube60\\ub978\", \"~~\", \"\\uac04\\uc774\", \"\\ub450\\ubc88\\uc9f8\", \"\\ud6c4\\ub77c\\uc774\\ub4dc\\ub9cc\", \"\\ud558\\ub098\\ub3c4\", \"\\uc885\\uc885\", \"\\uc2dc\\ucf1c\\uba39\\ub294\", \"\\uba39\\uaca0\\uc2b5\\ub2c8\\ub2e4\", \"\\ubc30\\ub2ec\\ud574\\uc8fc\\uc154\\uc11c\", \"\\uc88b\\uaca0\\uc5b4\\uc694\", \"\\uba39\\uc744\\uac8c\\uc694\", \"\\uc544\\uc26c\\uc6e0\\uc9c0\\ub9cc\", \"\\ube60\\ub985\\ub2c8\\ub2e4\", \"\\ucfe0\\ud3f0\", \"\\uce58\\uc988\", \"\\uc774\\uc720\\uac00\", \"\\ud478\\uc9d0\\ud558\\uac8c\", \"\\ub9db\\uc788\\ub354\\ub77c\\uad6c\\uc694\", \"\\uc88b\\uc544\\uc6a9\", \"90\\ubd84\", \"\\uc5ec\\uae30\\uc11c\", \"\\ubc30\\ub2ec\", \"\\uc54a\\uc544\\uc11c\", \"\\uc88b\\uc740\", \"\\ud6c4\\ub77c\\uc774\\ub4dc\\uac00\", \"....\", \"\\uc18c\\uc2a4\\uac00\", \"\\uc591\\ub150\\uce58\\ud0a8\", \"\\ucd5c\\uace0\\uc785\\ub2c8\\ub2e4\", \"\\uc801\\ub2f9\\ud558\\uace0\", \"\\uc5c6\\uace0\", \"\\uc21c\\uc0b4\\uc774\", \"\\uc194\\uc9c1\\ud788\", \"\\uc800\\ubc88\\uc5d0\", \"\\ub9e4\\uc6b4\\uac70\", \"\\ubb54\\uac00\", \"\\ub9db\\uc788\\uc5b4\\uc694^^\", \"\\ud558\\ub124\\uc694\", \"\\uc2dc\\uac04\", \"\\ubcf4\\ub2e4\", \"\\uc815\\ub3c4\", \"\\uc774\\ub7f0\", \"\\uc544\\uc26c\\uc6e0\\uc5b4\\uc694\", \"\\uc544\\uc27d\\uc9c0\\ub9cc\", \"\\ub9e4\\ucf64\\ud558\\ub2c8\", \"\\ub450\\ub9c8\\ub9ac\", \"\\ub2a6\\uc5b4\\uc11c\", \"\\uba39\\uace0\\uc2f6\\uc5b4\\uc11c\", \"\\uc801\\uc5b4\\uc11c\", \"\\uc880\\ub354\", \"\\uae68\\ub057\\ud558\\uace0\", \"\\uc798\\ubabb\", \"\\uac78\\ub824\\uc11c\", \"\\ub9ce\\uc558\\uc5b4\\uc694\", \"\\ub9db\\uc788\\ub124\\uc694\", \"\\uba39\\uc5c8\\uc2b5\\ub2c8\\ub2e4~\", \"\\u315c\\u315c\", \"\\ube68\\ub77c\\uc11c\", \"\\ubc30\\ub2ec\\ube60\\ub974\\uace0\", \"\\ud558\\uc9c0\\ub9cc\", \"\\ucd94\\ucc9c\", \"\\ub9e8\\ub0a0\", \"\\uba39\\uc73c\\ub2c8\", \"\\ube68\\ub9ac\\uc624\\uace0\", \"\\uba39\\uc5c8\\uc2b5\\ub2c8\\ub2e4~~\", \"\\uc2dc\\ucf1c\\uc694\", \"\\ucf5c\\ub77c\\ub3c4\", \"\\uc88b\\uc544\\uc694~\", \"\\ub561\\uaca8\\uc11c\", \"\\ub9e4\\ucf64\", \"\\ucc0d\\uc5b4\\uc11c\", \"\\u314e\\u314e\\u314e\\u314e\\u314e\", \"\\uc2dc\\ucf1c\\ubd24\\uc5b4\\uc694\", \"\\u3160\\u3160\\u3160\\u3160\", \"\\ud558\\ub8e8\", \"\\uac10\\uc0ac\\ud588\\uc2b5\\ub2c8\\ub2e4\", \"\\ub9e4\\uc6b4\\ub370\", \"\\ub290\\ub07c\\ud574\\uc11c\", \"\\uc88b\\ub354\\ub77c\\uad6c\\uc694\", \"\\uc62c\\ub9cc\\uc5d0\", \"\\ub108\\ubb34\\ub9db\\uc788\\uace0\", \"\\ub530\\ub73b\\ud574\\uc11c\", \"\\ubcf4\\ub0b4\\uc138\\uc694\", \"\\ub9e4\\uc6b4\\uac8c\", \"\\uc88b\\uc740\", \"\\uc774\\uac74\", \"\\uc21c\\uc0b4\", \"\\uc624\\ub298\\uc740\", \"\\ub9cc\\uc871\\ud569\\ub2c8\\ub2e4\", \"\\uc2dc\\ud0ac\\uac8c\\uc694\", \"\\uba39\\uc5c8\\ub124\\uc694\", \"\\uadf8\\ub7f0\\ub370\", \"\\ud569\\ub2c8\\ub2e4\", \"\\uac19\\uc2b5\\ub2c8\\ub2e4\", \"\\uae30\\ub984\\uc774\", \"\\uc88b\\uc544\\uc11c\", \"\\uce58\\ud0a8\\uc5d0\", \"\\ube60\\ub974\\ub124\\uc694\", \"\\ub9db\\uc787\\ub124\\uc694\", \"\\ub9cc\\uc871\", \"\\uae30\\ub984\\ub3c4\", \"\\uae30\\ubd84\\uc774\", \"\\uba54\\ub274\", \"\\uc8fc\\ubb38\\ud588\\uc5b4\\uc694\", \"\\uc77c\\ubc18\", \"\\uc2dc\\ud0b5\\ub2c8\\ub2e4\", \"\\uc2dd\\uc5b4\\ub3c4\", \"\\ucd5c\\uacf1\\ub2c8\\ub2e4\", \"\\ub54c\\ubb38\\uc5d0\", \"\\uac10\\uc0ac\\ud569\\ub2c8\\ub2e4^^\", \"20\\ubd84\", \"50\\ubd84\", \"\\uc8fc\\ubb38\\ud55c\\uc9c0\", \"\\uc8fc\\ubb38\\ud574\", \"\\uba39\\uc73c\\ub824\\uace0\", \"\\uc5c6\\uc9c0\\ub9cc\", \"\\uce58\\ud0a8\\uc744\", \"\\uce58\\uc988\\ubcfc\", \"^^\", \"\\uadf8\\ub9ac\\uace0\", \"\\uc2dc\\ucf1c\\ubd24\\ub294\\ub370\", \"\\uad7f\\uad7f\", \"\\uba39\\uc73c\\uba74\", \"\\uae54\\ub054\\ud558\\uace0\", \"\\uc2dc\\ucf1c\\uc11c\", \"\\ub118\\ub098\", \"\\ub9e4\\ucf64\\ud558\\uace0\", \"\\uc788\\ub124\\uc694\", \"\\u3160\\u3160\\u3160\", \"\\ud280\\uae40\", \"\\ub300\\ubc15\", \"\\uc2dc\\uac04\\ubcf4\\ub2e4\", \"\\ub9db\\uc788\\uc5b4\\uc5ec\", \"\\uc774\\uac70\", \"\\uc9c0\\uae08\", \"30\\ubd84\", \"\\uc0ac\\uc9c4\\uc774\", \"\\ube68\\ub9ac\\uc654\\uace0\", \"\\uac10\\uc790\", \"\\ub9db\\uc788\\uc5b4\\uc694\\u314e\\u314e\", \"\\uc801\\ub124\\uc694\", \"\\ud3ec\\uc7a5\\ub3c4\", \"\\uc774\\uc9d1\", \"\\ub3c4\\ucc29\", \"\\uad7f\\uc785\\ub2c8\\ub2e4\", \"\\ub9e4\\uc77c\", \"\\ub3d9\\ub124\", \"\\ubc25\\uc774\\ub791\", \"\\ub2a6\\uac8c\", \"\\uc774\\uac8c\"], \"Freq\": [16357.0, 9321.0, 7316.0, 6269.0, 6190.0, 5351.0, 5635.0, 5038.0, 4962.0, 4179.0, 3862.0, 4052.0, 4939.0, 3417.0, 3751.0, 2929.0, 2897.0, 2975.0, 2666.0, 3444.0, 2142.0, 1904.0, 1779.0, 1925.0, 1848.0, 1724.0, 1774.0, 1586.0, 1710.0, 1623.0, 9320.09664812097, 4051.101708814639, 1923.7285245263001, 1773.4956920815407, 1605.651817871595, 1108.8103112469641, 897.5846408130379, 890.819402787606, 609.2044703388785, 537.1450025013994, 309.86960821085097, 299.46886165230194, 247.7389092533824, 211.81102277613397, 203.0844722325553, 184.93906391556465, 179.0479794833738, 176.3148219023643, 162.25258622532726, 157.7506207365465, 155.3762080439098, 147.36276693264907, 130.66960240113497, 128.58000963433304, 124.981946839107, 117.08147250519238, 114.93489092536034, 109.87177139385196, 109.61036059613288, 95.25043883989144, 1038.775874864995, 715.8633388988533, 315.421508563996, 3416.6460886317277, 2974.43924940526, 2665.067695631358, 1053.806097478722, 925.992576825659, 788.2452750092682, 530.9498816019131, 514.5296161321312, 477.35131344812294, 453.20676312601495, 436.671754259699, 434.4731976164847, 386.86823073045053, 375.2239217048749, 364.7752374641518, 357.132032786262, 336.70834136727024, 329.42301508188086, 323.18209290025897, 299.6503046773605, 295.5888386900511, 273.6506364465751, 264.33021537072835, 224.32817689372095, 221.80503573440697, 215.7859847893387, 213.97237430184762, 209.06609159027212, 207.58577162459565, 203.45857969111097, 663.9065586735596, 540.1545391835866, 568.9658603267122, 424.58299924540285, 371.70001199771013, 356.0725030968079, 279.27958798405245, 4178.474824845671, 1606.0568365691736, 1571.0770734764142, 1542.186948976508, 1538.5909023920112, 1136.0008207001601, 980.5202609627231, 744.1180066141742, 594.1549064943299, 521.7729353164023, 472.16002251474197, 449.45794811559995, 399.1246931045082, 379.5439764942492, 339.5904739527779, 304.84708274465754, 297.4330518338293, 273.38925049604, 226.60846665488089, 218.3170582504998, 217.26398004466068, 216.13335670992853, 204.96933208633044, 204.74572230431227, 193.0209670622167, 185.00617893830722, 177.30377228082313, 168.11154369705878, 166.14935335745974, 163.66504287828187, 1125.626323213972, 295.8095349394509, 1260.6998713813498, 654.2100855944917, 403.7849420805508, 212.63667708487608, 16355.964251009445, 889.6462695685602, 821.0193326408937, 718.8048608837315, 554.5760921630942, 390.6101027535794, 362.0403431691479, 336.6848183677409, 303.2515911478219, 265.5888274042836, 203.23644928077795, 194.5004261528705, 179.37044267250025, 176.56039726029593, 172.04933037226877, 171.95954358272724, 147.82458998883382, 143.63778073301842, 138.65659815190548, 132.78609643600197, 123.08896607997154, 119.92823959362411, 117.51129661994021, 116.11023412306369, 113.8727407135602, 112.78598985370034, 111.26685690181067, 110.70333318402506, 107.82138393124588, 100.7967664603458, 819.2425132565518, 957.3781165346313, 183.04225937577948, 1846.722719795033, 1723.122352189959, 1708.9775682069196, 1061.8911421356372, 1011.2100659130267, 1003.1723717402482, 840.5367599819728, 766.6682406304342, 701.3429690275487, 532.9896750505111, 460.75958185100467, 458.2114925082601, 440.58896124002314, 408.1381325881472, 398.52418548647796, 396.8429274397855, 350.77492141575317, 348.5269820472597, 343.35690119112115, 305.0924024436626, 302.61132165617965, 290.4212533539333, 266.45989571645384, 232.6911776924932, 229.95865963475487, 222.98758091962057, 207.5355746992078, 197.414407792352, 188.8729242864994, 188.03023697988576, 2168.7613277621876, 528.8562828667316, 268.2425487174391, 232.99546056886066, 6268.360509104373, 2141.0157826509176, 963.7584104832339, 954.688100304428, 907.4103169450643, 811.4568637201966, 754.4802570044104, 702.9747428251666, 654.8601658941097, 382.0974259410014, 375.8948839627179, 370.3666648094187, 365.87837280868297, 334.6156060510821, 332.8311366863406, 301.62820539455254, 299.451946161358, 280.34267147967597, 261.85294067540315, 246.89998854265514, 236.71783126885134, 227.29743244789202, 178.35716822627128, 172.61633452040604, 171.67329386907556, 171.07158324795105, 161.9128140983083, 156.40397826492026, 131.1226060585108, 129.5302392393175, 767.6305152379351, 649.252848348378, 461.79089231448364, 383.45311459851536, 213.9490971517346, 3860.91599218476, 2896.6315492999215, 1409.517342371105, 1386.2539721042447, 1076.8406643833325, 719.407061308321, 716.692787501575, 663.157060197385, 540.3106310825859, 451.2491643684256, 431.2728983600708, 359.6699238878497, 340.8036617365307, 334.9861848885184, 332.60637417778906, 330.26525136249444, 317.8265284103176, 311.5278597200085, 306.6280763916636, 301.7832643433144, 285.0905071746115, 242.71374171009492, 228.89889447729257, 223.74616897545434, 218.021474733813, 202.9768308248924, 178.1695698737007, 178.1232305703747, 161.0305350540496, 154.71593954964447, 364.24662466084726, 620.1264336429746, 6189.077988798033, 2927.946530823109, 1206.2077878497287, 1111.3471421903118, 506.1809244506028, 440.9079452983967, 433.8924890038341, 362.7340039472991, 316.2058077551638, 314.3408545438467, 303.1132236110996, 293.9768956273671, 254.248359939231, 251.66305561556143, 221.0608688298591, 206.08893034829066, 197.09813186184198, 185.75853475251554, 170.63869360957315, 167.1196892478259, 163.88250180682897, 156.94317838509835, 153.01140561329981, 147.06220752242538, 143.8371364844232, 140.93643717914927, 138.45886860911557, 138.03153693123116, 135.36013539358063, 134.88277564785653, 1195.4437051425036, 404.8876774932398, 1585.171964191048, 427.36490218168075, 1622.4951891215828, 1582.4127966067065, 1044.7030195665454, 840.0378339006052, 751.3165448057476, 590.7119109269161, 554.7500456943988, 521.5638758774285, 517.8002019029311, 514.421719088132, 505.5290070563241, 435.6549347489969, 429.00583395663, 421.71667102576885, 406.34986281952456, 395.8209085163872, 393.6770453841601, 332.00907196802734, 324.79612711171734, 322.7690374228379, 321.01129873285475, 318.90454065213464, 289.6728021057092, 284.3447203345985, 259.8051870515996, 256.87315266903244, 244.42542601487497, 218.48168429826654, 215.18770597577137, 210.48902429710463, 5633.880905430464, 1580.4924168981545, 736.2287106500427, 582.0088371392949, 536.9179645969348, 503.3136571231427, 489.4435906337423, 481.8748094676834, 474.518442218586, 324.52853173760127, 276.0464336160557, 239.9506435526444, 218.73514167918682, 212.84020510704127, 209.31093231826534, 203.32562020267855, 201.55225605836145, 175.6258573322285, 161.55688821973646, 160.18685666909485, 149.28021271075102, 139.84538538353578, 133.66280837744765, 133.50751038457273, 128.52777972720003, 125.21640725956317, 121.10090809009036, 118.07746265959936, 112.97500441624126, 110.70851898898567, 1371.6712485110174, 851.4719678799598, 293.7635612556076, 242.34746519854448, 199.53441938162777, 175.03686045389966, 4961.270933769744, 1903.5217238347345, 1258.0156527601762, 1232.9029569569702, 1147.2377937430151, 1115.5985504538783, 601.4109058731757, 520.0948350310248, 493.2070949134938, 464.6802960795708, 416.74058802898327, 405.4588672283595, 403.9022372070762, 385.4435923792668, 363.397994374467, 340.23596602885857, 331.6771379775741, 320.0035818264883, 301.6008862910712, 234.3482872195002, 230.5137217222428, 212.34874271388048, 197.1361355496504, 194.79111801392014, 181.3233784319668, 181.005870275577, 180.1432507189156, 167.31842505394013, 159.20174049965416, 152.0626053531417, 202.7743724773112, 7314.950129799778, 5037.426222080611, 659.0885739764663, 447.9730460737485, 425.8443764972037, 343.227264300315, 317.93894954216347, 200.15646253582042, 164.06505357265274, 159.19702644546288, 155.22226053504386, 136.03911423067817, 123.16648920528863, 122.86334290611457, 115.70103508067001, 103.26910031627929, 97.49569554947445, 89.94866604214985, 89.29508639277972, 80.4990820097001, 80.43555666213713, 80.05191932938322, 75.69598786341086, 73.74002409250811, 66.56433364772431, 65.65905703442543, 58.02427606893735, 57.23288978932061, 55.79489467614457, 49.87514992292662, 2164.98285457449, 1019.5176025891138, 288.90668033044017, 300.2500498037777, 188.02907496885368, 1584.7857991112426, 1318.3838437637426, 1311.0464051402532, 1297.7946666429814, 1127.037564150791, 939.6548707518672, 848.77029290339, 771.0399747533766, 561.621953247661, 524.6849351556558, 490.99874450634076, 483.32936083799774, 396.00723231105275, 392.54725208227285, 385.7048609606346, 323.74506107104645, 308.6198421161524, 295.29004301049815, 276.38675783665536, 244.46097740963415, 235.69747825811797, 233.35108341582756, 231.62371773063632, 216.9354985578789, 195.03406805311036, 189.088042320936, 185.35142398381464, 174.14094841776316, 172.2185087809519, 156.50526254688208, 775.247128682198, 768.9889897987207, 1108.3772660168408, 1050.1660309015197, 636.7700885643095, 629.9016140682152, 576.7889355013988, 491.27131249316886, 481.56133464694216, 472.9552105805861, 451.57636557442214, 438.2902053037352, 429.7069698652151, 417.81678649648006, 417.6994886509327, 412.3774493754053, 401.11698364510846, 371.712539503094, 366.6951636669032, 363.1224221831533, 360.6684707108017, 349.5868574320924, 325.44748588051226, 315.9136332217545, 269.5647735765392, 230.3018558803104, 230.08489819641233, 224.28217224787807, 223.5920214951867, 219.6470976688287, 208.24102916958594, 201.92035243457457, 767.0018440074059, 329.84674132288103, 1495.9980795221454, 1183.4025451465113, 647.4332040396856, 519.9086120970906, 460.9058080858401, 453.1092396424548, 452.05735934942265, 449.59871351063754, 449.24357577836855, 395.97420358371835, 382.1816498417291, 359.6698916439626, 343.2800807913158, 340.55989138871905, 331.93210977728603, 296.4068487309536, 284.4585065996464, 270.33288183788665, 269.37280310852077, 260.74242095774304, 256.39141565846506, 249.73259580239935, 245.7620771820133, 232.0714999294762, 202.5396741383125, 190.7868647929827, 185.37241563737254, 170.72259283797814, 170.21484384289815, 168.26441408635685, 986.4270910317047, 604.66741025861, 1167.157596262345, 1129.6087650321956, 825.7934224789175, 811.2730007933725, 800.7940359114607, 576.5375794226195, 550.3435859815073, 487.7354561436878, 386.85457784600624, 379.54425701269616, 347.59342416725343, 339.3330695534175, 334.9538723698586, 320.95494363450257, 286.18281791055375, 281.4136186870905, 270.39439351597633, 248.8647412742349, 248.35814265806542, 242.0622383364442, 234.693153019956, 213.13997585899273, 175.96065799418156, 169.0985896740319, 162.09253880712055, 150.07903914102926, 144.64674321071953, 130.11115225561534, 121.0765433008659, 118.14335165770751, 718.5274890224417, 2658.1907883509975, 216.71545278401527, 192.14638815104368, 1778.0782969134502, 1433.9974342241517, 811.1911300037111, 677.9672847156629, 586.5139356423238, 486.9709771544326, 425.20319929282397, 374.6301325321031, 362.4504971603908, 343.20724353302364, 339.9954678239937, 336.31084401564596, 331.7859040498088, 318.24411473391444, 292.8718153485023, 291.3863699343796, 286.8309646485902, 278.09618057454367, 276.83976989439844, 261.54438586536844, 249.8917415051096, 232.75465851053366, 216.2346685057199, 205.97882047283753, 170.46776703391222, 168.4658073185879, 160.71704853475308, 153.3226250314503, 153.2826364613342, 151.21469503778252, 5350.039602454363, 1299.2754845208103, 783.3380791119062, 646.7504308744648, 555.2114627313711, 520.4354592414751, 425.22219456736417, 377.7018940171088, 373.5433726672696, 348.70375918257406, 331.8593666750243, 327.9931491140529, 302.2920040864936, 261.25891754657897, 211.79459420494035, 169.14195340720133, 153.86023595098212, 149.13776957697257, 135.13352511485792, 134.18996421463967, 132.9102256374346, 122.75421567043126, 108.81681680200727, 98.01655342525744, 85.33183139743683, 82.25295842501492, 81.07445764649941, 80.71241093170663, 67.27788981989114, 63.56209390611998, 557.5188719813997, 171.02051391765235, 1265.3498795796722, 1107.181669005036, 692.8813298087354, 683.8784357393749, 632.9427474778801, 479.95211025560064, 464.9904112276111, 407.77475014099826, 355.29543413875257, 326.22777057970467, 284.4215599869862, 283.7061476574277, 271.95996570338866, 264.64265758535873, 246.77421317637732, 232.4498578520926, 212.33904842856606, 198.09171298448948, 197.3620167392388, 196.19866416955924, 186.32214400255495, 172.65091600394035, 161.2288279167411, 156.34950733851804, 156.16160358120746, 136.5711293097133, 127.02870804300723, 119.07228384113151, 117.90284854670784, 111.88913126607845, 587.4974524198923, 509.1024569213426, 1452.3118316101138, 1243.0191213907306, 1191.8642693524323, 649.7815350189746, 508.36357101403354, 508.16724449134955, 392.9351609338335, 369.2190166517378, 336.28526323360535, 325.54753537032315, 302.67782083407997, 299.9047709875016, 298.2787032072468, 285.94474271737914, 262.6954760278802, 221.05577493997842, 208.6515347039934, 199.27580132972048, 198.55955002054606, 193.49058440287592, 184.38280683462665, 174.8190933063371, 164.26650118784903, 162.86975092483672, 160.35599908394792, 156.2987503787005, 155.75828148326386, 155.34356869483832, 135.33003549806978, 130.715365633662, 222.36177401531606, 147.7354903175549], \"Total\": [16357.0, 9321.0, 7316.0, 6269.0, 6190.0, 5351.0, 5635.0, 5038.0, 4962.0, 4179.0, 3862.0, 4052.0, 4939.0, 3417.0, 3751.0, 2929.0, 2897.0, 2975.0, 2666.0, 3444.0, 2142.0, 1904.0, 1779.0, 1925.0, 1848.0, 1724.0, 1774.0, 1586.0, 1710.0, 1623.0, 9321.429562729945, 4052.434623423617, 1925.061439135277, 1774.8286066905175, 1606.984732480572, 1110.143225855941, 898.917555422015, 892.152317396583, 610.5373849478556, 538.4779171103764, 311.20252281982795, 300.8017762612789, 249.07182386235925, 213.14393738511083, 204.41738684153216, 186.2719785245415, 180.38089409235067, 177.64773651134115, 163.58550083430413, 159.0835353541112, 156.70912265288666, 148.69568154162593, 132.00251701011183, 129.9129242433099, 126.31486144808387, 118.41438711416926, 116.26780553433721, 111.20468600282884, 110.94327520510976, 96.58335344886832, 1423.4921482479635, 1073.1949444884765, 1742.494660532954, 3417.9752045599416, 2975.768365333474, 2666.396811559572, 1055.1352134069346, 927.321692753872, 789.5743909374812, 532.2789975301262, 515.8587320603442, 478.6804293763358, 454.5358790542278, 438.00087018791186, 435.80231354469754, 388.1973466586634, 376.5530376470999, 366.10435339236466, 358.46114871447486, 338.0374572954831, 330.7521310100937, 324.5112088284718, 300.97942060557335, 296.91795461826393, 274.97975237478795, 265.6593312989412, 225.6572928219337, 223.13415166261973, 217.11510071755146, 215.30149023006038, 210.39520751848488, 208.9148875528084, 204.78769561932373, 824.5235654370015, 658.7994803084292, 721.2675010810058, 566.5285060304542, 1141.9482756025523, 1073.1949444884765, 1055.7859904723719, 4179.805765213708, 1607.38777693721, 1572.4080138444506, 1543.5178893445443, 1539.9218427600476, 1137.3317610681966, 981.8512013307597, 745.4489469822108, 595.4858468623665, 523.1038756844389, 473.49096288277855, 450.7888884836365, 400.4556334725448, 380.8749168622858, 340.9214143208145, 306.1780231126941, 298.7639922018659, 274.7201908640766, 227.93940702291735, 219.64799861853626, 218.59492041269715, 217.464297077965, 206.3002724543669, 206.07666267234873, 194.35190743025316, 186.33711930634368, 178.6347126488596, 169.44248406509524, 167.4802937254962, 164.99598324631833, 1742.494660532954, 349.76260608377623, 4939.6069101158155, 3444.2849862293074, 1776.7139962901526, 981.528376866324, 16357.304630216066, 890.9866487751818, 822.3597118475153, 720.1452400903531, 555.9164713697159, 391.950481960201, 363.3807223757695, 338.0251975743625, 304.5919703544435, 266.9292066109052, 204.57682848739947, 195.840805359492, 180.71082187912177, 177.90077646691745, 173.3897095788903, 173.29992280223547, 149.16496919545534, 144.97815993963994, 139.996977358527, 134.1264756426235, 124.42934528659309, 121.26861880024566, 118.85167582656176, 117.45061332968524, 115.21311992018175, 114.12636906032189, 112.60723610843222, 112.0437123906466, 109.16176313786742, 102.13714566696734, 973.7242127348665, 1226.8876896656204, 788.9760276070787, 1848.0522930463358, 1724.4519254412617, 1710.3071414582223, 1063.22071538694, 1012.5396391643294, 1004.5019449915509, 841.8663332332754, 767.9978138817369, 702.6725422788514, 534.3192483018138, 462.08915510230736, 459.5410657595628, 441.91853449132583, 409.4677058394499, 399.85375873778065, 398.1725006910882, 352.10449466705586, 349.8565552985624, 344.68647444242384, 306.4219756949653, 303.94089490748235, 291.750826605236, 267.78946896775653, 234.02075094379586, 231.28823288605753, 224.31715417092323, 208.86514795051048, 198.74398104365466, 190.20249753780206, 189.35981023118842, 3444.2849862293074, 646.6718662185299, 1226.8876896656204, 1243.5303141753075, 6269.693681324224, 2142.348954870769, 965.0915827030844, 956.0212725242785, 908.7434891649149, 812.7900359400471, 755.813429224261, 704.3079150450171, 656.1933381139603, 383.4305981608519, 377.2280561825684, 371.6998370292692, 367.21154502853346, 335.9487782709326, 334.1643089061911, 302.96137761440303, 300.7851183812085, 281.67584369952647, 263.18611289525364, 248.2331607625056, 238.0510034887018, 228.6306046677425, 179.69034044612175, 173.9495067402565, 173.00646608892603, 172.40475546780152, 163.24598631815877, 157.73715048477072, 132.45577827836127, 130.8634114677558, 981.528376866324, 850.0473052804045, 613.0108128862666, 1423.4921482479635, 802.7079963152142, 3862.248473883822, 2897.9640309989836, 1410.8498240701665, 1387.586453803306, 1078.173146082394, 720.7395430073826, 718.0252692006367, 664.4895418964467, 541.6431127816476, 452.58164606748716, 432.60538005913236, 361.0024055869112, 342.13614343559226, 336.3186665875799, 333.9388558768506, 331.59773306155597, 319.15901010937915, 312.86034141907004, 307.96055809072516, 303.1157460423759, 286.42298887367303, 244.04622341713278, 230.23137617635408, 225.07865067451584, 219.3539564328745, 204.3093125239539, 179.5020515727622, 179.4557122694362, 162.3630167531111, 156.04842124870598, 609.9948352188935, 3444.2849862293074, 6190.413289338199, 2929.281831363276, 1207.5430883898946, 1112.6824427304778, 507.5162249907689, 442.2432458385628, 435.2277895440002, 364.06930448746516, 317.5411082953299, 315.6761550840128, 304.4485241512657, 295.3121961675332, 255.58366047939708, 252.99835615572752, 222.39616937002518, 207.42423088845675, 198.43343240200807, 187.09383529268163, 171.97399414973924, 168.454989787992, 165.21780234699506, 158.27847892526444, 154.3467061534659, 148.39750806259147, 145.1724370245893, 142.27173771931535, 139.7941691897961, 139.36683747139725, 136.69543593374672, 136.21807618802262, 1384.7439326700921, 581.1867038178538, 3751.4259713242736, 746.8917832131875, 1623.820462248629, 1583.7380697337526, 1046.0282926935915, 841.3631070276515, 752.641817932794, 592.0371840539624, 556.0753188214451, 522.8891490044748, 519.1254750299775, 515.7469922151784, 506.85428018337035, 436.98020787604315, 430.3311070836763, 423.0419441528151, 407.67513594657083, 397.14618164343347, 395.0023185112064, 333.3343450950736, 326.1214002387636, 324.0943105498842, 322.336571859901, 320.2298137791809, 290.99807523275547, 285.66999346164476, 261.1304601786459, 258.1984257960787, 245.75069914192125, 219.80695742531282, 216.51297910281764, 211.8142974241509, 5635.210698805386, 1581.8222102730765, 737.558504024965, 583.3386305142172, 538.2477579718571, 504.643450498065, 490.7733840086646, 483.2046028426057, 475.8482355935083, 325.8583251125236, 277.376226990978, 241.2804369275667, 220.06493505410913, 214.16999848196357, 210.64072569318765, 204.65541357760085, 202.88204943328375, 176.9556507071508, 162.88668159465877, 161.51665004401715, 150.61000608567332, 141.1751787584581, 134.99260175236995, 134.83730375949503, 129.85757310212233, 126.54620063448543, 122.43070146501262, 119.40725603452162, 114.30479779116352, 112.03831236390793, 1776.7139962901526, 1182.5776083964088, 1013.5526990607208, 1243.5303141753075, 850.0473052804045, 581.1867038178538, 4962.611356913153, 1904.8621469781428, 1259.3560759035845, 1234.2433801003785, 1148.5782168864234, 1116.9389735972866, 602.7513290165845, 521.4352581744336, 494.54751805690256, 466.02071922297955, 418.08101117239204, 406.7992903717683, 405.242660350485, 386.7840155226756, 364.73841751787575, 341.57638917226734, 333.01756112098286, 321.34400496989707, 302.94130943448, 235.68871036290895, 231.85414486565153, 213.68916585728923, 198.47655869305913, 196.13154115732888, 182.66380157537554, 182.34629341898574, 181.48367386232434, 168.65884819734887, 160.5421636430629, 153.40302849655043, 290.78454173048067, 7316.288909862721, 5038.765002143555, 660.4273540394095, 449.3118261366916, 427.1831565601468, 344.56604436325813, 319.2777296051066, 201.49524259876355, 165.40383363559587, 160.535806508406, 156.561040597987, 137.3778942936213, 124.50526926823171, 124.20212296905765, 117.0398151436131, 104.60788037922238, 98.83447561241753, 91.28744610509294, 90.63386645572281, 81.83786207886597, 81.77433672508022, 81.39069939232631, 77.03476793257673, 75.0788041554512, 67.9031137106674, 66.99783710403247, 59.36305614589262, 58.5716698522637, 57.13367473908767, 51.21392999445755, 3751.4259713242736, 4939.6069101158155, 1276.5985301911555, 1742.494660532954, 1384.7439326700921, 1586.1188850335252, 1319.7169296860252, 1312.3794910625359, 1299.127752565264, 1128.3706500730736, 940.9879566741502, 850.103378825673, 772.3730606756595, 562.955039169944, 526.0180210779388, 492.3318304286237, 484.66244676028066, 397.34031823333567, 393.88033800455577, 387.03794688291754, 325.07814699332937, 309.95292803843535, 296.62312893278107, 277.7198437589383, 245.7940633319171, 237.03056418040092, 234.6841693381105, 232.95680365291926, 218.26858448016185, 196.3671539753933, 190.42112824321896, 186.6845099060976, 175.4740343400461, 173.55159470323485, 157.83834846916503, 1055.7859904723719, 1141.9482756025523, 1109.7092998798605, 1051.4980647645393, 638.1021224273293, 631.2336479312349, 578.1209693644186, 492.6033463561886, 482.8933685099619, 474.2872444436058, 452.90839943744186, 439.6222391667549, 431.03900372823483, 419.1488203594998, 419.03152251395244, 413.70948323842504, 402.4490175081282, 373.0445733661137, 368.02719752992294, 364.454456046173, 362.00050457382144, 350.91889129511213, 326.779519743532, 317.2456670847742, 270.8968074395589, 231.63388974333012, 231.41693205943204, 225.61420611089778, 224.92405535820643, 220.97913153184842, 209.57306303260566, 203.25238629759428, 1243.5303141753075, 1182.5776083964088, 1497.326986332587, 1184.731451956953, 648.7621108501276, 521.2375189075325, 462.2347148962819, 454.4381464528966, 453.3862661598645, 450.92762032107936, 450.5724825888104, 397.30311039416017, 383.5105566521709, 360.99879845440444, 344.60898760175763, 341.8887981991609, 333.26101658772785, 297.7357555413954, 285.7874134100882, 271.66178864832847, 270.7017099189626, 262.07132776818486, 257.7203224689069, 251.0615026128412, 247.09098399245514, 233.40040673991805, 203.86858094875436, 192.11577160342455, 186.7013224478144, 172.05149964842, 171.54375065334, 169.5933208967987, 1276.5985301911555, 788.9760276070787, 1168.492379714468, 1130.9435484843186, 827.1282059310408, 812.6077842454958, 802.1288193635841, 577.8723628747429, 551.6783694336307, 489.0702395958111, 388.1893612981295, 380.8790404648194, 348.9282076193767, 340.66785300554074, 336.2886558219818, 322.289727093974, 287.517601362677, 282.74840213921374, 271.7291769680996, 250.19952472635813, 249.69292611018867, 243.39702178856746, 236.02793647207923, 214.47475931111597, 177.2954414463048, 170.43337312615515, 163.4273222592438, 151.4138225931525, 145.98152666284278, 131.44593570773858, 122.41132675298915, 119.47813510983077, 1013.5526990607208, 4939.6069101158155, 423.89556725659645, 750.92703110797, 1779.4127005951427, 1435.3318379058442, 812.5255336854037, 679.3016883973555, 587.8483393240164, 488.3053808361251, 426.53760297451646, 375.9645362137956, 363.7849008420833, 344.54164721471614, 341.3298715056862, 337.64524769733845, 333.12030773150127, 319.57851841560694, 294.2062190301948, 292.7207736160721, 288.1653683302827, 279.43058425623616, 278.17417357609094, 262.87878954706093, 251.2261451868021, 234.08906219222618, 217.56907218741242, 207.31322415453005, 171.80217071560475, 169.80021100028043, 162.0514522164456, 154.6570287131428, 154.6170401430267, 152.54909871947504, 5351.369518022141, 1300.6054000885877, 784.6679946796837, 648.0803464422423, 556.5413782991486, 521.7653748092526, 426.5521101351416, 379.0318095848863, 374.873288235047, 350.0336747503515, 333.18928224280177, 329.3230646818304, 303.62191965427104, 262.5888331143564, 213.12450977271783, 170.4718689749788, 155.1901515187596, 150.46768514475005, 136.4634406826354, 135.51987978241715, 134.24014120521207, 124.08413123820876, 110.14673236978476, 99.34646899303493, 86.66174696521432, 83.58287399279241, 82.4043732142769, 82.04232649948412, 68.60780538766863, 64.89200947389747, 750.92703110797, 266.8874902988551, 1266.6810821477832, 1108.5128715731469, 694.2125323768464, 685.209638307486, 634.2739500459911, 481.28331282371164, 466.3216137957221, 409.10595270910926, 356.62663670686356, 327.55897314781566, 285.7527625550972, 285.0373502255387, 273.29116827149966, 265.97386015346973, 248.10541574448834, 233.78106042020363, 213.67025099667708, 199.4229155526005, 198.69321930734984, 197.52986673767026, 187.65334657066597, 173.98211857205138, 162.56003048485212, 157.68070990662906, 157.49280614931848, 137.90233187782434, 128.35991061111827, 120.40348640924253, 119.23405111481887, 113.22033383418947, 802.7079963152142, 719.5353365043222, 1453.6449850572249, 1244.3522748378416, 1193.1974227995433, 651.1146884660858, 509.69672446114464, 509.50039793846065, 394.2683143809446, 370.5521700988489, 337.61841668071645, 326.88068881743425, 304.01097428119107, 301.2379244346127, 299.6118566543579, 287.27789616449024, 264.0286294749913, 222.38892838708952, 209.9846881511045, 200.60895477683158, 199.89270346765716, 194.82373784998703, 185.71596028173775, 176.1522467534482, 165.59965463496013, 164.20290437194782, 161.68915253105902, 157.6319038258116, 157.09143493037496, 156.67672214194943, 136.66318894518088, 132.0485190807731, 460.8899563493274, 210.7770745403112], \"Category\": [\"Default\", \"Default\", \"Default\", \"Default\", \"Default\", \"Default\", \"Default\", \"Default\", \"Default\", \"Default\", \"Default\", \"Default\", \"Default\", \"Default\", \"Default\", \"Default\", \"Default\", \"Default\", \"Default\", \"Default\", \"Default\", \"Default\", \"Default\", \"Default\", \"Default\", \"Default\", \"Default\", \"Default\", \"Default\", \"Default\", \"Topic1\", \"Topic1\", \"Topic1\", \"Topic1\", \"Topic1\", \"Topic1\", \"Topic1\", \"Topic1\", \"Topic1\", \"Topic1\", \"Topic1\", \"Topic1\", \"Topic1\", \"Topic1\", \"Topic1\", \"Topic1\", \"Topic1\", \"Topic1\", \"Topic1\", \"Topic1\", \"Topic1\", \"Topic1\", \"Topic1\", \"Topic1\", \"Topic1\", \"Topic1\", \"Topic1\", \"Topic1\", \"Topic1\", \"Topic1\", \"Topic1\", \"Topic1\", \"Topic1\", \"Topic2\", \"Topic2\", \"Topic2\", \"Topic2\", \"Topic2\", \"Topic2\", \"Topic2\", \"Topic2\", \"Topic2\", \"Topic2\", \"Topic2\", \"Topic2\", \"Topic2\", \"Topic2\", \"Topic2\", \"Topic2\", \"Topic2\", \"Topic2\", \"Topic2\", \"Topic2\", \"Topic2\", \"Topic2\", \"Topic2\", \"Topic2\", \"Topic2\", \"Topic2\", \"Topic2\", \"Topic2\", \"Topic2\", \"Topic2\", \"Topic2\", \"Topic2\", \"Topic2\", \"Topic2\", \"Topic2\", \"Topic2\", \"Topic2\", \"Topic3\", \"Topic3\", \"Topic3\", \"Topic3\", \"Topic3\", \"Topic3\", \"Topic3\", \"Topic3\", \"Topic3\", \"Topic3\", \"Topic3\", \"Topic3\", \"Topic3\", \"Topic3\", \"Topic3\", \"Topic3\", \"Topic3\", \"Topic3\", \"Topic3\", \"Topic3\", \"Topic3\", \"Topic3\", \"Topic3\", \"Topic3\", \"Topic3\", \"Topic3\", \"Topic3\", \"Topic3\", \"Topic3\", \"Topic3\", \"Topic3\", \"Topic3\", \"Topic3\", \"Topic3\", \"Topic3\", \"Topic3\", \"Topic4\", \"Topic4\", \"Topic4\", \"Topic4\", \"Topic4\", \"Topic4\", \"Topic4\", \"Topic4\", \"Topic4\", \"Topic4\", \"Topic4\", \"Topic4\", \"Topic4\", \"Topic4\", \"Topic4\", \"Topic4\", \"Topic4\", \"Topic4\", \"Topic4\", \"Topic4\", \"Topic4\", \"Topic4\", \"Topic4\", \"Topic4\", \"Topic4\", \"Topic4\", \"Topic4\", \"Topic4\", \"Topic4\", \"Topic4\", \"Topic4\", \"Topic4\", \"Topic4\", \"Topic5\", \"Topic5\", \"Topic5\", \"Topic5\", \"Topic5\", \"Topic5\", \"Topic5\", \"Topic5\", \"Topic5\", \"Topic5\", \"Topic5\", \"Topic5\", \"Topic5\", \"Topic5\", \"Topic5\", \"Topic5\", \"Topic5\", \"Topic5\", \"Topic5\", \"Topic5\", \"Topic5\", \"Topic5\", \"Topic5\", \"Topic5\", \"Topic5\", \"Topic5\", \"Topic5\", \"Topic5\", \"Topic5\", \"Topic5\", \"Topic5\", \"Topic5\", \"Topic5\", \"Topic5\", \"Topic6\", \"Topic6\", \"Topic6\", \"Topic6\", \"Topic6\", \"Topic6\", \"Topic6\", \"Topic6\", \"Topic6\", \"Topic6\", \"Topic6\", \"Topic6\", \"Topic6\", \"Topic6\", \"Topic6\", \"Topic6\", \"Topic6\", \"Topic6\", \"Topic6\", \"Topic6\", \"Topic6\", \"Topic6\", \"Topic6\", \"Topic6\", \"Topic6\", \"Topic6\", \"Topic6\", \"Topic6\", \"Topic6\", \"Topic6\", \"Topic6\", \"Topic6\", \"Topic6\", \"Topic6\", \"Topic6\", \"Topic7\", \"Topic7\", \"Topic7\", \"Topic7\", \"Topic7\", \"Topic7\", \"Topic7\", \"Topic7\", \"Topic7\", \"Topic7\", \"Topic7\", \"Topic7\", \"Topic7\", \"Topic7\", \"Topic7\", \"Topic7\", \"Topic7\", \"Topic7\", \"Topic7\", \"Topic7\", \"Topic7\", \"Topic7\", \"Topic7\", \"Topic7\", \"Topic7\", \"Topic7\", \"Topic7\", \"Topic7\", \"Topic7\", \"Topic7\", \"Topic7\", \"Topic7\", \"Topic8\", \"Topic8\", \"Topic8\", \"Topic8\", \"Topic8\", \"Topic8\", \"Topic8\", \"Topic8\", \"Topic8\", \"Topic8\", \"Topic8\", \"Topic8\", \"Topic8\", \"Topic8\", \"Topic8\", \"Topic8\", \"Topic8\", \"Topic8\", \"Topic8\", \"Topic8\", \"Topic8\", \"Topic8\", \"Topic8\", \"Topic8\", \"Topic8\", \"Topic8\", \"Topic8\", \"Topic8\", \"Topic8\", \"Topic8\", \"Topic8\", \"Topic8\", \"Topic8\", \"Topic8\", \"Topic9\", \"Topic9\", \"Topic9\", \"Topic9\", \"Topic9\", \"Topic9\", \"Topic9\", \"Topic9\", \"Topic9\", \"Topic9\", \"Topic9\", \"Topic9\", \"Topic9\", \"Topic9\", \"Topic9\", \"Topic9\", \"Topic9\", \"Topic9\", \"Topic9\", \"Topic9\", \"Topic9\", \"Topic9\", \"Topic9\", \"Topic9\", \"Topic9\", \"Topic9\", \"Topic9\", \"Topic9\", \"Topic9\", \"Topic9\", \"Topic10\", \"Topic10\", \"Topic10\", \"Topic10\", \"Topic10\", \"Topic10\", \"Topic10\", \"Topic10\", \"Topic10\", \"Topic10\", \"Topic10\", \"Topic10\", \"Topic10\", \"Topic10\", \"Topic10\", \"Topic10\", \"Topic10\", \"Topic10\", \"Topic10\", \"Topic10\", \"Topic10\", \"Topic10\", \"Topic10\", \"Topic10\", \"Topic10\", \"Topic10\", \"Topic10\", \"Topic10\", \"Topic10\", \"Topic10\", \"Topic10\", \"Topic10\", \"Topic10\", \"Topic10\", \"Topic10\", \"Topic10\", \"Topic11\", \"Topic11\", \"Topic11\", \"Topic11\", \"Topic11\", \"Topic11\", \"Topic11\", \"Topic11\", \"Topic11\", \"Topic11\", \"Topic11\", \"Topic11\", \"Topic11\", \"Topic11\", \"Topic11\", \"Topic11\", \"Topic11\", \"Topic11\", \"Topic11\", \"Topic11\", \"Topic11\", \"Topic11\", \"Topic11\", \"Topic11\", \"Topic11\", \"Topic11\", \"Topic11\", \"Topic11\", \"Topic11\", \"Topic11\", \"Topic11\", \"Topic12\", \"Topic12\", \"Topic12\", \"Topic12\", \"Topic12\", \"Topic12\", \"Topic12\", \"Topic12\", \"Topic12\", \"Topic12\", \"Topic12\", \"Topic12\", \"Topic12\", \"Topic12\", \"Topic12\", \"Topic12\", \"Topic12\", \"Topic12\", \"Topic12\", \"Topic12\", \"Topic12\", \"Topic12\", \"Topic12\", \"Topic12\", \"Topic12\", \"Topic12\", \"Topic12\", \"Topic12\", \"Topic12\", \"Topic12\", \"Topic12\", \"Topic12\", \"Topic12\", \"Topic12\", \"Topic12\", \"Topic13\", \"Topic13\", \"Topic13\", \"Topic13\", \"Topic13\", \"Topic13\", \"Topic13\", \"Topic13\", \"Topic13\", \"Topic13\", \"Topic13\", \"Topic13\", \"Topic13\", \"Topic13\", \"Topic13\", \"Topic13\", \"Topic13\", \"Topic13\", \"Topic13\", \"Topic13\", \"Topic13\", \"Topic13\", \"Topic13\", \"Topic13\", \"Topic13\", \"Topic13\", \"Topic13\", \"Topic13\", \"Topic13\", \"Topic13\", \"Topic13\", \"Topic13\", \"Topic14\", \"Topic14\", \"Topic14\", \"Topic14\", \"Topic14\", \"Topic14\", \"Topic14\", \"Topic14\", \"Topic14\", \"Topic14\", \"Topic14\", \"Topic14\", \"Topic14\", \"Topic14\", \"Topic14\", \"Topic14\", \"Topic14\", \"Topic14\", \"Topic14\", \"Topic14\", \"Topic14\", \"Topic14\", \"Topic14\", \"Topic14\", \"Topic14\", \"Topic14\", \"Topic14\", \"Topic14\", \"Topic14\", \"Topic14\", \"Topic14\", \"Topic14\", \"Topic15\", \"Topic15\", \"Topic15\", \"Topic15\", \"Topic15\", \"Topic15\", \"Topic15\", \"Topic15\", \"Topic15\", \"Topic15\", \"Topic15\", \"Topic15\", \"Topic15\", \"Topic15\", \"Topic15\", \"Topic15\", \"Topic15\", \"Topic15\", \"Topic15\", \"Topic15\", \"Topic15\", \"Topic15\", \"Topic15\", \"Topic15\", \"Topic15\", \"Topic15\", \"Topic15\", \"Topic15\", \"Topic15\", \"Topic15\", \"Topic15\", \"Topic15\", \"Topic16\", \"Topic16\", \"Topic16\", \"Topic16\", \"Topic16\", \"Topic16\", \"Topic16\", \"Topic16\", \"Topic16\", \"Topic16\", \"Topic16\", \"Topic16\", \"Topic16\", \"Topic16\", \"Topic16\", \"Topic16\", \"Topic16\", \"Topic16\", \"Topic16\", \"Topic16\", \"Topic16\", \"Topic16\", \"Topic16\", \"Topic16\", \"Topic16\", \"Topic16\", \"Topic16\", \"Topic16\", \"Topic16\", \"Topic16\", \"Topic16\", \"Topic16\", \"Topic16\", \"Topic16\", \"Topic17\", \"Topic17\", \"Topic17\", \"Topic17\", \"Topic17\", \"Topic17\", \"Topic17\", \"Topic17\", \"Topic17\", \"Topic17\", \"Topic17\", \"Topic17\", \"Topic17\", \"Topic17\", \"Topic17\", \"Topic17\", \"Topic17\", \"Topic17\", \"Topic17\", \"Topic17\", \"Topic17\", \"Topic17\", \"Topic17\", \"Topic17\", \"Topic17\", \"Topic17\", \"Topic17\", \"Topic17\", \"Topic17\", \"Topic17\", \"Topic18\", \"Topic18\", \"Topic18\", \"Topic18\", \"Topic18\", \"Topic18\", \"Topic18\", \"Topic18\", \"Topic18\", \"Topic18\", \"Topic18\", \"Topic18\", \"Topic18\", \"Topic18\", \"Topic18\", \"Topic18\", \"Topic18\", \"Topic18\", \"Topic18\", \"Topic18\", \"Topic18\", \"Topic18\", \"Topic18\", \"Topic18\", \"Topic18\", \"Topic18\", \"Topic18\", \"Topic18\", \"Topic18\", \"Topic18\", \"Topic18\", \"Topic18\", \"Topic19\", \"Topic19\", \"Topic19\", \"Topic19\", \"Topic19\", \"Topic19\", \"Topic19\", \"Topic19\", \"Topic19\", \"Topic19\", \"Topic19\", \"Topic19\", \"Topic19\", \"Topic19\", \"Topic19\", \"Topic19\", \"Topic19\", \"Topic19\", \"Topic19\", \"Topic19\", \"Topic19\", \"Topic19\", \"Topic19\", \"Topic19\", \"Topic19\", \"Topic19\", \"Topic19\", \"Topic19\", \"Topic19\", \"Topic19\", \"Topic19\", \"Topic19\", \"Topic20\", \"Topic20\", \"Topic20\", \"Topic20\", \"Topic20\", \"Topic20\", \"Topic20\", \"Topic20\", \"Topic20\", \"Topic20\", \"Topic20\", \"Topic20\", \"Topic20\", \"Topic20\", \"Topic20\", \"Topic20\", \"Topic20\", \"Topic20\", \"Topic20\", \"Topic20\", \"Topic20\", \"Topic20\", \"Topic20\", \"Topic20\", \"Topic20\", \"Topic20\", \"Topic20\", \"Topic20\", \"Topic20\", \"Topic20\", \"Topic20\", \"Topic20\"], \"logprob\": [30.0, 29.0, 28.0, 27.0, 26.0, 25.0, 24.0, 23.0, 22.0, 21.0, 20.0, 19.0, 18.0, 17.0, 16.0, 15.0, 14.0, 13.0, 12.0, 11.0, 10.0, 9.0, 8.0, 7.0, 6.0, 5.0, 4.0, 3.0, 2.0, 1.0, -1.4076, -2.2408, -2.9855, -3.0668, -3.1663, -3.5365, -3.7478, -3.7554, -4.1354, -4.2613, -4.8114, -4.8455, -5.0352, -5.1919, -5.2339, -5.3275, -5.3599, -5.3753, -5.4584, -5.4865, -5.5017, -5.5546, -5.6749, -5.691, -5.7194, -5.7847, -5.8032, -5.8482, -5.8506, -5.991, -3.6017, -3.9741, -4.7936, -2.4028, -2.5415, -2.6513, -3.5791, -3.7084, -3.8695, -4.2646, -4.296, -4.371, -4.4229, -4.4601, -4.4651, -4.5812, -4.6117, -4.64, -4.6612, -4.72, -4.7419, -4.761, -4.8366, -4.8503, -4.9274, -4.9621, -5.1262, -5.1375, -5.165, -5.1734, -5.1966, -5.2037, -5.2238, -4.0411, -4.2474, -4.1954, -4.4882, -4.6212, -4.6641, -4.907, -2.1712, -3.1273, -3.1494, -3.1679, -3.1703, -3.4736, -3.6208, -3.8967, -4.1217, -4.2517, -4.3516, -4.4008, -4.5196, -4.5699, -4.6811, -4.7891, -4.8137, -4.898, -5.0857, -5.1229, -5.1278, -5.133, -5.186, -5.1871, -5.2461, -5.2885, -5.331, -5.3843, -5.396, -5.4111, -3.4828, -4.8192, -3.3695, -4.0255, -4.508, -5.1493, -0.7752, -3.6867, -3.767, -3.9, -4.1593, -4.5098, -4.5858, -4.6584, -4.763, -4.8956, -5.1632, -5.2071, -5.2881, -5.3039, -5.3298, -5.3303, -5.4815, -5.5103, -5.5456, -5.5888, -5.6646, -5.6907, -5.711, -5.723, -5.7425, -5.7521, -5.7656, -5.7707, -5.7971, -5.8644, -3.7692, -3.6134, -5.2678, -2.9442, -3.0135, -3.0217, -3.4976, -3.5465, -3.5545, -3.7314, -3.8233, -3.9124, -4.1869, -4.3325, -4.3381, -4.3773, -4.4538, -4.4776, -4.4819, -4.6053, -4.6117, -4.6266, -4.7448, -4.7529, -4.7941, -4.8802, -5.0157, -5.0275, -5.0583, -5.1301, -5.1801, -5.2243, -5.2288, -2.7835, -4.1947, -4.8735, -5.0144, -1.6401, -2.7143, -3.5125, -3.522, -3.5728, -3.6845, -3.7573, -3.8281, -3.899, -4.4377, -4.4541, -4.4689, -4.4811, -4.5704, -4.5757, -4.6742, -4.6814, -4.7474, -4.8156, -4.8744, -4.9165, -4.9571, -5.1996, -5.2323, -5.2378, -5.2413, -5.2963, -5.3309, -5.5072, -5.5195, -3.7401, -3.9076, -4.2483, -4.4342, -5.0176, -2.1119, -2.3992, -3.1195, -3.1362, -3.3887, -3.7921, -3.7959, -3.8735, -4.0784, -4.2585, -4.3038, -4.4853, -4.5392, -4.5564, -4.5636, -4.5706, -4.609, -4.629, -4.6449, -4.6608, -4.7177, -4.8786, -4.9372, -4.96, -4.9859, -5.0574, -5.1878, -5.1881, -5.2889, -5.3289, -4.4727, -3.9406, -1.6321, -2.3806, -3.2674, -3.3493, -4.1357, -4.2738, -4.2898, -4.469, -4.6062, -4.6121, -4.6485, -4.6791, -4.8243, -4.8345, -4.9642, -5.0343, -5.0789, -5.1382, -5.2231, -5.2439, -5.2635, -5.3067, -5.3321, -5.3718, -5.3939, -5.4143, -5.4321, -5.4351, -5.4547, -5.4582, -3.2764, -4.359, -2.9942, -4.305, -2.9294, -2.9544, -3.3696, -3.5877, -3.6993, -3.9398, -4.0026, -4.0643, -4.0715, -4.0781, -4.0955, -4.2443, -4.2596, -4.2768, -4.3139, -4.3401, -4.3456, -4.5159, -4.5379, -4.5442, -4.5496, -4.5562, -4.6524, -4.6709, -4.7612, -4.7725, -4.8222, -4.9344, -4.9496, -4.9717, -1.6491, -2.9201, -3.6841, -3.9191, -3.9998, -4.0644, -4.0924, -4.1079, -4.1233, -4.5033, -4.6651, -4.8052, -4.8978, -4.9251, -4.9418, -4.9708, -4.9796, -5.1173, -5.2008, -5.2093, -5.2798, -5.3451, -5.3903, -5.3915, -5.4295, -5.4556, -5.489, -5.5143, -5.5585, -5.5787, -3.0618, -3.5387, -4.6029, -4.7953, -4.9896, -5.1206, -1.7722, -2.7302, -3.1443, -3.1645, -3.2365, -3.2645, -3.8823, -4.0276, -4.0807, -4.1403, -4.2492, -4.2766, -4.2804, -4.3272, -4.3861, -4.452, -4.4775, -4.5133, -4.5725, -4.8248, -4.8413, -4.9234, -4.9977, -5.0097, -5.0813, -5.0831, -5.0879, -5.1617, -5.2114, -5.2573, -4.9695, -1.3749, -1.7479, -3.7817, -4.1678, -4.2185, -4.4341, -4.5107, -4.9734, -5.1723, -5.2024, -5.2277, -5.3596, -5.459, -5.4615, -5.5215, -5.6352, -5.6927, -5.7733, -5.7806, -5.8843, -5.8851, -5.8899, -5.9458, -5.972, -6.0744, -6.0881, -6.2117, -6.2254, -6.2508, -6.363, -2.5924, -3.3454, -4.6064, -4.5679, -5.0359, -2.8633, -3.0473, -3.0529, -3.063, -3.2041, -3.386, -3.4877, -3.5837, -3.9006, -3.9687, -4.035, -4.0508, -4.25, -4.2588, -4.2764, -4.4515, -4.4994, -4.5435, -4.6097, -4.7324, -4.7689, -4.7789, -4.7864, -4.8519, -4.9583, -4.9893, -5.0092, -5.0716, -5.0827, -5.1784, -3.5783, -3.5864, -3.2065, -3.2604, -3.7607, -3.7716, -3.8597, -4.0201, -4.0401, -4.0581, -4.1044, -4.1342, -4.154, -4.1821, -4.1824, -4.1952, -4.2229, -4.299, -4.3126, -4.3224, -4.3292, -4.3604, -4.4319, -4.4617, -4.6203, -4.7777, -4.7787, -4.8042, -4.8073, -4.8251, -4.8784, -4.9093, -3.5746, -4.4185, -2.8971, -3.1315, -3.7346, -3.954, -4.0745, -4.0915, -4.0938, -4.0993, -4.1001, -4.2263, -4.2618, -4.3225, -4.3691, -4.3771, -4.4027, -4.5159, -4.5571, -4.608, -4.6116, -4.6441, -4.6609, -4.6873, -4.7033, -4.7606, -4.8967, -4.9565, -4.9853, -5.0676, -5.0706, -5.0821, -3.3136, -3.803, -3.0908, -3.1235, -3.4367, -3.4545, -3.4675, -3.7961, -3.8426, -3.9633, -4.195, -4.2141, -4.3021, -4.3261, -4.3391, -4.3818, -4.4965, -4.5133, -4.5532, -4.6362, -4.6382, -4.6639, -4.6948, -4.7911, -4.9828, -5.0226, -5.0649, -5.1419, -5.1788, -5.2847, -5.3567, -5.3812, -3.5759, -2.2677, -4.7745, -4.8948, -2.618, -2.8331, -3.4028, -3.5822, -3.7271, -3.9131, -4.0488, -4.1754, -4.2084, -4.263, -4.2724, -4.2833, -4.2968, -4.3385, -4.4216, -4.4267, -4.4424, -4.4734, -4.4779, -4.5347, -4.5803, -4.6513, -4.725, -4.7736, -4.9628, -4.9746, -5.0217, -5.0688, -5.069, -5.0826, -1.4752, -2.8905, -3.3965, -3.5881, -3.7408, -3.8054, -4.0075, -4.126, -4.1371, -4.2059, -4.2554, -4.2671, -4.3487, -4.4946, -4.7045, -4.9294, -5.0241, -5.0552, -5.1538, -5.1608, -5.1704, -5.2499, -5.3704, -5.475, -5.6136, -5.6503, -5.6647, -5.6692, -5.8513, -5.9081, -3.7366, -4.9183, -2.8791, -3.0127, -3.4814, -3.4945, -3.5719, -3.8485, -3.8802, -4.0115, -4.1493, -4.2346, -4.3718, -4.3743, -4.4166, -4.4439, -4.5138, -4.5736, -4.664, -4.7335, -4.7372, -4.7431, -4.7948, -4.871, -4.9394, -4.9701, -4.9713, -5.1054, -5.1778, -5.2425, -5.2524, -5.3047, -3.6464, -3.7896, -2.7311, -2.8867, -2.9288, -3.5354, -3.7808, -3.7812, -4.0384, -4.1006, -4.1941, -4.2265, -4.2994, -4.3086, -4.314, -4.3562, -4.441, -4.6136, -4.6714, -4.7173, -4.7209, -4.7468, -4.795, -4.8483, -4.9105, -4.9191, -4.9346, -4.9603, -4.9637, -4.9664, -5.1043, -5.139, -4.6077, -5.0166], \"loglift\": [30.0, 29.0, 28.0, 27.0, 26.0, 25.0, 24.0, 23.0, 22.0, 21.0, 20.0, 19.0, 18.0, 17.0, 16.0, 15.0, 14.0, 13.0, 12.0, 11.0, 10.0, 9.0, 8.0, 7.0, 6.0, 5.0, 4.0, 3.0, 2.0, 1.0, 2.7524, 2.7522, 2.7518, 2.7518, 2.7517, 2.7513, 2.7511, 2.751, 2.7504, 2.7501, 2.7482, 2.7481, 2.7472, 2.7463, 2.746, 2.7454, 2.7451, 2.745, 2.7444, 2.7441, 2.744, 2.7435, 2.7424, 2.7422, 2.7419, 2.7412, 2.741, 2.7405, 2.7405, 2.7386, 2.4375, 2.3476, 1.0434, 2.7604, 2.7604, 2.7603, 2.7596, 2.7594, 2.7591, 2.7583, 2.7582, 2.758, 2.7579, 2.7578, 2.7578, 2.7574, 2.7573, 2.7572, 2.7571, 2.7569, 2.7568, 2.7567, 2.7564, 2.7563, 2.756, 2.7558, 2.7549, 2.7548, 2.7547, 2.7546, 2.7545, 2.7544, 2.7543, 2.5442, 2.5623, 2.5236, 2.4724, 1.6384, 1.6576, 1.431, 2.7909, 2.7904, 2.7904, 2.7903, 2.7903, 2.79, 2.7898, 2.7894, 2.789, 2.7887, 2.7884, 2.7882, 2.7879, 2.7877, 2.7873, 2.7868, 2.7867, 2.7863, 2.7853, 2.7851, 2.7851, 2.7851, 2.7847, 2.7847, 2.7843, 2.784, 2.7837, 2.7833, 2.7832, 2.7831, 2.3542, 2.6237, 1.4256, 1.1302, 1.3096, 1.2617, 2.8225, 2.821, 2.8209, 2.8207, 2.8201, 2.8191, 2.8188, 2.8186, 2.8181, 2.8175, 2.816, 2.8157, 2.8151, 2.815, 2.8148, 2.8148, 2.8135, 2.8132, 2.8129, 2.8125, 2.8117, 2.8114, 2.8112, 2.8111, 2.8108, 2.8107, 2.8106, 2.8105, 2.8102, 2.8093, 2.6498, 2.5745, 1.3615, 2.834, 2.8339, 2.8339, 2.8334, 2.8334, 2.8334, 2.8331, 2.833, 2.8328, 2.8322, 2.8318, 2.8318, 2.8317, 2.8314, 2.8314, 2.8313, 2.8309, 2.8309, 2.8308, 2.8303, 2.8303, 2.8301, 2.8297, 2.829, 2.8289, 2.8287, 2.8283, 2.828, 2.8277, 2.8276, 2.3721, 2.6336, 1.3143, 1.16, 2.9165, 2.9161, 2.9153, 2.9153, 2.9152, 2.9151, 2.9149, 2.9148, 2.9147, 2.9132, 2.9132, 2.9131, 2.9131, 2.9127, 2.9127, 2.9123, 2.9123, 2.912, 2.9116, 2.9113, 2.9111, 2.9109, 2.9093, 2.909, 2.909, 2.9089, 2.9085, 2.9082, 2.9066, 2.9065, 2.6709, 2.6472, 2.6334, 1.6051, 1.5945, 2.9292, 2.9291, 2.9286, 2.9286, 2.9283, 2.9277, 2.9277, 2.9275, 2.9271, 2.9266, 2.9265, 2.9259, 2.9257, 2.9256, 2.9256, 2.9255, 2.9254, 2.9253, 2.9252, 2.9251, 2.9249, 2.9241, 2.9237, 2.9236, 2.9235, 2.923, 2.9221, 2.9221, 2.9213, 2.921, 2.4139, 1.215, 2.9372, 2.937, 2.9364, 2.9363, 2.9348, 2.9344, 2.9344, 2.9338, 2.9332, 2.9332, 2.9331, 2.9329, 2.9322, 2.9322, 2.9314, 2.931, 2.9307, 2.9303, 2.9297, 2.9295, 2.9293, 2.929, 2.9288, 2.9284, 2.9282, 2.928, 2.9279, 2.9278, 2.9276, 2.9276, 2.7905, 2.576, 2.076, 2.3792, 2.9782, 2.9781, 2.9777, 2.9774, 2.9772, 2.9767, 2.9766, 2.9764, 2.9764, 2.9764, 2.9764, 2.9759, 2.9759, 2.9758, 2.9757, 2.9756, 2.9756, 2.975, 2.9749, 2.9749, 2.9749, 2.9748, 2.9744, 2.9743, 2.9739, 2.9738, 2.9736, 2.9729, 2.9728, 2.9727, 3.0142, 3.0136, 3.0127, 3.0122, 3.012, 3.0118, 3.0117, 3.0117, 3.0117, 3.0104, 3.0097, 3.0089, 3.0084, 3.0082, 3.0081, 3.0079, 3.0079, 3.0069, 3.0063, 3.0062, 3.0056, 3.005, 3.0046, 3.0045, 3.0042, 3.0039, 3.0035, 3.0033, 3.0028, 3.0025, 2.7557, 2.686, 1.776, 1.3791, 1.5652, 1.8144, 3.0182, 3.0178, 3.0174, 3.0174, 3.0173, 3.0173, 3.0162, 3.0159, 3.0158, 3.0156, 3.0153, 3.0152, 3.0152, 3.015, 3.0148, 3.0145, 3.0144, 3.0143, 3.014, 3.0128, 3.0127, 3.0122, 3.0117, 3.0116, 3.0111, 3.0111, 3.0111, 3.0105, 3.0101, 3.0097, 2.658, 3.0274, 3.0273, 3.0255, 3.0246, 3.0244, 3.0237, 3.0234, 3.0209, 3.0194, 3.0192, 3.019, 3.0178, 3.0167, 3.0167, 3.016, 3.0147, 3.0139, 3.0128, 3.0127, 3.0111, 3.011, 3.011, 3.01, 3.0096, 3.0076, 3.0074, 3.0047, 3.0044, 3.0038, 3.0011, 2.4778, 1.4496, 1.5417, 1.2691, 1.0309, 3.0678, 3.0676, 3.0676, 3.0676, 3.0674, 3.0672, 3.0671, 3.0669, 3.0662, 3.0661, 3.0659, 3.0659, 3.0653, 3.0652, 3.0652, 3.0645, 3.0643, 3.0641, 3.0638, 3.0632, 3.063, 3.0629, 3.0629, 3.0625, 3.0618, 3.0616, 3.0615, 3.061, 3.0609, 3.0601, 2.7598, 2.6732, 3.0818, 3.0817, 3.0809, 3.0808, 3.0806, 3.0802, 3.0802, 3.0801, 3.08, 3.0799, 3.0799, 3.0798, 3.0798, 3.0797, 3.0796, 3.0794, 3.0793, 3.0793, 3.0793, 3.0792, 3.0789, 3.0787, 3.078, 3.0772, 3.0772, 3.077, 3.077, 3.0769, 3.0766, 3.0764, 2.5997, 1.8061, 3.0915, 3.0913, 3.0904, 3.0899, 3.0896, 3.0895, 3.0895, 3.0895, 3.0895, 3.0891, 3.089, 3.0887, 3.0886, 3.0885, 3.0884, 3.088, 3.0878, 3.0875, 3.0875, 3.0874, 3.0873, 3.0871, 3.087, 3.0867, 3.0859, 3.0855, 3.0853, 3.0847, 3.0847, 3.0846, 2.8346, 2.8264, 3.1458, 3.1458, 3.1454, 3.1453, 3.1453, 3.1447, 3.1446, 3.1443, 3.1435, 3.1435, 3.1432, 3.1431, 3.143, 3.1428, 3.1423, 3.1423, 3.1421, 3.1416, 3.1416, 3.1415, 3.1413, 3.1407, 3.1394, 3.1391, 3.1388, 3.1381, 3.1378, 3.1368, 3.136, 3.1358, 2.803, 2.5273, 2.4761, 1.7839, 3.198, 3.1978, 3.1971, 3.1968, 3.1965, 3.196, 3.1956, 3.1952, 3.1951, 3.1949, 3.1948, 3.1948, 3.1947, 3.1946, 3.1942, 3.1942, 3.1941, 3.194, 3.1939, 3.1937, 3.1934, 3.193, 3.1926, 3.1923, 3.191, 3.1909, 3.1905, 3.1901, 3.1901, 3.19, 3.2397, 3.239, 3.2383, 3.2379, 3.2376, 3.2374, 3.2369, 3.2365, 3.2364, 3.2362, 3.236, 3.2359, 3.2356, 3.2349, 3.2337, 3.2322, 3.2314, 3.2311, 3.2302, 3.2301, 3.23, 3.2292, 3.2278, 3.2265, 3.2245, 3.2239, 3.2237, 3.2236, 3.2204, 3.2193, 2.9422, 2.7949, 3.2768, 3.2767, 3.2759, 3.2759, 3.2758, 3.2751, 3.275, 3.2746, 3.2741, 3.2738, 3.2732, 3.2732, 3.273, 3.2728, 3.2725, 3.2721, 3.2716, 3.2712, 3.2711, 3.2711, 3.2707, 3.2702, 3.2696, 3.2694, 3.2694, 3.2682, 3.2674, 3.2667, 3.2666, 3.266, 2.9657, 2.9319, 3.2871, 3.287, 3.2869, 3.286, 3.2854, 3.2854, 3.2847, 3.2844, 3.2841, 3.284, 3.2837, 3.2836, 3.2836, 3.2834, 3.283, 3.282, 3.2817, 3.2814, 3.2814, 3.2812, 3.2808, 3.2805, 3.28, 3.2799, 3.2798, 3.2796, 3.2795, 3.2795, 3.2782, 3.2779, 2.5592, 2.9327]}, \"token.table\": {\"Topic\": [1, 6, 17, 9, 7, 7, 19, 8, 20, 19, 16, 20, 16, 13, 14, 12, 13, 3, 18, 18, 20, 18, 14, 6, 2, 16, 14, 1, 4, 11, 16, 12, 11, 4, 19, 8, 1, 11, 18, 9, 20, 11, 10, 15, 19, 14, 2, 13, 11, 7, 17, 15, 2, 3, 6, 13, 1, 10, 4, 11, 5, 8, 6, 10, 20, 20, 3, 5, 1, 19, 2, 3, 20, 4, 7, 10, 19, 19, 15, 19, 10, 20, 17, 4, 13, 1, 15, 5, 1, 4, 18, 7, 5, 2, 20, 8, 1, 12, 18, 8, 3, 5, 20, 17, 5, 6, 15, 3, 10, 5, 2, 15, 4, 10, 7, 2, 6, 11, 11, 1, 13, 20, 2, 20, 20, 4, 10, 17, 16, 14, 8, 15, 9, 9, 6, 18, 5, 19, 18, 5, 10, 14, 11, 14, 10, 14, 19, 8, 19, 8, 7, 6, 2, 13, 7, 17, 10, 2, 2, 15, 7, 5, 12, 13, 1, 8, 12, 13, 7, 3, 1, 6, 3, 9, 19, 1, 1, 8, 18, 9, 1, 10, 14, 16, 6, 6, 16, 3, 1, 10, 20, 4, 17, 15, 1, 4, 20, 16, 7, 2, 1, 1, 5, 10, 14, 13, 6, 12, 1, 4, 9, 2, 17, 18, 18, 14, 7, 20, 18, 20, 17, 11, 2, 1, 18, 13, 11, 4, 16, 17, 7, 15, 6, 5, 11, 2, 5, 8, 15, 5, 9, 9, 4, 4, 6, 11, 9, 6, 13, 5, 19, 11, 13, 6, 18, 10, 18, 9, 14, 4, 18, 19, 20, 14, 6, 10, 16, 15, 19, 14, 7, 2, 3, 4, 10, 17, 7, 11, 9, 15, 5, 4, 15, 14, 13, 3, 11, 6, 9, 11, 2, 10, 13, 12, 1, 7, 14, 20, 15, 3, 12, 16, 12, 5, 18, 5, 3, 5, 7, 16, 9, 12, 12, 4, 6, 10, 5, 9, 18, 14, 17, 5, 2, 6, 4, 6, 3, 12, 19, 16, 11, 16, 18, 3, 3, 3, 18, 14, 20, 9, 4, 15, 9, 4, 7, 15, 8, 5, 13, 5, 20, 5, 2, 4, 5, 1, 10, 5, 7, 1, 7, 12, 8, 9, 12, 9, 13, 17, 2, 6, 17, 19, 9, 13, 15, 17, 17, 20, 2, 15, 16, 4, 12, 7, 16, 11, 13, 14, 9, 15, 20, 18, 20, 18, 12, 6, 8, 13, 8, 14, 8, 19, 19, 19, 6, 7, 2, 8, 13, 8, 2, 17, 16, 7, 17, 13, 8, 3, 2, 3, 2, 16, 7, 10, 10, 15, 8, 5, 2, 11, 1, 6, 13, 17, 8, 6, 15, 3, 7, 10, 5, 4, 4, 17, 11, 1, 16, 2, 19, 8, 10, 5, 10, 16, 8, 10, 10, 8, 12, 6, 15, 13, 3, 13, 5, 12, 19, 15, 5, 8, 18, 3, 12, 3, 3, 14, 3, 3, 2, 7, 9, 6, 7, 20, 6, 18, 14, 20, 17, 6, 15, 13, 2, 7, 9, 14, 16, 10, 10, 20, 15, 19, 5, 15, 10, 15, 20, 9, 7, 13, 7, 3, 6, 9, 11, 8, 11, 11, 13, 14, 13, 12, 11, 7, 5, 13, 17, 8, 15, 11, 12, 17, 12, 20, 17, 15, 13, 17, 14, 3, 14, 17, 12, 14, 10, 14, 3, 4, 17, 16, 4, 12, 16, 8, 12, 11, 12, 18, 1, 19, 18, 16, 14, 3, 8, 4, 12, 15, 3, 12, 16, 18, 14, 16, 2, 9, 19, 13, 8, 3, 19, 3, 9, 15, 19, 2, 9, 4, 9, 9, 20, 4, 4, 12, 9, 18, 5, 12, 10, 8, 2, 11, 13, 3, 1, 12, 14, 17, 19, 12, 6, 4, 18, 10, 16, 9, 19, 9, 6, 3, 12, 10, 10, 1, 3, 12, 8, 19, 2, 6, 19, 14, 5, 7, 14, 8, 16, 2, 16, 18, 16, 2, 10, 20, 6, 4, 11, 1, 2, 2, 1, 1, 3, 20, 16, 11, 5, 3, 16, 17, 18, 18, 9, 15, 12, 9, 19, 8, 6, 7, 2, 1, 16, 2, 11, 17, 2, 6, 16, 3, 1], \"Freq\": [0.9998466369648212, 0.9997298621893971, 0.999072104533132, 0.9983145447976463, 0.9969664291064105, 0.9935915181360105, 0.9905214327827574, 0.9905826716308335, 0.9919796462793923, 0.9934567322717663, 0.9876284049087978, 0.9988683722132058, 0.9973398320940874, 0.9989488626788743, 0.9980456556216893, 0.9879099954798797, 0.9987020651215418, 0.99587869848752, 0.9902458448580628, 0.9978742669625965, 0.9966745467541709, 0.9887848204642936, 0.9945543718745636, 0.9918519911820886, 0.9964370017562145, 0.9991656979823766, 0.9972089086436623, 0.9880556142827005, 0.9932530531491972, 0.9963160250331239, 0.9951041667394616, 0.9970803658831529, 0.9942307027689075, 0.9888664828105226, 0.989341055683829, 0.994690270211994, 0.994633028745059, 0.9978097127855572, 0.9912629340481297, 0.9974624996759912, 0.9907602971810577, 0.9968927663373569, 0.9906099461349414, 0.9967201102632512, 0.9972966594551226, 0.9973814709954176, 0.3257590627769136, 0.6734105356866842, 0.995233796511741, 0.9965052801384453, 0.9895416433949913, 0.9906050492532765, 0.99375391298763, 0.9936971849872156, 0.9923674306103282, 0.9982222830578031, 0.9907246974056663, 0.9893100987941168, 0.9922922429726855, 0.9974143499859975, 0.9968631622606798, 0.9952421377134152, 0.9954932542518848, 0.9950384104437949, 0.998288030533128, 0.9930522314545112, 0.9924970924893408, 0.9970552946548213, 0.990307815630249, 0.9973335605255408, 0.7501829042599911, 0.24888421058978527, 0.9989132700882329, 0.994936635551532, 0.9957130112382664, 0.9922107859826809, 0.9955445722892774, 0.9954388244190503, 0.9938828767321425, 0.9923815025177732, 0.9945370570562799, 0.9970551584561433, 0.9935116149712672, 0.9894706443066363, 0.9915997010863179, 0.9885962959781637, 0.9937137082751638, 0.9958578635114582, 0.9924053189831598, 0.9983465728829777, 0.9829575402433425, 0.9960791156763328, 0.9928189079323209, 0.996745888461069, 0.9958111968459534, 0.994336386995285, 0.9890958160901834, 0.9829132885856805, 0.9864467352822642, 0.9937221518968602, 0.2712144152372402, 0.24517783137446517, 0.4816768014613386, 0.9927881652863748, 0.9951072218741628, 0.9967006891669505, 0.9939999815789586, 0.22738606260972086, 0.7722120740112303, 0.9989709373102638, 0.7888890032438817, 0.2093536722141057, 0.9893574168786541, 0.9973659561644552, 0.9985720987204558, 0.9969156237955532, 0.9989317470712948, 0.9908539713309377, 0.9970944418829539, 0.9931713909165681, 0.9966834221146478, 0.9946201840195618, 0.9983353348368953, 0.9896473760310925, 0.9878300151048867, 0.994773432954943, 0.988214652264392, 0.9953476587841089, 0.9961680068605585, 0.9963995004457952, 0.9919238317643541, 0.9955846871673454, 0.993012062791399, 0.996612695291397, 0.994065137295303, 0.9872952591185883, 0.9975309736529113, 0.9904033575768953, 0.9947236956748098, 0.18736977888192655, 0.19460723815204387, 0.6167923622422217, 0.9953849586147118, 0.9982728118453252, 0.9926469914685342, 0.9981499673256676, 0.9963385117886855, 0.9910578961169493, 0.9982533700843819, 0.9995624076353624, 0.99667926508967, 0.9890093260008492, 0.26425810014316625, 0.7340502781754618, 0.9975864471094175, 0.9898452450228913, 0.9946931589486838, 0.9994057449652081, 0.9948640112370529, 0.9968353306954488, 0.998856681110602, 0.9969043490913957, 0.99545502411257, 0.9986990167001695, 0.9890936620411538, 0.4225060049473631, 0.5771138805747894, 0.9909767023148043, 0.9996673419722704, 0.9927037626963792, 0.9989696995621863, 0.9945414806971868, 0.9908488522492662, 0.9978185932621929, 0.9952754848257045, 0.9989792663226116, 0.9891669492884662, 0.9927762555701598, 0.9997440808343492, 0.9982995458862215, 0.9956967277721804, 0.9988480309220327, 0.9924939636332895, 0.9985927206000657, 0.9967445258579227, 0.9962689514928807, 0.9889997686124467, 0.999567978677685, 0.9930662119136131, 0.9951608144484841, 0.9961040987220338, 0.9999202417363032, 0.9966369275438943, 0.9991137631628231, 0.9974819151361437, 0.9957066896352443, 0.9934588018337288, 0.9980214510903453, 0.9951817129544146, 0.9969309398319837, 0.9994486206446721, 0.9996459848074231, 0.9964155760795813, 0.9937902662234444, 0.9985753043065516, 0.9941879657891072, 0.9971758246128597, 0.978302034646329, 0.9836063525200898, 0.8411005799061957, 0.1571286797626959, 0.9975971294451577, 0.9961038525581725, 0.9862539397203244, 0.9895890477628065, 0.9960734937809527, 0.9952076722013246, 0.9892982051256451, 0.9913659128404649, 0.9952063732286056, 0.9951193567616523, 0.9953875665718378, 0.9953431228649159, 0.992344565652038, 0.9972777757465361, 0.9927009492922764, 0.9926168314488725, 0.9895387709302161, 0.9952057273982833, 0.9936655070611841, 0.9972500783730922, 0.9933248474453759, 0.9976006919774868, 0.9976429762735587, 0.9986259386925327, 0.17807131232294923, 0.24769317879507974, 0.5717026342999949, 0.9937456538454219, 0.9985047863779263, 0.9965701655175652, 0.9959969768650961, 0.9962003422560713, 0.9988926334905937, 0.9955849650986592, 0.9958175508205825, 0.9956708988377974, 0.998868933557552, 0.9972948520767707, 0.9976197415179663, 0.9979914829453445, 0.9989231989827726, 0.9925369193201933, 0.9965157592383155, 0.9987656516815336, 0.9877815325412143, 0.996430610748352, 0.9969067839582941, 0.9967451574008812, 0.991985051579673, 0.9976704442208764, 0.9896501787595012, 0.9966711097409181, 0.9975895366330005, 0.7634869212201253, 0.23528102348848237, 0.9956448525227825, 0.9910008342043328, 0.9921830437841201, 0.997994297658047, 0.9977583666821971, 0.9959238296264048, 0.9963650568230935, 0.9928785793997982, 0.9919112153025302, 0.9951272890450594, 0.9916051279388106, 0.9991593331242955, 0.9975370192785452, 0.997625806158148, 0.9975516957290355, 0.2319462107803567, 0.7668167077711247, 0.9975383176240206, 0.9946885628410589, 0.2991905948034805, 0.6981113878747878, 0.9993703383999596, 0.9978319788103012, 0.9969335401425649, 0.9977149127866288, 0.9883141936794222, 0.9983035249647073, 0.9904332463778067, 0.9940100876940504, 0.99163212030391, 0.9971998698260421, 0.9920595922765955, 0.9941701474912237, 0.25528347152839215, 0.2064941641228866, 0.5380994982731693, 0.99982383010313, 0.9933176275577439, 0.9972304336043094, 0.9992357270653107, 0.18987975809631774, 0.6297388307506318, 0.18000833336348165, 0.9932199676756498, 0.9958910029117145, 0.991512689852832, 0.9959980622303757, 0.9984097095605194, 0.9889870554943336, 0.9933960485966581, 0.9966465113253468, 0.9953585085099427, 0.9765652701090827, 0.9938771461240004, 0.9941214502994958, 0.9956382032803535, 0.8196727777429165, 0.17759576851096523, 0.985727061919142, 0.9968267321003978, 0.997504815823591, 0.9996497153284973, 0.9963606515962982, 0.9976920744608403, 0.9903940272881109, 0.9926933177991655, 0.9983330053932771, 0.9960316491170534, 0.9940957001248195, 0.9994013704238421, 0.9970469276960603, 0.9960092241374908, 0.9906390367513055, 0.9914344902765565, 0.9876491634350741, 0.9941921915410059, 0.9958534898718165, 0.9924989995308947, 0.9989119130942403, 0.9965100341241979, 0.9875969821364887, 0.8180346596696306, 0.18092638030500338, 0.998700759476523, 0.9955340867767012, 0.9941281611930597, 0.996983501064296, 0.7800224976263505, 0.21843890215659553, 0.989590603726195, 0.9982174241069732, 0.993998897533185, 0.9993976509365718, 0.9993872172767616, 0.991888180927612, 0.9865675206098837, 0.9987221256079962, 0.9988789017684209, 0.9814389098434488, 0.9928761173496796, 0.9989500857400535, 0.998122479082615, 0.9980060258342321, 0.9941824943790905, 0.995093526867246, 0.9986728449872064, 0.9966234811464987, 0.9945279758236625, 0.9973288140061939, 0.9974345021381296, 0.9959000899635265, 0.9955517073135396, 0.9926557090125092, 0.9957719419274005, 0.9987228160488025, 0.9885127958899009, 0.9851064281003123, 0.9950318622144515, 0.9936363956664742, 0.996870840515017, 0.9977649607771344, 0.9980610124458019, 0.9965614024779036, 0.9972838875442055, 0.9989964587781845, 0.989275950574639, 0.9967831186664441, 0.995982471852955, 0.9819728924781004, 0.994050452898211, 0.991362738558097, 0.9930377665117832, 0.9941535471173035, 0.9955691221833438, 0.9931337294473439, 0.998234644932208, 0.9922550105311315, 0.9911893573928704, 0.7536571791038146, 0.2446938893194203, 0.9956207642091703, 0.9910612062542995, 0.997318229669011, 0.9926291093956243, 0.9912704930151329, 0.9957789986000632, 0.9931238560851969, 0.9962890427786337, 0.9966570541937785, 0.9956521886366664, 0.9955565798346209, 0.9947754264923216, 0.9989241062259034, 0.9914868807958394, 0.4859687524764847, 0.5119185402300834, 0.9971885395774464, 0.990732524062524, 0.9978869418270414, 0.9962161293251774, 0.9901925199983262, 0.9984794282566556, 0.9958756470089735, 0.9995473966557052, 0.7298951394138724, 0.2690566298320627, 0.9992945768163516, 0.9980837845399346, 0.9997716970948235, 0.9981429783521125, 0.9972332360698132, 0.9991366259236746, 0.9996767494654308, 0.9916757409567815, 0.9953594199902267, 0.9975749947915679, 0.9905328199975421, 0.996395152587266, 0.9969444220372115, 0.992972798906442, 0.9969361311341656, 0.9966209948983047, 0.9892216018725343, 0.9984879398956371, 0.9975070542881437, 0.997864822527927, 0.2900687850493177, 0.7093859062940797, 0.6968500781926502, 0.30110805847830563, 0.9963865521920128, 0.9970629095222117, 0.9972303295624433, 0.9934021934926512, 0.9974003295696072, 0.992823677272905, 0.9980562760359692, 0.9966267751551239, 0.9988518702003509, 0.9858967890983521, 0.9986352241711006, 0.9979428620486391, 0.9944301840608892, 0.9919225978544556, 0.9810622210367053, 0.9988290478523648, 0.9866999661530172, 0.9991045493077791, 0.9972972823586042, 0.9963099246984646, 0.9932664943273882, 0.9991330648375171, 0.9964894546064371, 0.9963685496173774, 0.9982481099466417, 0.9980814287137099, 0.993281436362403, 0.9937545074875672, 0.3559552375183302, 0.6407194275329943, 0.29414963717101256, 0.7021636500211267, 0.9948803590700568, 0.9981814229973894, 0.9957395055936908, 0.9965698874105199, 0.2541005120877442, 0.5967263638705735, 0.1475422328251418, 0.99728593914619, 0.9906625262546113, 0.9976818148271369, 0.9945564512335928, 0.9895530868668846, 0.9969424169558421, 0.9914782229949646, 0.991224986867544, 0.995912075627241, 0.9977052256713442, 0.9960612384040815, 0.9973057789965497, 0.9977568597882099, 0.9972232717250692, 0.9987852838311729, 0.9946515709682817, 0.217008499214291, 0.7824531802656126, 0.9990169551810653, 0.9908914543493228, 0.9912747982316715, 0.9901644757148593, 0.9918247529888012, 0.99692557174902, 0.9929462405300856, 0.991059749661834, 0.9978387417924481, 0.9928349968044345, 0.9968809054747778, 0.9991580365797149, 0.9938072708969579, 0.9892857846362983, 0.9871656364482543, 0.9953309760927738, 0.9972474853743906, 0.9899700435742865, 0.9955255127292191, 0.9770386460133937, 0.990340229643073, 0.9973267121613735, 0.9908874643976348, 0.9980646650168893, 0.9895101982233507, 0.9938382701408456, 0.9937383893820615, 0.9958917006154152, 0.9959559042884465, 0.9925792659941802, 0.9984596868026198, 0.7196145047545485, 0.27905145307755697, 0.9978897581613316, 0.9983514225303349, 0.98939806382056, 0.993816403113207, 0.9928341285838949, 0.9846294526435913, 0.9942603168341928, 0.8629754366901439, 0.13576517330355403, 0.9989925973106881, 0.9903212365431375, 0.9808249080660544, 0.998970199673957, 0.9952406336702242, 0.9939493500332344, 0.9884706195870498, 0.997259158791108, 0.9961524896505699, 0.9971887737116133, 0.9916013923632426, 0.22638283936981007, 0.7723649813793521, 0.9990166039830035, 0.9911157144059293, 0.25568396401539817, 0.743081520419751, 0.9972361790627907, 0.9984903883092745, 0.9969083896612311, 0.9917793438093205, 0.9894054880169068, 0.9958927851090161, 0.9971789725438107, 0.9911613856617517, 0.9883434736725797, 0.8462882962654422, 0.15153135034482582, 0.9985385279051274, 0.9928648342711388, 0.8053135505570138, 0.19283863635326084, 0.99068477500096, 0.9980662353011385, 0.9989025522799709, 0.9953106668882641, 0.9965189024359568, 0.9901305099812073, 0.976296878708802, 0.9961595899998588, 0.992331011297352, 0.9936778036389188, 0.9731667228162019, 0.9885849254241506, 0.9951467439803209, 0.9949171758147781, 0.9920952199400819, 0.9991319155771731, 0.9930440228340012, 0.99725538027946, 0.9900291886664487, 0.99668948686389, 0.9985568738273687, 0.9943550602779638, 0.9775426430727767, 0.9905930366544741, 0.992190061770275, 0.9963612648999676, 0.9967433432526609, 0.9912663180212936, 0.29046523415427083, 0.7074009769594443, 0.9983798825783233, 0.9950322480738767, 0.9928241924565474, 0.9801575035342148, 0.9997851546516899, 0.9956524027840432, 0.18077530286586652, 0.6461999715141767, 0.17216695511034905, 0.9938037491268941, 0.9938661570952994, 0.9997146835475458, 0.2665975684587109, 0.7312746387161837, 0.9928452816038351, 0.9994305934684342, 0.9963190759406476, 0.9958679138195151, 0.9960539025988255, 0.9978116852976056, 0.993955033805527, 0.9969577030265774, 0.99465809432956, 0.9915898330246966, 0.993368634509594, 0.9945994903054419, 0.9958905425439505, 0.9954268555971001, 0.9969670971817509, 0.9925605386208726, 0.6671667656254862, 0.33171978849535344, 0.9958643782084633, 0.9987083849090415, 0.9931888906560989, 0.9939635909509903, 0.9926742807835905, 0.9932763638983602, 0.9955769579388304, 0.9979214845732073, 0.9977028761318979, 0.9947217097127814, 0.9950606241513577, 0.9907617707037698, 0.9966165351430266, 0.997113955272866, 0.993888459847379, 0.9856310423749222, 0.9941541166385437, 0.997165874888439, 0.997012460063131, 0.992867951033449, 0.9938275267294354, 0.9985747203325451, 0.9961358834467928, 0.9986359963026882, 0.9947025858767929, 0.9996753006033994, 0.9992060860335154, 0.9994761426530677, 0.9977976650046197, 0.9959982370347226, 0.9968511270548839, 0.9914976802030961], \"Term\": [\"..\", \"...\", \"....\", \".....\", \"1\\uc2dc\\uac04\", \"1\\uc778\", \"20\\ubd84\", \"2\\uc2dc\\uac04\", \"30\\ubd84\", \"50\\ubd84\", \"90\\ubd84\", \"^^\", \"~~\", \"\\u314b\\u314b\", \"\\u314b\\u314b\\u314b\", \"\\u314b\\u314b\\u314b\\u314b\\u314b\", \"\\u314e\\u314e\\u314e\", \"\\u314e\\u314e\\u314e\\u314e\", \"\\u314e\\u314e\\u314e\\u314e\\u314e\", \"\\u315c\\u315c\", \"\\u3160\\u3160\\u3160\", \"\\u3160\\u3160\\u3160\\u3160\", \"\\uac00\\uaca9\\uc5d0\", \"\\uac00\\uaca9\\uc774\", \"\\uac00\\ub054\", \"\\uac00\\uc131\\ube44\", \"\\uac00\\uc7a5\", \"\\uac00\\uc838\\ub2e4\", \"\\uac04\\ub3c4\", \"\\uac04\\ub9cc\\uc5d0\", \"\\uac04\\uc774\", \"\\uac04\\uc7a5\", \"\\uac04\\uc7a5\\uce58\\ud0a8\", \"\\uac10\\uc0ac\\ub4dc\\ub9bd\\ub2c8\\ub2e4\", \"\\uac10\\uc0ac\\ud569\\ub2c8\\ub2e4^^\", \"\\uac10\\uc0ac\\ud569\\ub2c8\\ub2e4~\", \"\\uac10\\uc0ac\\ud569\\ub2c8\\ub2f9\", \"\\uac10\\uc0ac\\ud574\\uc694\", \"\\uac10\\uc0ac\\ud588\\uc2b5\\ub2c8\\ub2e4\", \"\\uac10\\uc0ac\\ud788\", \"\\uac10\\uc790\", \"\\uac15\\ucd94\", \"\\uac19\\uace0\", \"\\uac19\\ub124\\uc694\", \"\\uac19\\uc2b5\\ub2c8\\ub2e4\", \"\\uac19\\uc740\", \"\\uac19\\uc774\", \"\\uac19\\uc774\", \"\\uac1c\\uc778\\uc801\\uc73c\\ub85c\", \"\\uac70\\uc758\", \"\\uac78\\ub824\\uc11c\", \"\\uac78\\ub838\\uc9c0\\ub9cc\", \"\\uac83\\ub3c4\", \"\\uac89\\ubc14\\uc18d\\ucd09\", \"\\uac89\\uc740\", \"\\uacc4\\uc18d\", \"\\uace0\\uc18c\\ud558\\uace0\", \"\\uace8\\uace0\\ub8e8\", \"\\uad1c\\ucc2e\\uace0\", \"\\uad1c\\ucc2e\\ub124\\uc694\", \"\\uad1c\\ucc2e\\uc544\\uc694\", \"\\uad1c\\ucc2e\\uc558\\uc5b4\\uc694\", \"\\uad49\\uc7a5\\ud788\", \"\\uad73\\uad73\", \"\\uad7f\\uad7f\", \"\\uad7f\\uc785\\ub2c8\\ub2e4\", \"\\uadf8\\ub300\\ub85c\", \"\\uadf8\\ub798\\uc11c\", \"\\uadf8\\ub7f0\\uac00\", \"\\uadf8\\ub7f0\\ub370\", \"\\uadf8\\ub7f0\\uc9c0\", \"\\uadf8\\ub7f0\\uc9c0\", \"\\uadf8\\ub9ac\\uace0\", \"\\uae08\\ubc29\", \"\\uae09\\ud558\\uac8c\", \"\\uae30\\ub984\", \"\\uae30\\ub984\\ub3c4\", \"\\uae30\\ub984\\uc774\", \"\\uae30\\ubd84\", \"\\uae30\\ubd84\\uc774\", \"\\uae54\\ub054\\ud558\\uac8c\", \"\\uae54\\ub054\\ud558\\uace0\", \"\\uae68\\ub057\\ud558\\uace0\", \"\\uaecd\\uc9c8\\uc774\", \"\\uafc0\\ub9db\", \"\\ub098\\uace0\", \"\\ub098\\uc11c\", \"\\ub098\\uc911\\uc5d0\", \"\\ub108\\ubb34\\ub098\", \"\\ub108\\ubb34\\ub108\\ubb34\", \"\\ub108\\ubb34\\ub9db\\uc788\\uace0\", \"\\ub108\\ubb34\\ub9db\\uc788\\uc5b4\\uc694\", \"\\ub109\\ub109\\ud788\", \"\\ub118\\uac8c\", \"\\ub118\\ub098\", \"\\ub118\\ub118\", \"\\ub205\\ub205\\ud558\\uace0\", \"\\ub205\\ub205\\ud574\\uc11c\", \"\\ub290\\ub07c\\ud574\\uc11c\", \"\\ub290\\ub08c\\uc774\", \"\\ub2a6\\uac8c\", \"\\ub2a6\\uac8c\", \"\\ub2a6\\uac8c\", \"\\ub2a6\\uc5b4\\uc11c\", \"\\ub2a6\\uc5c8\\uc9c0\\ub9cc\", \"\\ub2a6\\uc740\", \"\\ub2e4\\ub4e4\", \"\\ub2e4\\ub978\", \"\\ub2e4\\ub978\", \"\\ub2e4\\ub9cc\", \"\\ub2e4\\uc2dc\", \"\\ub2e4\\uc2dc\", \"\\ub2e4\\uc2e0\", \"\\ub2e4\\uc74c\\uc5d0\\ub294\", \"\\ub2e4\\uc74c\\uc5d0\\ub3c4\", \"\\ub2ed\\ub3c4\", \"\\ub2ed\\uc774\", \"\\ub2f4\\ubc31\\ud558\\uace0\", \"\\ub2f4\\uc5d0\", \"\\ub2f4\\uc5d0\\ub3c4\", \"\\ub2f4\\uc5d4\", \"\\ub300\\ubc15\", \"\\ub355\\ubd84\\uc5d0\", \"\\ub3c4\\ucc29\", \"\\ub3d9\\ub124\", \"\\ub418\\uac8c\", \"\\ub450\\uace0\", \"\\ub450\\ub9c8\\ub9ac\", \"\\ub450\\ubc88\\uc9f8\", \"\\ub458\\ub2e4\", \"\\ub4dc\\uc138\\uc694\", \"\\ub4e4\\uc5b4\\uc8fc\\uc154\\uc11c\", \"\\ub4e4\\uc5b4\\uc8fc\\uc2dc\\uace0\", \"\\ub530\\ub73b\\ud558\\uac8c\", \"\\ub530\\ub73b\\ud558\\uace0\", \"\\ub530\\ub73b\\ud574\\uc11c\", \"\\ub530\\ub85c\", \"\\ub54c\\ubb38\\uc5d0\", \"\\ub561\\uaca8\\uc11c\", \"\\ub9ac\\ubdf0\", \"\\ub9ac\\ubdf0\", \"\\ub9ac\\ubdf0\", \"\\ub9ac\\ubdf0\\uac00\", \"\\ub9ac\\ubdf0\\uc774\\ubca4\\ud2b8\", \"\\ub9ac\\ubdf0\\uc774\\ubca4\\ud2b8\\ub3c4\", \"\\ub9ac\\ubdf0\\uc774\\ubca4\\ud2b8\\ub85c\", \"\\ub9cc\\uc871\", \"\\ub9cc\\uc871\\uc2a4\\ub7fd\\uc2b5\\ub2c8\\ub2e4\", \"\\ub9cc\\uc871\\ud569\\ub2c8\\ub2e4\", \"\\ub9ce\\uace0\", \"\\ub9ce\\ub124\\uc694\", \"\\ub9ce\\uc544\", \"\\ub9ce\\uc544\\uc11c\", \"\\ub9ce\\uc544\\uc11c\", \"\\ub9ce\\uc544\\uc694\", \"\\ub9ce\\uc558\\uc5b4\\uc694\", \"\\ub9ce\\uc740\", \"\\ub9ce\\uc774\", \"\\ub9d0\\uc774\", \"\\ub9db\\uacfc\", \"\\ub9db\\ub098\\uac8c\", \"\\ub9db\\ub098\\uace0\", \"\\ub9db\\ub098\\ub124\\uc694\", \"\\ub9db\\ub098\\uc694\", \"\\ub9db\\ub0a8\", \"\\ub9db\\ub3c4\", \"\\ub9db\\ub3c4\", \"\\ub9db\\uc5d0\", \"\\ub9db\\uc740\", \"\\ub9db\\uc744\", \"\\ub9db\\uc774\", \"\\ub9db\\uc774\\ub124\\uc694\", \"\\ub9db\\uc774\\uc5d0\\uc694\", \"\\ub9db\\uc787\\uac8c\", \"\\ub9db\\uc787\\ub124\\uc694\", \"\\ub9db\\uc787\\uc5b4\\uc694\", \"\\ub9db\\uc787\\uc5b4\\uc6a9\", \"\\ub9db\\uc788\\uad6c\", \"\\ub9db\\uc788\\ub124\\uc694\", \"\\ub9db\\uc788\\ub124\\uc694~\", \"\\ub9db\\uc788\\ub124\\uc6a9\", \"\\ub9db\\uc788\\ub294\", \"\\ub9db\\uc788\\ub294\\uac70\", \"\\ub9db\\uc788\\ub294\\ub370\", \"\\ub9db\\uc788\\ub2e4\", \"\\ub9db\\uc788\\ub2e4\\uace0\", \"\\ub9db\\uc788\\ub354\\ub77c\\uad6c\\uc694\", \"\\ub9db\\uc788\\uc2b5\\ub2c8\\ub2e4\", \"\\ub9db\\uc788\\uc2b5\\ub2c8\\ub2e4~\", \"\\ub9db\\uc788\\uc2b5\\ub2c8\\ub2f9\", \"\\ub9db\\uc788\\uc5b4\\uc5ec\", \"\\ub9db\\uc788\\uc5b4\\uc694\", \"\\ub9db\\uc788\\uc5b4\\uc694^^\", \"\\ub9db\\uc788\\uc5b4\\uc694~\", \"\\ub9db\\uc788\\uc5b4\\uc694~~\", \"\\ub9db\\uc788\\uc5b4\\uc694~~~\", \"\\ub9db\\uc788\\uc5b4\\uc694\\u314e\\u314e\", \"\\ub9db\\uc788\\uc5b4\\uc6a9\", \"\\ub9db\\uc788\\uc5c8\\uace0\", \"\\ub9db\\uc788\\uc5c8\\ub294\\ub370\", \"\\ub9db\\uc788\\uc5c8\\uc2b5\\ub2c8\\ub2e4\", \"\\ub9db\\uc788\\uc5c8\\uc5b4\\uc694\", \"\\ub9db\\uc788\\uc5c8\\uc5b4\\uc694~\", \"\\ub9db\\uc788\\uc5c8\\uc5b4\\uc694~~\", \"\\ub9db\\uc788\\uc74c\", \"\\ub9db\\uc788\\uc9c0\\ub9cc\", \"\\ub9db\\uc9d1\", \"\\ub9db\\uc9d1\\uc785\\ub2c8\\ub2e4\", \"\\ub9de\\uac8c\", \"\\ub9e4\\ubc88\", \"\\ub9e4\\ubc88\", \"\\ub9e4\\uc6b4\", \"\\ub9e4\\uc6b4\\uac70\", \"\\ub9e4\\uc6b4\\uac8c\", \"\\ub9e4\\uc6b4\\ub370\", \"\\ub9e4\\uc6cc\\uc11c\", \"\\ub9e4\\uc6cc\\uc694\", \"\\ub9e4\\uc77c\", \"\\ub9e4\\ucf64\", \"\\ub9e4\\ucf64\\ud558\\uace0\", \"\\ub9e4\\ucf64\\ud558\\ub2c8\", \"\\ub9e4\\ucf64\\ud55c\", \"\\ub9e4\\ucf64\\ud574\\uc11c\", \"\\ub9e5\\uc8fc\", \"\\ub9e8\\ub0a0\", \"\\ub9f5\\uace0\", \"\\ub9f5\\ub124\\uc694\", \"\\uba39\\uac8c\", \"\\uba39\\uaca0\\uc2b5\\ub2c8\\ub2e4\", \"\\uba39\\uace0\\uc2f6\\uc5b4\\uc11c\", \"\\uba39\\uace0\\uc788\\uc2b5\\ub2c8\\ub2e4\", \"\\uba39\\uace0\\uc788\\uc5b4\\uc694\", \"\\uba39\\uae30\", \"\\uba39\\ub290\\ub77c\", \"\\uba39\\ub294\", \"\\uba39\\ub294\\ub370\", \"\\uba39\\ub294\\ub370\", \"\\uba39\\ub294\\ub370\", \"\\uba39\\ub2e4\", \"\\uba39\\ub2e4\\uac00\", \"\\uba39\\ub2e4\\ubcf4\\ub2c8\", \"\\uba39\\ub358\", \"\\uba39\\uc2b5\\ub2c8\\ub2e4\", \"\\uba39\\uc5b4\\ub3c4\", \"\\uba39\\uc5b4\\ubcf4\\uace0\", \"\\uba39\\uc5b4\\ubcf4\\ub294\\ub370\", \"\\uba39\\uc5b4\\ubcf8\", \"\\uba39\\uc5b4\\ubd24\\ub294\\ub370\", \"\\uba39\\uc5b4\\uc11c\", \"\\uba39\\uc5b4\\uc694\", \"\\uba39\\uc5c8\\ub124\\uc694\", \"\\uba39\\uc5c8\\ub294\\ub370\", \"\\uba39\\uc5c8\\ub358\", \"\\uba39\\uc5c8\\uc2b5\\ub2c8\\ub2e4^^\", \"\\uba39\\uc5c8\\uc2b5\\ub2c8\\ub2e4~\", \"\\uba39\\uc5c8\\uc2b5\\ub2c8\\ub2e4~^^\", \"\\uba39\\uc5c8\\uc2b5\\ub2c8\\ub2e4~~\", \"\\uba39\\uc5c8\\uc2b5\\ub2c8\\ub2f9\", \"\\uba39\\uc5c8\\uc5b4\\uc694~\", \"\\uba39\\uc5c8\\uc5b4\\uc694~~\", \"\\uba39\\uc73c\\ub2c8\", \"\\uba39\\uc73c\\ub824\\uace0\", \"\\uba39\\uc73c\\uba74\", \"\\uba39\\uc740\", \"\\uba39\\uc744\", \"\\uba39\\uc744\", \"\\uba39\\uc744\\uac8c\\uc694\", \"\\uba3c\\uc800\", \"\\uba54\\ub274\", \"\\uba55\\uc2dc\\uce74\\ub098\", \"\\ubaa8\\ub450\", \"\\ubb34\\uc5c7\\ubcf4\\ub2e4\", \"\\ubb34\\uc870\\uac74\", \"\\ubb38\\uc55e\\uc5d0\", \"\\ubb3c\\ub860\", \"\\ubb54\\uac00\", \"\\ubbf8\\ub9ac\", \"\\ubbff\\uace0\", \"\\ubbff\\uace0\\uba39\\ub294\", \"\\ubc14\\ub85c\", \"\\ubc14\\uc0ad\", \"\\ubc14\\uc0ad\\ubc14\\uc0ad\", \"\\ubc14\\uc0ad\\ubc14\\uc0ad\", \"\\ubc14\\uc0ad\\ubc14\\uc0ad\\ud558\\uace0\", \"\\ubc14\\uc0ad\\ubc14\\uc0ad\\ud558\\ub2c8\", \"\\ubc14\\uc0ad\\ud558\\uac8c\", \"\\ubc14\\uc0ad\\ud558\\uac8c\", \"\\ubc14\\uc0ad\\ud558\\uace0\", \"\\ubc14\\uc0ad\\ud558\\ub2c8\", \"\\ubc14\\uc0ad\\ud55c\", \"\\ubc14\\uc0ad\\ud574\\uc11c\", \"\\ubc16\\uc5d0\", \"\\ubc18\\ubc18\", \"\\ubc1b\\uc544\\uc11c\", \"\\ubc1b\\uc558\\uc2b5\\ub2c8\\ub2e4\", \"\\ubc1b\\uc558\\uc5b4\\uc694\", \"\\ubc1b\\uc740\", \"\\ubc25\\uc774\\ub791\", \"\\ubc30\\uace0\\ud30c\\uc11c\", \"\\ubc30\\ub2ec\", \"\\ubc30\\ub2ec\", \"\\ubc30\\ub2ec\", \"\\ubc30\\ub2ec\\ub3c4\", \"\\ubc30\\ub2ec\\ub3c4\\ube60\\ub974\\uace0\", \"\\ubc30\\ub2ec\\ube60\\ub974\\uace0\", \"\\ubc30\\ub2ec\\uc740\", \"\\ubc30\\ub2ec\\uc774\", \"\\ubc30\\ub2ec\\uc774\", \"\\ubc30\\ub2ec\\uc774\", \"\\ubc30\\ub2ec\\ud574\\uc8fc\\uc154\\uc11c\", \"\\ubc30\\ubd80\\ub974\\uac8c\", \"\\ubc30\\uc1a1\", \"\\ubc30\\uc1a1\\ub3c4\", \"\\ubc88\\ucc3d\\ud558\\uc138\\uc694\", \"\\ubc88\\ucc3d\\ud558\\uc138\\uc694~\", \"\\ubc8c\\uc368\", \"\\ubcc4\\ub85c\", \"\\ubcf4\\uace0\", \"\\ubcf4\\ub0b4\\uc138\\uc694\", \"\\ubcf4\\ub0b4\\uc8fc\\uc154\\uc11c\", \"\\ubcf4\\ub2e4\", \"\\ubcf4\\ud1b5\", \"\\ubd80\\ub4dc\\ub7fd\\uace0\", \"\\ubd80\\ub4dc\\ub7fd\\uace0\", \"\\ubd84\\ub4e4\\uc740\", \"\\ube44\\ud574\", \"\\ube60\\ub974\\uac8c\", \"\\ube60\\ub974\\uace0\", \"\\ube60\\ub974\\ub124\\uc694\", \"\\ube60\\ub978\", \"\\ube60\\ub978\\ubc30\\ub2ec\", \"\\ube60\\ub985\\ub2c8\\ub2e4\", \"\\ube68\\ub77c\\uc11c\", \"\\ube68\\ub77c\\uc694\", \"\\ube68\\ub790\\uc5b4\\uc694\", \"\\ube68\\ub9ac\", \"\\ube68\\ub9ac\\uc624\\uace0\", \"\\ube68\\ub9ac\\uc640\\uc11c\", \"\\ube68\\ub9ac\\uc654\\uace0\", \"\\ube68\\ub9ac\\uc654\\uc5b4\\uc694\", \"\\ube7c\\uace0\", \"\\ube7c\\uace0\\ub294\", \"\\ubfcc\\ub9c1\\ud074\", \"\\uc0ac\\uc2e4\", \"\\uc0ac\\uc7a5\\ub2d8\", \"\\uc0ac\\uc9c4\", \"\\uc0ac\\uc9c4\\ub3c4\", \"\\uc0ac\\uc9c4\\uc740\", \"\\uc0ac\\uc9c4\\uc740\", \"\\uc0ac\\uc9c4\\uc744\", \"\\uc0ac\\uc9c4\\uc774\", \"\\uc0b4\\ub3c4\", \"\\uc0b4\\uc774\", \"\\uc0b4\\uc9dd\", \"\\uc0b4\\uc9dd\", \"\\uc0c1\\ub2f9\\ud788\", \"\\uc0c8\\ubcbd\\uc5d0\", \"\\uc0dd\\uac01\\ub098\\uc11c\", \"\\uc0dd\\uac01\\ubcf4\\ub2e4\", \"\\uc11c\\ube44\\uc2a4\", \"\\uc11c\\ube44\\uc2a4\\uae4c\\uc9c0\", \"\\uc11c\\ube44\\uc2a4\\ub294\", \"\\uc11c\\ube44\\uc2a4\\ub3c4\", \"\\uc11c\\ube44\\uc2a4\\ub85c\", \"\\uc18c\\ub5a1\", \"\\uc18c\\ub5a1\\ub3c4\", \"\\uc18c\\uc2a4\", \"\\uc18c\\uc2a4\\uac00\", \"\\uc18c\\uc2a4\\ub3c4\", \"\\uc18d\\uc740\", \"\\uc194\\uc9c1\\ud788\", \"\\uc21c\\uc0b4\", \"\\uc21c\\uc0b4\\ub3c4\", \"\\uc21c\\uc0b4\\ub85c\", \"\\uc21c\\uc0b4\\uc740\", \"\\uc21c\\uc0b4\\uc774\", \"\\uc2dc\\uac04\", \"\\uc2dc\\uac04\\ubcf4\\ub2e4\", \"\\uc2dc\\uac04\\uc5d0\", \"\\uc2dc\\uac04\\uc774\", \"\\uc2dc\\ucf1c\", \"\\uc2dc\\ucf1c\\ub3c4\", \"\\uc2dc\\ucf1c\\ub4dc\\uc138\\uc694\", \"\\uc2dc\\ucf1c\\uba39\\uace0\", \"\\uc2dc\\ucf1c\\uba39\\ub294\", \"\\uc2dc\\ucf1c\\uba39\\ub294\\ub370\", \"\\uc2dc\\ucf1c\\uba39\\uc5b4\\uc694\", \"\\uc2dc\\ucf1c\\uba39\\uc5c8\\ub294\\ub370\", \"\\uc2dc\\ucf1c\\uba39\\uc744\", \"\\uc2dc\\ucf1c\\uba39\\uc744\\uac8c\\uc694\", \"\\uc2dc\\ucf1c\\ubd24\\ub294\\ub370\", \"\\uc2dc\\ucf1c\\ubd24\\uc5b4\\uc694\", \"\\uc2dc\\ucf1c\\uc11c\", \"\\uc2dc\\ucf1c\\uc694\", \"\\uc2dc\\ucf30\\uc2b5\\ub2c8\\ub2e4\", \"\\uc2dc\\ucf30\\uc5b4\\uc694\", \"\\uc2dc\\ud0a4\\ub294\", \"\\uc2dc\\ud0a4\\ub294\\ub370\", \"\\uc2dc\\ud0a4\\uba74\", \"\\uc2dc\\ud0a8\", \"\\uc2dc\\ud0ac\", \"\\uc2dc\\ud0ac\\uac8c\\uc694\", \"\\uc2dc\\ud0b5\\ub2c8\\ub2e4\", \"\\uc2dd\\uc5b4\\ub3c4\", \"\\uc2dd\\uc5b4\\uc11c\", \"\\uc2dd\\uc5b4\\uc11c\", \"\\uc2dd\\ud6c4\\uac10\", \"\\uc2f8\\uac8c\", \"\\uc544\\ub2c8\\ub77c\", \"\\uc544\\uc26c\\uc6cc\\uc694\", \"\\uc544\\uc26c\\uc6e0\\uc2b5\\ub2c8\\ub2e4\", \"\\uc544\\uc26c\\uc6e0\\uc5b4\\uc694\", \"\\uc544\\uc26c\\uc6e0\\uc9c0\\ub9cc\", \"\\uc544\\uc27d\\ub124\\uc694\", \"\\uc544\\uc27d\\uc9c0\\ub9cc\", \"\\uc544\\uc774\\uac00\", \"\\uc544\\uc774\\ub4e4\\uc774\", \"\\uc548\\ub098\\uace0\", \"\\uc54a\\uace0\", \"\\uc54a\\ub294\", \"\\uc54a\\uc544\\uc11c\", \"\\uc54a\\uc544\\uc11c\", \"\\uc54c\\uc558\\ub294\\ub370\", \"\\uc55e\\uc5d0\", \"\\uc55e\\uc73c\\ub85c\", \"\\uc55e\\uc73c\\ub85c\\ub3c4\", \"\\uc560\\ub4e4\\uc774\", \"\\uc57d\\uac04\", \"\\uc587\\uace0\", \"\\uc591\\ub150\", \"\\uc591\\ub150\\ub3c4\", \"\\uc591\\ub150\\ub3c4\", \"\\uc591\\ub150\\uc774\", \"\\uc591\\ub150\\uce58\\ud0a8\", \"\\uc591\\ub3c4\", \"\\uc591\\ub3c4\\ub9ce\\uace0\", \"\\uc591\\ub9ce\\uace0\", \"\\uc591\\uc740\", \"\\uc591\\uc774\", \"\\uc5b4\\ub5bb\\uac8c\", \"\\uc5b4\\uc81c\", \"\\uc5b8\\uc81c\", \"\\uc5b8\\uc81c\\uba39\\uc5b4\\ub3c4\", \"\\uc5c6\\uace0\", \"\\uc5c6\\ub124\\uc694\", \"\\uc5c6\\uc2b5\\ub2c8\\ub2e4\", \"\\uc5c6\\uc5b4\\uc11c\", \"\\uc5c6\\uc774\", \"\\uc5c6\\uc9c0\\ub9cc\", \"\\uc5ec\\uae30\", \"\\uc5ec\\uae30\\uac00\", \"\\uc5ec\\uae30\\ub294\", \"\\uc5ec\\uae30\\uc11c\", \"\\uc5ec\\uae30\\uc11c\", \"\\uc5ec\\uae30\\uc11c\\ub9cc\", \"\\uc5ec\\uae30\\uc11c\\ub9cc\", \"\\uc5ec\\uae34\", \"\\uc5ec\\uc804\\ud788\", \"\\uc5ed\\uc2dc\\ub098\", \"\\uc5fc\\uc9c0\\uac00\", \"\\uc608\\uc0c1\", \"\\uc608\\uc0c1\\ubcf4\\ub2e4\", \"\\uc608\\uc0c1\\uc2dc\\uac04\\ubcf4\\ub2e4\", \"\\uc624\\uace0\", \"\\uc624\\ub298\", \"\\uc624\\ub298\\ub530\\ub77c\", \"\\uc624\\ub298\\uc740\", \"\\uc624\\ub798\", \"\\uc624\\uc790\\ub9c8\\uc790\", \"\\uc624\\ud788\\ub824\", \"\\uc62c\\ub9cc\\uc5d0\", \"\\uc640\\uc11c\", \"\\uc640\\uc6b0\", \"\\uc644\\uc804\", \"\\uc654\\uace0\", \"\\uc654\\ub124\\uc694\", \"\\uc654\\uc2b5\\ub2c8\\ub2e4\", \"\\uc654\\uc5b4\\uc694\", \"\\uc694\\uc998\", \"\\uc694\\uccad\\uc0ac\\ud56d\", \"\\uc694\\uccad\\uc0ac\\ud56d\\ub3c4\", \"\\uc6d0\\ub798\", \"\\uc74c\\uc2dd\\ub3c4\", \"\\uc774\\uac70\", \"\\uc774\\uac74\", \"\\uc774\\uac74\", \"\\uc774\\uac8c\", \"\\uc774\\uac8c\", \"\\uc774\\ub7f0\", \"\\uc774\\ub807\\uac8c\", \"\\uc774\\ubc88\\uc5d0\\ub294\", \"\\uc774\\ubc88\\uc5d4\", \"\\uc774\\ubca4\\ud2b8\", \"\\uc774\\ubca4\\ud2b8\", \"\\uc774\\ubca4\\ud2b8\", \"\\uc774\\ubca4\\ud2b8\\ub85c\", \"\\uc774\\uc720\\uac00\", \"\\uc774\\uc81c\", \"\\uc774\\uc81c\\uc57c\", \"\\uc774\\uc9d1\", \"\\uc77c\\ub2e8\", \"\\uc77c\\ubc18\", \"\\uc77c\\uc8fc\\uc77c\\uc5d0\", \"\\uc77c\\ucc0d\", \"\\uc785\\ub2c8\\ub2e4\", \"\\uc788\\uace0\", \"\\uc788\\ub124\\uc694\", \"\\uc788\\ub294\", \"\\uc788\\ub294\\ub370\", \"\\uc788\\uc2b5\\ub2c8\\ub2e4\", \"\\uc788\\uc5b4\", \"\\uc788\\uc5b4\\uc11c\", \"\\uc788\\uc5b4\\uc11c\", \"\\uc788\\uc5b4\\uc694\", \"\\uc788\\uc5c8\\uc5b4\\uc694\", \"\\uc788\\uc9c0\\ub9cc\", \"\\uc790\\uafb8\", \"\\uc798\\uba39\\uaca0\\uc2b5\\ub2c8\\ub2e4\", \"\\uc798\\uba39\\uace0\", \"\\uc798\\uba39\\uc5c7\\uc2b5\\ub2c8\\ub2e4\", \"\\uc798\\uba39\\uc5c8\\uc2b5\\ub2c8\\ub2e4^^\", \"\\uc798\\uba39\\uc5c8\\uc2b5\\ub2c8\\ub2e4~\", \"\\uc798\\uba39\\uc5c8\\uc2b5\\ub2c8\\ub2e4~~\", \"\\uc798\\uba39\\uc5c8\\uc2b5\\ub2c8\\ub2f9\", \"\\uc798\\uba39\\uc5c8\\uc5b4\\uc694\", \"\\uc798\\uba39\\uc5c8\\uc5b4\\uc694~\", \"\\uc798\\ubabb\", \"\\uc798\\ud558\\ub124\\uc694\", \"\\uc7ac\\uc8fc\\ubb38\", \"\\uc800\\ub294\", \"\\uc800\\ub834\\ud558\\uac8c\", \"\\uc800\\ubc88\\uc5d0\", \"\\uc800\\uc758\", \"\\uc801\\ub124\\uc694\", \"\\uc801\\ub2f9\\ud558\\uace0\", \"\\uc801\\ub2f9\\ud55c\", \"\\uc801\\ub2f9\\ud788\", \"\\uc801\\uc5b4\\uc11c\", \"\\uc804\\ubd80\", \"\\uc804\\uc5d0\", \"\\uc804\\uccb4\\uc801\\uc73c\\ub85c\", \"\\uc815\\ub3c4\", \"\\uc815\\ub3c4\\ub85c\", \"\\uc81c\\uac00\", \"\\uc81c\\uc77c\", \"\\uc81c\\uc77c\", \"\\uc874\\ub9db\", \"\\uc874\\ub9db\\ud0f1\", \"\\uc880\\ub354\", \"\\uc885\\uc885\", \"\\uc88b\\uac8c\", \"\\uc88b\\uaca0\\uc2b5\\ub2c8\\ub2e4\", \"\\uc88b\\uaca0\\uc5b4\\uc694\", \"\\uc88b\\uace0\", \"\\uc88b\\uace0\", \"\\uc88b\\ub124\\uc694\", \"\\uc88b\\ub124\\uc694~\", \"\\uc88b\\ub354\\ub77c\\uad6c\\uc694\", \"\\uc88b\\uc2b5\\ub2c8\\ub2e4\", \"\\uc88b\\uc544\\uc11c\", \"\\uc88b\\uc544\\uc694~\", \"\\uc88b\\uc544\\uc6a9\", \"\\uc88b\\uc544\\ud558\\ub294\", \"\\uc88b\\uc544\\ud558\\ub294\\ub370\", \"\\uc88b\\uc544\\ud574\\uc11c\", \"\\uc88b\\uc558\\uace0\", \"\\uc88b\\uc558\\uc2b5\\ub2c8\\ub2e4\", \"\\uc88b\\uc558\\uc2b5\\ub2c8\\ub2e4\", \"\\uc88b\\uc558\\uc5b4\\uc694\", \"\\uc88b\\uc558\\uc5b4\\uc694~\", \"\\uc88b\\uc740\", \"\\uc88b\\uc740\", \"\\uc88b\\uc740\\ub370\", \"\\uc8fc\\ubb38\", \"\\uc8fc\\ubb38\\uc774\", \"\\uc8fc\\ubb38\\ud558\\uace0\", \"\\uc8fc\\ubb38\\ud55c\\uc9c0\", \"\\uc8fc\\ubb38\\ud560\", \"\\uc8fc\\ubb38\\ud560\\uac8c\\uc694\", \"\\uc8fc\\ubb38\\ud560\\uaed8\\uc694\", \"\\uc8fc\\ubb38\\ud574\", \"\\uc8fc\\ubb38\\ud574\\uc11c\", \"\\uc8fc\\ubb38\\ud574\\uc11c\", \"\\uc8fc\\ubb38\\ud588\\ub294\\ub370\", \"\\uc8fc\\ubb38\\ud588\\uc5b4\\uc694\", \"\\uc8fc\\uc154\\uc11c\", \"\\uc8fc\\uc154\\uc11c\", \"\\uc8fc\\uc168\\uc5b4\\uc694\", \"\\uc8fc\\uc2dc\\uace0\", \"\\uc8fc\\uc2e0\", \"\\uc9c0\\uae08\", \"\\uc9c4\\ub9ac\", \"\\uc9c4\\ub9ac\\uc785\\ub2c8\\ub2e4\", \"\\uc9dc\\uc9c0\\ub3c4\", \"\\uc9f1\\uc9f1\", \"\\ucc0d\\uc5b4\\uc11c\", \"\\ucc0d\\uc5c8\\ub124\\uc694\", \"\\ucc38\\uace0\", \"\\ucc98\\uc74c\\uba39\\uc5b4\\ubd24\\ub294\\ub370\", \"\\ucc98\\uc74c\\uc73c\\ub85c\", \"\\ucc98\\uc74c\\uc778\\ub370\", \"\\ucd09\\ucd09\\ud558\\uace0\", \"\\ucd5c\\uace0\", \"\\ucd5c\\uace0\\ub124\\uc694\", \"\\ucd5c\\uace0\\uc5d0\\uc694\", \"\\ucd5c\\uace0\\uc608\\uc694\", \"\\ucd5c\\uace0\\uc758\", \"\\ucd5c\\uace0\\uc785\\ub2c8\\ub2e4\", \"\\ucd5c\\uacf1\\ub2c8\\ub2e4\", \"\\ucd5c\\uadfc\\uc5d0\", \"\\ucd5c\\uc560\", \"\\ucd94\\uac00\", \"\\ucd94\\ucc9c\", \"\\ucd94\\ucc9c\\ud569\\ub2c8\\ub2e4\", \"\\uce58\\uc988\", \"\\uce58\\uc988\\ubcfc\", \"\\uce58\\uc988\\ubcfc\", \"\\uce58\\uc988\\ubcfc\\ub3c4\", \"\\uce58\\uc988\\ubcfc\\uc740\", \"\\uce58\\uc988\\ubcfc\\uc774\", \"\\uce58\\uc988\\ubcfc\\uc774\\ub791\", \"\\uce58\\ud0a8\", \"\\uce58\\ud0a8\\uacfc\", \"\\uce58\\ud0a8\\ub3c4\", \"\\uce58\\ud0a8\\ub3c4\", \"\\uce58\\ud0a8\\ub3c4\", \"\\uce58\\ud0a8\\ubb34\", \"\\uce58\\ud0a8\\uc5d0\", \"\\uce58\\ud0a8\\uc740\", \"\\uce58\\ud0a8\\uc744\", \"\\uce58\\ud0a8\\uc744\", \"\\uce58\\ud0a8\\uc758\", \"\\uce58\\ud0a8\\uc774\", \"\\uce58\\ud0a8\\uc774\\ub791\", \"\\uce58\\ud0a8\\uc9d1\", \"\\uce5c\\uc808\\ud558\\uac8c\", \"\\uce5c\\uc808\\ud558\\uc2dc\\uace0\", \"\\ucee4\\uc11c\", \"\\ucf5c\\ub77c\", \"\\ucf5c\\ub77c\\ub3c4\", \"\\ucfe0\\ud3f0\", \"\\ud06c\\uace0\", \"\\ud280\\uae34\", \"\\ud280\\uae40\", \"\\ud280\\uae40\\ub3c4\", \"\\ud280\\uae40\\uc637\", \"\\ud280\\uae40\\uc637\\ub3c4\", \"\\ud280\\uae40\\uc637\\uc774\", \"\\ud280\\uae40\\uc637\\uc774\", \"\\ud280\\uae40\\uc774\", \"\\ud2b9\\ud788\", \"\\ud30c\\uc138\\uc694\", \"\\ud3ec\\uc7a5\", \"\\ud3ec\\uc7a5\\ub3c4\", \"\\ud478\\uc9d0\\ud558\\uac8c\", \"\\ud478\\uc9d0\\ud558\\uace0\", \"\\ud558\\uace0\", \"\\ud558\\ub098\", \"\\ud558\\ub098\\ub3c4\", \"\\ud558\\ub124\\uc694\", \"\\ud558\\ub8e8\", \"\\ud558\\uc9c0\\ub9cc\", \"\\ud55c\\ubc88\", \"\\ud55c\\uc785\", \"\\ud560\\uc778\\ub3c4\", \"\\ud568\\uaed8\", \"\\ud569\\ub2c8\\ub2e4\", \"\\ud574\\uc11c\", \"\\ud574\\uc694\", \"\\ud574\\uc8fc\\uc154\\uc11c\", \"\\ud588\\ub294\\ub370\", \"\\ud588\\uc9c0\\ub9cc\", \"\\ud63c\\uc790\", \"\\ud655\\uc2e4\\ud788\", \"\\ud6c4\\ub77c\\uc774\\ub4dc\", \"\\ud6c4\\ub77c\\uc774\\ub4dc\\uac00\", \"\\ud6c4\\ub77c\\uc774\\ub4dc\\ub294\", \"\\ud6c4\\ub77c\\uc774\\ub4dc\\ub3c4\", \"\\ud6c4\\ub77c\\uc774\\ub4dc\\ub9cc\", \"\\ud6e8\\uc52c\", \"\\ufffd\\uc624\"]}, \"R\": 30, \"lambda.step\": 0.01, \"plot.opts\": {\"xlab\": \"PC1\", \"ylab\": \"PC2\"}, \"topic.order\": [19, 8, 11, 18, 16, 20, 6, 4, 9, 2, 15, 1, 13, 17, 7, 10, 12, 14, 3, 5]};\n",
       "\n",
       "function LDAvis_load_lib(url, callback){\n",
       "  var s = document.createElement('script');\n",
       "  s.src = url;\n",
       "  s.async = true;\n",
       "  s.onreadystatechange = s.onload = callback;\n",
       "  s.onerror = function(){console.warn(\"failed to load library \" + url);};\n",
       "  document.getElementsByTagName(\"head\")[0].appendChild(s);\n",
       "}\n",
       "\n",
       "if(typeof(LDAvis) !== \"undefined\"){\n",
       "   // already loaded: just create the visualization\n",
       "   !function(LDAvis){\n",
       "       new LDAvis(\"#\" + \"ldavis_el182823469264360168069140236\", ldavis_el182823469264360168069140236_data);\n",
       "   }(LDAvis);\n",
       "}else if(typeof define === \"function\" && define.amd){\n",
       "   // require.js is available: use it to load d3/LDAvis\n",
       "   require.config({paths: {d3: \"https://d3js.org/d3.v5\"}});\n",
       "   require([\"d3\"], function(d3){\n",
       "      window.d3 = d3;\n",
       "      LDAvis_load_lib(\"https://cdn.jsdelivr.net/gh/bmabey/pyLDAvis@3.3.1/pyLDAvis/js/ldavis.v3.0.0.js\", function(){\n",
       "        new LDAvis(\"#\" + \"ldavis_el182823469264360168069140236\", ldavis_el182823469264360168069140236_data);\n",
       "      });\n",
       "    });\n",
       "}else{\n",
       "    // require.js not available: dynamically load d3 & LDAvis\n",
       "    LDAvis_load_lib(\"https://d3js.org/d3.v5.js\", function(){\n",
       "         LDAvis_load_lib(\"https://cdn.jsdelivr.net/gh/bmabey/pyLDAvis@3.3.1/pyLDAvis/js/ldavis.v3.0.0.js\", function(){\n",
       "                 new LDAvis(\"#\" + \"ldavis_el182823469264360168069140236\", ldavis_el182823469264360168069140236_data);\n",
       "            })\n",
       "         });\n",
       "}\n",
       "</script>"
      ],
      "text/plain": [
       "<IPython.core.display.HTML object>"
      ]
     },
     "execution_count": 83,
     "metadata": {},
     "output_type": "execute_result"
    }
   ],
   "source": [
    "import pyLDAvis.gensim_models\n",
    "\n",
    "pyLDAvis.enable_notebook()\n",
    "vis = pyLDAvis.gensim_models.prepare(ldamodel, corpus, dictionary)\n",
    "pyLDAvis.display(vis)"
   ]
  },
  {
   "cell_type": "code",
   "execution_count": 56,
   "metadata": {},
   "outputs": [
    {
     "name": "stdout",
     "output_type": "stream",
     "text": [
      "0 번째 문서의 topic 비율은 [(0, 0.05), (1, 0.05), (2, 0.05), (3, 0.05), (4, 0.05), (5, 0.05), (6, 0.05), (7, 0.05), (8, 0.05), (9, 0.05), (10, 0.05), (11, 0.05), (12, 0.05), (13, 0.05), (14, 0.05), (15, 0.05), (16, 0.05), (17, 0.05), (18, 0.05), (19, 0.05)]\n",
      "1 번째 문서의 topic 비율은 [(0, 0.012564488), (1, 0.012564488), (2, 0.012564488), (3, 0.012564488), (4, 0.2586989), (5, 0.26385278), (6, 0.012564488), (7, 0.26385203), (8, 0.012564488), (9, 0.012564488), (10, 0.012564488), (11, 0.012564488), (12, 0.012564488), (13, 0.012564488), (14, 0.012564488), (15, 0.012564488), (16, 0.012564488), (17, 0.012564488), (18, 0.012564488), (19, 0.012564488)]\n",
      "2 번째 문서의 topic 비율은 [(0, 0.016667815), (1, 0.016667815), (2, 0.016667815), (3, 0.016667815), (4, 0.016667815), (5, 0.3500203), (6, 0.016667815), (7, 0.016667815), (8, 0.016667815), (9, 0.016667815), (10, 0.016667815), (11, 0.016667815), (12, 0.016667815), (13, 0.016667815), (14, 0.016667815), (15, 0.016667815), (16, 0.016667815), (17, 0.34995905), (18, 0.016667815), (19, 0.016667815)]\n",
      "3 번째 문서의 topic 비율은 [(0, 0.012500113), (1, 0.012500113), (2, 0.012500113), (3, 0.26250148), (4, 0.012500113), (5, 0.26249465), (6, 0.012500113), (7, 0.012500113), (8, 0.012500113), (9, 0.012500113), (10, 0.012500113), (11, 0.012500113), (12, 0.012500113), (13, 0.012500113), (14, 0.012500113), (15, 0.012500113), (16, 0.012500113), (17, 0.26250196), (18, 0.012500113), (19, 0.012500113)]\n",
      "4 번째 문서의 topic 비율은 [(0, 0.025000075), (1, 0.025000075), (2, 0.025000075), (3, 0.025000075), (4, 0.025000075), (5, 0.025000075), (6, 0.025000075), (7, 0.025000075), (8, 0.025000075), (9, 0.025000075), (10, 0.025000075), (11, 0.025000075), (12, 0.025000075), (13, 0.025000075), (14, 0.025000075), (15, 0.52499855), (16, 0.025000075), (17, 0.025000075), (18, 0.025000075), (19, 0.025000075)]\n"
     ]
    }
   ],
   "source": [
    "for i, topic_list in enumerate(ldamodel[corpus]):\n",
    "    if i==5:\n",
    "        break\n",
    "    print(i,'번째 문서의 topic 비율은',topic_list)"
   ]
  },
  {
   "cell_type": "code",
   "execution_count": 57,
   "metadata": {},
   "outputs": [],
   "source": [
    "def make_topictable_per_doc(ldamodel, corpus):\n",
    "    topic_table = pd.DataFrame()\n",
    "\n",
    "    # 몇 번째 문서인지를 의미하는 문서 번호와 해당 문서의 토픽 비중을 한 줄씩 꺼내온다.\n",
    "    for i, topic_list in enumerate(ldamodel[corpus]):\n",
    "        doc = topic_list[0] if ldamodel.per_word_topics else topic_list            \n",
    "        doc = sorted(doc, key=lambda x: (x[1]), reverse=True)\n",
    "        # 각 문서에 대해서 비중이 높은 토픽순으로 토픽을 정렬한다.\n",
    "        # EX) 정렬 전 0번 문서 : (2번 토픽, 48.5%), (8번 토픽, 25%), (10번 토픽, 5%), (12번 토픽, 21.5%), \n",
    "        # Ex) 정렬 후 0번 문서 : (2번 토픽, 48.5%), (8번 토픽, 25%), (12번 토픽, 21.5%), (10번 토픽, 5%)\n",
    "        # 48 > 25 > 21 > 5 순으로 정렬이 된 것.\n",
    "\n",
    "        # 모든 문서에 대해서 각각 아래를 수행\n",
    "        for j, (topic_num, prop_topic) in enumerate(doc): #  몇 번 토픽인지와 비중을 나눠서 저장한다.\n",
    "            if j == 0:  # 정렬을 한 상태이므로 가장 앞에 있는 것이 가장 비중이 높은 토픽\n",
    "                topic_table = topic_table.append(pd.Series([int(topic_num), round(prop_topic,4), topic_list]), ignore_index=True)\n",
    "                # 가장 비중이 높은 토픽과, 가장 비중이 높은 토픽의 비중과, 전체 토픽의 비중을 저장한다.\n",
    "            else:\n",
    "                break\n",
    "    return(topic_table)"
   ]
  },
  {
   "cell_type": "code",
   "execution_count": 58,
   "metadata": {},
   "outputs": [
    {
     "data": {
      "text/html": [
       "<div>\n",
       "<style scoped>\n",
       "    .dataframe tbody tr th:only-of-type {\n",
       "        vertical-align: middle;\n",
       "    }\n",
       "\n",
       "    .dataframe tbody tr th {\n",
       "        vertical-align: top;\n",
       "    }\n",
       "\n",
       "    .dataframe thead th {\n",
       "        text-align: right;\n",
       "    }\n",
       "</style>\n",
       "<table border=\"1\" class=\"dataframe\">\n",
       "  <thead>\n",
       "    <tr style=\"text-align: right;\">\n",
       "      <th></th>\n",
       "      <th>문서 번호</th>\n",
       "      <th>가장 비중이 높은 토픽</th>\n",
       "      <th>가장 높은 토픽의 비중</th>\n",
       "      <th>각 토픽의 비중</th>\n",
       "    </tr>\n",
       "  </thead>\n",
       "  <tbody>\n",
       "    <tr>\n",
       "      <th>0</th>\n",
       "      <td>0</td>\n",
       "      <td>0.0</td>\n",
       "      <td>0.0500</td>\n",
       "      <td>[(0, 0.05), (1, 0.05), (2, 0.05), (3, 0.05), (...</td>\n",
       "    </tr>\n",
       "    <tr>\n",
       "      <th>1</th>\n",
       "      <td>1</td>\n",
       "      <td>5.0</td>\n",
       "      <td>0.2639</td>\n",
       "      <td>[(0, 0.012564439), (1, 0.012564439), (2, 0.012...</td>\n",
       "    </tr>\n",
       "    <tr>\n",
       "      <th>2</th>\n",
       "      <td>2</td>\n",
       "      <td>5.0</td>\n",
       "      <td>0.3500</td>\n",
       "      <td>[(0, 0.016667815), (1, 0.016667815), (2, 0.016...</td>\n",
       "    </tr>\n",
       "    <tr>\n",
       "      <th>3</th>\n",
       "      <td>3</td>\n",
       "      <td>17.0</td>\n",
       "      <td>0.2625</td>\n",
       "      <td>[(0, 0.012500113), (1, 0.012500113), (2, 0.012...</td>\n",
       "    </tr>\n",
       "    <tr>\n",
       "      <th>4</th>\n",
       "      <td>4</td>\n",
       "      <td>15.0</td>\n",
       "      <td>0.5250</td>\n",
       "      <td>[(0, 0.025000075), (1, 0.025000075), (2, 0.025...</td>\n",
       "    </tr>\n",
       "    <tr>\n",
       "      <th>5</th>\n",
       "      <td>5</td>\n",
       "      <td>6.0</td>\n",
       "      <td>0.2277</td>\n",
       "      <td>[(5, 0.11667774), (6, 0.22767133), (8, 0.11668...</td>\n",
       "    </tr>\n",
       "    <tr>\n",
       "      <th>6</th>\n",
       "      <td>6</td>\n",
       "      <td>17.0</td>\n",
       "      <td>0.2100</td>\n",
       "      <td>[(0, 0.0100009255), (1, 0.0100009255), (2, 0.0...</td>\n",
       "    </tr>\n",
       "    <tr>\n",
       "      <th>7</th>\n",
       "      <td>7</td>\n",
       "      <td>15.0</td>\n",
       "      <td>0.3501</td>\n",
       "      <td>[(0, 0.016673015), (1, 0.016673015), (2, 0.016...</td>\n",
       "    </tr>\n",
       "    <tr>\n",
       "      <th>8</th>\n",
       "      <td>8</td>\n",
       "      <td>11.0</td>\n",
       "      <td>0.5036</td>\n",
       "      <td>[(4, 0.07499597), (8, 0.07500627), (10, 0.0749...</td>\n",
       "    </tr>\n",
       "    <tr>\n",
       "      <th>9</th>\n",
       "      <td>9</td>\n",
       "      <td>18.0</td>\n",
       "      <td>0.3500</td>\n",
       "      <td>[(0, 0.01666699), (1, 0.01666699), (2, 0.01666...</td>\n",
       "    </tr>\n",
       "  </tbody>\n",
       "</table>\n",
       "</div>"
      ],
      "text/plain": [
       "   문서 번호  가장 비중이 높은 토픽  가장 높은 토픽의 비중  \\\n",
       "0      0           0.0        0.0500   \n",
       "1      1           5.0        0.2639   \n",
       "2      2           5.0        0.3500   \n",
       "3      3          17.0        0.2625   \n",
       "4      4          15.0        0.5250   \n",
       "5      5           6.0        0.2277   \n",
       "6      6          17.0        0.2100   \n",
       "7      7          15.0        0.3501   \n",
       "8      8          11.0        0.5036   \n",
       "9      9          18.0        0.3500   \n",
       "\n",
       "                                            각 토픽의 비중  \n",
       "0  [(0, 0.05), (1, 0.05), (2, 0.05), (3, 0.05), (...  \n",
       "1  [(0, 0.012564439), (1, 0.012564439), (2, 0.012...  \n",
       "2  [(0, 0.016667815), (1, 0.016667815), (2, 0.016...  \n",
       "3  [(0, 0.012500113), (1, 0.012500113), (2, 0.012...  \n",
       "4  [(0, 0.025000075), (1, 0.025000075), (2, 0.025...  \n",
       "5  [(5, 0.11667774), (6, 0.22767133), (8, 0.11668...  \n",
       "6  [(0, 0.0100009255), (1, 0.0100009255), (2, 0.0...  \n",
       "7  [(0, 0.016673015), (1, 0.016673015), (2, 0.016...  \n",
       "8  [(4, 0.07499597), (8, 0.07500627), (10, 0.0749...  \n",
       "9  [(0, 0.01666699), (1, 0.01666699), (2, 0.01666...  "
      ]
     },
     "execution_count": 58,
     "metadata": {},
     "output_type": "execute_result"
    }
   ],
   "source": [
    "topictable = make_topictable_per_doc(ldamodel, corpus)\n",
    "topictable = topictable.reset_index() # 문서 번호을 의미하는 열(column)로 사용하기 위해서 인덱스 열을 하나 더 만든다.\n",
    "topictable.columns = ['문서 번호', '가장 비중이 높은 토픽', '가장 높은 토픽의 비중', '각 토픽의 비중']\n",
    "topictable[:10]"
   ]
  },
  {
   "cell_type": "code",
   "execution_count": null,
   "metadata": {},
   "outputs": [],
   "source": []
  }
 ],
 "metadata": {
  "accelerator": "GPU",
  "colab": {
   "name": "09-1)잠재_디리클레_할당(Latent Dirichlet Allocation, LDA).ipynb",
   "private_outputs": true,
   "provenance": []
  },
  "kernelspec": {
   "display_name": "Python 3 (ipykernel)",
   "language": "python",
   "name": "python3"
  },
  "language_info": {
   "codemirror_mode": {
    "name": "ipython",
    "version": 3
   },
   "file_extension": ".py",
   "mimetype": "text/x-python",
   "name": "python",
   "nbconvert_exporter": "python",
   "pygments_lexer": "ipython3",
   "version": "3.10.4"
  }
 },
 "nbformat": 4,
 "nbformat_minor": 1
}
