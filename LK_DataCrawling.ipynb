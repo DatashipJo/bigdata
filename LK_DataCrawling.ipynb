{
 "cells": [
  {
   "cell_type": "code",
   "execution_count": 11,
   "outputs": [],
   "source": [
    "from selenium import webdriver\n",
    "from selenium.webdriver.common.by import By\n",
    "from selenium.webdriver.support.ui import WebDriverWait\n",
    "from selenium.webdriver.support import expected_conditions as EC\n",
    "import time\n",
    "import pandas as pd"
   ],
   "metadata": {
    "collapsed": false,
    "pycharm": {
     "name": "#%%\n"
    }
   }
  },
  {
   "cell_type": "code",
   "execution_count": 18,
   "outputs": [
    {
     "name": "stderr",
     "output_type": "stream",
     "text": [
      "/var/folders/4m/y331ttm54b73h77wmw6sl8c80000gn/T/ipykernel_53015/3822759863.py:9: DeprecationWarning: find_element_by_name is deprecated. Please use find_element(by=By.NAME, value=name) instead\n",
      "  elem = browser.find_element_by_name(\"address_input\")\n",
      "/var/folders/4m/y331ttm54b73h77wmw6sl8c80000gn/T/ipykernel_53015/3822759863.py:14: DeprecationWarning: find_element_by_xpath is deprecated. Please use find_element(by=By.XPATH, value=xpath) instead\n",
      "  search = browser.find_element_by_xpath(search_xpath)\n"
     ]
    }
   ],
   "source": [
    "# 페이지 접속\n",
    "browser = webdriver.Chrome()\n",
    "url = \"https://www.yogiyo.co.kr/mobile/#/\"\n",
    "browser.maximize_window()\n",
    "browser.get(url)\n",
    "time.sleep(3)\n",
    "\n",
    "location = '서울특별시 성북구 삼선동5가 411 성북구청'\n",
    "elem = browser.find_element_by_name(\"address_input\")\n",
    "elem.clear()\n",
    "elem.send_keys(location)\n",
    "time.sleep(1)\n",
    "search_xpath = '''//*[@id=\"button_search_address\"]/button[2]'''\n",
    "search = browser.find_element_by_xpath(search_xpath)\n",
    "browser.execute_script(\"arguments[0].click();\", search)\n",
    "time.sleep(2)"
   ],
   "metadata": {
    "collapsed": false,
    "pycharm": {
     "name": "#%%\n"
    }
   }
  },
  {
   "cell_type": "code",
   "execution_count": 19,
   "outputs": [
    {
     "name": "stderr",
     "output_type": "stream",
     "text": [
      "/var/folders/4m/y331ttm54b73h77wmw6sl8c80000gn/T/ipykernel_53015/3631558622.py:3: DeprecationWarning: find_element_by_xpath is deprecated. Please use find_element(by=By.XPATH, value=xpath) instead\n",
      "  cg = browser.find_element_by_xpath('/html/body/div[6]/div/div[1]/div[1]/div/div/div/ul/li[5]')\n"
     ]
    }
   ],
   "source": [
    "# 카테고리 선택\n",
    "# 일단 치킨만!\n",
    "cg = browser.find_element_by_xpath('/html/body/div[6]/div/div[1]/div[1]/div/div/div/ul/li[5]')\n",
    "#cg = browser.find_element_by_xpath('/html/body/div[7]/div/div[5]/a')\n",
    "cg_title = cg.text\n",
    "cg.click()"
   ],
   "metadata": {
    "collapsed": false,
    "pycharm": {
     "name": "#%%\n"
    }
   }
  },
  {
   "cell_type": "code",
   "execution_count": 20,
   "outputs": [
    {
     "name": "stderr",
     "output_type": "stream",
     "text": [
      "/var/folders/4m/y331ttm54b73h77wmw6sl8c80000gn/T/ipykernel_53015/1559490136.py:3: DeprecationWarning: find_element_by_xpath is deprecated. Please use find_element(by=By.XPATH, value=xpath) instead\n",
      "  browser.find_element_by_xpath('//*[@id=\"content\"]/div/div[1]/div[2]/div/select').click()\n",
      "/var/folders/4m/y331ttm54b73h77wmw6sl8c80000gn/T/ipykernel_53015/1559490136.py:5: DeprecationWarning: find_element_by_xpath is deprecated. Please use find_element(by=By.XPATH, value=xpath) instead\n",
      "  browser.find_element_by_xpath('//*[@id=\"content\"]/div/div[1]/div[2]/div/select/option[3]').click()\n"
     ]
    }
   ],
   "source": [
    "# 음식점 정렬\n",
    "time.sleep(2)\n",
    "browser.find_element_by_xpath('//*[@id=\"content\"]/div/div[1]/div[2]/div/select').click()\n",
    "time.sleep(1)\n",
    "browser.find_element_by_xpath('//*[@id=\"content\"]/div/div[1]/div[2]/div/select/option[3]').click()"
   ],
   "metadata": {
    "collapsed": false,
    "pycharm": {
     "name": "#%%\n"
    }
   }
  },
  {
   "cell_type": "code",
   "execution_count": 17,
   "outputs": [
    {
     "name": "stderr",
     "output_type": "stream",
     "text": [
      "/var/folders/4m/y331ttm54b73h77wmw6sl8c80000gn/T/ipykernel_53015/1389237273.py:3: DeprecationWarning: find_element_by_xpath is deprecated. Please use find_element(by=By.XPATH, value=xpath) instead\n",
      "  browser.find_element_by_xpath('//*[@id=\"content\"]/div/div[5]/div/div/div['+str(i)+']/div').click()\n"
     ]
    },
    {
     "ename": "NoSuchElementException",
     "evalue": "Message: no such element: Unable to locate element: {\"method\":\"xpath\",\"selector\":\"//*[@id=\"content\"]/div/div[5]/div/div/div[1]/div\"}\n  (Session info: chrome=100.0.4896.127)\nStacktrace:\n0   chromedriver                        0x0000000104a4fc34 chromedriver + 4406324\n1   chromedriver                        0x00000001049e9290 chromedriver + 3986064\n2   chromedriver                        0x000000010464a84c chromedriver + 190540\n3   chromedriver                        0x000000010467976c chromedriver + 382828\n4   chromedriver                        0x00000001046a26e0 chromedriver + 550624\n5   chromedriver                        0x000000010466e864 chromedriver + 338020\n6   chromedriver                        0x0000000104a15320 chromedriver + 4166432\n7   chromedriver                        0x0000000104a2a748 chromedriver + 4253512\n8   chromedriver                        0x0000000104a2ecbc chromedriver + 4271292\n9   chromedriver                        0x0000000104a2b004 chromedriver + 4255748\n10  chromedriver                        0x0000000104a0b08c chromedriver + 4124812\n11  chromedriver                        0x0000000104a42bf8 chromedriver + 4353016\n12  chromedriver                        0x0000000104a42d5c chromedriver + 4353372\n13  chromedriver                        0x0000000104a56438 chromedriver + 4432952\n14  libsystem_pthread.dylib             0x00000001bcca626c _pthread_start + 148\n15  libsystem_pthread.dylib             0x00000001bcca108c thread_start + 8\n",
     "output_type": "error",
     "traceback": [
      "\u001B[0;31m---------------------------------------------------------------------------\u001B[0m",
      "\u001B[0;31mNoSuchElementException\u001B[0m                    Traceback (most recent call last)",
      "Input \u001B[0;32mIn [17]\u001B[0m, in \u001B[0;36m<module>\u001B[0;34m\u001B[0m\n\u001B[1;32m      1\u001B[0m i \u001B[38;5;241m=\u001B[39m \u001B[38;5;241m1\u001B[39m\n\u001B[1;32m      2\u001B[0m time\u001B[38;5;241m.\u001B[39msleep(\u001B[38;5;241m2\u001B[39m)\n\u001B[0;32m----> 3\u001B[0m \u001B[43mbrowser\u001B[49m\u001B[38;5;241;43m.\u001B[39;49m\u001B[43mfind_element_by_xpath\u001B[49m\u001B[43m(\u001B[49m\u001B[38;5;124;43m'\u001B[39;49m\u001B[38;5;124;43m//*[@id=\u001B[39;49m\u001B[38;5;124;43m\"\u001B[39;49m\u001B[38;5;124;43mcontent\u001B[39;49m\u001B[38;5;124;43m\"\u001B[39;49m\u001B[38;5;124;43m]/div/div[5]/div/div/div[\u001B[39;49m\u001B[38;5;124;43m'\u001B[39;49m\u001B[38;5;241;43m+\u001B[39;49m\u001B[38;5;28;43mstr\u001B[39;49m\u001B[43m(\u001B[49m\u001B[43mi\u001B[49m\u001B[43m)\u001B[49m\u001B[38;5;241;43m+\u001B[39;49m\u001B[38;5;124;43m'\u001B[39;49m\u001B[38;5;124;43m]/div\u001B[39;49m\u001B[38;5;124;43m'\u001B[39;49m\u001B[43m)\u001B[49m\u001B[38;5;241m.\u001B[39mclick()\n\u001B[1;32m      4\u001B[0m time\u001B[38;5;241m.\u001B[39msleep(\u001B[38;5;241m2\u001B[39m)\n\u001B[1;32m      5\u001B[0m browser\u001B[38;5;241m.\u001B[39mfind_element_by_xpath(\u001B[38;5;124m'\u001B[39m\u001B[38;5;124m//*[@id=\u001B[39m\u001B[38;5;124m\"\u001B[39m\u001B[38;5;124mcontent\u001B[39m\u001B[38;5;124m\"\u001B[39m\u001B[38;5;124m]/div[2]/div[1]/ul/li[3]/a\u001B[39m\u001B[38;5;124m'\u001B[39m)\u001B[38;5;241m.\u001B[39mclick()\n",
      "File \u001B[0;32m/opt/homebrew/lib/python3.9/site-packages/selenium/webdriver/remote/webdriver.py:521\u001B[0m, in \u001B[0;36mWebDriver.find_element_by_xpath\u001B[0;34m(self, xpath)\u001B[0m\n\u001B[1;32m    499\u001B[0m \u001B[38;5;124;03m\"\"\"\u001B[39;00m\n\u001B[1;32m    500\u001B[0m \u001B[38;5;124;03mFinds an element by xpath.\u001B[39;00m\n\u001B[1;32m    501\u001B[0m \n\u001B[0;32m   (...)\u001B[0m\n\u001B[1;32m    514\u001B[0m \u001B[38;5;124;03m        element = driver.find_element_by_xpath('//div/td[1]')\u001B[39;00m\n\u001B[1;32m    515\u001B[0m \u001B[38;5;124;03m\"\"\"\u001B[39;00m\n\u001B[1;32m    516\u001B[0m warnings\u001B[38;5;241m.\u001B[39mwarn(\n\u001B[1;32m    517\u001B[0m     \u001B[38;5;124m\"\u001B[39m\u001B[38;5;124mfind_element_by_xpath is deprecated. Please use find_element(by=By.XPATH, value=xpath) instead\u001B[39m\u001B[38;5;124m\"\u001B[39m,\n\u001B[1;32m    518\u001B[0m     \u001B[38;5;167;01mDeprecationWarning\u001B[39;00m,\n\u001B[1;32m    519\u001B[0m     stacklevel\u001B[38;5;241m=\u001B[39m\u001B[38;5;241m2\u001B[39m,\n\u001B[1;32m    520\u001B[0m )\n\u001B[0;32m--> 521\u001B[0m \u001B[38;5;28;01mreturn\u001B[39;00m \u001B[38;5;28;43mself\u001B[39;49m\u001B[38;5;241;43m.\u001B[39;49m\u001B[43mfind_element\u001B[49m\u001B[43m(\u001B[49m\u001B[43mby\u001B[49m\u001B[38;5;241;43m=\u001B[39;49m\u001B[43mBy\u001B[49m\u001B[38;5;241;43m.\u001B[39;49m\u001B[43mXPATH\u001B[49m\u001B[43m,\u001B[49m\u001B[43m \u001B[49m\u001B[43mvalue\u001B[49m\u001B[38;5;241;43m=\u001B[39;49m\u001B[43mxpath\u001B[49m\u001B[43m)\u001B[49m\n",
      "File \u001B[0;32m/opt/homebrew/lib/python3.9/site-packages/selenium/webdriver/remote/webdriver.py:1248\u001B[0m, in \u001B[0;36mWebDriver.find_element\u001B[0;34m(self, by, value)\u001B[0m\n\u001B[1;32m   1245\u001B[0m     by \u001B[38;5;241m=\u001B[39m By\u001B[38;5;241m.\u001B[39mCSS_SELECTOR\n\u001B[1;32m   1246\u001B[0m     value \u001B[38;5;241m=\u001B[39m \u001B[38;5;124m'\u001B[39m\u001B[38;5;124m[name=\u001B[39m\u001B[38;5;124m\"\u001B[39m\u001B[38;5;132;01m%s\u001B[39;00m\u001B[38;5;124m\"\u001B[39m\u001B[38;5;124m]\u001B[39m\u001B[38;5;124m'\u001B[39m \u001B[38;5;241m%\u001B[39m value\n\u001B[0;32m-> 1248\u001B[0m \u001B[38;5;28;01mreturn\u001B[39;00m \u001B[38;5;28;43mself\u001B[39;49m\u001B[38;5;241;43m.\u001B[39;49m\u001B[43mexecute\u001B[49m\u001B[43m(\u001B[49m\u001B[43mCommand\u001B[49m\u001B[38;5;241;43m.\u001B[39;49m\u001B[43mFIND_ELEMENT\u001B[49m\u001B[43m,\u001B[49m\u001B[43m \u001B[49m\u001B[43m{\u001B[49m\n\u001B[1;32m   1249\u001B[0m \u001B[43m    \u001B[49m\u001B[38;5;124;43m'\u001B[39;49m\u001B[38;5;124;43musing\u001B[39;49m\u001B[38;5;124;43m'\u001B[39;49m\u001B[43m:\u001B[49m\u001B[43m \u001B[49m\u001B[43mby\u001B[49m\u001B[43m,\u001B[49m\n\u001B[1;32m   1250\u001B[0m \u001B[43m    \u001B[49m\u001B[38;5;124;43m'\u001B[39;49m\u001B[38;5;124;43mvalue\u001B[39;49m\u001B[38;5;124;43m'\u001B[39;49m\u001B[43m:\u001B[49m\u001B[43m \u001B[49m\u001B[43mvalue\u001B[49m\u001B[43m}\u001B[49m\u001B[43m)\u001B[49m[\u001B[38;5;124m'\u001B[39m\u001B[38;5;124mvalue\u001B[39m\u001B[38;5;124m'\u001B[39m]\n",
      "File \u001B[0;32m/opt/homebrew/lib/python3.9/site-packages/selenium/webdriver/remote/webdriver.py:425\u001B[0m, in \u001B[0;36mWebDriver.execute\u001B[0;34m(self, driver_command, params)\u001B[0m\n\u001B[1;32m    423\u001B[0m response \u001B[38;5;241m=\u001B[39m \u001B[38;5;28mself\u001B[39m\u001B[38;5;241m.\u001B[39mcommand_executor\u001B[38;5;241m.\u001B[39mexecute(driver_command, params)\n\u001B[1;32m    424\u001B[0m \u001B[38;5;28;01mif\u001B[39;00m response:\n\u001B[0;32m--> 425\u001B[0m     \u001B[38;5;28;43mself\u001B[39;49m\u001B[38;5;241;43m.\u001B[39;49m\u001B[43merror_handler\u001B[49m\u001B[38;5;241;43m.\u001B[39;49m\u001B[43mcheck_response\u001B[49m\u001B[43m(\u001B[49m\u001B[43mresponse\u001B[49m\u001B[43m)\u001B[49m\n\u001B[1;32m    426\u001B[0m     response[\u001B[38;5;124m'\u001B[39m\u001B[38;5;124mvalue\u001B[39m\u001B[38;5;124m'\u001B[39m] \u001B[38;5;241m=\u001B[39m \u001B[38;5;28mself\u001B[39m\u001B[38;5;241m.\u001B[39m_unwrap_value(\n\u001B[1;32m    427\u001B[0m         response\u001B[38;5;241m.\u001B[39mget(\u001B[38;5;124m'\u001B[39m\u001B[38;5;124mvalue\u001B[39m\u001B[38;5;124m'\u001B[39m, \u001B[38;5;28;01mNone\u001B[39;00m))\n\u001B[1;32m    428\u001B[0m     \u001B[38;5;28;01mreturn\u001B[39;00m response\n",
      "File \u001B[0;32m/opt/homebrew/lib/python3.9/site-packages/selenium/webdriver/remote/errorhandler.py:247\u001B[0m, in \u001B[0;36mErrorHandler.check_response\u001B[0;34m(self, response)\u001B[0m\n\u001B[1;32m    245\u001B[0m         alert_text \u001B[38;5;241m=\u001B[39m value[\u001B[38;5;124m'\u001B[39m\u001B[38;5;124malert\u001B[39m\u001B[38;5;124m'\u001B[39m]\u001B[38;5;241m.\u001B[39mget(\u001B[38;5;124m'\u001B[39m\u001B[38;5;124mtext\u001B[39m\u001B[38;5;124m'\u001B[39m)\n\u001B[1;32m    246\u001B[0m     \u001B[38;5;28;01mraise\u001B[39;00m exception_class(message, screen, stacktrace, alert_text)  \u001B[38;5;66;03m# type: ignore[call-arg]  # mypy is not smart enough here\u001B[39;00m\n\u001B[0;32m--> 247\u001B[0m \u001B[38;5;28;01mraise\u001B[39;00m exception_class(message, screen, stacktrace)\n",
      "\u001B[0;31mNoSuchElementException\u001B[0m: Message: no such element: Unable to locate element: {\"method\":\"xpath\",\"selector\":\"//*[@id=\"content\"]/div/div[5]/div/div/div[1]/div\"}\n  (Session info: chrome=100.0.4896.127)\nStacktrace:\n0   chromedriver                        0x0000000104a4fc34 chromedriver + 4406324\n1   chromedriver                        0x00000001049e9290 chromedriver + 3986064\n2   chromedriver                        0x000000010464a84c chromedriver + 190540\n3   chromedriver                        0x000000010467976c chromedriver + 382828\n4   chromedriver                        0x00000001046a26e0 chromedriver + 550624\n5   chromedriver                        0x000000010466e864 chromedriver + 338020\n6   chromedriver                        0x0000000104a15320 chromedriver + 4166432\n7   chromedriver                        0x0000000104a2a748 chromedriver + 4253512\n8   chromedriver                        0x0000000104a2ecbc chromedriver + 4271292\n9   chromedriver                        0x0000000104a2b004 chromedriver + 4255748\n10  chromedriver                        0x0000000104a0b08c chromedriver + 4124812\n11  chromedriver                        0x0000000104a42bf8 chromedriver + 4353016\n12  chromedriver                        0x0000000104a42d5c chromedriver + 4353372\n13  chromedriver                        0x0000000104a56438 chromedriver + 4432952\n14  libsystem_pthread.dylib             0x00000001bcca626c _pthread_start + 148\n15  libsystem_pthread.dylib             0x00000001bcca108c thread_start + 8\n"
     ]
    }
   ],
   "source": [
    "i = 1\n",
    "time.sleep(2)\n",
    "browser.find_element_by_xpath('//*[@id=\"content\"]/div/div[5]/div/div/div['+str(i)+']/div').click()\n",
    "time.sleep(2)\n",
    "browser.find_element_by_xpath('//*[@id=\"content\"]/div[2]/div[1]/ul/li[3]/a').click()\n",
    "ADDRESS = browser.find_element_by_xpath('//*[@id=\"content\"]/div[2]/div[1]/div[6]/div[2]/p[3]/span').text # 가게 주소\n",
    "# 클린리뷰 tap\n",
    "time.sleep(2)\n",
    "browser.find_element_by_xpath('//*[@id=\"content\"]/div[2]/div[1]/ul/li[2]/a').click()\n",
    "time.sleep(1)\n",
    "STORE = browser.find_element_by_xpath('/html/body/div[6]/div[2]/div[1]/div[1]/div[1]/span').text\n",
    "# 더보기 클릭\n",
    "cnt = 0\n",
    "while True :\n",
    "    try :\n",
    "        cnt += 1\n",
    "        try:\n",
    "            btn1 = browser.find_element_by_class_name('btn-more')\n",
    "            btn1.click()\n",
    "        except:\n",
    "            btn2 = browser.find_element_by_xpath(' /html/body/div[6]/div[2]/div[1]/div[5]/ul/li['+(cnt*10+2)+']/a')\n",
    "            btn2.click()\n",
    "        time.sleep(0.5)\n",
    "        print(\"더보기 클릭 {}\".format(cnt))\n",
    "        # 더보기 개수제한\n",
    "        if cnt == 10:\n",
    "            break\n",
    "    except:\n",
    "        print(\"더보키 종료\")\n",
    "        break\n"
   ],
   "metadata": {
    "collapsed": false,
    "pycharm": {
     "name": "#%%\n"
    }
   }
  },
  {
   "cell_type": "code",
   "execution_count": 7,
   "outputs": [
    {
     "name": "stdout",
     "output_type": "stream",
     "text": [
      "5|5|0|36분 전|너무 맛있어요!!!\n",
      "총 리뷰100중 1 크롤링 완료!!!\n"
     ]
    },
    {
     "name": "stderr",
     "output_type": "stream",
     "text": [
      "/var/folders/4m/y331ttm54b73h77wmw6sl8c80000gn/T/ipykernel_45552/3116138925.py:20: FutureWarning: The frame.append method is deprecated and will be removed from pandas in a future version. Use pandas.concat instead.\n",
      "  df = df.append({'업체명':STORE ,'총계별':BIG_STAR,'주소':ADDRESS,'ID':ID,'별점':TOTAL_SCORE,'작성일':DATE,'리뷰':REVIEW} , ignore_index=True)\n"
     ]
    },
    {
     "name": "stdout",
     "output_type": "stream",
     "text": [
      "5|4|4|23시간 전|마싯어요 ~~ 최공 !!! 다음에 또 시켜머글개용\n",
      "🤩\n",
      "총 리뷰100중 2 크롤링 완료!!!\n"
     ]
    },
    {
     "name": "stderr",
     "output_type": "stream",
     "text": [
      "/var/folders/4m/y331ttm54b73h77wmw6sl8c80000gn/T/ipykernel_45552/3116138925.py:20: FutureWarning: The frame.append method is deprecated and will be removed from pandas in a future version. Use pandas.concat instead.\n",
      "  df = df.append({'업체명':STORE ,'총계별':BIG_STAR,'주소':ADDRESS,'ID':ID,'별점':TOTAL_SCORE,'작성일':DATE,'리뷰':REVIEW} , ignore_index=True)\n"
     ]
    },
    {
     "name": "stdout",
     "output_type": "stream",
     "text": [
      "5|4|5|3일 전|예~~~~전 보다 닭이 작아졌는게 그건 회사 방침이겠고, 종로 성대점은 늘 좋아요. 바삭하게 잘 먹었어요\n",
      "총 리뷰100중 3 크롤링 완료!!!\n",
      "크롤링 종료\n"
     ]
    },
    {
     "name": "stderr",
     "output_type": "stream",
     "text": [
      "/var/folders/4m/y331ttm54b73h77wmw6sl8c80000gn/T/ipykernel_45552/3116138925.py:20: FutureWarning: The frame.append method is deprecated and will be removed from pandas in a future version. Use pandas.concat instead.\n",
      "  df = df.append({'업체명':STORE ,'총계별':BIG_STAR,'주소':ADDRESS,'ID':ID,'별점':TOTAL_SCORE,'작성일':DATE,'리뷰':REVIEW} , ignore_index=True)\n"
     ]
    }
   ],
   "source": [
    "from bs4 import BeautifulSoup\n",
    "df = pd.DataFrame(columns = ['업체명' ,'총계별','주소','ID','별점','작성일','리뷰'])\n",
    "req = browser.page_source\n",
    "soup=BeautifulSoup(req, 'html.parser')\n",
    "IDS = soup.select('span.review-id.ng-binding')\n",
    "BIG_STAR = str(soup.select('#content > div.restaurant-detail.row.ng-scope > div.col-sm-8 > div.restaurant-info > div.restaurant-content > ul > li:nth-child(1) > span')[0].text)[-3:]\n",
    "cnt = 0\n",
    "#for i in range(len(IDS)-10):\n",
    "for i in range(len(IDS)):\n",
    "    try:\n",
    "        cnt += 1\n",
    "        total = len(IDS)\n",
    "        ID = IDS[i].text\n",
    "        STAR_T = soup.select('#review > li:nth-child({}) > div:nth-child(2) > div > span.category > span:nth-child(3)'.format(i+2))[0].text\n",
    "        STAR_A = soup.select('#review > li:nth-child({}) > div:nth-child(2) > div > span.category > span:nth-child(6)'.format(i+2))[0].text\n",
    "        STAR_D = soup.select('#review > li:nth-child({}) > div:nth-child(2) > div > span.category > span:nth-child(9)'.format(i+2))[0].text\n",
    "        DATE = soup.select('#review > li:nth-child({}) > div:nth-child(1) > span.review-time.ng-binding'.format(i+2))[0].text\n",
    "        REVIEW = soup.select('#review > li:nth-child({}) > p'.format(i+2))[0].text\n",
    "        TOTAL_SCORE = (float(STAR_T)+float(STAR_A)+float(STAR_D))/3.0\n",
    "        print(STAR_T+\"|\"+STAR_A+\"|\"+STAR_D+\"|\"+DATE+\"|\"+REVIEW)\n",
    "        df = df.append({'업체명':STORE ,'총계별':BIG_STAR,'주소':ADDRESS,'ID':ID,'별점':TOTAL_SCORE,'작성일':DATE,'리뷰':REVIEW} , ignore_index=True)\n",
    "        #df = df.append(pd.DataFrame(data= {'업체명':STORE ,'총계별':BIG_STAR,'주소':ADDRESS,'ID':ID,'별점':TOTAL_SCORE,'작성일':DATE,'리뷰':REVIEW}), ignore_index=True)\n",
    "        print(f'총 리뷰{total}중 {cnt} 크롤링 완료!!!')\n",
    "        # 크롤링 개수 제한\n",
    "        if cnt == 3:\n",
    "            break\n",
    "    except:\n",
    "        continue\n",
    "print(\"크롤링 종료\")"
   ],
   "metadata": {
    "collapsed": false,
    "pycharm": {
     "name": "#%%\n"
    }
   }
  },
  {
   "cell_type": "code",
   "execution_count": 16,
   "outputs": [
    {
     "name": "stdout",
     "output_type": "stream",
     "text": [
      "         업체명  총계별                                주소     ID        별점     작성일  \\\n",
      "0  BHC-종로성대점  4.6  서울특별시 종로구 명륜1가 83-5 새주빌딩 83-5 1층  ye**님  3.333333   36분 전   \n",
      "1  BHC-종로성대점  4.6  서울특별시 종로구 명륜1가 83-5 새주빌딩 83-5 1층  ja**님  4.333333  23시간 전   \n",
      "2  BHC-종로성대점  4.6  서울특별시 종로구 명륜1가 83-5 새주빌딩 83-5 1층  fl**님  4.666667    3일 전   \n",
      "\n",
      "                                                  리뷰  \n",
      "0                                         너무 맛있어요!!!  \n",
      "1                     마싯어요 ~~ 최공 !!! 다음에 또 시켜머글개용\\n🤩  \n",
      "2  예~~~~전 보다 닭이 작아졌는게 그건 회사 방침이겠고, 종로 성대점은 늘 좋아요....  \n",
      "BHC-종로성대점\n"
     ]
    },
    {
     "data": {
      "text/plain": "         업체명  총계별                                주소     ID        별점     작성일  \\\n0  BHC-종로성대점  4.6  서울특별시 종로구 명륜1가 83-5 새주빌딩 83-5 1층  ye**님  3.333333   36분 전   \n1  BHC-종로성대점  4.6  서울특별시 종로구 명륜1가 83-5 새주빌딩 83-5 1층  ja**님  4.333333  23시간 전   \n2  BHC-종로성대점  4.6  서울특별시 종로구 명륜1가 83-5 새주빌딩 83-5 1층  fl**님  4.666667    3일 전   \n\n                                                  리뷰  \n0                                         너무 맛있어요!!!  \n1                     마싯어요 ~~ 최공 !!! 다음에 또 시켜머글개용\\n🤩  \n2  예~~~~전 보다 닭이 작아졌는게 그건 회사 방침이겠고, 종로 성대점은 늘 좋아요....  ",
      "text/html": "<div>\n<style scoped>\n    .dataframe tbody tr th:only-of-type {\n        vertical-align: middle;\n    }\n\n    .dataframe tbody tr th {\n        vertical-align: top;\n    }\n\n    .dataframe thead th {\n        text-align: right;\n    }\n</style>\n<table border=\"1\" class=\"dataframe\">\n  <thead>\n    <tr style=\"text-align: right;\">\n      <th></th>\n      <th>업체명</th>\n      <th>총계별</th>\n      <th>주소</th>\n      <th>ID</th>\n      <th>별점</th>\n      <th>작성일</th>\n      <th>리뷰</th>\n    </tr>\n  </thead>\n  <tbody>\n    <tr>\n      <th>0</th>\n      <td>BHC-종로성대점</td>\n      <td>4.6</td>\n      <td>서울특별시 종로구 명륜1가 83-5 새주빌딩 83-5 1층</td>\n      <td>ye**님</td>\n      <td>3.333333</td>\n      <td>36분 전</td>\n      <td>너무 맛있어요!!!</td>\n    </tr>\n    <tr>\n      <th>1</th>\n      <td>BHC-종로성대점</td>\n      <td>4.6</td>\n      <td>서울특별시 종로구 명륜1가 83-5 새주빌딩 83-5 1층</td>\n      <td>ja**님</td>\n      <td>4.333333</td>\n      <td>23시간 전</td>\n      <td>마싯어요 ~~ 최공 !!! 다음에 또 시켜머글개용\\n🤩</td>\n    </tr>\n    <tr>\n      <th>2</th>\n      <td>BHC-종로성대점</td>\n      <td>4.6</td>\n      <td>서울특별시 종로구 명륜1가 83-5 새주빌딩 83-5 1층</td>\n      <td>fl**님</td>\n      <td>4.666667</td>\n      <td>3일 전</td>\n      <td>예~~~~전 보다 닭이 작아졌는게 그건 회사 방침이겠고, 종로 성대점은 늘 좋아요....</td>\n    </tr>\n  </tbody>\n</table>\n</div>"
     },
     "execution_count": 16,
     "metadata": {},
     "output_type": "execute_result"
    }
   ],
   "source": [
    "print(df.head())\n",
    "# {STORE}로 csv 저장\n",
    "print(f\"{STORE}\")\n",
    "\n",
    "df.to_csv(f'{STORE}.csv',mode='a', header=False)\n",
    "print(\"저장완료\")"
   ],
   "metadata": {
    "collapsed": false,
    "pycharm": {
     "name": "#%%\n"
    }
   }
  }
 ],
 "metadata": {
  "kernelspec": {
   "display_name": "Python 3",
   "language": "python",
   "name": "python3"
  },
  "language_info": {
   "codemirror_mode": {
    "name": "ipython",
    "version": 2
   },
   "file_extension": ".py",
   "mimetype": "text/x-python",
   "name": "python",
   "nbconvert_exporter": "python",
   "pygments_lexer": "ipython2",
   "version": "2.7.6"
  }
 },
 "nbformat": 4,
 "nbformat_minor": 0
}